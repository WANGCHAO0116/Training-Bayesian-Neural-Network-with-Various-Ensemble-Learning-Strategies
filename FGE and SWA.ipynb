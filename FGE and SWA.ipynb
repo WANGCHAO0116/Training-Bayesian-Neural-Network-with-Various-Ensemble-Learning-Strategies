{
 "cells": [
  {
   "cell_type": "markdown",
   "metadata": {
    "id": "fbtOWb0pRylY"
   },
   "source": [
    "# **GPU Information**"
   ]
  },
  {
   "cell_type": "code",
   "execution_count": null,
   "metadata": {
    "colab": {
     "base_uri": "https://localhost:8080/"
    },
    "executionInfo": {
     "elapsed": 293,
     "status": "ok",
     "timestamp": 1660522857720,
     "user": {
      "displayName": "Chao Wang",
      "userId": "15397188646529269947"
     },
     "user_tz": -60
    },
    "id": "Xop1_LM8RsZt",
    "outputId": "da3adff9-a470-429b-84cd-201a681a9e8a"
   },
   "outputs": [
    {
     "name": "stdout",
     "output_type": "stream",
     "text": [
      "Mon Aug 15 00:20:56 2022       \n",
      "+-----------------------------------------------------------------------------+\n",
      "| NVIDIA-SMI 460.32.03    Driver Version: 460.32.03    CUDA Version: 11.2     |\n",
      "|-------------------------------+----------------------+----------------------+\n",
      "| GPU  Name        Persistence-M| Bus-Id        Disp.A | Volatile Uncorr. ECC |\n",
      "| Fan  Temp  Perf  Pwr:Usage/Cap|         Memory-Usage | GPU-Util  Compute M. |\n",
      "|                               |                      |               MIG M. |\n",
      "|===============================+======================+======================|\n",
      "|   0  Tesla P100-PCIE...  Off  | 00000000:00:04.0 Off |                    0 |\n",
      "| N/A   46C    P0    27W / 250W |      0MiB / 16280MiB |      0%      Default |\n",
      "|                               |                      |                  N/A |\n",
      "+-------------------------------+----------------------+----------------------+\n",
      "                                                                               \n",
      "+-----------------------------------------------------------------------------+\n",
      "| Processes:                                                                  |\n",
      "|  GPU   GI   CI        PID   Type   Process name                  GPU Memory |\n",
      "|        ID   ID                                                   Usage      |\n",
      "|=============================================================================|\n",
      "|  No running processes found                                                 |\n",
      "+-----------------------------------------------------------------------------+\n"
     ]
    }
   ],
   "source": [
    "gpu_info = !nvidia-smi\n",
    "gpu_info = '\\n'.join(gpu_info)\n",
    "if gpu_info.find('failed') >= 0:\n",
    "    print('Not connected to a GPU')\n",
    "else:\n",
    "    print(gpu_info)"
   ]
  },
  {
   "cell_type": "markdown",
   "metadata": {
    "id": "cq9pNuOYR1-Y"
   },
   "source": [
    "# **Packages**"
   ]
  },
  {
   "cell_type": "code",
   "execution_count": 1,
   "metadata": {
    "executionInfo": {
     "elapsed": 3680,
     "status": "ok",
     "timestamp": 1661490694113,
     "user": {
      "displayName": "Chao Wang",
      "userId": "15397188646529269947"
     },
     "user_tz": -60
    },
    "id": "jxFKjpAaR4XY"
   },
   "outputs": [],
   "source": [
    "import torch\n",
    "import torchvision\n",
    "import time\n",
    "import math\n",
    "import copy\n",
    "import numpy as np\n",
    "\n",
    "import matplotlib.pyplot as plt\n",
    "import torch.nn as nn\n",
    "import torch.nn.functional as F\n",
    "from torch.distributions import Normal\n",
    "\n",
    "\n",
    "%matplotlib inline"
   ]
  },
  {
   "cell_type": "markdown",
   "metadata": {
    "id": "vsndetoLR7RH"
   },
   "source": [
    "# **Device**"
   ]
  },
  {
   "cell_type": "code",
   "execution_count": null,
   "metadata": {
    "id": "1bc5C860R9ln"
   },
   "outputs": [],
   "source": [
    "device = torch.device('cuda' if torch.cuda.is_available() else 'cpu')"
   ]
  },
  {
   "cell_type": "markdown",
   "metadata": {
    "id": "VR6NAaAYR_dv"
   },
   "source": [
    "# **FashionMNIST Dataset**"
   ]
  },
  {
   "cell_type": "code",
   "execution_count": null,
   "metadata": {
    "colab": {
     "base_uri": "https://localhost:8080/",
     "height": 423,
     "referenced_widgets": [
      "4a1c3c9a6eeb4dacb22d0b13cbbc24cb",
      "e0f337bad7a24f3f918e54df189b8b86",
      "dffae5608350480ca951d07ca9ae16cd",
      "51a94ced89534d1b8098fbdfb80a95b4",
      "692517fca0e74728bebfe1f396a7db0d",
      "01ca110daae1443cb7af794909de0b73",
      "82bc79e798214db1ad68ff4e2db9d2bb",
      "1d695041f3d445b5923a4311bf33412b",
      "5c90c4aef270419ea14420566c87dd43",
      "03168392b0b84108a0a60eccd9b5758f",
      "6b0254b93fd2402aa934aedc37851255",
      "0fc825f84f334f0e947380af7f1ca90d",
      "3a522521192c4b68a7a2b04a70c699ed",
      "e707e4f3c7f24c3496b398d0b38a4637",
      "ac1dea9b69c845659b6c71a563899f9e",
      "f10a835080954801b823a47406b69272",
      "f9325662b77e4d449cf67579e4e4d5f6",
      "08f6b45666274622956bbbe5d7fa67c4",
      "a0061d5ef5704f618bc2eb1142d5abb6",
      "c05aee15f62f490f9e3f2a5cee885af3",
      "db33ad29f70d466a9e75cb44b1e5677a",
      "e00a05f2fad045c78c199dc231505e39",
      "162a5bc904b9425396cc04d93836f05c",
      "488d854fe24e4a43a2c767b8b437e7d9",
      "1c9b29e4aa0348ef9b5daa6ea609f15c",
      "63ef6ed3b2944ab2868679cdb2ef7dda",
      "dfa4ac0847c84ece83232247f05274ab",
      "af2518b9e48a4f6fa2f4b9eaf64b194c",
      "3a1d395717a04645a8d65ba7a2ff29a0",
      "d2ef0016e21546e4a73b35007cb1ac21",
      "e38586a918334b118aa66e1081d676d5",
      "a68392804e7e4ee894099790a827c86d",
      "7b565ebb79ec4e929f50ec322f669da3",
      "1c420565187e4eec8c6dfd2892623ffc",
      "e438427e524c4dd9870185715ce3086f",
      "cdc0e7278622446a85708f8f88940b9f",
      "f2ca0b25b4354797a59793c8bd39990c",
      "3c5e57b554e54480b6fa8f21a24ab352",
      "92f4a27054944528a39412e40162519c",
      "49e912c1eae04dfdb52b32d1cdeb2071",
      "13eb3c5fac3a45ed966ffde805c953eb",
      "2f6b7ec10b884974aba16024b6a0e33f",
      "a9f08e131ca44f15b4ff37dd1343c74f",
      "65d0dd828eb24374bd68a971cab64bb2"
     ]
    },
    "executionInfo": {
     "elapsed": 1499,
     "status": "ok",
     "timestamp": 1661340801434,
     "user": {
      "displayName": "Chao Wang",
      "userId": "15397188646529269947"
     },
     "user_tz": -60
    },
    "id": "ng5U2LYWR_N3",
    "outputId": "77e02d21-fa1d-45d7-c177-d9579cd344ba"
   },
   "outputs": [
    {
     "name": "stdout",
     "output_type": "stream",
     "text": [
      "Downloading http://fashion-mnist.s3-website.eu-central-1.amazonaws.com/train-images-idx3-ubyte.gz\n",
      "Downloading http://fashion-mnist.s3-website.eu-central-1.amazonaws.com/train-images-idx3-ubyte.gz to ./fmnist/FashionMNIST/raw/train-images-idx3-ubyte.gz\n"
     ]
    },
    {
     "data": {
      "application/vnd.jupyter.widget-view+json": {
       "model_id": "4a1c3c9a6eeb4dacb22d0b13cbbc24cb",
       "version_major": 2,
       "version_minor": 0
      },
      "text/plain": [
       "  0%|          | 0/26421880 [00:00<?, ?it/s]"
      ]
     },
     "metadata": {},
     "output_type": "display_data"
    },
    {
     "name": "stdout",
     "output_type": "stream",
     "text": [
      "Extracting ./fmnist/FashionMNIST/raw/train-images-idx3-ubyte.gz to ./fmnist/FashionMNIST/raw\n",
      "\n",
      "Downloading http://fashion-mnist.s3-website.eu-central-1.amazonaws.com/train-labels-idx1-ubyte.gz\n",
      "Downloading http://fashion-mnist.s3-website.eu-central-1.amazonaws.com/train-labels-idx1-ubyte.gz to ./fmnist/FashionMNIST/raw/train-labels-idx1-ubyte.gz\n"
     ]
    },
    {
     "data": {
      "application/vnd.jupyter.widget-view+json": {
       "model_id": "0fc825f84f334f0e947380af7f1ca90d",
       "version_major": 2,
       "version_minor": 0
      },
      "text/plain": [
       "  0%|          | 0/29515 [00:00<?, ?it/s]"
      ]
     },
     "metadata": {},
     "output_type": "display_data"
    },
    {
     "name": "stdout",
     "output_type": "stream",
     "text": [
      "Extracting ./fmnist/FashionMNIST/raw/train-labels-idx1-ubyte.gz to ./fmnist/FashionMNIST/raw\n",
      "\n",
      "Downloading http://fashion-mnist.s3-website.eu-central-1.amazonaws.com/t10k-images-idx3-ubyte.gz\n",
      "Downloading http://fashion-mnist.s3-website.eu-central-1.amazonaws.com/t10k-images-idx3-ubyte.gz to ./fmnist/FashionMNIST/raw/t10k-images-idx3-ubyte.gz\n"
     ]
    },
    {
     "data": {
      "application/vnd.jupyter.widget-view+json": {
       "model_id": "162a5bc904b9425396cc04d93836f05c",
       "version_major": 2,
       "version_minor": 0
      },
      "text/plain": [
       "  0%|          | 0/4422102 [00:00<?, ?it/s]"
      ]
     },
     "metadata": {},
     "output_type": "display_data"
    },
    {
     "name": "stdout",
     "output_type": "stream",
     "text": [
      "Extracting ./fmnist/FashionMNIST/raw/t10k-images-idx3-ubyte.gz to ./fmnist/FashionMNIST/raw\n",
      "\n",
      "Downloading http://fashion-mnist.s3-website.eu-central-1.amazonaws.com/t10k-labels-idx1-ubyte.gz\n",
      "Downloading http://fashion-mnist.s3-website.eu-central-1.amazonaws.com/t10k-labels-idx1-ubyte.gz to ./fmnist/FashionMNIST/raw/t10k-labels-idx1-ubyte.gz\n"
     ]
    },
    {
     "data": {
      "application/vnd.jupyter.widget-view+json": {
       "model_id": "1c420565187e4eec8c6dfd2892623ffc",
       "version_major": 2,
       "version_minor": 0
      },
      "text/plain": [
       "  0%|          | 0/5148 [00:00<?, ?it/s]"
      ]
     },
     "metadata": {},
     "output_type": "display_data"
    },
    {
     "name": "stdout",
     "output_type": "stream",
     "text": [
      "Extracting ./fmnist/FashionMNIST/raw/t10k-labels-idx1-ubyte.gz to ./fmnist/FashionMNIST/raw\n",
      "\n"
     ]
    }
   ],
   "source": [
    "fmnist_trainset = torchvision.datasets.FashionMNIST('./fmnist/', train=True, download=True, \n",
    "                                   transform=torchvision.transforms.Compose([\n",
    "                                       torchvision.transforms.ToTensor(), \n",
    "                                       ]))\n",
    "\n",
    "fmnist_trainset, fmnist_valset = torch.utils.data.random_split(fmnist_trainset, [50000, 10000])\n",
    "\n",
    "fmnist_testset = torchvision.datasets.FashionMNIST('./fmnist/', train=False, download=True, \n",
    "                                  transform=torchvision.transforms.Compose([ \n",
    "                                      torchvision.transforms.ToTensor(),  \n",
    "                                      ]))\n",
    "\n",
    "fmnist_train_loader = torch.utils.data.DataLoader(fmnist_trainset, batch_size=100, shuffle=True)\n",
    "\n",
    "fmnist_val_loader = torch.utils.data.DataLoader(fmnist_valset, batch_size=100, shuffle=True)\n",
    "\n",
    "fmnist_test_loader = torch.utils.data.DataLoader(fmnist_testset, batch_size=100, shuffle=True)"
   ]
  },
  {
   "cell_type": "markdown",
   "metadata": {
    "id": "sjJin-vaSHQw"
   },
   "source": [
    "# **Bayesian Modules**"
   ]
  },
  {
   "cell_type": "code",
   "execution_count": null,
   "metadata": {
    "id": "BQz-vUjgSNNQ"
   },
   "outputs": [],
   "source": [
    "class Gaussian():\n",
    "    def __init__(self, mu, rho):\n",
    "        super().__init__()\n",
    "        self.mu = mu\n",
    "        self.rho = rho\n",
    "        self.normal = Normal(0,1)\n",
    "    \n",
    "    @property\n",
    "    def sigma(self):\n",
    "        return torch.log1p(torch.exp(self.rho))\n",
    "    \n",
    "    def sample(self):\n",
    "        epsilon = self.normal.sample(self.rho.size()).to(device = torch.device(\"cuda:0\" if torch.cuda.is_available() else \"cpu\"))\n",
    "        return self.mu + self.sigma * epsilon\n",
    "    \n",
    "    def log_prob(self, input):\n",
    "        return (-math.log(math.sqrt(2 * math.pi))\n",
    "                - torch.log(self.sigma)\n",
    "                - ((input - self.mu) ** 2) / (2 * self.sigma ** 2)).sum()\n",
    "    \n",
    "    \n",
    "class ScaleMixtureGaussian():\n",
    "    def __init__(self, pi, sigma1, sigma2):\n",
    "        super().__init__()\n",
    "        self.pi = pi\n",
    "        self.sigma1 = sigma1\n",
    "        self.sigma2 = sigma2\n",
    "        self.gaussian1 = Normal(0,sigma1)\n",
    "        self.gaussian2 = Normal(0,sigma2)\n",
    "    \n",
    "    def log_prob(self, input):\n",
    "        prob1 = torch.exp(self.gaussian1.log_prob(input))\n",
    "        prob2 = torch.exp(self.gaussian2.log_prob(input))\n",
    "        return (torch.log(self.pi * prob1 + (1-self.pi) * prob2)).sum()\n",
    "    \n",
    "    \n",
    "\n",
    "\n",
    "class GuassianLinear(nn.Module):\n",
    "    \n",
    "    def __init__(self,\n",
    "                 in_features, \n",
    "                 out_features, \n",
    "                 PI = 0.5, \n",
    "                 SIGMA_1 = torch.FloatTensor([math.exp(-0)]).to(device = torch.device(\"cuda:0\" if torch.cuda.is_available() else \"cpu\")), \n",
    "                 SIGMA_2 = torch.FloatTensor([math.exp(-6)]).to(device = torch.device(\"cuda:0\" if torch.cuda.is_available() else \"cpu\"))):\n",
    "        \n",
    "        super().__init__()\n",
    "        self.in_features = in_features\n",
    "        self.out_features = out_features\n",
    "        \n",
    "        # Weight parameters\n",
    "        self.weight_mu = nn.Parameter(torch.Tensor(out_features, in_features).uniform_(-0.2, 0.2))\n",
    "        self.weight_rho = nn.Parameter(torch.Tensor(out_features, in_features).uniform_(-5,-4))\n",
    "        self.weight = Gaussian(self.weight_mu, self.weight_rho)\n",
    "        \n",
    "        # Bias parameters\n",
    "        self.bias_mu = nn.Parameter(torch.Tensor(out_features).uniform_(-0.2, 0.2))\n",
    "        self.bias_rho = nn.Parameter(torch.Tensor(out_features).uniform_(-5,-4))\n",
    "        self.bias = Gaussian(self.bias_mu, self.bias_rho)\n",
    "        \n",
    "        # Prior distributions\n",
    "        self.weight_prior = ScaleMixtureGaussian(PI, SIGMA_1, SIGMA_2)\n",
    "        self.bias_prior = ScaleMixtureGaussian(PI, SIGMA_1, SIGMA_2)\n",
    "        self.log_prior = 0\n",
    "        self.log_variational_posterior = 0\n",
    "\n",
    "    def forward(self, input_data, sample=True, calculate_log_probs=False):\n",
    "        if self.training or sample:\n",
    "            weight = self.weight.sample()\n",
    "            bias = self.bias.sample()\n",
    "        else:\n",
    "            weight = self.weight.mu\n",
    "            bias = self.bias.mu\n",
    "        if self.training or calculate_log_probs:\n",
    "            self.log_prior = self.weight_prior.log_prob(weight) + self.bias_prior.log_prob(bias)\n",
    "            self.log_variational_posterior = self.weight.log_prob(weight) + self.bias.log_prob(bias)\n",
    "        else:\n",
    "            self.log_prior, self.log_variational_posterior = 0, 0\n",
    "\n",
    "        return F.linear(input_data, weight, bias)\n",
    "    \n",
    "    \n",
    "class GuassianConvolution2D(nn.Module):\n",
    "    \n",
    "    def __init__(self, \n",
    "                 in_features, \n",
    "                 out_features, \n",
    "                 kernel_size,\n",
    "                 stride = 1, \n",
    "                 padding = 0, \n",
    "                 dilation = 1,\n",
    "                 PI = 0.5, \n",
    "                 SIGMA_1 = torch.FloatTensor([math.exp(-0)]).to(device = torch.device(\"cuda:0\" if torch.cuda.is_available() else \"cpu\")),  \n",
    "                 SIGMA_2 = torch.FloatTensor([math.exp(-6)]).to(device = torch.device(\"cuda:0\" if torch.cuda.is_available() else \"cpu\"))):\n",
    "        \n",
    "        super().__init__()\n",
    "        self.in_features = in_features\n",
    "        self.out_features = out_features\n",
    "        self.kernel_size = kernel_size\n",
    "        self.stride = stride\n",
    "        self.padding = padding\n",
    "        self.dilation =dilation\n",
    "        \n",
    "        # Weight parameters\n",
    "        self.weight_mu = nn.Parameter(torch.Tensor(out_features, in_features, self.kernel_size, self.kernel_size).uniform_(-0.2, 0.2))\n",
    "        self.weight_rho = nn.Parameter(torch.Tensor(out_features, in_features, self.kernel_size, self.kernel_size).uniform_(-5,-4))\n",
    "        self.weight = Gaussian(self.weight_mu, self.weight_rho)\n",
    "        \n",
    "        # Bias parameters\n",
    "        self.bias_mu = nn.Parameter(torch.Tensor(out_features).uniform_(-0.2, 0.2))\n",
    "        self.bias_rho = nn.Parameter(torch.Tensor(out_features).uniform_(-5,-4))\n",
    "        self.bias = Gaussian(self.bias_mu, self.bias_rho)\n",
    "        \n",
    "        # Prior distributions\n",
    "        self.weight_prior = ScaleMixtureGaussian(PI, SIGMA_1, SIGMA_2)\n",
    "        self.bias_prior = ScaleMixtureGaussian(PI, SIGMA_1, SIGMA_2)\n",
    "        self.log_prior = 0\n",
    "        self.log_variational_posterior = 0\n",
    "        \n",
    "    def forward(self, input_data, sample=True, calculate_log_probs=False):\n",
    "        if self.training or sample:\n",
    "            weight = self.weight.sample()\n",
    "            bias = self.bias.sample()\n",
    "        else:\n",
    "            weight = self.weight.mu\n",
    "            bias = self.bias.mu\n",
    "        if self.training or calculate_log_probs:\n",
    "            self.log_prior = self.weight_prior.log_prob(weight) + self.bias_prior.log_prob(bias)\n",
    "            self.log_variational_posterior = self.weight.log_prob(weight) + self.bias.log_prob(bias)\n",
    "        else:\n",
    "            self.log_prior, self.log_variational_posterior = 0, 0\n",
    "\n",
    "        return F.conv2d(input_data, weight, bias, stride = self.stride, padding = self.padding, dilation = self.dilation)"
   ]
  },
  {
   "cell_type": "markdown",
   "metadata": {
    "id": "-JJ1mFy2STSw"
   },
   "source": [
    "# **Bayesian LeNet5**"
   ]
  },
  {
   "cell_type": "code",
   "execution_count": null,
   "metadata": {
    "id": "ZNOrifm9SXwR"
   },
   "outputs": [],
   "source": [
    "class BayesianLeNet5(nn.Module):\n",
    "    def __init__(self):\n",
    "        super().__init__()\n",
    "        self.conv1 = GuassianConvolution2D(1, 16, 5)\n",
    "        self.conv2 = GuassianConvolution2D(16, 32, 5)\n",
    "        self.linear1 = GuassianLinear(512, 128)\n",
    "        self.linear2 = GuassianLinear(128, 10)\n",
    "    \n",
    "    def forward(self, x, sample=True):\n",
    "        out = self.conv1(x, sample)\n",
    "        out = F.max_pool2d(out, kernel_size = 2, stride = 2)\n",
    "        out = F.relu(out)\n",
    "        \n",
    "        out = self.conv2(out, sample)\n",
    "        out = F.max_pool2d(out, kernel_size = 2, stride = 2)\n",
    "        out = F.relu(out)\n",
    "        \n",
    "        out = out.view(-1, 512)\n",
    "        \n",
    "        out = self.linear1(out, sample)\n",
    "        out = F.relu(out)\n",
    "        \n",
    "        out = self.linear2(out, sample)\n",
    "        output = F.log_softmax(out, dim = -1)\n",
    "        return output\n",
    "    \n",
    "    def log_prior(self):\n",
    "        return self.conv1.log_prior \\\n",
    "               + self.conv2.log_prior \\\n",
    "               + self.linear1.log_prior \\\n",
    "               + self.linear2.log_prior\n",
    "    \n",
    "    def log_variational_posterior(self):\n",
    "        return self.conv1.log_variational_posterior \\\n",
    "               + self.conv2.log_variational_posterior \\\n",
    "               + self.linear1.log_variational_posterior \\\n",
    "               + self.linear2.log_variational_posterior\n",
    "    \n",
    "    def sample_elbo(self, \n",
    "                    x, \n",
    "                    target, \n",
    "                    BATCH_SIZE, \n",
    "                    NUM_BATCHES, \n",
    "                    samples = 2, \n",
    "                    CLASSES = 10, \n",
    "                    device= torch.device(\"cuda:0\" if torch.cuda.is_available() else \"cpu\")):\n",
    "        \n",
    "        outputs = torch.zeros(samples, BATCH_SIZE, CLASSES).to(device)\n",
    "        log_priors = torch.zeros(samples).to(device)\n",
    "        log_variational_posteriors = torch.zeros(samples).to(device)\n",
    "        \n",
    "        for i in range(samples):\n",
    "            outputs[i] = self(x, sample=True)\n",
    "            log_priors[i] = self.log_prior()\n",
    "            log_variational_posteriors[i] = self.log_variational_posterior()\n",
    "            \n",
    "        log_prior = log_priors.mean()\n",
    "        log_variational_posterior = log_variational_posteriors.mean()\n",
    "        negative_log_likelihood = F.nll_loss(outputs.mean(0), target, reduction='sum')\n",
    "        loss = (log_variational_posterior - log_prior)/NUM_BATCHES + negative_log_likelihood\n",
    "        \n",
    "        return loss, log_prior, log_variational_posterior, negative_log_likelihood"
   ]
  },
  {
   "cell_type": "markdown",
   "metadata": {
    "id": "i58SyIENSoFw"
   },
   "source": [
    "# **Fast Geometric Ensembling**"
   ]
  },
  {
   "cell_type": "markdown",
   "metadata": {
    "id": "uATUJ0wl_H1t"
   },
   "source": [
    "**Define Pre-training Process**"
   ]
  },
  {
   "cell_type": "code",
   "execution_count": null,
   "metadata": {
    "id": "2oybSbRMSe4Y"
   },
   "outputs": [],
   "source": [
    "def BayesianLeNet5training(train_loader, val_loader, nepochs, nbatch = 100, track = True, device = torch.device('cuda' if torch.cuda.is_available() else 'cpu')): \n",
    "\n",
    "    model = BayesianLeNet5().to(device)\n",
    "    model.train()\n",
    "            \n",
    "    optimizer = torch.optim.SGD(model.parameters(), lr = 4e-3)\n",
    "    optimizer.zero_grad()\n",
    "\n",
    "    scheduler = torch.optim.lr_scheduler.CosineAnnealingLR(optimizer, T_max = nepochs, eta_min= 1e-4)\n",
    "\n",
    "    if track: \n",
    "        Loss = []\n",
    "        Acc = []\n",
    "        LR = []\n",
    "\n",
    "    batchLen = len(train_loader)\n",
    "    nval = len(val_loader) * nbatch\n",
    "    digitsBatchLen = len(str(batchLen))\n",
    "    \n",
    "    for n in np.arange(nepochs): \n",
    "        \n",
    "        if track: \n",
    "\n",
    "            correct = 0\n",
    "            for batch_id, sample in enumerate(val_loader) :\n",
    "\n",
    "                images, labels = sample\n",
    "                images, labels = images.to(device), labels.to(device)\n",
    "                \n",
    "                pred = model(images)\n",
    "                pred = pred.argmax(dim = 1)\n",
    "                correct += pred.eq(labels).float().sum().item()\n",
    "            print(\"\\nAccuracy on Validation Set: {}/{} ({:.4f}%)\\n\".format(\n",
    "                correct, nval, correct/nval * 100.))\n",
    "            print(\"--------------------------------------------------------\")\n",
    "            \n",
    "            Acc.append(correct/nval * 100.)\n",
    "\n",
    "        for batch_id, sample in enumerate(train_loader):\n",
    "                    \n",
    "            images, labels = sample\n",
    "            images, labels = images.to(device), labels.to(device)\n",
    "                    \n",
    "            loss, log_prior, log_variational_posterior, negative_log_likelihood = model.sample_elbo(images, labels, BATCH_SIZE = nbatch, NUM_BATCHES = batchLen)\n",
    "                    \n",
    "            optimizer.zero_grad()\n",
    "            loss.backward()\n",
    "                    \n",
    "            optimizer.step()\n",
    "                    \n",
    "            if track: \n",
    "\n",
    "                Loss.append(loss.detach().cpu().item())\n",
    "                    \n",
    "            print(\"\\r\", (\"\\tEpoch {}/{}: Train step {\"+(\":0{}d\".format(digitsBatchLen))+\"}/{} loss = {:.4f}\").format(\n",
    "                                                      n+1, nepochs,\n",
    "                                                      batch_id+1,\n",
    "                                                      batchLen, \n",
    "                                                      loss.detach().cpu().item()), \n",
    "                        end=\"\")\n",
    "        print(\"\")\n",
    "\n",
    "        if track: \n",
    "\n",
    "            LR.append(scheduler.get_last_lr())\n",
    "\n",
    "        scheduler.step()\n",
    "\n",
    "        if ((n == nepochs - 1) and track): \n",
    "\n",
    "            correct = 0\n",
    "            for batch_id, sample in enumerate(val_loader) :\n",
    "\n",
    "                images, labels = sample\n",
    "                images, labels = images.to(device), labels.to(device)\n",
    "                \n",
    "                pred = model(images)\n",
    "                pred = pred.argmax(dim = 1)\n",
    "                correct += pred.eq(labels).float().sum().item()\n",
    "            print(\"\\nAccuracy on Validation Set: {}/{} ({:.4f}%)\\n\".format(\n",
    "                correct, nval, correct/nval * 100.))\n",
    "            print(\"--------------------------------------------------------\")\n",
    "            \n",
    "            Acc.append(correct/nval * 100.)\n",
    "\n",
    "    if track:\n",
    "        \n",
    "        return model, Loss, Acc, LR\n",
    "\n",
    "    else: \n",
    "        return model"
   ]
  },
  {
   "cell_type": "markdown",
   "metadata": {
    "id": "C-53Q5uJ_cFc"
   },
   "source": [
    "**Define FGE Training Process**"
   ]
  },
  {
   "cell_type": "code",
   "execution_count": null,
   "metadata": {
    "id": "Pf3HoYYCUmt_"
   },
   "outputs": [],
   "source": [
    "def FGE_BayesianLeNet5training(train_loader, val_loader, nepochs, nmodels, pretrained_model, pretrained_Loss, pretrained_Acc, pretrained_LR, nbatch = 100, track = True, device = torch.device('cuda' if torch.cuda.is_available() else 'cpu')): \n",
    "\n",
    "    Models = {}\n",
    "    model = pretrained_model\n",
    "    model.train()\n",
    "            \n",
    "    optimizer = torch.optim.SGD(model.parameters(), lr = 4e-3)\n",
    "    optimizer.zero_grad()\n",
    "\n",
    "    scheduler = torch.optim.lr_scheduler.CyclicLR(optimizer, base_lr = 1e-4, max_lr = 4e-3, step_size_up= nepochs/2)\n",
    "\n",
    "    if track: \n",
    "        Loss = pretrained_Loss\n",
    "        Acc = pretrained_Acc\n",
    "        LR = pretrained_LR\n",
    "\n",
    "    batchLen = len(train_loader)\n",
    "    nval = len(val_loader) * nbatch\n",
    "    digitsBatchLen = len(str(batchLen))\n",
    "    \n",
    "    for n in np.arange(nepochs * nmodels): \n",
    "\n",
    "        for batch_id, sample in enumerate(train_loader):\n",
    "                    \n",
    "            images, labels = sample\n",
    "            images, labels = images.to(device), labels.to(device)\n",
    "                    \n",
    "            loss, log_prior, log_variational_posterior, negative_log_likelihood = model.sample_elbo(images, labels, BATCH_SIZE = nbatch, NUM_BATCHES = batchLen)\n",
    "                    \n",
    "            optimizer.zero_grad()\n",
    "            loss.backward()\n",
    "                    \n",
    "            optimizer.step()\n",
    "                    \n",
    "            if track: \n",
    "\n",
    "                Loss.append(loss.detach().cpu().item())\n",
    "                    \n",
    "            print(\"\\r\", (\"\\tEpoch {}/{}: Train step {\"+(\":0{}d\".format(digitsBatchLen))+\"}/{} loss = {:.4f}\").format(\n",
    "                                                      n+1, nepochs * nmodels,\n",
    "                                                      batch_id+1,\n",
    "                                                      batchLen, \n",
    "                                                      loss.detach().cpu().item()), \n",
    "                        end=\"\")\n",
    "        print(\"\")\n",
    "\n",
    "        if track: \n",
    "\n",
    "            correct = 0\n",
    "            for batch_id, sample in enumerate(val_loader) :\n",
    "\n",
    "                images, labels = sample\n",
    "                images, labels = images.to(device), labels.to(device)\n",
    "                \n",
    "                pred = model(images)\n",
    "                pred = pred.argmax(dim = 1)\n",
    "                correct += pred.eq(labels).float().sum().item()\n",
    "            print(\"\\nAccuracy on Validation Set: {}/{} ({:.4f}%)\\n\".format(\n",
    "                correct, nval, correct/nval * 100.))\n",
    "            print(\"--------------------------------------------------------\")\n",
    "            \n",
    "            Acc.append(correct/nval * 100.)\n",
    "\n",
    "            LR.append(scheduler.get_last_lr())\n",
    "\n",
    "        scheduler.step()\n",
    "\n",
    "        if n % nepochs == 0:\n",
    "\n",
    "            torch.save(model.state_dict(), 'model {}.pth'.format(int(n / nepochs)))\n",
    "\n",
    "            stored_model = BayesianLeNet5().to(device)\n",
    "\n",
    "            stored_model.load_state_dict(torch.load('model {}.pth'.format(int(n / nepochs))))\n",
    "\n",
    "            Models[int(n / nepochs)] = stored_model\n",
    "\n",
    "            print(\"\\n========================================================\")\n",
    "\n",
    "            print(\"model {} is saved into ensemble\".format(int(n / nepochs) + 1))\n",
    "\n",
    "            print(\"{} model(s) has been saved\".format(len(Models)))\n",
    "\n",
    "            print(\"========================================================\\n\")\n",
    "\n",
    "    if track:\n",
    "        \n",
    "        return Models, Loss, Acc, LR\n",
    "\n",
    "    else: \n",
    "        return Models"
   ]
  },
  {
   "cell_type": "markdown",
   "metadata": {
    "id": "QsVBKdF3-u6c"
   },
   "source": [
    "**Pre-train a Model**"
   ]
  },
  {
   "cell_type": "code",
   "execution_count": null,
   "metadata": {
    "colab": {
     "base_uri": "https://localhost:8080/"
    },
    "executionInfo": {
     "elapsed": 946410,
     "status": "ok",
     "timestamp": 1660523866757,
     "user": {
      "displayName": "Chao Wang",
      "userId": "15397188646529269947"
     },
     "user_tz": -60
    },
    "id": "VZ-r8a2qaw-y",
    "outputId": "dd176e6e-6b43-4092-8ada-b3c50a645d21"
   },
   "outputs": [
    {
     "name": "stdout",
     "output_type": "stream",
     "text": [
      "\n",
      "Accuracy on Validation Set: 900.0/10000 (9.0000%)\n",
      "\n",
      "--------------------------------------------------------\n",
      " \tEpoch 1/30: Train step 500/500 loss = 716.1016\n",
      "\n",
      "Accuracy on Validation Set: 8322.0/10000 (83.2200%)\n",
      "\n",
      "--------------------------------------------------------\n",
      " \tEpoch 2/30: Train step 500/500 loss = 711.9620\n",
      "\n",
      "Accuracy on Validation Set: 8469.0/10000 (84.6900%)\n",
      "\n",
      "--------------------------------------------------------\n",
      " \tEpoch 3/30: Train step 500/500 loss = 701.1388\n",
      "\n",
      "Accuracy on Validation Set: 8626.0/10000 (86.2600%)\n",
      "\n",
      "--------------------------------------------------------\n",
      " \tEpoch 4/30: Train step 500/500 loss = 692.4846\n",
      "\n",
      "Accuracy on Validation Set: 8669.0/10000 (86.6900%)\n",
      "\n",
      "--------------------------------------------------------\n",
      " \tEpoch 5/30: Train step 500/500 loss = 690.7892\n",
      "\n",
      "Accuracy on Validation Set: 8618.0/10000 (86.1800%)\n",
      "\n",
      "--------------------------------------------------------\n",
      " \tEpoch 6/30: Train step 500/500 loss = 684.1119\n",
      "\n",
      "Accuracy on Validation Set: 8834.0/10000 (88.3400%)\n",
      "\n",
      "--------------------------------------------------------\n",
      " \tEpoch 7/30: Train step 500/500 loss = 678.8044\n",
      "\n",
      "Accuracy on Validation Set: 8787.0/10000 (87.8700%)\n",
      "\n",
      "--------------------------------------------------------\n",
      " \tEpoch 8/30: Train step 500/500 loss = 655.3991\n",
      "\n",
      "Accuracy on Validation Set: 8827.0/10000 (88.2700%)\n",
      "\n",
      "--------------------------------------------------------\n",
      " \tEpoch 9/30: Train step 500/500 loss = 660.0771\n",
      "\n",
      "Accuracy on Validation Set: 8846.0/10000 (88.4600%)\n",
      "\n",
      "--------------------------------------------------------\n",
      " \tEpoch 10/30: Train step 500/500 loss = 658.4734\n",
      "\n",
      "Accuracy on Validation Set: 8721.0/10000 (87.2100%)\n",
      "\n",
      "--------------------------------------------------------\n",
      " \tEpoch 11/30: Train step 500/500 loss = 655.0670\n",
      "\n",
      "Accuracy on Validation Set: 8803.0/10000 (88.0300%)\n",
      "\n",
      "--------------------------------------------------------\n",
      " \tEpoch 12/30: Train step 500/500 loss = 638.1542\n",
      "\n",
      "Accuracy on Validation Set: 8923.0/10000 (89.2300%)\n",
      "\n",
      "--------------------------------------------------------\n",
      " \tEpoch 13/30: Train step 500/500 loss = 654.6585\n",
      "\n",
      "Accuracy on Validation Set: 8878.0/10000 (88.7800%)\n",
      "\n",
      "--------------------------------------------------------\n",
      " \tEpoch 14/30: Train step 500/500 loss = 633.5414\n",
      "\n",
      "Accuracy on Validation Set: 8959.0/10000 (89.5900%)\n",
      "\n",
      "--------------------------------------------------------\n",
      " \tEpoch 15/30: Train step 500/500 loss = 632.1669\n",
      "\n",
      "Accuracy on Validation Set: 8932.0/10000 (89.3200%)\n",
      "\n",
      "--------------------------------------------------------\n",
      " \tEpoch 16/30: Train step 500/500 loss = 626.6511\n",
      "\n",
      "Accuracy on Validation Set: 8954.0/10000 (89.5400%)\n",
      "\n",
      "--------------------------------------------------------\n",
      " \tEpoch 17/30: Train step 500/500 loss = 627.1155\n",
      "\n",
      "Accuracy on Validation Set: 8917.0/10000 (89.1700%)\n",
      "\n",
      "--------------------------------------------------------\n",
      " \tEpoch 18/30: Train step 500/500 loss = 622.7265\n",
      "\n",
      "Accuracy on Validation Set: 8959.0/10000 (89.5900%)\n",
      "\n",
      "--------------------------------------------------------\n",
      " \tEpoch 19/30: Train step 500/500 loss = 618.3769\n",
      "\n",
      "Accuracy on Validation Set: 8984.0/10000 (89.8400%)\n",
      "\n",
      "--------------------------------------------------------\n",
      " \tEpoch 20/30: Train step 500/500 loss = 615.6629\n",
      "\n",
      "Accuracy on Validation Set: 8975.0/10000 (89.7500%)\n",
      "\n",
      "--------------------------------------------------------\n",
      " \tEpoch 21/30: Train step 500/500 loss = 615.6300\n",
      "\n",
      "Accuracy on Validation Set: 8959.0/10000 (89.5900%)\n",
      "\n",
      "--------------------------------------------------------\n",
      " \tEpoch 22/30: Train step 500/500 loss = 612.1426\n",
      "\n",
      "Accuracy on Validation Set: 8948.0/10000 (89.4800%)\n",
      "\n",
      "--------------------------------------------------------\n",
      " \tEpoch 23/30: Train step 500/500 loss = 608.9366\n",
      "\n",
      "Accuracy on Validation Set: 8972.0/10000 (89.7200%)\n",
      "\n",
      "--------------------------------------------------------\n",
      " \tEpoch 24/30: Train step 500/500 loss = 608.4019\n",
      "\n",
      "Accuracy on Validation Set: 8974.0/10000 (89.7400%)\n",
      "\n",
      "--------------------------------------------------------\n",
      " \tEpoch 25/30: Train step 500/500 loss = 601.4147\n",
      "\n",
      "Accuracy on Validation Set: 8984.0/10000 (89.8400%)\n",
      "\n",
      "--------------------------------------------------------\n",
      " \tEpoch 26/30: Train step 500/500 loss = 606.4526\n",
      "\n",
      "Accuracy on Validation Set: 8974.0/10000 (89.7400%)\n",
      "\n",
      "--------------------------------------------------------\n",
      " \tEpoch 27/30: Train step 500/500 loss = 601.4033\n",
      "\n",
      "Accuracy on Validation Set: 9008.0/10000 (90.0800%)\n",
      "\n",
      "--------------------------------------------------------\n",
      " \tEpoch 28/30: Train step 500/500 loss = 600.1492\n",
      "\n",
      "Accuracy on Validation Set: 8999.0/10000 (89.9900%)\n",
      "\n",
      "--------------------------------------------------------\n",
      " \tEpoch 29/30: Train step 500/500 loss = 603.1155\n",
      "\n",
      "Accuracy on Validation Set: 9000.0/10000 (90.0000%)\n",
      "\n",
      "--------------------------------------------------------\n",
      " \tEpoch 30/30: Train step 500/500 loss = 602.1490\n",
      "\n",
      "Accuracy on Validation Set: 8999.0/10000 (89.9900%)\n",
      "\n",
      "--------------------------------------------------------\n"
     ]
    }
   ],
   "source": [
    "pretrained_Lemodel, pretrained_LeLoss, pretrained_LeAcc, pretrained_LeLR = BayesianLeNet5training(train_loader = fmnist_train_loader, \n",
    "                                                    val_loader = fmnist_val_loader, \n",
    "                                                    nepochs = 30, \n",
    "                                                    track = True)"
   ]
  },
  {
   "cell_type": "markdown",
   "metadata": {
    "id": "GuAHyKSU_g-7"
   },
   "source": [
    "**FGE Training**"
   ]
  },
  {
   "cell_type": "code",
   "execution_count": null,
   "metadata": {
    "colab": {
     "base_uri": "https://localhost:8080/"
    },
    "executionInfo": {
     "elapsed": 2502354,
     "status": "ok",
     "timestamp": 1660526369107,
     "user": {
      "displayName": "Chao Wang",
      "userId": "15397188646529269947"
     },
     "user_tz": -60
    },
    "id": "_xm8ivuAeIpQ",
    "outputId": "849c2ff0-f2c5-4813-8636-6f6d94f403bd"
   },
   "outputs": [
    {
     "name": "stdout",
     "output_type": "stream",
     "text": [
      " \tEpoch 1/80: Train step 500/500 loss = 604.1110\n",
      "\n",
      "Accuracy on Validation Set: 8969.0/10000 (89.6900%)\n",
      "\n",
      "--------------------------------------------------------\n",
      "\n",
      "========================================================\n",
      "model 1 is saved into ensemble\n",
      "1 model(s) has been saved\n",
      "========================================================\n",
      "\n",
      " \tEpoch 2/80: Train step 500/500 loss = 700.4825\n",
      "\n",
      "Accuracy on Validation Set: 8667.0/10000 (86.6700%)\n",
      "\n",
      "--------------------------------------------------------\n",
      " \tEpoch 3/80: Train step 500/500 loss = 760.5890\n",
      "\n",
      "Accuracy on Validation Set: 8732.0/10000 (87.3200%)\n",
      "\n",
      "--------------------------------------------------------\n",
      " \tEpoch 4/80: Train step 500/500 loss = 781.7491\n",
      "\n",
      "Accuracy on Validation Set: 8330.0/10000 (83.3000%)\n",
      "\n",
      "--------------------------------------------------------\n",
      " \tEpoch 5/80: Train step 500/500 loss = 781.2891\n",
      "\n",
      "Accuracy on Validation Set: 8445.0/10000 (84.4500%)\n",
      "\n",
      "--------------------------------------------------------\n",
      " \tEpoch 6/80: Train step 500/500 loss = 758.5243\n",
      "\n",
      "Accuracy on Validation Set: 8562.0/10000 (85.6200%)\n",
      "\n",
      "--------------------------------------------------------\n",
      " \tEpoch 7/80: Train step 500/500 loss = 761.9745\n",
      "\n",
      "Accuracy on Validation Set: 8554.0/10000 (85.5400%)\n",
      "\n",
      "--------------------------------------------------------\n",
      " \tEpoch 8/80: Train step 500/500 loss = 725.7546\n",
      "\n",
      "Accuracy on Validation Set: 8849.0/10000 (88.4900%)\n",
      "\n",
      "--------------------------------------------------------\n",
      " \tEpoch 9/80: Train step 500/500 loss = 710.4905\n",
      "\n",
      "Accuracy on Validation Set: 8942.0/10000 (89.4200%)\n",
      "\n",
      "--------------------------------------------------------\n",
      "\n",
      "========================================================\n",
      "model 2 is saved into ensemble\n",
      "2 model(s) has been saved\n",
      "========================================================\n",
      "\n",
      " \tEpoch 10/80: Train step 500/500 loss = 726.6503\n",
      "\n",
      "Accuracy on Validation Set: 8759.0/10000 (87.5900%)\n",
      "\n",
      "--------------------------------------------------------\n",
      " \tEpoch 11/80: Train step 500/500 loss = 750.0068\n",
      "\n",
      "Accuracy on Validation Set: 8735.0/10000 (87.3500%)\n",
      "\n",
      "--------------------------------------------------------\n",
      " \tEpoch 12/80: Train step 500/500 loss = 755.2424\n",
      "\n",
      "Accuracy on Validation Set: 8685.0/10000 (86.8500%)\n",
      "\n",
      "--------------------------------------------------------\n",
      " \tEpoch 13/80: Train step 500/500 loss = 763.5417\n",
      "\n",
      "Accuracy on Validation Set: 8411.0/10000 (84.1100%)\n",
      "\n",
      "--------------------------------------------------------\n",
      " \tEpoch 14/80: Train step 500/500 loss = 737.5327\n",
      "\n",
      "Accuracy on Validation Set: 8637.0/10000 (86.3700%)\n",
      "\n",
      "--------------------------------------------------------\n",
      " \tEpoch 15/80: Train step 500/500 loss = 734.8077\n",
      "\n",
      "Accuracy on Validation Set: 8831.0/10000 (88.3100%)\n",
      "\n",
      "--------------------------------------------------------\n",
      " \tEpoch 16/80: Train step 500/500 loss = 710.4664\n",
      "\n",
      "Accuracy on Validation Set: 8870.0/10000 (88.7000%)\n",
      "\n",
      "--------------------------------------------------------\n",
      " \tEpoch 17/80: Train step 500/500 loss = 703.0138\n",
      "\n",
      "Accuracy on Validation Set: 8918.0/10000 (89.1800%)\n",
      "\n",
      "--------------------------------------------------------\n",
      "\n",
      "========================================================\n",
      "model 3 is saved into ensemble\n",
      "3 model(s) has been saved\n",
      "========================================================\n",
      "\n",
      " \tEpoch 18/80: Train step 500/500 loss = 705.0483\n",
      "\n",
      "Accuracy on Validation Set: 8874.0/10000 (88.7400%)\n",
      "\n",
      "--------------------------------------------------------\n",
      " \tEpoch 19/80: Train step 500/500 loss = 717.7185\n",
      "\n",
      "Accuracy on Validation Set: 8781.0/10000 (87.8100%)\n",
      "\n",
      "--------------------------------------------------------\n",
      " \tEpoch 20/80: Train step 500/500 loss = 748.6153\n",
      "\n",
      "Accuracy on Validation Set: 8414.0/10000 (84.1400%)\n",
      "\n",
      "--------------------------------------------------------\n",
      " \tEpoch 21/80: Train step 500/500 loss = 744.2827\n",
      "\n",
      "Accuracy on Validation Set: 8482.0/10000 (84.8200%)\n",
      "\n",
      "--------------------------------------------------------\n",
      " \tEpoch 22/80: Train step 500/500 loss = 739.9191\n",
      "\n",
      "Accuracy on Validation Set: 8564.0/10000 (85.6400%)\n",
      "\n",
      "--------------------------------------------------------\n",
      " \tEpoch 23/80: Train step 500/500 loss = 719.1072\n",
      "\n",
      "Accuracy on Validation Set: 8756.0/10000 (87.5600%)\n",
      "\n",
      "--------------------------------------------------------\n",
      " \tEpoch 24/80: Train step 500/500 loss = 701.2354\n",
      "\n",
      "Accuracy on Validation Set: 8785.0/10000 (87.8500%)\n",
      "\n",
      "--------------------------------------------------------\n",
      " \tEpoch 25/80: Train step 500/500 loss = 676.4698\n",
      "\n",
      "Accuracy on Validation Set: 8957.0/10000 (89.5700%)\n",
      "\n",
      "--------------------------------------------------------\n",
      "\n",
      "========================================================\n",
      "model 4 is saved into ensemble\n",
      "4 model(s) has been saved\n",
      "========================================================\n",
      "\n",
      " \tEpoch 26/80: Train step 500/500 loss = 689.9803\n",
      "\n",
      "Accuracy on Validation Set: 8853.0/10000 (88.5300%)\n",
      "\n",
      "--------------------------------------------------------\n",
      " \tEpoch 27/80: Train step 500/500 loss = 706.9749\n",
      "\n",
      "Accuracy on Validation Set: 8796.0/10000 (87.9600%)\n",
      "\n",
      "--------------------------------------------------------\n",
      " \tEpoch 28/80: Train step 500/500 loss = 713.5586\n",
      "\n",
      "Accuracy on Validation Set: 8577.0/10000 (85.7700%)\n",
      "\n",
      "--------------------------------------------------------\n",
      " \tEpoch 29/80: Train step 500/500 loss = 722.4359\n",
      "\n",
      "Accuracy on Validation Set: 8304.0/10000 (83.0400%)\n",
      "\n",
      "--------------------------------------------------------\n",
      " \tEpoch 30/80: Train step 500/500 loss = 707.6716\n",
      "\n",
      "Accuracy on Validation Set: 8696.0/10000 (86.9600%)\n",
      "\n",
      "--------------------------------------------------------\n",
      " \tEpoch 31/80: Train step 500/500 loss = 697.1721\n",
      "\n",
      "Accuracy on Validation Set: 8669.0/10000 (86.6900%)\n",
      "\n",
      "--------------------------------------------------------\n",
      " \tEpoch 32/80: Train step 500/500 loss = 683.8884\n",
      "\n",
      "Accuracy on Validation Set: 8874.0/10000 (88.7400%)\n",
      "\n",
      "--------------------------------------------------------\n",
      " \tEpoch 33/80: Train step 500/500 loss = 666.3558\n",
      "\n",
      "Accuracy on Validation Set: 8942.0/10000 (89.4200%)\n",
      "\n",
      "--------------------------------------------------------\n",
      "\n",
      "========================================================\n",
      "model 5 is saved into ensemble\n",
      "5 model(s) has been saved\n",
      "========================================================\n",
      "\n",
      " \tEpoch 34/80: Train step 500/500 loss = 673.1261\n",
      "\n",
      "Accuracy on Validation Set: 8881.0/10000 (88.8100%)\n",
      "\n",
      "--------------------------------------------------------\n",
      " \tEpoch 35/80: Train step 500/500 loss = 682.0965\n",
      "\n",
      "Accuracy on Validation Set: 8729.0/10000 (87.2900%)\n",
      "\n",
      "--------------------------------------------------------\n",
      " \tEpoch 36/80: Train step 500/500 loss = 699.9598\n",
      "\n",
      "Accuracy on Validation Set: 8600.0/10000 (86.0000%)\n",
      "\n",
      "--------------------------------------------------------\n",
      " \tEpoch 37/80: Train step 500/500 loss = 707.1442\n",
      "\n",
      "Accuracy on Validation Set: 8543.0/10000 (85.4300%)\n",
      "\n",
      "--------------------------------------------------------\n",
      " \tEpoch 38/80: Train step 500/500 loss = 695.9293\n",
      "\n",
      "Accuracy on Validation Set: 8667.0/10000 (86.6700%)\n",
      "\n",
      "--------------------------------------------------------\n",
      " \tEpoch 39/80: Train step 500/500 loss = 690.6422\n",
      "\n",
      "Accuracy on Validation Set: 8767.0/10000 (87.6700%)\n",
      "\n",
      "--------------------------------------------------------\n",
      " \tEpoch 40/80: Train step 500/500 loss = 661.8998\n",
      "\n",
      "Accuracy on Validation Set: 8893.0/10000 (88.9300%)\n",
      "\n",
      "--------------------------------------------------------\n",
      " \tEpoch 41/80: Train step 500/500 loss = 654.0271\n",
      "\n",
      "Accuracy on Validation Set: 8950.0/10000 (89.5000%)\n",
      "\n",
      "--------------------------------------------------------\n",
      "\n",
      "========================================================\n",
      "model 6 is saved into ensemble\n",
      "6 model(s) has been saved\n",
      "========================================================\n",
      "\n",
      " \tEpoch 42/80: Train step 500/500 loss = 650.3987\n",
      "\n",
      "Accuracy on Validation Set: 8841.0/10000 (88.4100%)\n",
      "\n",
      "--------------------------------------------------------\n",
      " \tEpoch 43/80: Train step 500/500 loss = 664.2367\n",
      "\n",
      "Accuracy on Validation Set: 8788.0/10000 (87.8800%)\n",
      "\n",
      "--------------------------------------------------------\n",
      " \tEpoch 44/80: Train step 500/500 loss = 683.6002\n",
      "\n",
      "Accuracy on Validation Set: 8695.0/10000 (86.9500%)\n",
      "\n",
      "--------------------------------------------------------\n",
      " \tEpoch 45/80: Train step 500/500 loss = 688.9204\n",
      "\n",
      "Accuracy on Validation Set: 8559.0/10000 (85.5900%)\n",
      "\n",
      "--------------------------------------------------------\n",
      " \tEpoch 46/80: Train step 500/500 loss = 680.0009\n",
      "\n",
      "Accuracy on Validation Set: 8525.0/10000 (85.2500%)\n",
      "\n",
      "--------------------------------------------------------\n",
      " \tEpoch 47/80: Train step 500/500 loss = 727.0141\n",
      "\n",
      "Accuracy on Validation Set: 8656.0/10000 (86.5600%)\n",
      "\n",
      "--------------------------------------------------------\n",
      " \tEpoch 48/80: Train step 500/500 loss = 659.0463\n",
      "\n",
      "Accuracy on Validation Set: 8771.0/10000 (87.7100%)\n",
      "\n",
      "--------------------------------------------------------\n",
      " \tEpoch 49/80: Train step 500/500 loss = 647.4535\n",
      "\n",
      "Accuracy on Validation Set: 8864.0/10000 (88.6400%)\n",
      "\n",
      "--------------------------------------------------------\n",
      "\n",
      "========================================================\n",
      "model 7 is saved into ensemble\n",
      "7 model(s) has been saved\n",
      "========================================================\n",
      "\n",
      " \tEpoch 50/80: Train step 500/500 loss = 645.6948\n",
      "\n",
      "Accuracy on Validation Set: 8833.0/10000 (88.3300%)\n",
      "\n",
      "--------------------------------------------------------\n",
      " \tEpoch 51/80: Train step 500/500 loss = 647.4820\n",
      "\n",
      "Accuracy on Validation Set: 8786.0/10000 (87.8600%)\n",
      "\n",
      "--------------------------------------------------------\n",
      " \tEpoch 52/80: Train step 500/500 loss = 666.0342\n",
      "\n",
      "Accuracy on Validation Set: 8684.0/10000 (86.8400%)\n",
      "\n",
      "--------------------------------------------------------\n",
      " \tEpoch 53/80: Train step 500/500 loss = 681.0073\n",
      "\n",
      "Accuracy on Validation Set: 8522.0/10000 (85.2200%)\n",
      "\n",
      "--------------------------------------------------------\n",
      " \tEpoch 54/80: Train step 500/500 loss = 663.4949\n",
      "\n",
      "Accuracy on Validation Set: 8613.0/10000 (86.1300%)\n",
      "\n",
      "--------------------------------------------------------\n",
      " \tEpoch 55/80: Train step 500/500 loss = 647.4626\n",
      "\n",
      "Accuracy on Validation Set: 8743.0/10000 (87.4300%)\n",
      "\n",
      "--------------------------------------------------------\n",
      " \tEpoch 56/80: Train step 500/500 loss = 628.4455\n",
      "\n",
      "Accuracy on Validation Set: 8883.0/10000 (88.8300%)\n",
      "\n",
      "--------------------------------------------------------\n",
      " \tEpoch 57/80: Train step 500/500 loss = 618.0602\n",
      "\n",
      "Accuracy on Validation Set: 8954.0/10000 (89.5400%)\n",
      "\n",
      "--------------------------------------------------------\n",
      "\n",
      "========================================================\n",
      "model 8 is saved into ensemble\n",
      "8 model(s) has been saved\n",
      "========================================================\n",
      "\n",
      " \tEpoch 58/80: Train step 500/500 loss = 624.8705\n",
      "\n",
      "Accuracy on Validation Set: 8864.0/10000 (88.6400%)\n",
      "\n",
      "--------------------------------------------------------\n",
      " \tEpoch 59/80: Train step 500/500 loss = 643.5176\n",
      "\n",
      "Accuracy on Validation Set: 8784.0/10000 (87.8400%)\n",
      "\n",
      "--------------------------------------------------------\n",
      " \tEpoch 60/80: Train step 500/500 loss = 644.8784\n",
      "\n",
      "Accuracy on Validation Set: 8619.0/10000 (86.1900%)\n",
      "\n",
      "--------------------------------------------------------\n",
      " \tEpoch 61/80: Train step 500/500 loss = 646.9641\n",
      "\n",
      "Accuracy on Validation Set: 8439.0/10000 (84.3900%)\n",
      "\n",
      "--------------------------------------------------------\n",
      " \tEpoch 62/80: Train step 500/500 loss = 671.9171\n",
      "\n",
      "Accuracy on Validation Set: 8657.0/10000 (86.5700%)\n",
      "\n",
      "--------------------------------------------------------\n",
      " \tEpoch 63/80: Train step 500/500 loss = 631.1387\n",
      "\n",
      "Accuracy on Validation Set: 8773.0/10000 (87.7300%)\n",
      "\n",
      "--------------------------------------------------------\n",
      " \tEpoch 64/80: Train step 500/500 loss = 608.6519\n",
      "\n",
      "Accuracy on Validation Set: 8915.0/10000 (89.1500%)\n",
      "\n",
      "--------------------------------------------------------\n",
      " \tEpoch 65/80: Train step 500/500 loss = 599.2425\n",
      "\n",
      "Accuracy on Validation Set: 8936.0/10000 (89.3600%)\n",
      "\n",
      "--------------------------------------------------------\n",
      "\n",
      "========================================================\n",
      "model 9 is saved into ensemble\n",
      "9 model(s) has been saved\n",
      "========================================================\n",
      "\n",
      " \tEpoch 66/80: Train step 500/500 loss = 617.2534\n",
      "\n",
      "Accuracy on Validation Set: 8915.0/10000 (89.1500%)\n",
      "\n",
      "--------------------------------------------------------\n",
      " \tEpoch 67/80: Train step 500/500 loss = 617.6892\n",
      "\n",
      "Accuracy on Validation Set: 8768.0/10000 (87.6800%)\n",
      "\n",
      "--------------------------------------------------------\n",
      " \tEpoch 68/80: Train step 500/500 loss = 625.7819\n",
      "\n",
      "Accuracy on Validation Set: 8583.0/10000 (85.8300%)\n",
      "\n",
      "--------------------------------------------------------\n",
      " \tEpoch 69/80: Train step 500/500 loss = 640.7885\n",
      "\n",
      "Accuracy on Validation Set: 8490.0/10000 (84.9000%)\n",
      "\n",
      "--------------------------------------------------------\n",
      " \tEpoch 70/80: Train step 500/500 loss = 637.3289\n",
      "\n",
      "Accuracy on Validation Set: 8607.0/10000 (86.0700%)\n",
      "\n",
      "--------------------------------------------------------\n",
      " \tEpoch 71/80: Train step 500/500 loss = 610.5701\n",
      "\n",
      "Accuracy on Validation Set: 8843.0/10000 (88.4300%)\n",
      "\n",
      "--------------------------------------------------------\n",
      " \tEpoch 72/80: Train step 500/500 loss = 595.4136\n",
      "\n",
      "Accuracy on Validation Set: 8884.0/10000 (88.8400%)\n",
      "\n",
      "--------------------------------------------------------\n",
      " \tEpoch 73/80: Train step 500/500 loss = 595.5525\n",
      "\n",
      "Accuracy on Validation Set: 8914.0/10000 (89.1400%)\n",
      "\n",
      "--------------------------------------------------------\n",
      "\n",
      "========================================================\n",
      "model 10 is saved into ensemble\n",
      "10 model(s) has been saved\n",
      "========================================================\n",
      "\n",
      " \tEpoch 74/80: Train step 500/500 loss = 599.1771\n",
      "\n",
      "Accuracy on Validation Set: 8891.0/10000 (88.9100%)\n",
      "\n",
      "--------------------------------------------------------\n",
      " \tEpoch 75/80: Train step 500/500 loss = 601.7217\n",
      "\n",
      "Accuracy on Validation Set: 8790.0/10000 (87.9000%)\n",
      "\n",
      "--------------------------------------------------------\n",
      " \tEpoch 76/80: Train step 500/500 loss = 630.4018\n",
      "\n",
      "Accuracy on Validation Set: 8600.0/10000 (86.0000%)\n",
      "\n",
      "--------------------------------------------------------\n",
      " \tEpoch 77/80: Train step 500/500 loss = 641.3256\n",
      "\n",
      "Accuracy on Validation Set: 8648.0/10000 (86.4800%)\n",
      "\n",
      "--------------------------------------------------------\n",
      " \tEpoch 78/80: Train step 500/500 loss = 612.8715\n",
      "\n",
      "Accuracy on Validation Set: 8547.0/10000 (85.4700%)\n",
      "\n",
      "--------------------------------------------------------\n",
      " \tEpoch 79/80: Train step 500/500 loss = 599.6931\n",
      "\n",
      "Accuracy on Validation Set: 8749.0/10000 (87.4900%)\n",
      "\n",
      "--------------------------------------------------------\n",
      " \tEpoch 80/80: Train step 500/500 loss = 589.5418\n",
      "\n",
      "Accuracy on Validation Set: 8846.0/10000 (88.4600%)\n",
      "\n",
      "--------------------------------------------------------\n"
     ]
    }
   ],
   "source": [
    "FGE_Models, FGE_Loss, FGE_Acc, FGE_LR = FGE_BayesianLeNet5training(train_loader = fmnist_train_loader, \n",
    "                                    val_loader = fmnist_val_loader, \n",
    "                                    nepochs = 8, \n",
    "                                    nmodels = 10, \n",
    "                                    pretrained_model = pretrained_Lemodel, \n",
    "                                    pretrained_Loss = pretrained_LeLoss, \n",
    "                                    pretrained_Acc = pretrained_LeAcc, \n",
    "                                    pretrained_LR = pretrained_LeLR, \n",
    "                                    nbatch = 100, \n",
    "                                    track = True)"
   ]
  },
  {
   "cell_type": "markdown",
   "metadata": {
    "id": "Q3r3SjDs-lHd"
   },
   "source": [
    "**Accuracy on Validation Set**"
   ]
  },
  {
   "cell_type": "code",
   "execution_count": null,
   "metadata": {
    "colab": {
     "base_uri": "https://localhost:8080/",
     "height": 354
    },
    "executionInfo": {
     "elapsed": 491,
     "status": "ok",
     "timestamp": 1660527985672,
     "user": {
      "displayName": "Chao Wang",
      "userId": "15397188646529269947"
     },
     "user_tz": -60
    },
    "id": "9royhsGQ-Yvy",
    "outputId": "1dc8f7c4-8ebb-40e0-8d6e-0e9e8d8ee298"
   },
   "outputs": [
    {
     "data": {
      "image/png": "[encoded data removed]",
      "text/plain": [
       "<Figure size 720x360 with 1 Axes>"
      ]
     },
     "metadata": {
      "needs_background": "light"
     },
     "output_type": "display_data"
    }
   ],
   "source": [
    "fs = 20\n",
    "FGE_Acc_fig = plt.figure(figsize=(10,5))\n",
    "plt.plot(FGE_Acc)\n",
    "plt.grid()\n",
    "plt.ylim(80,92)\n",
    "plt.xlabel('Epoch',fontsize=fs)\n",
    "plt.ylabel('Accuracy (%)',fontsize=fs)\n",
    "plt.tick_params(labelsize=15)\n",
    "#plt.legend()\n",
    "# plt.savefig('mnist_acc_100_training.png')\n",
    "plt.show()"
   ]
  },
  {
   "cell_type": "code",
   "execution_count": null,
   "metadata": {
    "id": "qJx-iOLoL1z1"
   },
   "outputs": [],
   "source": [
    "FGE_Acc_fig.savefig(\"FGE_Acc_fig.png\")"
   ]
  },
  {
   "cell_type": "markdown",
   "metadata": {
    "id": "yRHp2r1l95ms"
   },
   "source": [
    "**Loss on Trainset**"
   ]
  },
  {
   "cell_type": "code",
   "execution_count": null,
   "metadata": {
    "colab": {
     "base_uri": "https://localhost:8080/",
     "height": 354
    },
    "executionInfo": {
     "elapsed": 713,
     "status": "ok",
     "timestamp": 1660528002928,
     "user": {
      "displayName": "Chao Wang",
      "userId": "15397188646529269947"
     },
     "user_tz": -60
    },
    "id": "TCeA3yMU-lqI",
    "outputId": "f2d58910-d901-4b05-f423-7536dc3392c1"
   },
   "outputs": [
    {
     "data": {
      "image/png": "[encoded data removed]",
      "text/plain": [
       "<Figure size 720x360 with 1 Axes>"
      ]
     },
     "metadata": {
      "needs_background": "light"
     },
     "output_type": "display_data"
    }
   ],
   "source": [
    "fs = 20\n",
    "FGE_Loss_fig = plt.figure(figsize=(10,5))\n",
    "x = np.arange(len(FGE_Loss))[50:] / 500.\n",
    "plt.plot(x, FGE_Loss[50:])\n",
    "plt.grid()\n",
    "plt.ylim(550,900)\n",
    "plt.xlabel('Epoch',fontsize=fs)\n",
    "plt.ylabel('Loss [-ELBO]',fontsize=fs)\n",
    "plt.tick_params(labelsize=15)\n",
    "# plt.savefig('mnist_acc_100_training.png')\n",
    "plt.show()"
   ]
  },
  {
   "cell_type": "code",
   "execution_count": null,
   "metadata": {
    "id": "Slp3KvwQL60i"
   },
   "outputs": [],
   "source": [
    "FGE_Loss_fig.savefig(\"FGE_Loss_fig.png\")"
   ]
  },
  {
   "cell_type": "markdown",
   "metadata": {
    "id": "oS1PXRH8Gpkv"
   },
   "source": [
    "**Learning Rate Schedule**"
   ]
  },
  {
   "cell_type": "code",
   "execution_count": null,
   "metadata": {
    "colab": {
     "base_uri": "https://localhost:8080/",
     "height": 354
    },
    "executionInfo": {
     "elapsed": 740,
     "status": "ok",
     "timestamp": 1660528398396,
     "user": {
      "displayName": "Chao Wang",
      "userId": "15397188646529269947"
     },
     "user_tz": -60
    },
    "id": "DoR6DAr7-0NH",
    "outputId": "b234c526-970c-49e5-d6ae-450593479ef5"
   },
   "outputs": [
    {
     "data": {
      "image/png": "[encoded data removed]",
      "text/plain": [
       "<Figure size 720x360 with 1 Axes>"
      ]
     },
     "metadata": {
      "needs_background": "light"
     },
     "output_type": "display_data"
    }
   ],
   "source": [
    "fs = 20\n",
    "FGE_LR_fig = plt.figure(figsize=(10,5))\n",
    "x = np.arange(len(FGE_LR)) + 1\n",
    "plt.plot(x, FGE_LR)\n",
    "plt.grid()\n",
    "plt.ylim(-0.002,0.006)\n",
    "plt.xlabel('Epoch',fontsize=fs)\n",
    "plt.ylabel('Learning Rate',fontsize=fs)\n",
    "plt.tick_params(labelsize=15)\n",
    "# plt.savefig('mnist_acc_100_training.png')\n",
    "plt.show()"
   ]
  },
  {
   "cell_type": "code",
   "execution_count": null,
   "metadata": {
    "id": "TWBf9UMcMAaS"
   },
   "outputs": [],
   "source": [
    "FGE_LR_fig.savefig(\"FGE_LR_fig.png\")"
   ]
  },
  {
   "cell_type": "markdown",
   "metadata": {
    "id": "Mh6Q4w5HNDQJ"
   },
   "source": [
    "**Calculate Training Time**"
   ]
  },
  {
   "cell_type": "code",
   "execution_count": null,
   "metadata": {
    "colab": {
     "base_uri": "https://localhost:8080/"
    },
    "executionInfo": {
     "elapsed": 3215304,
     "status": "ok",
     "timestamp": 1660531731607,
     "user": {
      "displayName": "Chao Wang",
      "userId": "15397188646529269947"
     },
     "user_tz": -60
    },
    "id": "EjM7Xrny0hTk",
    "outputId": "178b7855-ab8b-400c-f629-dfb3ae49e809"
   },
   "outputs": [
    {
     "name": "stdout",
     "output_type": "stream",
     "text": [
      " \tEpoch 1/30: Train step 500/500 loss = 730.6539\n",
      " \tEpoch 2/30: Train step 500/500 loss = 714.0973\n",
      " \tEpoch 3/30: Train step 500/500 loss = 709.2722\n",
      " \tEpoch 4/30: Train step 500/500 loss = 716.6675\n",
      " \tEpoch 5/30: Train step 500/500 loss = 692.7570\n",
      " \tEpoch 6/30: Train step 500/500 loss = 688.5512\n",
      " \tEpoch 7/30: Train step 500/500 loss = 678.1079\n",
      " \tEpoch 8/30: Train step 500/500 loss = 682.2467\n",
      " \tEpoch 9/30: Train step 500/500 loss = 673.3846\n",
      " \tEpoch 10/30: Train step 500/500 loss = 687.2477\n",
      " \tEpoch 11/30: Train step 500/500 loss = 662.6052\n",
      " \tEpoch 12/30: Train step 500/500 loss = 670.6644\n",
      " \tEpoch 13/30: Train step 500/500 loss = 658.7331\n",
      " \tEpoch 14/30: Train step 500/500 loss = 660.1747\n",
      " \tEpoch 15/30: Train step 500/500 loss = 660.0149\n",
      " \tEpoch 16/30: Train step 500/500 loss = 654.1923\n",
      " \tEpoch 17/30: Train step 500/500 loss = 640.4695\n",
      " \tEpoch 18/30: Train step 500/500 loss = 635.8014\n",
      " \tEpoch 19/30: Train step 500/500 loss = 640.1805\n",
      " \tEpoch 20/30: Train step 500/500 loss = 636.2321\n",
      " \tEpoch 21/30: Train step 500/500 loss = 629.5947\n",
      " \tEpoch 22/30: Train step 500/500 loss = 630.9136\n",
      " \tEpoch 23/30: Train step 500/500 loss = 633.7646\n",
      " \tEpoch 24/30: Train step 500/500 loss = 627.5193\n",
      " \tEpoch 25/30: Train step 500/500 loss = 628.7240\n",
      " \tEpoch 26/30: Train step 500/500 loss = 626.8759\n",
      " \tEpoch 27/30: Train step 500/500 loss = 622.2547\n",
      " \tEpoch 28/30: Train step 500/500 loss = 627.6320\n",
      " \tEpoch 29/30: Train step 500/500 loss = 626.6961\n",
      " \tEpoch 30/30: Train step 500/500 loss = 634.5739\n",
      "CPU times: user 18min 11s, sys: 14.5 s, total: 18min 25s\n",
      "Wall time: 14min 27s\n",
      " \tEpoch 1/80: Train step 500/500 loss = 632.2955\n",
      "\n",
      "========================================================\n",
      "model 1 is saved into ensemble\n",
      "1 model(s) has been saved\n",
      "========================================================\n",
      "\n",
      " \tEpoch 2/80: Train step 500/500 loss = 717.1643\n",
      " \tEpoch 3/80: Train step 500/500 loss = 758.5601\n",
      " \tEpoch 4/80: Train step 500/500 loss = 768.2048\n",
      " \tEpoch 5/80: Train step 500/500 loss = 764.3077\n",
      " \tEpoch 6/80: Train step 500/500 loss = 778.1846\n",
      " \tEpoch 7/80: Train step 500/500 loss = 743.5281\n",
      " \tEpoch 8/80: Train step 500/500 loss = 731.1016\n",
      " \tEpoch 9/80: Train step 500/500 loss = 716.2392\n",
      "\n",
      "========================================================\n",
      "model 2 is saved into ensemble\n",
      "2 model(s) has been saved\n",
      "========================================================\n",
      "\n",
      " \tEpoch 10/80: Train step 500/500 loss = 721.5287\n",
      " \tEpoch 11/80: Train step 500/500 loss = 741.7594\n",
      " \tEpoch 12/80: Train step 500/500 loss = 744.2844\n",
      " \tEpoch 13/80: Train step 500/500 loss = 766.6162\n",
      " \tEpoch 14/80: Train step 500/500 loss = 759.0637\n",
      " \tEpoch 15/80: Train step 500/500 loss = 729.0693\n",
      " \tEpoch 16/80: Train step 500/500 loss = 707.5200\n",
      " \tEpoch 17/80: Train step 500/500 loss = 695.5367\n",
      "\n",
      "========================================================\n",
      "model 3 is saved into ensemble\n",
      "3 model(s) has been saved\n",
      "========================================================\n",
      "\n",
      " \tEpoch 18/80: Train step 500/500 loss = 703.9292\n",
      " \tEpoch 19/80: Train step 500/500 loss = 724.3025\n",
      " \tEpoch 20/80: Train step 500/500 loss = 750.2422\n",
      " \tEpoch 21/80: Train step 500/500 loss = 754.1341\n",
      " \tEpoch 22/80: Train step 500/500 loss = 722.7860\n",
      " \tEpoch 23/80: Train step 500/500 loss = 728.3812\n",
      " \tEpoch 24/80: Train step 500/500 loss = 691.3654\n",
      " \tEpoch 25/80: Train step 500/500 loss = 673.0436\n",
      "\n",
      "========================================================\n",
      "model 4 is saved into ensemble\n",
      "4 model(s) has been saved\n",
      "========================================================\n",
      "\n",
      " \tEpoch 26/80: Train step 500/500 loss = 680.9212\n",
      " \tEpoch 27/80: Train step 500/500 loss = 710.0086\n",
      " \tEpoch 28/80: Train step 500/500 loss = 737.6623\n",
      " \tEpoch 29/80: Train step 500/500 loss = 716.7706\n",
      " \tEpoch 30/80: Train step 500/500 loss = 714.3170\n",
      " \tEpoch 31/80: Train step 500/500 loss = 705.2867\n",
      " \tEpoch 32/80: Train step 500/500 loss = 693.3625\n",
      " \tEpoch 33/80: Train step 500/500 loss = 658.5977\n",
      "\n",
      "========================================================\n",
      "model 5 is saved into ensemble\n",
      "5 model(s) has been saved\n",
      "========================================================\n",
      "\n",
      " \tEpoch 34/80: Train step 500/500 loss = 676.9825\n",
      " \tEpoch 35/80: Train step 500/500 loss = 684.3521\n",
      " \tEpoch 36/80: Train step 500/500 loss = 690.4283\n",
      " \tEpoch 37/80: Train step 500/500 loss = 720.5194\n",
      " \tEpoch 38/80: Train step 500/500 loss = 691.9355\n",
      " \tEpoch 39/80: Train step 500/500 loss = 687.0261\n",
      " \tEpoch 40/80: Train step 500/500 loss = 662.2736\n",
      " \tEpoch 41/80: Train step 500/500 loss = 645.2679\n",
      "\n",
      "========================================================\n",
      "model 6 is saved into ensemble\n",
      "6 model(s) has been saved\n",
      "========================================================\n",
      "\n",
      " \tEpoch 42/80: Train step 500/500 loss = 661.5681\n",
      " \tEpoch 43/80: Train step 500/500 loss = 673.5895\n",
      " \tEpoch 44/80: Train step 500/500 loss = 712.7764\n",
      " \tEpoch 45/80: Train step 500/500 loss = 693.7183\n",
      " \tEpoch 46/80: Train step 500/500 loss = 676.5002\n",
      " \tEpoch 47/80: Train step 500/500 loss = 667.1364\n",
      " \tEpoch 48/80: Train step 500/500 loss = 641.5895\n",
      " \tEpoch 49/80: Train step 500/500 loss = 622.2032\n",
      "\n",
      "========================================================\n",
      "model 7 is saved into ensemble\n",
      "7 model(s) has been saved\n",
      "========================================================\n",
      "\n",
      " \tEpoch 50/80: Train step 500/500 loss = 635.0111\n",
      " \tEpoch 51/80: Train step 500/500 loss = 659.0294\n",
      " \tEpoch 52/80: Train step 500/500 loss = 662.0372\n",
      " \tEpoch 53/80: Train step 500/500 loss = 669.8521\n",
      " \tEpoch 54/80: Train step 500/500 loss = 669.7606\n",
      " \tEpoch 55/80: Train step 500/500 loss = 656.7403\n",
      " \tEpoch 56/80: Train step 500/500 loss = 636.4764\n",
      " \tEpoch 57/80: Train step 500/500 loss = 611.0703\n",
      "\n",
      "========================================================\n",
      "model 8 is saved into ensemble\n",
      "8 model(s) has been saved\n",
      "========================================================\n",
      "\n",
      " \tEpoch 58/80: Train step 500/500 loss = 633.9728\n",
      " \tEpoch 59/80: Train step 500/500 loss = 637.5502\n",
      " \tEpoch 60/80: Train step 500/500 loss = 641.4957\n",
      " \tEpoch 61/80: Train step 500/500 loss = 655.5392\n",
      " \tEpoch 62/80: Train step 500/500 loss = 634.2939\n",
      " \tEpoch 63/80: Train step 500/500 loss = 655.2955\n",
      " \tEpoch 64/80: Train step 500/500 loss = 618.4127\n",
      " \tEpoch 65/80: Train step 500/500 loss = 595.5242\n",
      "\n",
      "========================================================\n",
      "model 9 is saved into ensemble\n",
      "9 model(s) has been saved\n",
      "========================================================\n",
      "\n",
      " \tEpoch 66/80: Train step 500/500 loss = 607.9907\n",
      " \tEpoch 67/80: Train step 500/500 loss = 626.8782\n",
      " \tEpoch 68/80: Train step 500/500 loss = 623.7176\n",
      " \tEpoch 69/80: Train step 500/500 loss = 644.5610\n",
      " \tEpoch 70/80: Train step 500/500 loss = 651.3770\n",
      " \tEpoch 71/80: Train step 500/500 loss = 615.8138\n",
      " \tEpoch 72/80: Train step 500/500 loss = 600.9571\n",
      " \tEpoch 73/80: Train step 500/500 loss = 586.6889\n",
      "\n",
      "========================================================\n",
      "model 10 is saved into ensemble\n",
      "10 model(s) has been saved\n",
      "========================================================\n",
      "\n",
      " \tEpoch 74/80: Train step 500/500 loss = 598.4279\n",
      " \tEpoch 75/80: Train step 500/500 loss = 604.1158\n",
      " \tEpoch 76/80: Train step 500/500 loss = 622.5654\n",
      " \tEpoch 77/80: Train step 500/500 loss = 613.2114\n",
      " \tEpoch 78/80: Train step 500/500 loss = 629.4144\n",
      " \tEpoch 79/80: Train step 500/500 loss = 625.2308\n",
      " \tEpoch 80/80: Train step 500/500 loss = 583.1062\n",
      "CPU times: user 49min 6s, sys: 37.7 s, total: 49min 44s\n",
      "Wall time: 39min 7s\n",
      "3215.110291481018\n"
     ]
    }
   ],
   "source": [
    "FGE_Letraining_start = time.time()\n",
    "\n",
    "%time pretrained_Lemodel = BayesianLeNet5training(train_loader = fmnist_train_loader, val_loader = fmnist_val_loader, nepochs = 30, track = False)\n",
    "\n",
    "%time FGE_Models = FGE_BayesianLeNet5training(train_loader = fmnist_train_loader, val_loader = fmnist_val_loader, nepochs = 8, nmodels = 10, pretrained_model = pretrained_Lemodel, pretrained_Loss = None, pretrained_Acc = None, pretrained_LR = None, nbatch = 100, track = False)\n",
    "\n",
    "FGE_Letraining_end = time.time()\n",
    "\n",
    "FGE_Letraining_time = FGE_Letraining_end - FGE_Letraining_start\n",
    "\n",
    "print(FGE_Letraining_time)"
   ]
  },
  {
   "cell_type": "code",
   "execution_count": null,
   "metadata": {
    "id": "-3otP7kaNTBO"
   },
   "outputs": [],
   "source": [
    "np.save('./FGE_Letraining_time.npy', FGE_Letraining_time)"
   ]
  },
  {
   "cell_type": "markdown",
   "metadata": {
    "id": "tp8Mupv-8n9O"
   },
   "source": [
    "**Accuracy on Testset**"
   ]
  },
  {
   "cell_type": "code",
   "execution_count": null,
   "metadata": {
    "colab": {
     "base_uri": "https://localhost:8080/"
    },
    "executionInfo": {
     "elapsed": 373458,
     "status": "ok",
     "timestamp": 1660543814596,
     "user": {
      "displayName": "Chao Wang",
      "userId": "15397188646529269947"
     },
     "user_tz": -60
    },
    "id": "EgPGHXD_iKAV",
    "outputId": "d72506ab-0e8a-428a-811d-896450b4b139"
   },
   "outputs": [
    {
     "name": "stdout",
     "output_type": "stream",
     "text": [
      "\n",
      "Accuracy on Test Set: 8976.0/10000 (89.7600%)\n",
      "\n"
     ]
    }
   ],
   "source": [
    "nruntests = 1000\n",
    "nbatch = 100\n",
    "nclass = 10\n",
    "nmodels = 10\n",
    "\n",
    "with torch.no_grad(): \n",
    "\n",
    "    correct = 0\n",
    "\n",
    "    for batch_id, sample in enumerate(fmnist_test_loader): \n",
    "\n",
    "        images, labels = sample\n",
    "        images, labels = images.to(device), labels.to(device)\n",
    "        #print(labels.shape)\n",
    "\n",
    "        pred_list = torch.zeros((nruntests, nbatch, nclass)).to(device)\n",
    "\n",
    "        for i in np.arange(nruntests): \n",
    "\n",
    "            model_num = np.random.randint(nmodels)\n",
    "            model = FGE_Models[model_num]\n",
    "\n",
    "            model.to(device)\n",
    "            model.eval()\n",
    "\n",
    "            pred = model(images)\n",
    "\n",
    "            pred_list[i,:,:] = pred\n",
    "        \n",
    "        #print(pred_list.shape)\n",
    "\n",
    "        pred_mean = torch.mean(pred_list, dim = 0)\n",
    "\n",
    "        #print(pred_mean.shape)\n",
    "\n",
    "        pred_labels = pred_mean.argmax(dim = 1)\n",
    "\n",
    "        #print(pred_labels.shape)\n",
    "\n",
    "        correct += pred_labels.eq(labels).float().sum().item()\n",
    "\n",
    "    print(\"\\nAccuracy on Test Set: {}/{} ({:.4f}%)\\n\".format(\n",
    "    correct, len(fmnist_testset), correct/len(fmnist_testset) * 100.))\n",
    "    \n",
    "    FGE_Ens_Leacc = correct/len(fmnist_testset) * 100."
   ]
  },
  {
   "cell_type": "code",
   "execution_count": null,
   "metadata": {
    "id": "unx9OXZKMrOP"
   },
   "outputs": [],
   "source": [
    "np.save('./FGE_Ens_Leacc.npy', FGE_Ens_Leacc)"
   ]
  },
  {
   "cell_type": "markdown",
   "metadata": {
    "id": "P9XKSKZuH_hB"
   },
   "source": [
    "# **Stochastic Weight Averaging**"
   ]
  },
  {
   "cell_type": "markdown",
   "metadata": {
    "id": "zmmeOFxR6cMe"
   },
   "source": [
    "**Define SWA Training Process**"
   ]
  },
  {
   "cell_type": "code",
   "execution_count": null,
   "metadata": {
    "id": "iT8VTELJFeoX"
   },
   "outputs": [],
   "source": [
    "def SWA_BayesianLeNet5training(train_loader, val_loader, nepochs, nbatch = 100, track = True, device = torch.device('cuda' if torch.cuda.is_available() else 'cpu')): \n",
    "\n",
    "    model = BayesianLeNet5().to(device)\n",
    "    model.train()\n",
    "            \n",
    "    optimizer = torch.optim.SGD(model.parameters(), lr = 4e-3)\n",
    "    optimizer.zero_grad()\n",
    "\n",
    "    scheduler = torch.optim.lr_scheduler.CosineAnnealingLR(optimizer, T_max = nepochs, eta_min= 1e-4)\n",
    "\n",
    "    swa_model = torch.optim.swa_utils.AveragedModel(model)\n",
    "    swa_start = 15\n",
    "    swa_scheduler = torch.optim.swa_utils.SWALR(optimizer, anneal_epochs=5, swa_lr = 6e-3)\n",
    "\n",
    "    if track: \n",
    "        Loss = []\n",
    "        Acc = []\n",
    "        LR = []\n",
    "\n",
    "    batchLen = len(train_loader)\n",
    "    nval = len(val_loader) * nbatch\n",
    "    digitsBatchLen = len(str(batchLen))\n",
    "    \n",
    "    for n in np.arange(nepochs): \n",
    "        \n",
    "        if track: \n",
    "\n",
    "            correct = 0\n",
    "            for batch_id, sample in enumerate(val_loader) :\n",
    "\n",
    "                images, labels = sample\n",
    "                images, labels = images.to(device), labels.to(device)\n",
    "                \n",
    "                pred = swa_model(images) if n >= (swa_start + 1) else model(images)\n",
    "                pred = pred.argmax(dim = 1)\n",
    "                correct += pred.eq(labels).float().sum().item()\n",
    "            print(\"\\nAccuracy on Validation Set: {}/{} ({:.4f}%)\\n\".format(\n",
    "                correct, nval, correct/nval * 100.))\n",
    "            print(\"--------------------------------------------------------\")\n",
    "            \n",
    "            Acc.append(correct/nval * 100.)\n",
    "\n",
    "        for batch_id, sample in enumerate(train_loader):\n",
    "                    \n",
    "            images, labels = sample\n",
    "            images, labels = images.to(device), labels.to(device)\n",
    "                    \n",
    "            loss, log_prior, log_variational_posterior, negative_log_likelihood = model.sample_elbo(images, labels, BATCH_SIZE = nbatch, NUM_BATCHES = batchLen)\n",
    "                    \n",
    "            optimizer.zero_grad()\n",
    "            loss.backward()\n",
    "                    \n",
    "            optimizer.step()\n",
    "                    \n",
    "            if track: \n",
    "\n",
    "                Loss.append(loss.detach().cpu().item())\n",
    "                    \n",
    "            print(\"\\r\", (\"\\tEpoch {}/{}: Train step {\"+(\":0{}d\".format(digitsBatchLen))+\"}/{} loss = {:.4f}\").format(\n",
    "                                                      n+1, nepochs,\n",
    "                                                      batch_id+1,\n",
    "                                                      batchLen, \n",
    "                                                      loss.detach().cpu().item()), \n",
    "                        end=\"\")\n",
    "        print(\"\")\n",
    "\n",
    "        if n >= swa_start:\n",
    "\n",
    "            swa_model.update_parameters(model)\n",
    "            swa_scheduler.step()\n",
    "\n",
    "            if track: \n",
    "              \n",
    "                LR.append(swa_scheduler.get_last_lr())\n",
    "\n",
    "        else:\n",
    "\n",
    "            if track: \n",
    "\n",
    "                LR.append(scheduler.get_last_lr())\n",
    "\n",
    "            scheduler.step()\n",
    "\n",
    "        if ((n == nepochs - 1) and track):\n",
    "\n",
    "            correct = 0\n",
    "            for batch_id, sample in enumerate(val_loader) :\n",
    "\n",
    "                images, labels = sample\n",
    "                images, labels = images.to(device), labels.to(device)\n",
    "                \n",
    "                pred = swa_model(images)\n",
    "                pred = pred.argmax(dim = 1)\n",
    "                correct += pred.eq(labels).float().sum().item()\n",
    "            print(\"\\nAccuracy on Validation Set: {}/{} ({:.4f}%)\\n\".format(\n",
    "                correct, nval, correct/nval * 100.))\n",
    "            print(\"--------------------------------------------------------\")\n",
    "            \n",
    "            Acc.append(correct/nval * 100.)\n",
    "\n",
    "    if track:\n",
    "        \n",
    "        return swa_model, Loss, Acc, LR\n",
    "\n",
    "    else: \n",
    "        return swa_model"
   ]
  },
  {
   "cell_type": "markdown",
   "metadata": {
    "id": "LA4rB36I6jK6"
   },
   "source": [
    "**SWA Training**"
   ]
  },
  {
   "cell_type": "code",
   "execution_count": null,
   "metadata": {
    "colab": {
     "base_uri": "https://localhost:8080/"
    },
    "executionInfo": {
     "elapsed": 953563,
     "status": "ok",
     "timestamp": 1660535940729,
     "user": {
      "displayName": "Chao Wang",
      "userId": "15397188646529269947"
     },
     "user_tz": -60
    },
    "id": "8MHB5icaO3SI",
    "outputId": "9de9a4e2-5598-481b-90a0-45278638050c"
   },
   "outputs": [
    {
     "name": "stdout",
     "output_type": "stream",
     "text": [
      "\n",
      "Accuracy on Validation Set: 1109.0/10000 (11.0900%)\n",
      "\n",
      "--------------------------------------------------------\n",
      " \tEpoch 1/30: Train step 500/500 loss = 727.9039\n",
      "\n",
      "Accuracy on Validation Set: 8084.0/10000 (80.8400%)\n",
      "\n",
      "--------------------------------------------------------\n",
      " \tEpoch 2/30: Train step 500/500 loss = 713.8918\n",
      "\n",
      "Accuracy on Validation Set: 8530.0/10000 (85.3000%)\n",
      "\n",
      "--------------------------------------------------------\n",
      " \tEpoch 3/30: Train step 500/500 loss = 699.4948\n",
      "\n",
      "Accuracy on Validation Set: 8565.0/10000 (85.6500%)\n",
      "\n",
      "--------------------------------------------------------\n",
      " \tEpoch 4/30: Train step 500/500 loss = 692.7079\n",
      "\n",
      "Accuracy on Validation Set: 8699.0/10000 (86.9900%)\n",
      "\n",
      "--------------------------------------------------------\n",
      " \tEpoch 5/30: Train step 500/500 loss = 692.5867\n",
      "\n",
      "Accuracy on Validation Set: 8666.0/10000 (86.6600%)\n",
      "\n",
      "--------------------------------------------------------\n",
      " \tEpoch 6/30: Train step 500/500 loss = 677.8027\n",
      "\n",
      "Accuracy on Validation Set: 8698.0/10000 (86.9800%)\n",
      "\n",
      "--------------------------------------------------------\n",
      " \tEpoch 7/30: Train step 500/500 loss = 677.3068\n",
      "\n",
      "Accuracy on Validation Set: 8736.0/10000 (87.3600%)\n",
      "\n",
      "--------------------------------------------------------\n",
      " \tEpoch 8/30: Train step 500/500 loss = 681.4177\n",
      "\n",
      "Accuracy on Validation Set: 8733.0/10000 (87.3300%)\n",
      "\n",
      "--------------------------------------------------------\n",
      " \tEpoch 9/30: Train step 500/500 loss = 675.8701\n",
      "\n",
      "Accuracy on Validation Set: 8669.0/10000 (86.6900%)\n",
      "\n",
      "--------------------------------------------------------\n",
      " \tEpoch 10/30: Train step 500/500 loss = 662.7395\n",
      "\n",
      "Accuracy on Validation Set: 8822.0/10000 (88.2200%)\n",
      "\n",
      "--------------------------------------------------------\n",
      " \tEpoch 11/30: Train step 500/500 loss = 663.6799\n",
      "\n",
      "Accuracy on Validation Set: 8816.0/10000 (88.1600%)\n",
      "\n",
      "--------------------------------------------------------\n",
      " \tEpoch 12/30: Train step 500/500 loss = 672.4310\n",
      "\n",
      "Accuracy on Validation Set: 8764.0/10000 (87.6400%)\n",
      "\n",
      "--------------------------------------------------------\n",
      " \tEpoch 13/30: Train step 500/500 loss = 639.5267\n",
      "\n",
      "Accuracy on Validation Set: 8879.0/10000 (88.7900%)\n",
      "\n",
      "--------------------------------------------------------\n",
      " \tEpoch 14/30: Train step 500/500 loss = 654.9481\n",
      "\n",
      "Accuracy on Validation Set: 8840.0/10000 (88.4000%)\n",
      "\n",
      "--------------------------------------------------------\n",
      " \tEpoch 15/30: Train step 500/500 loss = 637.0464\n",
      "\n",
      "Accuracy on Validation Set: 8881.0/10000 (88.8100%)\n",
      "\n",
      "--------------------------------------------------------\n",
      " \tEpoch 16/30: Train step 500/500 loss = 636.6646\n",
      "\n",
      "Accuracy on Validation Set: 8889.0/10000 (88.8900%)\n",
      "\n",
      "--------------------------------------------------------\n",
      " \tEpoch 17/30: Train step 500/500 loss = 647.4266\n",
      "\n",
      "Accuracy on Validation Set: 8908.0/10000 (89.0800%)\n",
      "\n",
      "--------------------------------------------------------\n",
      " \tEpoch 18/30: Train step 500/500 loss = 653.0689\n",
      "\n",
      "Accuracy on Validation Set: 8874.0/10000 (88.7400%)\n",
      "\n",
      "--------------------------------------------------------\n",
      " \tEpoch 19/30: Train step 500/500 loss = 646.6681\n",
      "\n",
      "Accuracy on Validation Set: 8902.0/10000 (89.0200%)\n",
      "\n",
      "--------------------------------------------------------\n",
      " \tEpoch 20/30: Train step 500/500 loss = 668.9992\n",
      "\n",
      "Accuracy on Validation Set: 8896.0/10000 (88.9600%)\n",
      "\n",
      "--------------------------------------------------------\n",
      " \tEpoch 21/30: Train step 500/500 loss = 644.3893\n",
      "\n",
      "Accuracy on Validation Set: 8899.0/10000 (88.9900%)\n",
      "\n",
      "--------------------------------------------------------\n",
      " \tEpoch 22/30: Train step 500/500 loss = 655.4805\n",
      "\n",
      "Accuracy on Validation Set: 8899.0/10000 (88.9900%)\n",
      "\n",
      "--------------------------------------------------------\n",
      " \tEpoch 23/30: Train step 500/500 loss = 649.0399\n",
      "\n",
      "Accuracy on Validation Set: 8889.0/10000 (88.8900%)\n",
      "\n",
      "--------------------------------------------------------\n",
      " \tEpoch 24/30: Train step 500/500 loss = 639.4849\n",
      "\n",
      "Accuracy on Validation Set: 8896.0/10000 (88.9600%)\n",
      "\n",
      "--------------------------------------------------------\n",
      " \tEpoch 25/30: Train step 500/500 loss = 630.7852\n",
      "\n",
      "Accuracy on Validation Set: 8876.0/10000 (88.7600%)\n",
      "\n",
      "--------------------------------------------------------\n",
      " \tEpoch 26/30: Train step 500/500 loss = 649.0960\n",
      "\n",
      "Accuracy on Validation Set: 8899.0/10000 (88.9900%)\n",
      "\n",
      "--------------------------------------------------------\n",
      " \tEpoch 27/30: Train step 500/500 loss = 633.4844\n",
      "\n",
      "Accuracy on Validation Set: 8918.0/10000 (89.1800%)\n",
      "\n",
      "--------------------------------------------------------\n",
      " \tEpoch 28/30: Train step 500/500 loss = 635.5975\n",
      "\n",
      "Accuracy on Validation Set: 8922.0/10000 (89.2200%)\n",
      "\n",
      "--------------------------------------------------------\n",
      " \tEpoch 29/30: Train step 500/500 loss = 622.4870\n",
      "\n",
      "Accuracy on Validation Set: 8917.0/10000 (89.1700%)\n",
      "\n",
      "--------------------------------------------------------\n",
      " \tEpoch 30/30: Train step 500/500 loss = 626.4009\n",
      "\n",
      "Accuracy on Validation Set: 8915.0/10000 (89.1500%)\n",
      "\n",
      "--------------------------------------------------------\n"
     ]
    }
   ],
   "source": [
    "SWA_model, SWA_Loss, SWA_Acc, SWA_LR = SWA_BayesianLeNet5training(train_loader = fmnist_train_loader, val_loader = fmnist_val_loader, nepochs = 30, nbatch = 100, track = True)"
   ]
  },
  {
   "cell_type": "markdown",
   "metadata": {
    "id": "KWPTIP4z6Sl6"
   },
   "source": [
    "**Training Accuracy on Validation Set**"
   ]
  },
  {
   "cell_type": "code",
   "execution_count": null,
   "metadata": {
    "colab": {
     "base_uri": "https://localhost:8080/",
     "height": 354
    },
    "executionInfo": {
     "elapsed": 443,
     "status": "ok",
     "timestamp": 1660536123392,
     "user": {
      "displayName": "Chao Wang",
      "userId": "15397188646529269947"
     },
     "user_tz": -60
    },
    "id": "cyVSzucjPOBj",
    "outputId": "05641687-43ba-4575-a28e-d6a65bd0593b"
   },
   "outputs": [
    {
     "data": {
      "image/png": "[encoded data removed]",
      "text/plain": [
       "<Figure size 720x360 with 1 Axes>"
      ]
     },
     "metadata": {
      "needs_background": "light"
     },
     "output_type": "display_data"
    }
   ],
   "source": [
    "fs = 20\n",
    "SWA_Acc_fig = plt.figure(figsize=(10,5))\n",
    "plt.plot(SWA_Acc)\n",
    "plt.grid()\n",
    "plt.ylim(85,90)\n",
    "plt.xlabel('Epoch',fontsize=fs)\n",
    "plt.ylabel('Accuracy (%)',fontsize=fs)\n",
    "plt.tick_params(labelsize=15)\n",
    "# plt.savefig('mnist_acc_100_training.png')\n",
    "plt.show()"
   ]
  },
  {
   "cell_type": "code",
   "execution_count": null,
   "metadata": {
    "id": "XsZClVPiq4na"
   },
   "outputs": [],
   "source": [
    "SWA_Acc_fig.savefig(\"SWA_Acc_fig.png\")"
   ]
  },
  {
   "cell_type": "markdown",
   "metadata": {
    "id": "4xI7qEMu5-r6"
   },
   "source": [
    "**Training Loss on Trainset**"
   ]
  },
  {
   "cell_type": "code",
   "execution_count": null,
   "metadata": {
    "colab": {
     "base_uri": "https://localhost:8080/",
     "height": 354
    },
    "executionInfo": {
     "elapsed": 444,
     "status": "ok",
     "timestamp": 1660536588853,
     "user": {
      "displayName": "Chao Wang",
      "userId": "15397188646529269947"
     },
     "user_tz": -60
    },
    "id": "AmWupDaky0M8",
    "outputId": "0b9df9ca-8e85-47e5-b729-4e2c55b81a66"
   },
   "outputs": [
    {
     "data": {
      "image/png": "[encoded data removed]",
      "text/plain": [
       "<Figure size 720x360 with 1 Axes>"
      ]
     },
     "metadata": {
      "needs_background": "light"
     },
     "output_type": "display_data"
    }
   ],
   "source": [
    "fs = 20\n",
    "SWA_Loss_fig = plt.figure(figsize=(10,5))\n",
    "x = np.arange(len(SWA_Loss))[50:] / 500.\n",
    "plt.plot(x, SWA_Loss[50:])\n",
    "plt.grid()\n",
    "plt.ylim(550,900)\n",
    "plt.xlabel('Epoch',fontsize=fs)\n",
    "plt.ylabel('Loss [-ELBO]',fontsize=fs)\n",
    "plt.tick_params(labelsize=15)\n",
    "# plt.savefig('mnist_acc_100_training.png')\n",
    "plt.show()"
   ]
  },
  {
   "cell_type": "code",
   "execution_count": null,
   "metadata": {
    "id": "MJK3_52Aq-lS"
   },
   "outputs": [],
   "source": [
    "SWA_Loss_fig.savefig(\"SWA_Loss_fig.png\")"
   ]
  },
  {
   "cell_type": "markdown",
   "metadata": {
    "id": "as9GGK0S47xq"
   },
   "source": [
    "**Learning Rate Schedule**"
   ]
  },
  {
   "cell_type": "code",
   "execution_count": null,
   "metadata": {
    "colab": {
     "base_uri": "https://localhost:8080/",
     "height": 354
    },
    "executionInfo": {
     "elapsed": 763,
     "status": "ok",
     "timestamp": 1661341548230,
     "user": {
      "displayName": "Chao Wang",
      "userId": "15397188646529269947"
     },
     "user_tz": -60
    },
    "id": "uYQ-xvx2zXBg",
    "outputId": "78025451-e9c9-4eb8-9252-39697eadf151"
   },
   "outputs": [
    {
     "data": {
      "image/png": "[encoded data removed]",
      "text/plain": [
       "<Figure size 720x360 with 1 Axes>"
      ]
     },
     "metadata": {
      "needs_background": "light"
     },
     "output_type": "display_data"
    }
   ],
   "source": [
    "fs = 20\n",
    "SWA_LR_fig = plt.figure(figsize=(10,5))\n",
    "x = np.arange(len(SWA_LR)) + 1\n",
    "plt.plot(x, SWA_LR)\n",
    "plt.grid()\n",
    "plt.ylim(-0.000,0.010)\n",
    "plt.xlabel('Epoch',fontsize=fs)\n",
    "plt.ylabel('Learning Rate',fontsize=fs)\n",
    "plt.tick_params(labelsize=15)\n",
    "# plt.savefig('mnist_acc_100_training.png')\n",
    "plt.show()"
   ]
  },
  {
   "cell_type": "code",
   "execution_count": null,
   "metadata": {
    "id": "UaRFRPxIrCvq"
   },
   "outputs": [],
   "source": [
    "SWA_LR_fig.savefig(\"SWA_LR_fig.png\")"
   ]
  },
  {
   "cell_type": "markdown",
   "metadata": {
    "id": "SZKyocg64yuq"
   },
   "source": [
    "**Calculate Training Time**"
   ]
  },
  {
   "cell_type": "code",
   "execution_count": null,
   "metadata": {
    "colab": {
     "base_uri": "https://localhost:8080/"
    },
    "executionInfo": {
     "elapsed": 857547,
     "status": "ok",
     "timestamp": 1660538616312,
     "user": {
      "displayName": "Chao Wang",
      "userId": "15397188646529269947"
     },
     "user_tz": -60
    },
    "id": "IKxCuot2s66Y",
    "outputId": "34d59df5-7341-4717-d40b-5b0b12780de3"
   },
   "outputs": [
    {
     "name": "stdout",
     "output_type": "stream",
     "text": [
      " \tEpoch 1/30: Train step 500/500 loss = 712.9701\n",
      " \tEpoch 2/30: Train step 500/500 loss = 700.4148\n",
      " \tEpoch 3/30: Train step 500/500 loss = 685.2609\n",
      " \tEpoch 4/30: Train step 500/500 loss = 685.3839\n",
      " \tEpoch 5/30: Train step 500/500 loss = 678.0294\n",
      " \tEpoch 6/30: Train step 500/500 loss = 691.6199\n",
      " \tEpoch 7/30: Train step 500/500 loss = 673.5267\n",
      " \tEpoch 8/30: Train step 500/500 loss = 665.1724\n",
      " \tEpoch 9/30: Train step 500/500 loss = 654.3007\n",
      " \tEpoch 10/30: Train step 500/500 loss = 649.1824\n",
      " \tEpoch 11/30: Train step 500/500 loss = 647.6579\n",
      " \tEpoch 12/30: Train step 500/500 loss = 646.1798\n",
      " \tEpoch 13/30: Train step 500/500 loss = 637.2963\n",
      " \tEpoch 14/30: Train step 500/500 loss = 636.3509\n",
      " \tEpoch 15/30: Train step 500/500 loss = 638.0976\n",
      " \tEpoch 16/30: Train step 500/500 loss = 638.2518\n",
      " \tEpoch 17/30: Train step 500/500 loss = 635.0547\n",
      " \tEpoch 18/30: Train step 500/500 loss = 650.7488\n",
      " \tEpoch 19/30: Train step 500/500 loss = 647.2278\n",
      " \tEpoch 20/30: Train step 500/500 loss = 644.0886\n",
      " \tEpoch 21/30: Train step 500/500 loss = 643.7919\n",
      " \tEpoch 22/30: Train step 500/500 loss = 643.5402\n",
      " \tEpoch 23/30: Train step 500/500 loss = 652.5479\n",
      " \tEpoch 24/30: Train step 500/500 loss = 638.7088\n",
      " \tEpoch 25/30: Train step 500/500 loss = 631.5119\n",
      " \tEpoch 26/30: Train step 500/500 loss = 644.8745\n",
      " \tEpoch 27/30: Train step 500/500 loss = 621.8325\n",
      " \tEpoch 28/30: Train step 500/500 loss = 617.7495\n",
      " \tEpoch 29/30: Train step 500/500 loss = 622.5787\n",
      " \tEpoch 30/30: Train step 500/500 loss = 635.0251\n",
      "CPU times: user 17min 57s, sys: 14.5 s, total: 18min 11s\n",
      "Wall time: 14min 17s\n",
      "857.4157166481018\n"
     ]
    }
   ],
   "source": [
    "SWA_Letraining_start = time.time()\n",
    "\n",
    "%time SWA_model = SWA_BayesianLeNet5training(train_loader = fmnist_train_loader, val_loader = fmnist_val_loader, nepochs = 30, nbatch = 100, track = False)\n",
    "\n",
    "SWA_Letraining_end = time.time()\n",
    "\n",
    "SWA_Letraining_time = SWA_Letraining_end - SWA_Letraining_start\n",
    "\n",
    "print(SWA_Letraining_time)"
   ]
  },
  {
   "cell_type": "code",
   "execution_count": null,
   "metadata": {
    "id": "TCZV3fu5w3lA"
   },
   "outputs": [],
   "source": [
    "np.save('./SWA_Letraining_time.npy', SWA_Letraining_time)"
   ]
  },
  {
   "cell_type": "markdown",
   "metadata": {
    "id": "z6bxW8N642m7"
   },
   "source": [
    "**Accuracy on Test Set**"
   ]
  },
  {
   "cell_type": "code",
   "execution_count": null,
   "metadata": {
    "colab": {
     "base_uri": "https://localhost:8080/"
    },
    "executionInfo": {
     "elapsed": 347140,
     "status": "ok",
     "timestamp": 1660542117199,
     "user": {
      "displayName": "Chao Wang",
      "userId": "15397188646529269947"
     },
     "user_tz": -60
    },
    "id": "fkIWtZFQz1V8",
    "outputId": "24c10e50-53b9-4f2f-a60f-55cb01148ff4"
   },
   "outputs": [
    {
     "name": "stdout",
     "output_type": "stream",
     "text": [
      "\n",
      "Accuracy on Test Set: 8977.0/10000 (89.7700%)\n",
      "\n"
     ]
    }
   ],
   "source": [
    "nruntests = 1000\n",
    "nbatch = 100\n",
    "nclass = 10\n",
    "\n",
    "with torch.no_grad(): \n",
    "\n",
    "    SWA_model.to(device)\n",
    "    SWA_model.eval()\n",
    "\n",
    "    correct = 0\n",
    "\n",
    "    for batch_id, sample in enumerate(fmnist_test_loader): \n",
    "\n",
    "        images, labels = sample\n",
    "        images, labels = images.to(device), labels.to(device)\n",
    "        #print(labels.shape)\n",
    "\n",
    "        pred_list = torch.zeros((nruntests, nbatch, nclass)).to(device)\n",
    "\n",
    "        for i in np.arange(nruntests): \n",
    "\n",
    "            pred = SWA_model(images)\n",
    "\n",
    "            pred_list[i,:,:] = pred\n",
    "        \n",
    "        #print(pred_list.shape)\n",
    "\n",
    "        pred_mean = torch.mean(pred_list, dim = 0)\n",
    "\n",
    "        #print(pred_mean.shape)\n",
    "\n",
    "        pred_labels = pred_mean.argmax(dim = 1)\n",
    "\n",
    "        #print(pred_labels.shape)\n",
    "\n",
    "        correct += pred_labels.eq(labels).float().sum().item()\n",
    "\n",
    "    print(\"\\nAccuracy on Test Set: {}/{} ({:.4f}%)\\n\".format(\n",
    "        correct, len(fmnist_testset), correct/len(fmnist_testset) * 100.))\n",
    "    \n",
    "    SWA_Ens_Leacc = correct/len(fmnist_testset) * 100."
   ]
  },
  {
   "cell_type": "code",
   "execution_count": null,
   "metadata": {
    "id": "1sDe3dxgs6No"
   },
   "outputs": [],
   "source": [
    "np.save('./SWA_Ens_Leacc.npy', SWA_Ens_Leacc)"
   ]
  },
  {
   "cell_type": "code",
   "execution_count": 3,
   "metadata": {
    "colab": {
     "base_uri": "https://localhost:8080/"
    },
    "executionInfo": {
     "elapsed": 18506,
     "status": "ok",
     "timestamp": 1661490734008,
     "user": {
      "displayName": "Chao Wang",
      "userId": "15397188646529269947"
     },
     "user_tz": -60
    },
    "id": "04qxod4Y0QHl",
    "outputId": "da64616e-34f3-45cb-e95a-ec2a8fb12823"
   },
   "outputs": [
    {
     "name": "stdout",
     "output_type": "stream",
     "text": [
      "Mounted at /content/drive\n"
     ]
    }
   ],
   "source": [
    "from google.colab import drive\n",
    "drive.mount('/content/drive')"
   ]
  },
  {
   "cell_type": "markdown",
   "metadata": {
    "id": "6KOEeGmnVw86"
   },
   "source": [
    "**Training Time Comparison**"
   ]
  },
  {
   "cell_type": "code",
   "execution_count": 4,
   "metadata": {
    "executionInfo": {
     "elapsed": 1748,
     "status": "ok",
     "timestamp": 1661490736801,
     "user": {
      "displayName": "Chao Wang",
      "userId": "15397188646529269947"
     },
     "user_tz": -60
    },
    "id": "QnE4GQbcV0Ui"
   },
   "outputs": [],
   "source": [
    "Letraining_time = np.load('/content/drive/MyDrive/FGE + SWA/Letraining_time.npy', allow_pickle=True).item()\n",
    "Ens_Letraining_time = np.load('/content/drive/MyDrive/FGE + SWA/Ens_Letraining_time.npy', allow_pickle=True).item()\n",
    "Snap_Ens_Letraining_time = np.load('/content/drive/MyDrive/FGE + SWA/Snap_Ens_Letraining_time.npy', allow_pickle=True).item()\n",
    "FGE_Letraining_time = np.load('/content/drive/MyDrive/FGE + SWA/FGE_Letraining_time.npy', allow_pickle=True).item()\n",
    "SWA_Letraining_time = np.load('/content/drive/MyDrive/FGE + SWA/SWA_Letraining_time.npy', allow_pickle=True).item()"
   ]
  },
  {
   "cell_type": "code",
   "execution_count": null,
   "metadata": {
    "colab": {
     "base_uri": "https://localhost:8080/",
     "height": 384
    },
    "executionInfo": {
     "elapsed": 321,
     "status": "ok",
     "timestamp": 1660598397710,
     "user": {
      "displayName": "Chao Wang",
      "userId": "15397188646529269947"
     },
     "user_tz": -60
    },
    "id": "YNct6xFiVx4a",
    "outputId": "f2710f21-c6ad-4fa3-888b-64f7a9804d50"
   },
   "outputs": [
    {
     "data": {
      "image/png": "[encoded data removed]",
      "text/plain": [
       "<Figure size 720x360 with 1 Axes>"
      ]
     },
     "metadata": {
      "needs_background": "light"
     },
     "output_type": "display_data"
    }
   ],
   "source": [
    "fs = 20\n",
    "time_comparison_fig = plt.figure(figsize=(10,5))\n",
    "training_approach = ['VI (Bayes by Backprop)', 'Traditional Ensembling', 'Snapshot Ensembling', 'FGE', 'SWA']\n",
    "training_time = [Letraining_time, Ens_Letraining_time, Snap_Ens_Letraining_time, FGE_Letraining_time, SWA_Letraining_time]\n",
    "color_back = ['r', 'g', 'b', 'c', 'm']\n",
    "\n",
    "plt.bar(training_approach, training_time, width=0.6, color=color_back)\n",
    "plt.ylabel('Training Time (s)',fontsize=fs)\n",
    "plt.tick_params(labelsize=15)\n",
    "plt.xticks(rotation = 340)\n",
    "plt.show()"
   ]
  },
  {
   "cell_type": "markdown",
   "metadata": {
    "id": "hBhT7Of7Vsxd"
   },
   "source": [
    "**Accuracy on Testset Comparison**"
   ]
  },
  {
   "cell_type": "code",
   "execution_count": 5,
   "metadata": {
    "executionInfo": {
     "elapsed": 1536,
     "status": "ok",
     "timestamp": 1661490740117,
     "user": {
      "displayName": "Chao Wang",
      "userId": "15397188646529269947"
     },
     "user_tz": -60
    },
    "id": "us_XvIU4MXYN"
   },
   "outputs": [],
   "source": [
    "Leacc = np.load('/content/drive/MyDrive/FGE + SWA/Leacc.npy', allow_pickle=True).item()\n",
    "Ens_Leacc = np.load('/content/drive/MyDrive/FGE + SWA/Ens_Leacc.npy', allow_pickle=True).item()\n",
    "Snap_Ens_Leacc = np.load('/content/drive/MyDrive/FGE + SWA/Snap_Ens_Leacc.npy', allow_pickle=True).item()\n",
    "FGE_Ens_Leacc = np.load('/content/drive/MyDrive/FGE + SWA/FGE_Ens_Leacc.npy', allow_pickle=True).item()\n",
    "SWA_Ens_Leacc = np.load('/content/drive/MyDrive/FGE + SWA/SWA_Ens_Leacc.npy', allow_pickle=True).item()"
   ]
  },
  {
   "cell_type": "code",
   "execution_count": null,
   "metadata": {
    "colab": {
     "base_uri": "https://localhost:8080/",
     "height": 420
    },
    "executionInfo": {
     "elapsed": 335,
     "status": "ok",
     "timestamp": 1660598390773,
     "user": {
      "displayName": "Chao Wang",
      "userId": "15397188646529269947"
     },
     "user_tz": -60
    },
    "id": "2fRpXX0eUmNa",
    "outputId": "fcff8c9f-1499-4d8e-b6cd-66c8c2f783c8"
   },
   "outputs": [
    {
     "data": {
      "image/png": "[encoded data removed]",
      "text/plain": [
       "<Figure size 720x360 with 1 Axes>"
      ]
     },
     "metadata": {
      "needs_background": "light"
     },
     "output_type": "display_data"
    }
   ],
   "source": [
    "fs = 20\n",
    "acc_comparison_fig = plt.figure(figsize=(10,5))\n",
    "Ensembling = ['Bayes by Backprop', 'Traditional Ensembling', 'Snapshot Ensembling', 'FGE', 'SWA']\n",
    "acc_testset = [Leacc, Ens_Leacc, Snap_Ens_Leacc, FGE_Ens_Leacc, SWA_Ens_Leacc]\n",
    "color_back = ['r', 'g', 'b', 'c', 'm']\n",
    "\n",
    "plt.bar(Ensembling, acc_testset, width=0.6, color=color_back)\n",
    "plt.ylim(86,92)\n",
    "plt.ylabel('Prediction Accuracy on Testset (%)',fontsize=fs)\n",
    "plt.tick_params(labelsize=15)\n",
    "plt.xticks(rotation = 340)\n",
    "plt.show()"
   ]
  },
  {
   "cell_type": "code",
   "execution_count": 6,
   "metadata": {
    "colab": {
     "base_uri": "https://localhost:8080/",
     "height": 419
    },
    "executionInfo": {
     "elapsed": 574,
     "status": "ok",
     "timestamp": 1661490744469,
     "user": {
      "displayName": "Chao Wang",
      "userId": "15397188646529269947"
     },
     "user_tz": -60
    },
    "id": "OYbdUzhwZhuD",
    "outputId": "96e30a02-e408-427d-a13f-e35637b82301"
   },
   "outputs": [
    {
     "data": {
      "image/png": "[encoded data removed]",
      "text/plain": [
       "<Figure size 720x396 with 2 Axes>"
      ]
     },
     "metadata": {
      "needs_background": "light"
     },
     "output_type": "display_data"
    }
   ],
   "source": [
    "fs = 20\n",
    "fig_ens_compare, ax1 = plt.subplots(figsize=(10,5.5))\n",
    "ax1.set_ylabel('Prediction Accuracy on Testset (%)',fontsize=fs)\n",
    "ax1.set_ylim(86,92)\n",
    "Ensembling = ['Standard Single Model', 'Traditional Ensembling', 'Snapshot Ensembling', 'FGE', 'SWA']\n",
    "acc_testset = [Leacc, Ens_Leacc, Snap_Ens_Leacc, FGE_Ens_Leacc, SWA_Ens_Leacc]\n",
    "ax1.bar(Ensembling, acc_testset, width=-0.3, align='edge', label = 'Accuracy')\n",
    "ax1.tick_params(labelsize=15)\n",
    "ax1.set_xticklabels(Ensembling, rotation = 340)\n",
    "\n",
    "ax1.set_xticklabels(ax1.get_xticklabels())\n",
    "\n",
    "ax2 = ax1.twinx()\n",
    "ax2.set_ylabel('Training Time (s)',fontsize=fs)\n",
    "#ax2.set_ylim()\n",
    "training_time = [Letraining_time, Ens_Letraining_time, Snap_Ens_Letraining_time, FGE_Letraining_time, SWA_Letraining_time]\n",
    "ax2.bar(Ensembling, training_time, width=0.3, align='edge', color = 'orange', label = 'Training Time')\n",
    "ax2.tick_params(labelsize=15)\n",
    "\n",
    "ax1.legend(loc='upper left')\n",
    "ax2.legend()\n",
    "fig_ens_compare.tight_layout()\n",
    "fig_ens_compare.show()"
   ]
  },
  {
   "cell_type": "code",
   "execution_count": 7,
   "metadata": {
    "executionInfo": {
     "elapsed": 179,
     "status": "ok",
     "timestamp": 1661490757929,
     "user": {
      "displayName": "Chao Wang",
      "userId": "15397188646529269947"
     },
     "user_tz": -60
    },
    "id": "_AvS9OEx6Z_y"
   },
   "outputs": [],
   "source": [
    "fig_ens_compare.savefig(\"fig_ens_compare.png\")"
   ]
  },
  {
   "cell_type": "code",
   "execution_count": null,
   "metadata": {
    "id": "0gwNs8RT69rg"
   },
   "outputs": [],
   "source": []
  }
 ],
 "metadata": {
  "accelerator": "GPU",
  "colab": {
   "authorship_tag": "ABX9TyPcjKNCXToU04QPF1BpxXjd",
   "background_execution": "on",
   "machine_shape": "hm",
   "name": "FGE and SWA.ipynb",
   "provenance": []
  },
  "gpuClass": "standard",
  "kernelspec": {
   "display_name": "Python 3 (ipykernel)",
   "language": "python",
   "name": "python3"
  },
  "language_info": {
   "codemirror_mode": {
    "name": "ipython",
    "version": 3
   },
   "file_extension": ".py",
   "mimetype": "text/x-python",
   "name": "python",
   "nbconvert_exporter": "python",
   "pygments_lexer": "ipython3",
   "version": "3.9.12"
  },
  "widgets": {
   "application/vnd.jupyter.widget-state+json": {
    "01ca110daae1443cb7af794909de0b73": {
     "model_module": "@jupyter-widgets/base",
     "model_module_version": "1.2.0",
     "model_name": "LayoutModel",
     "state": {
      "_model_module": "@jupyter-widgets/base",
      "_model_module_version": "1.2.0",
      "_model_name": "LayoutModel",
      "_view_count": null,
      "_view_module": "@jupyter-widgets/base",
      "_view_module_version": "1.2.0",
      "_view_name": "LayoutView",
      "align_content": null,
      "align_items": null,
      "align_self": null,
      "border": null,
      "bottom": null,
      "display": null,
      "flex": null,
      "flex_flow": null,
      "grid_area": null,
      "grid_auto_columns": null,
      "grid_auto_flow": null,
      "grid_auto_rows": null,
      "grid_column": null,
      "grid_gap": null,
      "grid_row": null,
      "grid_template_areas": null,
      "grid_template_columns": null,
      "grid_template_rows": null,
      "height": null,
      "justify_content": null,
      "justify_items": null,
      "left": null,
      "margin": null,
      "max_height": null,
      "max_width": null,
      "min_height": null,
      "min_width": null,
      "object_fit": null,
      "object_position": null,
      "order": null,
      "overflow": null,
      "overflow_x": null,
      "overflow_y": null,
      "padding": null,
      "right": null,
      "top": null,
      "visibility": null,
      "width": null
     }
    },
    "03168392b0b84108a0a60eccd9b5758f": {
     "model_module": "@jupyter-widgets/base",
     "model_module_version": "1.2.0",
     "model_name": "LayoutModel",
     "state": {
      "_model_module": "@jupyter-widgets/base",
      "_model_module_version": "1.2.0",
      "_model_name": "LayoutModel",
      "_view_count": null,
      "_view_module": "@jupyter-widgets/base",
      "_view_module_version": "1.2.0",
      "_view_name": "LayoutView",
      "align_content": null,
      "align_items": null,
      "align_self": null,
      "border": null,
      "bottom": null,
      "display": null,
      "flex": null,
      "flex_flow": null,
      "grid_area": null,
      "grid_auto_columns": null,
      "grid_auto_flow": null,
      "grid_auto_rows": null,
      "grid_column": null,
      "grid_gap": null,
      "grid_row": null,
      "grid_template_areas": null,
      "grid_template_columns": null,
      "grid_template_rows": null,
      "height": null,
      "justify_content": null,
      "justify_items": null,
      "left": null,
      "margin": null,
      "max_height": null,
      "max_width": null,
      "min_height": null,
      "min_width": null,
      "object_fit": null,
      "object_position": null,
      "order": null,
      "overflow": null,
      "overflow_x": null,
      "overflow_y": null,
      "padding": null,
      "right": null,
      "top": null,
      "visibility": null,
      "width": null
     }
    },
    "08f6b45666274622956bbbe5d7fa67c4": {
     "model_module": "@jupyter-widgets/controls",
     "model_module_version": "1.5.0",
     "model_name": "DescriptionStyleModel",
     "state": {
      "_model_module": "@jupyter-widgets/controls",
      "_model_module_version": "1.5.0",
      "_model_name": "DescriptionStyleModel",
      "_view_count": null,
      "_view_module": "@jupyter-widgets/base",
      "_view_module_version": "1.2.0",
      "_view_name": "StyleView",
      "description_width": ""
     }
    },
    "0fc825f84f334f0e947380af7f1ca90d": {
     "model_module": "@jupyter-widgets/controls",
     "model_module_version": "1.5.0",
     "model_name": "HBoxModel",
     "state": {
      "_dom_classes": [],
      "_model_module": "@jupyter-widgets/controls",
      "_model_module_version": "1.5.0",
      "_model_name": "HBoxModel",
      "_view_count": null,
      "_view_module": "@jupyter-widgets/controls",
      "_view_module_version": "1.5.0",
      "_view_name": "HBoxView",
      "box_style": "",
      "children": [
       "IPY_MODEL_3a522521192c4b68a7a2b04a70c699ed",
       "IPY_MODEL_e707e4f3c7f24c3496b398d0b38a4637",
       "IPY_MODEL_ac1dea9b69c845659b6c71a563899f9e"
      ],
      "layout": "IPY_MODEL_f10a835080954801b823a47406b69272"
     }
    },
    "13eb3c5fac3a45ed966ffde805c953eb": {
     "model_module": "@jupyter-widgets/base",
     "model_module_version": "1.2.0",
     "model_name": "LayoutModel",
     "state": {
      "_model_module": "@jupyter-widgets/base",
      "_model_module_version": "1.2.0",
      "_model_name": "LayoutModel",
      "_view_count": null,
      "_view_module": "@jupyter-widgets/base",
      "_view_module_version": "1.2.0",
      "_view_name": "LayoutView",
      "align_content": null,
      "align_items": null,
      "align_self": null,
      "border": null,
      "bottom": null,
      "display": null,
      "flex": null,
      "flex_flow": null,
      "grid_area": null,
      "grid_auto_columns": null,
      "grid_auto_flow": null,
      "grid_auto_rows": null,
      "grid_column": null,
      "grid_gap": null,
      "grid_row": null,
      "grid_template_areas": null,
      "grid_template_columns": null,
      "grid_template_rows": null,
      "height": null,
      "justify_content": null,
      "justify_items": null,
      "left": null,
      "margin": null,
      "max_height": null,
      "max_width": null,
      "min_height": null,
      "min_width": null,
      "object_fit": null,
      "object_position": null,
      "order": null,
      "overflow": null,
      "overflow_x": null,
      "overflow_y": null,
      "padding": null,
      "right": null,
      "top": null,
      "visibility": null,
      "width": null
     }
    },
    "162a5bc904b9425396cc04d93836f05c": {
     "model_module": "@jupyter-widgets/controls",
     "model_module_version": "1.5.0",
     "model_name": "HBoxModel",
     "state": {
      "_dom_classes": [],
      "_model_module": "@jupyter-widgets/controls",
      "_model_module_version": "1.5.0",
      "_model_name": "HBoxModel",
      "_view_count": null,
      "_view_module": "@jupyter-widgets/controls",
      "_view_module_version": "1.5.0",
      "_view_name": "HBoxView",
      "box_style": "",
      "children": [
       "IPY_MODEL_488d854fe24e4a43a2c767b8b437e7d9",
       "IPY_MODEL_1c9b29e4aa0348ef9b5daa6ea609f15c",
       "IPY_MODEL_63ef6ed3b2944ab2868679cdb2ef7dda"
      ],
      "layout": "IPY_MODEL_dfa4ac0847c84ece83232247f05274ab"
     }
    },
    "1c420565187e4eec8c6dfd2892623ffc": {
     "model_module": "@jupyter-widgets/controls",
     "model_module_version": "1.5.0",
     "model_name": "HBoxModel",
     "state": {
      "_dom_classes": [],
      "_model_module": "@jupyter-widgets/controls",
      "_model_module_version": "1.5.0",
      "_model_name": "HBoxModel",
      "_view_count": null,
      "_view_module": "@jupyter-widgets/controls",
      "_view_module_version": "1.5.0",
      "_view_name": "HBoxView",
      "box_style": "",
      "children": [
       "IPY_MODEL_e438427e524c4dd9870185715ce3086f",
       "IPY_MODEL_cdc0e7278622446a85708f8f88940b9f",
       "IPY_MODEL_f2ca0b25b4354797a59793c8bd39990c"
      ],
      "layout": "IPY_MODEL_3c5e57b554e54480b6fa8f21a24ab352"
     }
    },
    "1c9b29e4aa0348ef9b5daa6ea609f15c": {
     "model_module": "@jupyter-widgets/controls",
     "model_module_version": "1.5.0",
     "model_name": "FloatProgressModel",
     "state": {
      "_dom_classes": [],
      "_model_module": "@jupyter-widgets/controls",
      "_model_module_version": "1.5.0",
      "_model_name": "FloatProgressModel",
      "_view_count": null,
      "_view_module": "@jupyter-widgets/controls",
      "_view_module_version": "1.5.0",
      "_view_name": "ProgressView",
      "bar_style": "success",
      "description": "",
      "description_tooltip": null,
      "layout": "IPY_MODEL_d2ef0016e21546e4a73b35007cb1ac21",
      "max": 4422102,
      "min": 0,
      "orientation": "horizontal",
      "style": "IPY_MODEL_e38586a918334b118aa66e1081d676d5",
      "value": 4422102
     }
    },
    "1d695041f3d445b5923a4311bf33412b": {
     "model_module": "@jupyter-widgets/base",
     "model_module_version": "1.2.0",
     "model_name": "LayoutModel",
     "state": {
      "_model_module": "@jupyter-widgets/base",
      "_model_module_version": "1.2.0",
      "_model_name": "LayoutModel",
      "_view_count": null,
      "_view_module": "@jupyter-widgets/base",
      "_view_module_version": "1.2.0",
      "_view_name": "LayoutView",
      "align_content": null,
      "align_items": null,
      "align_self": null,
      "border": null,
      "bottom": null,
      "display": null,
      "flex": null,
      "flex_flow": null,
      "grid_area": null,
      "grid_auto_columns": null,
      "grid_auto_flow": null,
      "grid_auto_rows": null,
      "grid_column": null,
      "grid_gap": null,
      "grid_row": null,
      "grid_template_areas": null,
      "grid_template_columns": null,
      "grid_template_rows": null,
      "height": null,
      "justify_content": null,
      "justify_items": null,
      "left": null,
      "margin": null,
      "max_height": null,
      "max_width": null,
      "min_height": null,
      "min_width": null,
      "object_fit": null,
      "object_position": null,
      "order": null,
      "overflow": null,
      "overflow_x": null,
      "overflow_y": null,
      "padding": null,
      "right": null,
      "top": null,
      "visibility": null,
      "width": null
     }
    },
    "2f6b7ec10b884974aba16024b6a0e33f": {
     "model_module": "@jupyter-widgets/controls",
     "model_module_version": "1.5.0",
     "model_name": "ProgressStyleModel",
     "state": {
      "_model_module": "@jupyter-widgets/controls",
      "_model_module_version": "1.5.0",
      "_model_name": "ProgressStyleModel",
      "_view_count": null,
      "_view_module": "@jupyter-widgets/base",
      "_view_module_version": "1.2.0",
      "_view_name": "StyleView",
      "bar_color": null,
      "description_width": ""
     }
    },
    "3a1d395717a04645a8d65ba7a2ff29a0": {
     "model_module": "@jupyter-widgets/controls",
     "model_module_version": "1.5.0",
     "model_name": "DescriptionStyleModel",
     "state": {
      "_model_module": "@jupyter-widgets/controls",
      "_model_module_version": "1.5.0",
      "_model_name": "DescriptionStyleModel",
      "_view_count": null,
      "_view_module": "@jupyter-widgets/base",
      "_view_module_version": "1.2.0",
      "_view_name": "StyleView",
      "description_width": ""
     }
    },
    "3a522521192c4b68a7a2b04a70c699ed": {
     "model_module": "@jupyter-widgets/controls",
     "model_module_version": "1.5.0",
     "model_name": "HTMLModel",
     "state": {
      "_dom_classes": [],
      "_model_module": "@jupyter-widgets/controls",
      "_model_module_version": "1.5.0",
      "_model_name": "HTMLModel",
      "_view_count": null,
      "_view_module": "@jupyter-widgets/controls",
      "_view_module_version": "1.5.0",
      "_view_name": "HTMLView",
      "description": "",
      "description_tooltip": null,
      "layout": "IPY_MODEL_f9325662b77e4d449cf67579e4e4d5f6",
      "placeholder": "​",
      "style": "IPY_MODEL_08f6b45666274622956bbbe5d7fa67c4",
      "value": "100%"
     }
    },
    "3c5e57b554e54480b6fa8f21a24ab352": {
     "model_module": "@jupyter-widgets/base",
     "model_module_version": "1.2.0",
     "model_name": "LayoutModel",
     "state": {
      "_model_module": "@jupyter-widgets/base",
      "_model_module_version": "1.2.0",
      "_model_name": "LayoutModel",
      "_view_count": null,
      "_view_module": "@jupyter-widgets/base",
      "_view_module_version": "1.2.0",
      "_view_name": "LayoutView",
      "align_content": null,
      "align_items": null,
      "align_self": null,
      "border": null,
      "bottom": null,
      "display": null,
      "flex": null,
      "flex_flow": null,
      "grid_area": null,
      "grid_auto_columns": null,
      "grid_auto_flow": null,
      "grid_auto_rows": null,
      "grid_column": null,
      "grid_gap": null,
      "grid_row": null,
      "grid_template_areas": null,
      "grid_template_columns": null,
      "grid_template_rows": null,
      "height": null,
      "justify_content": null,
      "justify_items": null,
      "left": null,
      "margin": null,
      "max_height": null,
      "max_width": null,
      "min_height": null,
      "min_width": null,
      "object_fit": null,
      "object_position": null,
      "order": null,
      "overflow": null,
      "overflow_x": null,
      "overflow_y": null,
      "padding": null,
      "right": null,
      "top": null,
      "visibility": null,
      "width": null
     }
    },
    "488d854fe24e4a43a2c767b8b437e7d9": {
     "model_module": "@jupyter-widgets/controls",
     "model_module_version": "1.5.0",
     "model_name": "HTMLModel",
     "state": {
      "_dom_classes": [],
      "_model_module": "@jupyter-widgets/controls",
      "_model_module_version": "1.5.0",
      "_model_name": "HTMLModel",
      "_view_count": null,
      "_view_module": "@jupyter-widgets/controls",
      "_view_module_version": "1.5.0",
      "_view_name": "HTMLView",
      "description": "",
      "description_tooltip": null,
      "layout": "IPY_MODEL_af2518b9e48a4f6fa2f4b9eaf64b194c",
      "placeholder": "​",
      "style": "IPY_MODEL_3a1d395717a04645a8d65ba7a2ff29a0",
      "value": "100%"
     }
    },
    "49e912c1eae04dfdb52b32d1cdeb2071": {
     "model_module": "@jupyter-widgets/controls",
     "model_module_version": "1.5.0",
     "model_name": "DescriptionStyleModel",
     "state": {
      "_model_module": "@jupyter-widgets/controls",
      "_model_module_version": "1.5.0",
      "_model_name": "DescriptionStyleModel",
      "_view_count": null,
      "_view_module": "@jupyter-widgets/base",
      "_view_module_version": "1.2.0",
      "_view_name": "StyleView",
      "description_width": ""
     }
    },
    "4a1c3c9a6eeb4dacb22d0b13cbbc24cb": {
     "model_module": "@jupyter-widgets/controls",
     "model_module_version": "1.5.0",
     "model_name": "HBoxModel",
     "state": {
      "_dom_classes": [],
      "_model_module": "@jupyter-widgets/controls",
      "_model_module_version": "1.5.0",
      "_model_name": "HBoxModel",
      "_view_count": null,
      "_view_module": "@jupyter-widgets/controls",
      "_view_module_version": "1.5.0",
      "_view_name": "HBoxView",
      "box_style": "",
      "children": [
       "IPY_MODEL_e0f337bad7a24f3f918e54df189b8b86",
       "IPY_MODEL_dffae5608350480ca951d07ca9ae16cd",
       "IPY_MODEL_51a94ced89534d1b8098fbdfb80a95b4"
      ],
      "layout": "IPY_MODEL_692517fca0e74728bebfe1f396a7db0d"
     }
    },
    "51a94ced89534d1b8098fbdfb80a95b4": {
     "model_module": "@jupyter-widgets/controls",
     "model_module_version": "1.5.0",
     "model_name": "HTMLModel",
     "state": {
      "_dom_classes": [],
      "_model_module": "@jupyter-widgets/controls",
      "_model_module_version": "1.5.0",
      "_model_name": "HTMLModel",
      "_view_count": null,
      "_view_module": "@jupyter-widgets/controls",
      "_view_module_version": "1.5.0",
      "_view_name": "HTMLView",
      "description": "",
      "description_tooltip": null,
      "layout": "IPY_MODEL_03168392b0b84108a0a60eccd9b5758f",
      "placeholder": "​",
      "style": "IPY_MODEL_6b0254b93fd2402aa934aedc37851255",
      "value": " 26421880/26421880 [00:00&lt;00:00, 125794109.37it/s]"
     }
    },
    "5c90c4aef270419ea14420566c87dd43": {
     "model_module": "@jupyter-widgets/controls",
     "model_module_version": "1.5.0",
     "model_name": "ProgressStyleModel",
     "state": {
      "_model_module": "@jupyter-widgets/controls",
      "_model_module_version": "1.5.0",
      "_model_name": "ProgressStyleModel",
      "_view_count": null,
      "_view_module": "@jupyter-widgets/base",
      "_view_module_version": "1.2.0",
      "_view_name": "StyleView",
      "bar_color": null,
      "description_width": ""
     }
    },
    "63ef6ed3b2944ab2868679cdb2ef7dda": {
     "model_module": "@jupyter-widgets/controls",
     "model_module_version": "1.5.0",
     "model_name": "HTMLModel",
     "state": {
      "_dom_classes": [],
      "_model_module": "@jupyter-widgets/controls",
      "_model_module_version": "1.5.0",
      "_model_name": "HTMLModel",
      "_view_count": null,
      "_view_module": "@jupyter-widgets/controls",
      "_view_module_version": "1.5.0",
      "_view_name": "HTMLView",
      "description": "",
      "description_tooltip": null,
      "layout": "IPY_MODEL_a68392804e7e4ee894099790a827c86d",
      "placeholder": "​",
      "style": "IPY_MODEL_7b565ebb79ec4e929f50ec322f669da3",
      "value": " 4422102/4422102 [00:00&lt;00:00, 51206869.24it/s]"
     }
    },
    "65d0dd828eb24374bd68a971cab64bb2": {
     "model_module": "@jupyter-widgets/controls",
     "model_module_version": "1.5.0",
     "model_name": "DescriptionStyleModel",
     "state": {
      "_model_module": "@jupyter-widgets/controls",
      "_model_module_version": "1.5.0",
      "_model_name": "DescriptionStyleModel",
      "_view_count": null,
      "_view_module": "@jupyter-widgets/base",
      "_view_module_version": "1.2.0",
      "_view_name": "StyleView",
      "description_width": ""
     }
    },
    "692517fca0e74728bebfe1f396a7db0d": {
     "model_module": "@jupyter-widgets/base",
     "model_module_version": "1.2.0",
     "model_name": "LayoutModel",
     "state": {
      "_model_module": "@jupyter-widgets/base",
      "_model_module_version": "1.2.0",
      "_model_name": "LayoutModel",
      "_view_count": null,
      "_view_module": "@jupyter-widgets/base",
      "_view_module_version": "1.2.0",
      "_view_name": "LayoutView",
      "align_content": null,
      "align_items": null,
      "align_self": null,
      "border": null,
      "bottom": null,
      "display": null,
      "flex": null,
      "flex_flow": null,
      "grid_area": null,
      "grid_auto_columns": null,
      "grid_auto_flow": null,
      "grid_auto_rows": null,
      "grid_column": null,
      "grid_gap": null,
      "grid_row": null,
      "grid_template_areas": null,
      "grid_template_columns": null,
      "grid_template_rows": null,
      "height": null,
      "justify_content": null,
      "justify_items": null,
      "left": null,
      "margin": null,
      "max_height": null,
      "max_width": null,
      "min_height": null,
      "min_width": null,
      "object_fit": null,
      "object_position": null,
      "order": null,
      "overflow": null,
      "overflow_x": null,
      "overflow_y": null,
      "padding": null,
      "right": null,
      "top": null,
      "visibility": null,
      "width": null
     }
    },
    "6b0254b93fd2402aa934aedc37851255": {
     "model_module": "@jupyter-widgets/controls",
     "model_module_version": "1.5.0",
     "model_name": "DescriptionStyleModel",
     "state": {
      "_model_module": "@jupyter-widgets/controls",
      "_model_module_version": "1.5.0",
      "_model_name": "DescriptionStyleModel",
      "_view_count": null,
      "_view_module": "@jupyter-widgets/base",
      "_view_module_version": "1.2.0",
      "_view_name": "StyleView",
      "description_width": ""
     }
    },
    "7b565ebb79ec4e929f50ec322f669da3": {
     "model_module": "@jupyter-widgets/controls",
     "model_module_version": "1.5.0",
     "model_name": "DescriptionStyleModel",
     "state": {
      "_model_module": "@jupyter-widgets/controls",
      "_model_module_version": "1.5.0",
      "_model_name": "DescriptionStyleModel",
      "_view_count": null,
      "_view_module": "@jupyter-widgets/base",
      "_view_module_version": "1.2.0",
      "_view_name": "StyleView",
      "description_width": ""
     }
    },
    "82bc79e798214db1ad68ff4e2db9d2bb": {
     "model_module": "@jupyter-widgets/controls",
     "model_module_version": "1.5.0",
     "model_name": "DescriptionStyleModel",
     "state": {
      "_model_module": "@jupyter-widgets/controls",
      "_model_module_version": "1.5.0",
      "_model_name": "DescriptionStyleModel",
      "_view_count": null,
      "_view_module": "@jupyter-widgets/base",
      "_view_module_version": "1.2.0",
      "_view_name": "StyleView",
      "description_width": ""
     }
    },
    "92f4a27054944528a39412e40162519c": {
     "model_module": "@jupyter-widgets/base",
     "model_module_version": "1.2.0",
     "model_name": "LayoutModel",
     "state": {
      "_model_module": "@jupyter-widgets/base",
      "_model_module_version": "1.2.0",
      "_model_name": "LayoutModel",
      "_view_count": null,
      "_view_module": "@jupyter-widgets/base",
      "_view_module_version": "1.2.0",
      "_view_name": "LayoutView",
      "align_content": null,
      "align_items": null,
      "align_self": null,
      "border": null,
      "bottom": null,
      "display": null,
      "flex": null,
      "flex_flow": null,
      "grid_area": null,
      "grid_auto_columns": null,
      "grid_auto_flow": null,
      "grid_auto_rows": null,
      "grid_column": null,
      "grid_gap": null,
      "grid_row": null,
      "grid_template_areas": null,
      "grid_template_columns": null,
      "grid_template_rows": null,
      "height": null,
      "justify_content": null,
      "justify_items": null,
      "left": null,
      "margin": null,
      "max_height": null,
      "max_width": null,
      "min_height": null,
      "min_width": null,
      "object_fit": null,
      "object_position": null,
      "order": null,
      "overflow": null,
      "overflow_x": null,
      "overflow_y": null,
      "padding": null,
      "right": null,
      "top": null,
      "visibility": null,
      "width": null
     }
    },
    "a0061d5ef5704f618bc2eb1142d5abb6": {
     "model_module": "@jupyter-widgets/base",
     "model_module_version": "1.2.0",
     "model_name": "LayoutModel",
     "state": {
      "_model_module": "@jupyter-widgets/base",
      "_model_module_version": "1.2.0",
      "_model_name": "LayoutModel",
      "_view_count": null,
      "_view_module": "@jupyter-widgets/base",
      "_view_module_version": "1.2.0",
      "_view_name": "LayoutView",
      "align_content": null,
      "align_items": null,
      "align_self": null,
      "border": null,
      "bottom": null,
      "display": null,
      "flex": null,
      "flex_flow": null,
      "grid_area": null,
      "grid_auto_columns": null,
      "grid_auto_flow": null,
      "grid_auto_rows": null,
      "grid_column": null,
      "grid_gap": null,
      "grid_row": null,
      "grid_template_areas": null,
      "grid_template_columns": null,
      "grid_template_rows": null,
      "height": null,
      "justify_content": null,
      "justify_items": null,
      "left": null,
      "margin": null,
      "max_height": null,
      "max_width": null,
      "min_height": null,
      "min_width": null,
      "object_fit": null,
      "object_position": null,
      "order": null,
      "overflow": null,
      "overflow_x": null,
      "overflow_y": null,
      "padding": null,
      "right": null,
      "top": null,
      "visibility": null,
      "width": null
     }
    },
    "a68392804e7e4ee894099790a827c86d": {
     "model_module": "@jupyter-widgets/base",
     "model_module_version": "1.2.0",
     "model_name": "LayoutModel",
     "state": {
      "_model_module": "@jupyter-widgets/base",
      "_model_module_version": "1.2.0",
      "_model_name": "LayoutModel",
      "_view_count": null,
      "_view_module": "@jupyter-widgets/base",
      "_view_module_version": "1.2.0",
      "_view_name": "LayoutView",
      "align_content": null,
      "align_items": null,
      "align_self": null,
      "border": null,
      "bottom": null,
      "display": null,
      "flex": null,
      "flex_flow": null,
      "grid_area": null,
      "grid_auto_columns": null,
      "grid_auto_flow": null,
      "grid_auto_rows": null,
      "grid_column": null,
      "grid_gap": null,
      "grid_row": null,
      "grid_template_areas": null,
      "grid_template_columns": null,
      "grid_template_rows": null,
      "height": null,
      "justify_content": null,
      "justify_items": null,
      "left": null,
      "margin": null,
      "max_height": null,
      "max_width": null,
      "min_height": null,
      "min_width": null,
      "object_fit": null,
      "object_position": null,
      "order": null,
      "overflow": null,
      "overflow_x": null,
      "overflow_y": null,
      "padding": null,
      "right": null,
      "top": null,
      "visibility": null,
      "width": null
     }
    },
    "a9f08e131ca44f15b4ff37dd1343c74f": {
     "model_module": "@jupyter-widgets/base",
     "model_module_version": "1.2.0",
     "model_name": "LayoutModel",
     "state": {
      "_model_module": "@jupyter-widgets/base",
      "_model_module_version": "1.2.0",
      "_model_name": "LayoutModel",
      "_view_count": null,
      "_view_module": "@jupyter-widgets/base",
      "_view_module_version": "1.2.0",
      "_view_name": "LayoutView",
      "align_content": null,
      "align_items": null,
      "align_self": null,
      "border": null,
      "bottom": null,
      "display": null,
      "flex": null,
      "flex_flow": null,
      "grid_area": null,
      "grid_auto_columns": null,
      "grid_auto_flow": null,
      "grid_auto_rows": null,
      "grid_column": null,
      "grid_gap": null,
      "grid_row": null,
      "grid_template_areas": null,
      "grid_template_columns": null,
      "grid_template_rows": null,
      "height": null,
      "justify_content": null,
      "justify_items": null,
      "left": null,
      "margin": null,
      "max_height": null,
      "max_width": null,
      "min_height": null,
      "min_width": null,
      "object_fit": null,
      "object_position": null,
      "order": null,
      "overflow": null,
      "overflow_x": null,
      "overflow_y": null,
      "padding": null,
      "right": null,
      "top": null,
      "visibility": null,
      "width": null
     }
    },
    "ac1dea9b69c845659b6c71a563899f9e": {
     "model_module": "@jupyter-widgets/controls",
     "model_module_version": "1.5.0",
     "model_name": "HTMLModel",
     "state": {
      "_dom_classes": [],
      "_model_module": "@jupyter-widgets/controls",
      "_model_module_version": "1.5.0",
      "_model_name": "HTMLModel",
      "_view_count": null,
      "_view_module": "@jupyter-widgets/controls",
      "_view_module_version": "1.5.0",
      "_view_name": "HTMLView",
      "description": "",
      "description_tooltip": null,
      "layout": "IPY_MODEL_db33ad29f70d466a9e75cb44b1e5677a",
      "placeholder": "​",
      "style": "IPY_MODEL_e00a05f2fad045c78c199dc231505e39",
      "value": " 29515/29515 [00:00&lt;00:00, 1080064.93it/s]"
     }
    },
    "af2518b9e48a4f6fa2f4b9eaf64b194c": {
     "model_module": "@jupyter-widgets/base",
     "model_module_version": "1.2.0",
     "model_name": "LayoutModel",
     "state": {
      "_model_module": "@jupyter-widgets/base",
      "_model_module_version": "1.2.0",
      "_model_name": "LayoutModel",
      "_view_count": null,
      "_view_module": "@jupyter-widgets/base",
      "_view_module_version": "1.2.0",
      "_view_name": "LayoutView",
      "align_content": null,
      "align_items": null,
      "align_self": null,
      "border": null,
      "bottom": null,
      "display": null,
      "flex": null,
      "flex_flow": null,
      "grid_area": null,
      "grid_auto_columns": null,
      "grid_auto_flow": null,
      "grid_auto_rows": null,
      "grid_column": null,
      "grid_gap": null,
      "grid_row": null,
      "grid_template_areas": null,
      "grid_template_columns": null,
      "grid_template_rows": null,
      "height": null,
      "justify_content": null,
      "justify_items": null,
      "left": null,
      "margin": null,
      "max_height": null,
      "max_width": null,
      "min_height": null,
      "min_width": null,
      "object_fit": null,
      "object_position": null,
      "order": null,
      "overflow": null,
      "overflow_x": null,
      "overflow_y": null,
      "padding": null,
      "right": null,
      "top": null,
      "visibility": null,
      "width": null
     }
    },
    "c05aee15f62f490f9e3f2a5cee885af3": {
     "model_module": "@jupyter-widgets/controls",
     "model_module_version": "1.5.0",
     "model_name": "ProgressStyleModel",
     "state": {
      "_model_module": "@jupyter-widgets/controls",
      "_model_module_version": "1.5.0",
      "_model_name": "ProgressStyleModel",
      "_view_count": null,
      "_view_module": "@jupyter-widgets/base",
      "_view_module_version": "1.2.0",
      "_view_name": "StyleView",
      "bar_color": null,
      "description_width": ""
     }
    },
    "cdc0e7278622446a85708f8f88940b9f": {
     "model_module": "@jupyter-widgets/controls",
     "model_module_version": "1.5.0",
     "model_name": "FloatProgressModel",
     "state": {
      "_dom_classes": [],
      "_model_module": "@jupyter-widgets/controls",
      "_model_module_version": "1.5.0",
      "_model_name": "FloatProgressModel",
      "_view_count": null,
      "_view_module": "@jupyter-widgets/controls",
      "_view_module_version": "1.5.0",
      "_view_name": "ProgressView",
      "bar_style": "success",
      "description": "",
      "description_tooltip": null,
      "layout": "IPY_MODEL_13eb3c5fac3a45ed966ffde805c953eb",
      "max": 5148,
      "min": 0,
      "orientation": "horizontal",
      "style": "IPY_MODEL_2f6b7ec10b884974aba16024b6a0e33f",
      "value": 5148
     }
    },
    "d2ef0016e21546e4a73b35007cb1ac21": {
     "model_module": "@jupyter-widgets/base",
     "model_module_version": "1.2.0",
     "model_name": "LayoutModel",
     "state": {
      "_model_module": "@jupyter-widgets/base",
      "_model_module_version": "1.2.0",
      "_model_name": "LayoutModel",
      "_view_count": null,
      "_view_module": "@jupyter-widgets/base",
      "_view_module_version": "1.2.0",
      "_view_name": "LayoutView",
      "align_content": null,
      "align_items": null,
      "align_self": null,
      "border": null,
      "bottom": null,
      "display": null,
      "flex": null,
      "flex_flow": null,
      "grid_area": null,
      "grid_auto_columns": null,
      "grid_auto_flow": null,
      "grid_auto_rows": null,
      "grid_column": null,
      "grid_gap": null,
      "grid_row": null,
      "grid_template_areas": null,
      "grid_template_columns": null,
      "grid_template_rows": null,
      "height": null,
      "justify_content": null,
      "justify_items": null,
      "left": null,
      "margin": null,
      "max_height": null,
      "max_width": null,
      "min_height": null,
      "min_width": null,
      "object_fit": null,
      "object_position": null,
      "order": null,
      "overflow": null,
      "overflow_x": null,
      "overflow_y": null,
      "padding": null,
      "right": null,
      "top": null,
      "visibility": null,
      "width": null
     }
    },
    "db33ad29f70d466a9e75cb44b1e5677a": {
     "model_module": "@jupyter-widgets/base",
     "model_module_version": "1.2.0",
     "model_name": "LayoutModel",
     "state": {
      "_model_module": "@jupyter-widgets/base",
      "_model_module_version": "1.2.0",
      "_model_name": "LayoutModel",
      "_view_count": null,
      "_view_module": "@jupyter-widgets/base",
      "_view_module_version": "1.2.0",
      "_view_name": "LayoutView",
      "align_content": null,
      "align_items": null,
      "align_self": null,
      "border": null,
      "bottom": null,
      "display": null,
      "flex": null,
      "flex_flow": null,
      "grid_area": null,
      "grid_auto_columns": null,
      "grid_auto_flow": null,
      "grid_auto_rows": null,
      "grid_column": null,
      "grid_gap": null,
      "grid_row": null,
      "grid_template_areas": null,
      "grid_template_columns": null,
      "grid_template_rows": null,
      "height": null,
      "justify_content": null,
      "justify_items": null,
      "left": null,
      "margin": null,
      "max_height": null,
      "max_width": null,
      "min_height": null,
      "min_width": null,
      "object_fit": null,
      "object_position": null,
      "order": null,
      "overflow": null,
      "overflow_x": null,
      "overflow_y": null,
      "padding": null,
      "right": null,
      "top": null,
      "visibility": null,
      "width": null
     }
    },
    "dfa4ac0847c84ece83232247f05274ab": {
     "model_module": "@jupyter-widgets/base",
     "model_module_version": "1.2.0",
     "model_name": "LayoutModel",
     "state": {
      "_model_module": "@jupyter-widgets/base",
      "_model_module_version": "1.2.0",
      "_model_name": "LayoutModel",
      "_view_count": null,
      "_view_module": "@jupyter-widgets/base",
      "_view_module_version": "1.2.0",
      "_view_name": "LayoutView",
      "align_content": null,
      "align_items": null,
      "align_self": null,
      "border": null,
      "bottom": null,
      "display": null,
      "flex": null,
      "flex_flow": null,
      "grid_area": null,
      "grid_auto_columns": null,
      "grid_auto_flow": null,
      "grid_auto_rows": null,
      "grid_column": null,
      "grid_gap": null,
      "grid_row": null,
      "grid_template_areas": null,
      "grid_template_columns": null,
      "grid_template_rows": null,
      "height": null,
      "justify_content": null,
      "justify_items": null,
      "left": null,
      "margin": null,
      "max_height": null,
      "max_width": null,
      "min_height": null,
      "min_width": null,
      "object_fit": null,
      "object_position": null,
      "order": null,
      "overflow": null,
      "overflow_x": null,
      "overflow_y": null,
      "padding": null,
      "right": null,
      "top": null,
      "visibility": null,
      "width": null
     }
    },
    "dffae5608350480ca951d07ca9ae16cd": {
     "model_module": "@jupyter-widgets/controls",
     "model_module_version": "1.5.0",
     "model_name": "FloatProgressModel",
     "state": {
      "_dom_classes": [],
      "_model_module": "@jupyter-widgets/controls",
      "_model_module_version": "1.5.0",
      "_model_name": "FloatProgressModel",
      "_view_count": null,
      "_view_module": "@jupyter-widgets/controls",
      "_view_module_version": "1.5.0",
      "_view_name": "ProgressView",
      "bar_style": "success",
      "description": "",
      "description_tooltip": null,
      "layout": "IPY_MODEL_1d695041f3d445b5923a4311bf33412b",
      "max": 26421880,
      "min": 0,
      "orientation": "horizontal",
      "style": "IPY_MODEL_5c90c4aef270419ea14420566c87dd43",
      "value": 26421880
     }
    },
    "e00a05f2fad045c78c199dc231505e39": {
     "model_module": "@jupyter-widgets/controls",
     "model_module_version": "1.5.0",
     "model_name": "DescriptionStyleModel",
     "state": {
      "_model_module": "@jupyter-widgets/controls",
      "_model_module_version": "1.5.0",
      "_model_name": "DescriptionStyleModel",
      "_view_count": null,
      "_view_module": "@jupyter-widgets/base",
      "_view_module_version": "1.2.0",
      "_view_name": "StyleView",
      "description_width": ""
     }
    },
    "e0f337bad7a24f3f918e54df189b8b86": {
     "model_module": "@jupyter-widgets/controls",
     "model_module_version": "1.5.0",
     "model_name": "HTMLModel",
     "state": {
      "_dom_classes": [],
      "_model_module": "@jupyter-widgets/controls",
      "_model_module_version": "1.5.0",
      "_model_name": "HTMLModel",
      "_view_count": null,
      "_view_module": "@jupyter-widgets/controls",
      "_view_module_version": "1.5.0",
      "_view_name": "HTMLView",
      "description": "",
      "description_tooltip": null,
      "layout": "IPY_MODEL_01ca110daae1443cb7af794909de0b73",
      "placeholder": "​",
      "style": "IPY_MODEL_82bc79e798214db1ad68ff4e2db9d2bb",
      "value": "100%"
     }
    },
    "e38586a918334b118aa66e1081d676d5": {
     "model_module": "@jupyter-widgets/controls",
     "model_module_version": "1.5.0",
     "model_name": "ProgressStyleModel",
     "state": {
      "_model_module": "@jupyter-widgets/controls",
      "_model_module_version": "1.5.0",
      "_model_name": "ProgressStyleModel",
      "_view_count": null,
      "_view_module": "@jupyter-widgets/base",
      "_view_module_version": "1.2.0",
      "_view_name": "StyleView",
      "bar_color": null,
      "description_width": ""
     }
    },
    "e438427e524c4dd9870185715ce3086f": {
     "model_module": "@jupyter-widgets/controls",
     "model_module_version": "1.5.0",
     "model_name": "HTMLModel",
     "state": {
      "_dom_classes": [],
      "_model_module": "@jupyter-widgets/controls",
      "_model_module_version": "1.5.0",
      "_model_name": "HTMLModel",
      "_view_count": null,
      "_view_module": "@jupyter-widgets/controls",
      "_view_module_version": "1.5.0",
      "_view_name": "HTMLView",
      "description": "",
      "description_tooltip": null,
      "layout": "IPY_MODEL_92f4a27054944528a39412e40162519c",
      "placeholder": "​",
      "style": "IPY_MODEL_49e912c1eae04dfdb52b32d1cdeb2071",
      "value": "100%"
     }
    },
    "e707e4f3c7f24c3496b398d0b38a4637": {
     "model_module": "@jupyter-widgets/controls",
     "model_module_version": "1.5.0",
     "model_name": "FloatProgressModel",
     "state": {
      "_dom_classes": [],
      "_model_module": "@jupyter-widgets/controls",
      "_model_module_version": "1.5.0",
      "_model_name": "FloatProgressModel",
      "_view_count": null,
      "_view_module": "@jupyter-widgets/controls",
      "_view_module_version": "1.5.0",
      "_view_name": "ProgressView",
      "bar_style": "success",
      "description": "",
      "description_tooltip": null,
      "layout": "IPY_MODEL_a0061d5ef5704f618bc2eb1142d5abb6",
      "max": 29515,
      "min": 0,
      "orientation": "horizontal",
      "style": "IPY_MODEL_c05aee15f62f490f9e3f2a5cee885af3",
      "value": 29515
     }
    },
    "f10a835080954801b823a47406b69272": {
     "model_module": "@jupyter-widgets/base",
     "model_module_version": "1.2.0",
     "model_name": "LayoutModel",
     "state": {
      "_model_module": "@jupyter-widgets/base",
      "_model_module_version": "1.2.0",
      "_model_name": "LayoutModel",
      "_view_count": null,
      "_view_module": "@jupyter-widgets/base",
      "_view_module_version": "1.2.0",
      "_view_name": "LayoutView",
      "align_content": null,
      "align_items": null,
      "align_self": null,
      "border": null,
      "bottom": null,
      "display": null,
      "flex": null,
      "flex_flow": null,
      "grid_area": null,
      "grid_auto_columns": null,
      "grid_auto_flow": null,
      "grid_auto_rows": null,
      "grid_column": null,
      "grid_gap": null,
      "grid_row": null,
      "grid_template_areas": null,
      "grid_template_columns": null,
      "grid_template_rows": null,
      "height": null,
      "justify_content": null,
      "justify_items": null,
      "left": null,
      "margin": null,
      "max_height": null,
      "max_width": null,
      "min_height": null,
      "min_width": null,
      "object_fit": null,
      "object_position": null,
      "order": null,
      "overflow": null,
      "overflow_x": null,
      "overflow_y": null,
      "padding": null,
      "right": null,
      "top": null,
      "visibility": null,
      "width": null
     }
    },
    "f2ca0b25b4354797a59793c8bd39990c": {
     "model_module": "@jupyter-widgets/controls",
     "model_module_version": "1.5.0",
     "model_name": "HTMLModel",
     "state": {
      "_dom_classes": [],
      "_model_module": "@jupyter-widgets/controls",
      "_model_module_version": "1.5.0",
      "_model_name": "HTMLModel",
      "_view_count": null,
      "_view_module": "@jupyter-widgets/controls",
      "_view_module_version": "1.5.0",
      "_view_name": "HTMLView",
      "description": "",
      "description_tooltip": null,
      "layout": "IPY_MODEL_a9f08e131ca44f15b4ff37dd1343c74f",
      "placeholder": "​",
      "style": "IPY_MODEL_65d0dd828eb24374bd68a971cab64bb2",
      "value": " 5148/5148 [00:00&lt;00:00, 208100.28it/s]"
     }
    },
    "f9325662b77e4d449cf67579e4e4d5f6": {
     "model_module": "@jupyter-widgets/base",
     "model_module_version": "1.2.0",
     "model_name": "LayoutModel",
     "state": {
      "_model_module": "@jupyter-widgets/base",
      "_model_module_version": "1.2.0",
      "_model_name": "LayoutModel",
      "_view_count": null,
      "_view_module": "@jupyter-widgets/base",
      "_view_module_version": "1.2.0",
      "_view_name": "LayoutView",
      "align_content": null,
      "align_items": null,
      "align_self": null,
      "border": null,
      "bottom": null,
      "display": null,
      "flex": null,
      "flex_flow": null,
      "grid_area": null,
      "grid_auto_columns": null,
      "grid_auto_flow": null,
      "grid_auto_rows": null,
      "grid_column": null,
      "grid_gap": null,
      "grid_row": null,
      "grid_template_areas": null,
      "grid_template_columns": null,
      "grid_template_rows": null,
      "height": null,
      "justify_content": null,
      "justify_items": null,
      "left": null,
      "margin": null,
      "max_height": null,
      "max_width": null,
      "min_height": null,
      "min_width": null,
      "object_fit": null,
      "object_position": null,
      "order": null,
      "overflow": null,
      "overflow_x": null,
      "overflow_y": null,
      "padding": null,
      "right": null,
      "top": null,
      "visibility": null,
      "width": null
     }
    }
   }
  }
 },
 "nbformat": 4,
 "nbformat_minor": 1
}
