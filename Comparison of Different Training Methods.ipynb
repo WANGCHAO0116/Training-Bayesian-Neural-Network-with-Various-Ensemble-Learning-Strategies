{
 "cells": [
  {
   "cell_type": "code",
   "execution_count": null,
   "metadata": {
    "colab": {
     "base_uri": "https://localhost:8080/"
    },
    "executionInfo": {
     "elapsed": 6647,
     "status": "ok",
     "timestamp": 1661752973232,
     "user": {
      "displayName": "Chao Wang",
      "userId": "15397188646529269947"
     },
     "user_tz": -60
    },
    "id": "fqaqj9ZV_5aw",
    "outputId": "80c5577b-9492-426d-cd26-4bc50ed17065"
   },
   "outputs": [
    {
     "name": "stdout",
     "output_type": "stream",
     "text": [
      "Looking in indexes: https://pypi.org/simple, https://us-python.pkg.dev/colab-wheels/public/simple/\n",
      "Collecting git+https://github.com/AdamCobb/hamiltorch\n",
      "  Cloning https://github.com/AdamCobb/hamiltorch to /tmp/pip-req-build-47r7wwms\n",
      "  Running command git clone -q https://github.com/AdamCobb/hamiltorch /tmp/pip-req-build-47r7wwms\n",
      "Requirement already satisfied: torch>=1.6.0 in /usr/local/lib/python3.7/dist-packages (from hamiltorch==0.4.0.dev1) (1.12.1+cu113)\n",
      "Requirement already satisfied: numpy in /usr/local/lib/python3.7/dist-packages (from hamiltorch==0.4.0.dev1) (1.21.6)\n",
      "Requirement already satisfied: termcolor in /usr/local/lib/python3.7/dist-packages (from hamiltorch==0.4.0.dev1) (1.1.0)\n",
      "Requirement already satisfied: typing-extensions in /usr/local/lib/python3.7/dist-packages (from torch>=1.6.0->hamiltorch==0.4.0.dev1) (4.1.1)\n",
      "Building wheels for collected packages: hamiltorch\n",
      "  Building wheel for hamiltorch (setup.py) ... \u001b[?25l\u001b[?25hdone\n",
      "  Created wheel for hamiltorch: filename=hamiltorch-0.4.0.dev1-py3-none-any.whl size=20130 sha256=536da041e8a2ad426eaff9552bc4ac490e646858b7baf4dffdfd8636a1bb0923\n",
      "  Stored in directory: /tmp/pip-ephem-wheel-cache-4grmtdfb/wheels/94/33/56/4cf57b40759f68de688e5e01bee26d036f98048a16a9733e9b\n",
      "Successfully built hamiltorch\n",
      "Installing collected packages: hamiltorch\n",
      "Successfully installed hamiltorch-0.4.0.dev1\n"
     ]
    }
   ],
   "source": [
    "!pip3 install git+https://github.com/AdamCobb/hamiltorch"
   ]
  },
  {
   "cell_type": "markdown",
   "metadata": {
    "id": "00bjOHMVjgCw"
   },
   "source": [
    "# **Packages**"
   ]
  },
  {
   "cell_type": "code",
   "execution_count": null,
   "metadata": {
    "id": "-6WKHSuiqiXT"
   },
   "outputs": [],
   "source": [
    "import torch\n",
    "import hamiltorch\n",
    "import torchvision\n",
    "import time\n",
    "import math\n",
    "import numpy as np\n",
    "\n",
    "import matplotlib.pyplot as plt\n",
    "import torch.nn as nn\n",
    "import torch.nn.functional as F\n",
    "from torch.distributions import Normal\n",
    "\n",
    "\n",
    "%matplotlib inline"
   ]
  },
  {
   "cell_type": "markdown",
   "metadata": {
    "id": "AB9ZVvHrBuNP"
   },
   "source": [
    "# **Device**"
   ]
  },
  {
   "cell_type": "code",
   "execution_count": null,
   "metadata": {
    "id": "ZkM0aIhxBrYH"
   },
   "outputs": [],
   "source": [
    "device = torch.device('cuda' if torch.cuda.is_available() else 'cpu')"
   ]
  },
  {
   "cell_type": "markdown",
   "metadata": {
    "id": "oFwoB19JYpoP"
   },
   "source": [
    "# **MNIST Dataset**"
   ]
  },
  {
   "cell_type": "code",
   "execution_count": null,
   "metadata": {
    "colab": {
     "base_uri": "https://localhost:8080/",
     "referenced_widgets": [
      "9fea3be7ad0c4f51aafc484ccde48700",
      "5863552aa6464fcaa9386fb4066f91c3",
      "f715ee6a7ea14c738c348e179f070038",
      "2844541163b54e44b1552b74d6103274",
      "2c6ff84af1ba433b8ef4b0ffcb9a9eaf",
      "204293ba33824986998eda36481cbdf3",
      "66373e291f2947328a98ff4cbdd8051d",
      "9a58c0154cb941309cc93762012a8a3a",
      "04d4443b4608402291f4bb1af874b2e8",
      "f47d3a3bffda4e98ad7665b9a7e3d35d",
      "5ab7db1007a14ddfb79664e2243ed1e5",
      "118aa568889e42c7bbe8ca3ede50753c",
      "cbbf7d4ae1f647f8bc527b26e3ead7f2",
      "3a5b1f19eba44a4289ca005a43eac7d8",
      "ad82c65006644dd0a4babacc18d552a2",
      "0ea8c1fbb2c64896b9e6e5e41ced920c",
      "46b2a451d78844729929a4be7e36aedd",
      "4b69b5d81bd94ff790f4b36feeb7dee8",
      "b463c19f001b4295a2f6131abc8e15cc",
      "7eb442ed4f4a4715a17388914e34b2c1",
      "95f246fdef9d4dee9c05dbc201cc9c3b",
      "710246c6a7c34c0b96df64704ff2fed9",
      "c299e8a23e664c68a409370c65cae468",
      "e24bf35a76224827b14b55d6c0b13ad0",
      "42927975d04446d6bf275d285c789082",
      "56a21bcaa4614dfeb27f810e35aea6d6",
      "0f5dd3130b35405dbb4058e771496e4f",
      "e7642fa6a34b4a558055e5af0cabcf80",
      "de35ad792b9d4d66b69b914b78632f3b",
      "2bd2bff3ccaf4561ab6181d5ff3e9889",
      "11ff31e7b26a45a5ae061e0021ef111c",
      "9581c725dec9483cbe9152ba5334a333",
      "6546612eed8743ebb64bde7572f5d5b3",
      "6854b5c1d7584e629decbe6899d36e32",
      "48e60fb2e5d146eb9ce31f656ad881a0",
      "88e2a89944f24db4a13191226bd281b7",
      "72decd7783b545268208b02bb8b71752",
      "34d5a2f175d84b26a964514685295e77",
      "5c5972e7b32c48629d7b8444c87d158f",
      "c49ca15512b943b88e7db40bd1e3759f",
      "8a94c1d97abf4e8f9dcb1fe0abba8001",
      "0a1144830acd413f87b769e1022c24fb",
      "379f2a12fc594f0ead7dcc5b05b2dd80",
      "f1b5dbcfc2c948c99eb182041eb84357"
     ]
    },
    "executionInfo": {
     "elapsed": 2560,
     "status": "ok",
     "timestamp": 1661385819782,
     "user": {
      "displayName": "Chao Wang",
      "userId": "15397188646529269947"
     },
     "user_tz": -60
    },
    "id": "MVWwOatRXail",
    "outputId": "e7994726-ccdd-445e-e31d-02396e01e21a"
   },
   "outputs": [
    {
     "name": "stdout",
     "output_type": "stream",
     "text": [
      "Downloading http://yann.lecun.com/exdb/mnist/train-images-idx3-ubyte.gz\n",
      "Downloading http://yann.lecun.com/exdb/mnist/train-images-idx3-ubyte.gz to ./data/MNIST/raw/train-images-idx3-ubyte.gz\n"
     ]
    },
    {
     "data": {
      "application/vnd.jupyter.widget-view+json": {
       "model_id": "9fea3be7ad0c4f51aafc484ccde48700",
       "version_major": 2,
       "version_minor": 0
      },
      "text/plain": [
       "  0%|          | 0/9912422 [00:00<?, ?it/s]"
      ]
     },
     "metadata": {},
     "output_type": "display_data"
    },
    {
     "name": "stdout",
     "output_type": "stream",
     "text": [
      "Extracting ./data/MNIST/raw/train-images-idx3-ubyte.gz to ./data/MNIST/raw\n",
      "\n",
      "Downloading http://yann.lecun.com/exdb/mnist/train-labels-idx1-ubyte.gz\n",
      "Downloading http://yann.lecun.com/exdb/mnist/train-labels-idx1-ubyte.gz to ./data/MNIST/raw/train-labels-idx1-ubyte.gz\n"
     ]
    },
    {
     "data": {
      "application/vnd.jupyter.widget-view+json": {
       "model_id": "118aa568889e42c7bbe8ca3ede50753c",
       "version_major": 2,
       "version_minor": 0
      },
      "text/plain": [
       "  0%|          | 0/28881 [00:00<?, ?it/s]"
      ]
     },
     "metadata": {},
     "output_type": "display_data"
    },
    {
     "name": "stdout",
     "output_type": "stream",
     "text": [
      "Extracting ./data/MNIST/raw/train-labels-idx1-ubyte.gz to ./data/MNIST/raw\n",
      "\n",
      "Downloading http://yann.lecun.com/exdb/mnist/t10k-images-idx3-ubyte.gz\n",
      "Downloading http://yann.lecun.com/exdb/mnist/t10k-images-idx3-ubyte.gz to ./data/MNIST/raw/t10k-images-idx3-ubyte.gz\n"
     ]
    },
    {
     "data": {
      "application/vnd.jupyter.widget-view+json": {
       "model_id": "c299e8a23e664c68a409370c65cae468",
       "version_major": 2,
       "version_minor": 0
      },
      "text/plain": [
       "  0%|          | 0/1648877 [00:00<?, ?it/s]"
      ]
     },
     "metadata": {},
     "output_type": "display_data"
    },
    {
     "name": "stdout",
     "output_type": "stream",
     "text": [
      "Extracting ./data/MNIST/raw/t10k-images-idx3-ubyte.gz to ./data/MNIST/raw\n",
      "\n",
      "Downloading http://yann.lecun.com/exdb/mnist/t10k-labels-idx1-ubyte.gz\n",
      "Downloading http://yann.lecun.com/exdb/mnist/t10k-labels-idx1-ubyte.gz to ./data/MNIST/raw/t10k-labels-idx1-ubyte.gz\n"
     ]
    },
    {
     "data": {
      "application/vnd.jupyter.widget-view+json": {
       "model_id": "6854b5c1d7584e629decbe6899d36e32",
       "version_major": 2,
       "version_minor": 0
      },
      "text/plain": [
       "  0%|          | 0/4542 [00:00<?, ?it/s]"
      ]
     },
     "metadata": {},
     "output_type": "display_data"
    },
    {
     "name": "stdout",
     "output_type": "stream",
     "text": [
      "Extracting ./data/MNIST/raw/t10k-labels-idx1-ubyte.gz to ./data/MNIST/raw\n",
      "\n"
     ]
    }
   ],
   "source": [
    "trainset = torchvision.datasets.MNIST('./data/', train=True, download=True, \n",
    "                                   transform=torchvision.transforms.Compose([\n",
    "                                       torchvision.transforms.ToTensor(),\n",
    "                                       torchvision.transforms.Normalize((0.1307,), (0.3081,)) \n",
    "                                       ]))\n",
    "\n",
    "testset = torchvision.datasets.MNIST('./data/', train=False, download=True, \n",
    "                                  transform=torchvision.transforms.Compose([ \n",
    "                                      torchvision.transforms.ToTensor(), \n",
    "                                      torchvision.transforms.Normalize((0.1307,), (0.3081,)) \n",
    "                                      ]))\n",
    "\n",
    "train_loader = torch.utils.data.DataLoader(trainset, batch_size=100, shuffle=True)\n",
    "\n",
    "test_loader = torch.utils.data.DataLoader(testset, batch_size=100, shuffle=True)"
   ]
  },
  {
   "cell_type": "markdown",
   "metadata": {
    "id": "thiPZrZaNco4"
   },
   "source": [
    "# **FashionMNIST Dataset**"
   ]
  },
  {
   "cell_type": "code",
   "execution_count": null,
   "metadata": {
    "colab": {
     "base_uri": "https://localhost:8080/",
     "referenced_widgets": [
      "471fca0573e1494586b20a2b5c8cb7b6",
      "7125c6d672f2434e8688dca8bba22248",
      "19119f41a9854c1ba9640bff5e9b08b6",
      "505998d48f424a0da02fc29d586ad57e",
      "79669ba37d03454d9e01031a4e5a2238",
      "a3d374d3763e47db8eec2d73cb60dd46",
      "95a3b84a8fbc4a8684b866f9a8471e54",
      "06963a75a1eb4713b37afdf1d7757ecc",
      "458d84d7a19743f5825b688b5f4bb600",
      "dd2e76372b6b447a9b6036b5e5e95b5f",
      "165dcb72c0224a568d28128ec2270887",
      "2bd46aea624c4db6a9e9913ba7df8ce6",
      "95c98d7199c34a108dbbffee5ea111ef",
      "ffebe42173224a4baa59988170af2dc2",
      "7b4fb2d274394d4a81788b3bc574da00",
      "3025b54e2b264ea4809ef44d5aa262e5",
      "5bc1cd15f81d426cabe6d337ba51a13d",
      "e5d6bd974c414941bf712f6b54994ad4",
      "2436ed26a6ad4db6830d12a4d551456f",
      "a625a84f0eb14370beab5ab82dccbc03",
      "cfeef6305637413c91d579bd988ebb1c",
      "fd56f39913c6400cba918c89fdefdc3c",
      "4b4052e6be6a484d8aa1d6b51548736e",
      "3174191b363142dc8bf31d3cb4aa6eb8",
      "44966b0eee784e4aa955cd336f4e338f",
      "101870afe9f34a5cb59760ef46f41cb4",
      "424a66904fe24be5b7fc2c51e70c07fa",
      "4875d81c43bc4539a522230f6d1ccc19",
      "b120b64b6c8b407abbcd23aa0855cf1c",
      "d1ed0707ff534bf9a2c4287733cd65e1",
      "a14c1cc9f9514b90a927a6686557d948",
      "ae138c83984b4de2b3d02367988122fe",
      "7a5d82d537dd4bc988ccbdea3e4fc1d9",
      "c3315f71d89846278f1ca37044a9e7bf",
      "6b373d0312554f76af77ac314c187669",
      "8ee61d78cedc42679e183ceb2b636b97",
      "b6308247b50c4e57a1ec14c1dcdab529",
      "c35a5d1795984b16a7ed07b4f325742e",
      "553c7624e6194e21904c5b64b1b7a9a1",
      "f2e9283158b54cb5a4a414f22f4b2f70",
      "722eb32aec774bb4b94f2b06975b2ae7",
      "a40d743389174dbeb4ff224bfbcab0a8",
      "406083cf99bf494c90d91a56085df37c",
      "45671194ca9d4aa3bd720db82c6b25f2"
     ]
    },
    "executionInfo": {
     "elapsed": 6008,
     "status": "ok",
     "timestamp": 1661385831067,
     "user": {
      "displayName": "Chao Wang",
      "userId": "15397188646529269947"
     },
     "user_tz": -60
    },
    "id": "vrLr64boNCbK",
    "outputId": "031c1255-63b4-4888-cbd6-0d9fdf586522"
   },
   "outputs": [
    {
     "name": "stdout",
     "output_type": "stream",
     "text": [
      "Downloading http://fashion-mnist.s3-website.eu-central-1.amazonaws.com/train-images-idx3-ubyte.gz\n",
      "Downloading http://fashion-mnist.s3-website.eu-central-1.amazonaws.com/train-images-idx3-ubyte.gz to ./fmnist/FashionMNIST/raw/train-images-idx3-ubyte.gz\n"
     ]
    },
    {
     "data": {
      "application/vnd.jupyter.widget-view+json": {
       "model_id": "471fca0573e1494586b20a2b5c8cb7b6",
       "version_major": 2,
       "version_minor": 0
      },
      "text/plain": [
       "  0%|          | 0/26421880 [00:00<?, ?it/s]"
      ]
     },
     "metadata": {},
     "output_type": "display_data"
    },
    {
     "name": "stdout",
     "output_type": "stream",
     "text": [
      "Extracting ./fmnist/FashionMNIST/raw/train-images-idx3-ubyte.gz to ./fmnist/FashionMNIST/raw\n",
      "\n",
      "Downloading http://fashion-mnist.s3-website.eu-central-1.amazonaws.com/train-labels-idx1-ubyte.gz\n",
      "Downloading http://fashion-mnist.s3-website.eu-central-1.amazonaws.com/train-labels-idx1-ubyte.gz to ./fmnist/FashionMNIST/raw/train-labels-idx1-ubyte.gz\n"
     ]
    },
    {
     "data": {
      "application/vnd.jupyter.widget-view+json": {
       "model_id": "2bd46aea624c4db6a9e9913ba7df8ce6",
       "version_major": 2,
       "version_minor": 0
      },
      "text/plain": [
       "  0%|          | 0/29515 [00:00<?, ?it/s]"
      ]
     },
     "metadata": {},
     "output_type": "display_data"
    },
    {
     "name": "stdout",
     "output_type": "stream",
     "text": [
      "Extracting ./fmnist/FashionMNIST/raw/train-labels-idx1-ubyte.gz to ./fmnist/FashionMNIST/raw\n",
      "\n",
      "Downloading http://fashion-mnist.s3-website.eu-central-1.amazonaws.com/t10k-images-idx3-ubyte.gz\n",
      "Downloading http://fashion-mnist.s3-website.eu-central-1.amazonaws.com/t10k-images-idx3-ubyte.gz to ./fmnist/FashionMNIST/raw/t10k-images-idx3-ubyte.gz\n"
     ]
    },
    {
     "data": {
      "application/vnd.jupyter.widget-view+json": {
       "model_id": "4b4052e6be6a484d8aa1d6b51548736e",
       "version_major": 2,
       "version_minor": 0
      },
      "text/plain": [
       "  0%|          | 0/4422102 [00:00<?, ?it/s]"
      ]
     },
     "metadata": {},
     "output_type": "display_data"
    },
    {
     "name": "stdout",
     "output_type": "stream",
     "text": [
      "Extracting ./fmnist/FashionMNIST/raw/t10k-images-idx3-ubyte.gz to ./fmnist/FashionMNIST/raw\n",
      "\n",
      "Downloading http://fashion-mnist.s3-website.eu-central-1.amazonaws.com/t10k-labels-idx1-ubyte.gz\n",
      "Downloading http://fashion-mnist.s3-website.eu-central-1.amazonaws.com/t10k-labels-idx1-ubyte.gz to ./fmnist/FashionMNIST/raw/t10k-labels-idx1-ubyte.gz\n"
     ]
    },
    {
     "data": {
      "application/vnd.jupyter.widget-view+json": {
       "model_id": "c3315f71d89846278f1ca37044a9e7bf",
       "version_major": 2,
       "version_minor": 0
      },
      "text/plain": [
       "  0%|          | 0/5148 [00:00<?, ?it/s]"
      ]
     },
     "metadata": {},
     "output_type": "display_data"
    },
    {
     "name": "stdout",
     "output_type": "stream",
     "text": [
      "Extracting ./fmnist/FashionMNIST/raw/t10k-labels-idx1-ubyte.gz to ./fmnist/FashionMNIST/raw\n",
      "\n"
     ]
    }
   ],
   "source": [
    "fmnist_trainset = torchvision.datasets.FashionMNIST('./fmnist/', train=True, download=True, \n",
    "                                   transform=torchvision.transforms.Compose([\n",
    "                                       torchvision.transforms.ToTensor(), \n",
    "                                       ]))\n",
    "\n",
    "fmnist_testset = torchvision.datasets.FashionMNIST('./fmnist/', train=False, download=True, \n",
    "                                  transform=torchvision.transforms.Compose([ \n",
    "                                      torchvision.transforms.ToTensor(),  \n",
    "                                      ]))\n",
    "\n",
    "fmnist_train_loader = torch.utils.data.DataLoader(fmnist_trainset, batch_size=100, shuffle=True)\n",
    "\n",
    "fmnist_test_loader = torch.utils.data.DataLoader(fmnist_testset, batch_size=100, shuffle=True)"
   ]
  },
  {
   "cell_type": "markdown",
   "metadata": {
    "id": "6HQzcK_Dlw68"
   },
   "source": [
    "**-------------------------------------------------------------------------------------------------------------------------------------------------------------------**"
   ]
  },
  {
   "cell_type": "markdown",
   "metadata": {
    "id": "s8ezWWBw5P7f"
   },
   "source": [
    "# **Variational Inference (Bayes by Backprop)**"
   ]
  },
  {
   "cell_type": "markdown",
   "metadata": {
    "id": "gC8zs7gdlG7m"
   },
   "source": [
    "**Bayesian Modules**"
   ]
  },
  {
   "cell_type": "code",
   "execution_count": null,
   "metadata": {
    "id": "CvwYaOb3k6u0"
   },
   "outputs": [],
   "source": [
    "class Gaussian():\n",
    "    def __init__(self, mu, rho):\n",
    "        super().__init__()\n",
    "        self.mu = mu\n",
    "        self.rho = rho\n",
    "        self.normal = Normal(0,1)\n",
    "    \n",
    "    @property\n",
    "    def sigma(self):\n",
    "        return torch.log1p(torch.exp(self.rho))\n",
    "    \n",
    "    def sample(self):\n",
    "        epsilon = self.normal.sample(self.rho.size()).to(device = torch.device(\"cuda:0\" if torch.cuda.is_available() else \"cpu\"))\n",
    "        return self.mu + self.sigma * epsilon\n",
    "    \n",
    "    def log_prob(self, input):\n",
    "        return (-math.log(math.sqrt(2 * math.pi))\n",
    "                - torch.log(self.sigma)\n",
    "                - ((input - self.mu) ** 2) / (2 * self.sigma ** 2)).sum()\n",
    "    \n",
    "    \n",
    "class ScaleMixtureGaussian():\n",
    "    def __init__(self, pi, sigma1, sigma2):\n",
    "        super().__init__()\n",
    "        self.pi = pi\n",
    "        self.sigma1 = sigma1\n",
    "        self.sigma2 = sigma2\n",
    "        self.gaussian1 = Normal(0,sigma1)\n",
    "        self.gaussian2 = Normal(0,sigma2)\n",
    "    \n",
    "    def log_prob(self, input):\n",
    "        prob1 = torch.exp(self.gaussian1.log_prob(input))\n",
    "        prob2 = torch.exp(self.gaussian2.log_prob(input))\n",
    "        return (torch.log(self.pi * prob1 + (1-self.pi) * prob2)).sum()\n",
    "    \n",
    "    \n",
    "\n",
    "\n",
    "class GuassianLinear(nn.Module):\n",
    "    \n",
    "    def __init__(self,\n",
    "                 in_features, \n",
    "                 out_features, \n",
    "                 PI = 0.5, \n",
    "                 SIGMA_1 = torch.FloatTensor([math.exp(-0)]).to(device = torch.device(\"cuda:0\" if torch.cuda.is_available() else \"cpu\")), \n",
    "                 SIGMA_2 = torch.FloatTensor([math.exp(-6)]).to(device = torch.device(\"cuda:0\" if torch.cuda.is_available() else \"cpu\"))):\n",
    "        \n",
    "        super().__init__()\n",
    "        self.in_features = in_features\n",
    "        self.out_features = out_features\n",
    "        \n",
    "        # Weight parameters\n",
    "        self.weight_mu = nn.Parameter(torch.Tensor(out_features, in_features).uniform_(-0.2, 0.2))\n",
    "        self.weight_rho = nn.Parameter(torch.Tensor(out_features, in_features).uniform_(-5,-4))\n",
    "        self.weight = Gaussian(self.weight_mu, self.weight_rho)\n",
    "        \n",
    "        # Bias parameters\n",
    "        self.bias_mu = nn.Parameter(torch.Tensor(out_features).uniform_(-0.2, 0.2))\n",
    "        self.bias_rho = nn.Parameter(torch.Tensor(out_features).uniform_(-5,-4))\n",
    "        self.bias = Gaussian(self.bias_mu, self.bias_rho)\n",
    "        \n",
    "        # Prior distributions\n",
    "        self.weight_prior = ScaleMixtureGaussian(PI, SIGMA_1, SIGMA_2)\n",
    "        self.bias_prior = ScaleMixtureGaussian(PI, SIGMA_1, SIGMA_2)\n",
    "        self.log_prior = 0\n",
    "        self.log_variational_posterior = 0\n",
    "\n",
    "    def forward(self, input_data, sample=True, calculate_log_probs=False):\n",
    "        if self.training or sample:\n",
    "            weight = self.weight.sample()\n",
    "            bias = self.bias.sample()\n",
    "        else:\n",
    "            weight = self.weight.mu\n",
    "            bias = self.bias.mu\n",
    "        if self.training or calculate_log_probs:\n",
    "            self.log_prior = self.weight_prior.log_prob(weight) + self.bias_prior.log_prob(bias)\n",
    "            self.log_variational_posterior = self.weight.log_prob(weight) + self.bias.log_prob(bias)\n",
    "        else:\n",
    "            self.log_prior, self.log_variational_posterior = 0, 0\n",
    "\n",
    "        return F.linear(input_data, weight, bias)\n",
    "    \n",
    "    "
   ]
  },
  {
   "cell_type": "markdown",
   "metadata": {
    "id": "TpsHFULVlwvh"
   },
   "source": [
    "**Bayesian MLP**"
   ]
  },
  {
   "cell_type": "code",
   "execution_count": null,
   "metadata": {
    "id": "x4BpWRidlk8y"
   },
   "outputs": [],
   "source": [
    "class BayesianMLP(nn.Module):\n",
    "    def __init__(self):\n",
    "        super().__init__()\n",
    "        self.linear1 = GuassianLinear(28*28, 200)\n",
    "        self.linear2 = GuassianLinear(200, 10)\n",
    "    \n",
    "    def forward(self, x, sample=True):\n",
    "        x = x.view(-1, 784)\n",
    "        x = F.relu(self.linear1(x, sample))\n",
    "        x = self.linear2(x, sample)\n",
    "        output = F.log_softmax(x, dim = -1)\n",
    "        return output\n",
    "    \n",
    "    def log_prior(self):\n",
    "        return self.linear1.log_prior \\\n",
    "               + self.linear2.log_prior \n",
    "    \n",
    "    def log_variational_posterior(self):\n",
    "        return self.linear1.log_variational_posterior \\\n",
    "               + self.linear2.log_variational_posterior \n",
    "    \n",
    "    def sample_elbo(self, \n",
    "                    x, \n",
    "                    target, \n",
    "                    BATCH_SIZE, \n",
    "                    NUM_BATCHES, \n",
    "                    samples = 2, \n",
    "                    CLASSES = 10, \n",
    "                    device= torch.device(\"cuda:0\" if torch.cuda.is_available() else \"cpu\")):\n",
    "        \n",
    "        outputs = torch.zeros(samples, BATCH_SIZE, CLASSES).to(device)\n",
    "        log_priors = torch.zeros(samples).to(device)\n",
    "        log_variational_posteriors = torch.zeros(samples).to(device)\n",
    "        \n",
    "        for i in range(samples):\n",
    "            outputs[i] = self(x, sample=True)\n",
    "            log_priors[i] = self.log_prior()\n",
    "            log_variational_posteriors[i] = self.log_variational_posterior()\n",
    "            \n",
    "        log_prior = log_priors.mean()\n",
    "        log_variational_posterior = log_variational_posteriors.mean()\n",
    "        negative_log_likelihood = F.nll_loss(outputs.mean(0), target, reduction='sum')\n",
    "        loss = (log_variational_posterior - log_prior)/NUM_BATCHES + negative_log_likelihood\n",
    "        \n",
    "        return loss, log_prior, log_variational_posterior, negative_log_likelihood"
   ]
  },
  {
   "cell_type": "markdown",
   "metadata": {
    "id": "oOC_e7F1f8Tp"
   },
   "source": [
    "**Define Variational Inference Training Process**"
   ]
  },
  {
   "cell_type": "code",
   "execution_count": null,
   "metadata": {
    "id": "e3zNLcQBX9KG"
   },
   "outputs": [],
   "source": [
    "def VItraining(train_loader, test_loader, nepochs, nbatch = 100, track = True, device = torch.device('cuda' if torch.cuda.is_available() else 'cpu')): \n",
    "\n",
    "    model = BayesianMLP().to(device)\n",
    "    model.train()\n",
    "            \n",
    "    optimizer = torch.optim.SGD(model.parameters(), lr = 4e-3)\n",
    "    optimizer.zero_grad()\n",
    "\n",
    "    if track: \n",
    "        Loss = []\n",
    "        Log_Prior = []\n",
    "        Log_Variational_Posterior = []\n",
    "        Negative_Log_Likelihood = []\n",
    "        Complexity_Cost = []\n",
    "        Acc = []\n",
    "\n",
    "    batchLen = len(train_loader)\n",
    "    ntest = len(test_loader) * nbatch\n",
    "    digitsBatchLen = len(str(batchLen))\n",
    "    \n",
    "    for n in np.arange(nepochs): \n",
    "        \n",
    "        if track: \n",
    "\n",
    "            correct = 0\n",
    "            for batch_id, sample in enumerate(test_loader) :\n",
    "\n",
    "                images, labels = sample\n",
    "                images, labels = images.to(device), labels.to(device)\n",
    "                \n",
    "                pred = model(images)\n",
    "                pred = pred.argmax(dim = 1)\n",
    "                correct += pred.eq(labels).float().sum().item()\n",
    "            print(\"\\nAccuracy on Test Set: {}/{} ({:.4f}%)\\n\".format(\n",
    "                correct, ntest, correct/ntest * 100.))\n",
    "            print(\"--------------------------------------------------------\")\n",
    "            \n",
    "            Acc.append(correct/ntest * 100.)\n",
    "\n",
    "        for batch_id, sample in enumerate(train_loader):\n",
    "                    \n",
    "            images, labels = sample\n",
    "            images, labels = images.to(device), labels.to(device)\n",
    "                    \n",
    "            loss, log_prior, log_variational_posterior, negative_log_likelihood = model.sample_elbo(images, labels, BATCH_SIZE = nbatch, NUM_BATCHES = batchLen)\n",
    "                    \n",
    "            optimizer.zero_grad()\n",
    "            loss.backward()\n",
    "                    \n",
    "            optimizer.step()\n",
    "                    \n",
    "            if track: \n",
    "\n",
    "                Loss.append(loss.detach().cpu().item())\n",
    "\n",
    "                Log_Prior.append(log_prior.detach().cpu().item())\n",
    "\n",
    "                Log_Variational_Posterior.append(log_variational_posterior.detach().cpu().item())\n",
    "\n",
    "                Complexity_Cost.append((log_variational_posterior - log_prior).detach().cpu().item())\n",
    "\n",
    "                Negative_Log_Likelihood.append(negative_log_likelihood.detach().cpu().item())\n",
    "\n",
    "                \n",
    "                    \n",
    "            print(\"\\r\", (\"\\tEpoch {}/{}: Train step {\"+(\":0{}d\".format(digitsBatchLen))+\"}/{} loss = {:.4f}\").format(\n",
    "                                                      n+1, nepochs,\n",
    "                                                      batch_id+1,\n",
    "                                                      batchLen, \n",
    "                                                      loss.detach().cpu().item()), \n",
    "                        end=\"\")\n",
    "        print(\"\")\n",
    "\n",
    "    if track:\n",
    "        \n",
    "        return model, Loss, Acc, Log_Prior, Log_Variational_Posterior, Complexity_Cost, Negative_Log_Likelihood\n",
    "\n",
    "    else: \n",
    "        return model"
   ]
  },
  {
   "cell_type": "markdown",
   "metadata": {
    "id": "-VsMjtodg5BS"
   },
   "source": [
    "**Training by Variational Inference (Bayes by Backprop)**"
   ]
  },
  {
   "cell_type": "code",
   "execution_count": null,
   "metadata": {
    "colab": {
     "base_uri": "https://localhost:8080/"
    },
    "executionInfo": {
     "elapsed": 457350,
     "status": "ok",
     "timestamp": 1660269866694,
     "user": {
      "displayName": "Chao Wang",
      "userId": "15397188646529269947"
     },
     "user_tz": -60
    },
    "id": "WLwF4mpfhjRS",
    "outputId": "9899dd13-612d-4fb0-81c2-7646838cccc1"
   },
   "outputs": [
    {
     "name": "stdout",
     "output_type": "stream",
     "text": [
      "\n",
      "Accuracy on Test Set: 1263.0/10000 (12.6300%)\n",
      "\n",
      "--------------------------------------------------------\n",
      " \tEpoch 1/10: Train step 600/600 loss = 1128.1832\n",
      "\n",
      "Accuracy on Test Set: 9519.0/10000 (95.1900%)\n",
      "\n",
      "--------------------------------------------------------\n",
      " \tEpoch 2/10: Train step 600/600 loss = 1108.8214\n",
      "\n",
      "Accuracy on Test Set: 9622.0/10000 (96.2200%)\n",
      "\n",
      "--------------------------------------------------------\n",
      " \tEpoch 3/10: Train step 600/600 loss = 1103.3385\n",
      "\n",
      "Accuracy on Test Set: 9672.0/10000 (96.7200%)\n",
      "\n",
      "--------------------------------------------------------\n",
      " \tEpoch 4/10: Train step 600/600 loss = 1105.2327\n",
      "\n",
      "Accuracy on Test Set: 9657.0/10000 (96.5700%)\n",
      "\n",
      "--------------------------------------------------------\n",
      " \tEpoch 5/10: Train step 600/600 loss = 1091.5525\n",
      "\n",
      "Accuracy on Test Set: 9648.0/10000 (96.4800%)\n",
      "\n",
      "--------------------------------------------------------\n",
      " \tEpoch 6/10: Train step 600/600 loss = 1078.6016\n",
      "\n",
      "Accuracy on Test Set: 9727.0/10000 (97.2700%)\n",
      "\n",
      "--------------------------------------------------------\n",
      " \tEpoch 7/10: Train step 600/600 loss = 1077.2594\n",
      "\n",
      "Accuracy on Test Set: 9694.0/10000 (96.9400%)\n",
      "\n",
      "--------------------------------------------------------\n",
      " \tEpoch 8/10: Train step 600/600 loss = 1069.1191\n",
      "\n",
      "Accuracy on Test Set: 9740.0/10000 (97.4000%)\n",
      "\n",
      "--------------------------------------------------------\n",
      " \tEpoch 9/10: Train step 600/600 loss = 1066.6136\n",
      "\n",
      "Accuracy on Test Set: 9722.0/10000 (97.2200%)\n",
      "\n",
      "--------------------------------------------------------\n",
      " \tEpoch 10/10: Train step 600/600 loss = 1060.6918\n"
     ]
    }
   ],
   "source": [
    "VImodel, VILoss, VIAcc, VILog_Prior, VILog_Variational_Posterior, VIComplexity_Cost, VINegative_Log_Likelihood = VItraining(train_loader = train_loader, test_loader = test_loader, nepochs = 10, track = True)"
   ]
  },
  {
   "cell_type": "markdown",
   "metadata": {
    "id": "lbzgj3UNmdx4"
   },
   "source": [
    "**Training Accuracy on Testset**"
   ]
  },
  {
   "cell_type": "code",
   "execution_count": null,
   "metadata": {
    "colab": {
     "base_uri": "https://localhost:8080/",
     "height": 349
    },
    "executionInfo": {
     "elapsed": 274,
     "status": "ok",
     "timestamp": 1660277831860,
     "user": {
      "displayName": "Chao Wang",
      "userId": "15397188646529269947"
     },
     "user_tz": -60
    },
    "id": "t9ZFwyeVlJeG",
    "outputId": "df217181-0290-4f3a-c93f-5162a970e585"
   },
   "outputs": [
    {
     "data": {
      "image/png": "[encoded data removed]",
      "text/plain": [
       "<Figure size 720x360 with 1 Axes>"
      ]
     },
     "metadata": {
      "needs_background": "light"
     },
     "output_type": "display_data"
    }
   ],
   "source": [
    "fs = 20\n",
    "VI_acc_fig = plt.figure(figsize=(10,5))\n",
    "plt.plot(VIAcc)\n",
    "plt.grid()\n",
    "# plt.xlim(0,3000)\n",
    "plt.xlabel('Epoch',fontsize=fs)\n",
    "plt.ylabel('Accuracy (%)',fontsize=fs)\n",
    "plt.tick_params(labelsize=15)\n",
    "plt.show()"
   ]
  },
  {
   "cell_type": "code",
   "execution_count": null,
   "metadata": {
    "id": "nrvdYH9L-mxw"
   },
   "outputs": [],
   "source": [
    "VI_acc_fig.savefig(\"VI_acc_fig.png\")"
   ]
  },
  {
   "cell_type": "markdown",
   "metadata": {
    "id": "7-Lv5AbHmchy"
   },
   "source": [
    "**Training Loss on Trainset**"
   ]
  },
  {
   "cell_type": "code",
   "execution_count": null,
   "metadata": {
    "colab": {
     "base_uri": "https://localhost:8080/",
     "height": 348
    },
    "executionInfo": {
     "elapsed": 688,
     "status": "ok",
     "timestamp": 1660277835863,
     "user": {
      "displayName": "Chao Wang",
      "userId": "15397188646529269947"
     },
     "user_tz": -60
    },
    "id": "TtD-QcId6GIp",
    "outputId": "483e7568-8cb9-4888-92d9-fb0cb733277a"
   },
   "outputs": [
    {
     "data": {
      "image/png": "[encoded data removed]",
      "text/plain": [
       "<Figure size 720x360 with 1 Axes>"
      ]
     },
     "metadata": {
      "needs_background": "light"
     },
     "output_type": "display_data"
    }
   ],
   "source": [
    "fs = 20\n",
    "VI_loss_fig = plt.figure(figsize=(10,5))\n",
    "x = np.arange(len(VILoss))[50:] / 600.\n",
    "plt.plot(x, VILoss[50:])\n",
    "plt.grid()\n",
    "# plt.xlim(0,3000)\n",
    "plt.xlabel('Epoch',fontsize=fs)\n",
    "plt.ylabel('Loss [-ELBO]',fontsize=fs)\n",
    "plt.tick_params(labelsize=15)\n",
    "plt.show()"
   ]
  },
  {
   "cell_type": "code",
   "execution_count": null,
   "metadata": {
    "id": "ATNwDTZ6_tgL"
   },
   "outputs": [],
   "source": [
    "VI_loss_fig.savefig(\"VI_loss_fig.png\")"
   ]
  },
  {
   "cell_type": "markdown",
   "metadata": {
    "id": "rV4F15B9zWYl"
   },
   "source": [
    "**Training Loss Components**"
   ]
  },
  {
   "cell_type": "code",
   "execution_count": null,
   "metadata": {
    "colab": {
     "base_uri": "https://localhost:8080/",
     "height": 620
    },
    "executionInfo": {
     "elapsed": 1140,
     "status": "ok",
     "timestamp": 1660273723298,
     "user": {
      "displayName": "Chao Wang",
      "userId": "15397188646529269947"
     },
     "user_tz": -60
    },
    "id": "HJ3b8k5yzOw8",
    "outputId": "cb9f5ead-bf22-4fd0-a9c3-3057e3442451"
   },
   "outputs": [
    {
     "data": {
      "image/png": "[encoded data removed]",
      "text/plain": [
       "<Figure size 1440x720 with 4 Axes>"
      ]
     },
     "metadata": {
      "needs_background": "light"
     },
     "output_type": "display_data"
    }
   ],
   "source": [
    "Components = {'Log Prior':VILog_Prior, 'Log Variational Posterior': VILog_Variational_Posterior, 'Complexity Cost': VIComplexity_Cost, 'Negative Log Likelihood': VINegative_Log_Likelihood}\n",
    "\n",
    "VI_acc_comp = plt.figure(figsize=(20,10))\n",
    "\n",
    "for i in np.arange(len(Components)): \n",
    "\n",
    "    ax = plt.subplot(2, 2, i + 1)\n",
    "\n",
    "    key = list(Components.keys())[i]\n",
    "\n",
    "    fs = 20\n",
    "    x = np.arange(len(Components[key]))[50:] / 600.\n",
    "    ax.plot(x, Components[key][50:], color = 'c')\n",
    "    ax.grid()\n",
    "    # plt.xlim(0,3000)\n",
    "    ax.set_xlabel('Epoch',fontsize=fs)\n",
    "    ax.set_ylabel('{}'.format(key),fontsize=fs)\n",
    "    ax.tick_params(labelsize=15)\n",
    "\n",
    "plt.show()"
   ]
  },
  {
   "cell_type": "code",
   "execution_count": null,
   "metadata": {
    "id": "_T7UHqELAsqI"
   },
   "outputs": [],
   "source": [
    "VI_acc_comp.savefig(\"VI_acc_comp.png\")"
   ]
  },
  {
   "cell_type": "markdown",
   "metadata": {
    "id": "44QVzZswmSJh"
   },
   "source": [
    "**Calculate Training Time**"
   ]
  },
  {
   "cell_type": "code",
   "execution_count": null,
   "metadata": {
    "colab": {
     "base_uri": "https://localhost:8080/"
    },
    "executionInfo": {
     "elapsed": 476351,
     "status": "ok",
     "timestamp": 1661386362562,
     "user": {
      "displayName": "Chao Wang",
      "userId": "15397188646529269947"
     },
     "user_tz": -60
    },
    "id": "A_4agkrJ8NRC",
    "outputId": "7a87edaa-6be3-40e6-fb43-00161d552ed4"
   },
   "outputs": [
    {
     "name": "stdout",
     "output_type": "stream",
     "text": [
      " \tEpoch 1/10: Train step 600/600 loss = 1134.1187\n",
      " \tEpoch 2/10: Train step 600/600 loss = 1111.1091\n",
      " \tEpoch 3/10: Train step 600/600 loss = 1110.1521\n",
      " \tEpoch 4/10: Train step 600/600 loss = 1091.8883\n",
      " \tEpoch 5/10: Train step 600/600 loss = 1086.6639\n",
      " \tEpoch 6/10: Train step 600/600 loss = 1085.3596\n",
      " \tEpoch 7/10: Train step 600/600 loss = 1081.6230\n",
      " \tEpoch 8/10: Train step 600/600 loss = 1070.3097\n",
      " \tEpoch 9/10: Train step 600/600 loss = 1069.8219\n",
      " \tEpoch 10/10: Train step 600/600 loss = 1065.7367\n",
      "CPU times: user 7min 42s, sys: 14.9 s, total: 7min 57s\n",
      "Wall time: 7min 56s\n",
      "476.2087163925171\n"
     ]
    }
   ],
   "source": [
    "VI_training_start = time.time()\n",
    "\n",
    "%time VImodel = VItraining(train_loader = train_loader, test_loader = test_loader, nepochs = 10, track = False)\n",
    "\n",
    "VI_training_end = time.time()\n",
    "\n",
    "VI_training_time = VI_training_end - VI_training_start\n",
    "\n",
    "print(VI_training_time)"
   ]
  },
  {
   "cell_type": "markdown",
   "metadata": {
    "id": "bTc7_hCwNPxc"
   },
   "source": [
    "**Accuracy on Testset**"
   ]
  },
  {
   "cell_type": "code",
   "execution_count": null,
   "metadata": {
    "colab": {
     "base_uri": "https://localhost:8080/"
    },
    "executionInfo": {
     "elapsed": 389005,
     "status": "ok",
     "timestamp": 1661386894277,
     "user": {
      "displayName": "Chao Wang",
      "userId": "15397188646529269947"
     },
     "user_tz": -60
    },
    "id": "Fcw0AKI1NOw-",
    "outputId": "4f3fe9f3-7de3-4c6e-83e7-204d3024dcba"
   },
   "outputs": [
    {
     "name": "stdout",
     "output_type": "stream",
     "text": [
      "\n",
      "Accuracy on Test Set: 9749.0/10000 (97.4900%)\n",
      "\n"
     ]
    }
   ],
   "source": [
    "nruntests = 1000\n",
    "nbatch = 100\n",
    "nclass = 10\n",
    "\n",
    "with torch.no_grad(): \n",
    "\n",
    "    VImodel.to(device)\n",
    "    VImodel.eval()\n",
    "\n",
    "    correct = 0\n",
    "\n",
    "    for batch_id, sample in enumerate(test_loader): \n",
    "\n",
    "        images, labels = sample\n",
    "        images, labels = images.to(device), labels.to(device)\n",
    "        #print(labels.shape)\n",
    "\n",
    "        pred_list = torch.zeros((nruntests, nbatch, nclass)).to(device)\n",
    "\n",
    "        for i in np.arange(nruntests): \n",
    "\n",
    "            pred = VImodel(images)\n",
    "\n",
    "            pred_list[i,:,:] = pred\n",
    "        \n",
    "        #print(pred_list.shape)\n",
    "\n",
    "        pred_mean = torch.mean(pred_list, dim = 0)\n",
    "\n",
    "        #print(pred_mean.shape)\n",
    "\n",
    "        pred_labels = pred_mean.argmax(dim = 1)\n",
    "\n",
    "        #print(pred_labels.shape)\n",
    "\n",
    "        correct += pred_labels.eq(labels).float().sum().item()\n",
    "\n",
    "    print(\"\\nAccuracy on Test Set: {}/{} ({:.4f}%)\\n\".format(\n",
    "    correct, len(testset), correct/len(testset) * 100.))\n",
    "    \n",
    "    VI_acc = correct/len(testset) * 100.\n"
   ]
  },
  {
   "cell_type": "markdown",
   "metadata": {
    "id": "FLGnOfgzQXp1"
   },
   "source": [
    "**In-domain Uncertainty on MNIST (correctly labeled image)**"
   ]
  },
  {
   "cell_type": "code",
   "execution_count": null,
   "metadata": {
    "colab": {
     "base_uri": "https://localhost:8080/",
     "height": 791
    },
    "executionInfo": {
     "elapsed": 4539,
     "status": "ok",
     "timestamp": 1660275256043,
     "user": {
      "displayName": "Chao Wang",
      "userId": "15397188646529269947"
     },
     "user_tz": -60
    },
    "id": "jKnVjBdmBpIZ",
    "outputId": "be1fbf6b-14fe-4e45-f2e0-0296dc7c22e1"
   },
   "outputs": [
    {
     "data": {
      "image/png": "[encoded data removed]",
      "text/plain": [
       "<Figure size 432x288 with 1 Axes>"
      ]
     },
     "metadata": {
      "needs_background": "light"
     },
     "output_type": "display_data"
    },
    {
     "name": "stdout",
     "output_type": "stream",
     "text": [
      "label:  7\n",
      "predicted label:  7\n"
     ]
    },
    {
     "data": {
      "image/png": "[encoded data removed]",
      "text/plain": [
       "<Figure size 1800x576 with 10 Axes>"
      ]
     },
     "metadata": {
      "needs_background": "light"
     },
     "output_type": "display_data"
    }
   ],
   "source": [
    "with torch.no_grad(): \n",
    "\n",
    "    data_num = 0\n",
    "\n",
    "    cor_lab_img = plt.figure()\n",
    "    plt.imshow(testset.data[data_num].reshape((28,28)))\n",
    "    plt.show()\n",
    "\n",
    "    nruntests = 1000\n",
    "    nclass = 10\n",
    "    VImodel.to(device)\n",
    "    VImodel.eval()\n",
    "\n",
    "    image, label = torch.utils.data.DataLoader(testset[data_num], batch_size=1, shuffle=False)\n",
    "    image, label = image.to(device), label.to(device)\n",
    "\n",
    "    pred_list = torch.zeros((nruntests, nclass))\n",
    "\n",
    "    for i in np.arange(nruntests): \n",
    "        \n",
    "        pred = VImodel(image)\n",
    "\n",
    "        pred_list[i,:] = pred\n",
    "\n",
    "    pred_list = torch.exp(pred_list)\n",
    "\n",
    "    pred_mean = torch.mean(pred_list, dim = 0)\n",
    "\n",
    "    #print(pred_mean)\n",
    "\n",
    "    pred_label = pred_mean.argmax(dim = 0)\n",
    "\n",
    "    pred_label = pred_label.detach().numpy()\n",
    "\n",
    "    print(\"label: \", testset.targets[data_num].detach().numpy())\n",
    "    print(\"predicted label: \", pred_label if torch.max(pred_mean) > 0.95 else \"Prediction Rejected\")\n",
    "\n",
    "    cor_lab_hists = plt.figure(figsize=(25,8))\n",
    "\n",
    "    for n in np.arange(nclass):\n",
    "\n",
    "        ax = plt.subplot(2, 5, n + 1)\n",
    "\n",
    "        prob = []\n",
    "    \n",
    "        for i in np.arange(nruntests): \n",
    "\n",
    "            prob.append(pred_list[i, n])\n",
    "        \n",
    "        if n == pred_label and torch.max(pred_mean) > 0.95:\n",
    "          \n",
    "            ax.hist(prob, range = [0,1], bins = 10, color = 'r')\n",
    "\n",
    "        else: \n",
    "\n",
    "            ax.hist(prob, range = [0,1], bins = 10)\n",
    "\n",
    "        ax.tick_params(labelsize=15)\n",
    "\n",
    "        ax.set_title(\"Class {}\".format(n), fontsize = 15)\n",
    "\n",
    "    plt.show()"
   ]
  },
  {
   "cell_type": "code",
   "execution_count": null,
   "metadata": {
    "id": "ZyyWvW5hCqCL"
   },
   "outputs": [],
   "source": [
    "cor_lab_img.savefig(\"cor_lab_img.png\")\n",
    "cor_lab_hists.savefig(\"cor_lab_hists.png\")"
   ]
  },
  {
   "cell_type": "markdown",
   "metadata": {
    "id": "2NWxF1UxQuQf"
   },
   "source": [
    "**In-domain Uncertainty on MNIST (incorrectly labeled image)**"
   ]
  },
  {
   "cell_type": "code",
   "execution_count": null,
   "metadata": {
    "colab": {
     "base_uri": "https://localhost:8080/",
     "height": 791
    },
    "executionInfo": {
     "elapsed": 5009,
     "status": "ok",
     "timestamp": 1660275299744,
     "user": {
      "displayName": "Chao Wang",
      "userId": "15397188646529269947"
     },
     "user_tz": -60
    },
    "id": "XDbRDs43aW97",
    "outputId": "d2cfa485-5bd9-4be8-a22e-5fdaa142424b"
   },
   "outputs": [
    {
     "data": {
      "image/png": "[encoded data removed]",
      "text/plain": [
       "<Figure size 432x288 with 1 Axes>"
      ]
     },
     "metadata": {
      "needs_background": "light"
     },
     "output_type": "display_data"
    },
    {
     "name": "stdout",
     "output_type": "stream",
     "text": [
      "label:  4\n",
      "predicted label:  Prediction Rejected\n"
     ]
    },
    {
     "data": {
      "image/png": "[encoded data removed]",
      "text/plain": [
       "<Figure size 1800x576 with 10 Axes>"
      ]
     },
     "metadata": {
      "needs_background": "light"
     },
     "output_type": "display_data"
    }
   ],
   "source": [
    "with torch.no_grad(): \n",
    "\n",
    "    data_num = 115\n",
    "\n",
    "    uncor_lab_img = plt.figure()\n",
    "    plt.imshow(testset.data[data_num].reshape((28,28)))\n",
    "    plt.show()\n",
    "\n",
    "    nruntests = 1000\n",
    "    nclass = 10\n",
    "    VImodel.to(device)\n",
    "    VImodel.eval()\n",
    "\n",
    "    image, label = torch.utils.data.DataLoader(testset[data_num], batch_size=1, shuffle=False)\n",
    "    image, label = image.to(device), label.to(device)\n",
    "\n",
    "    pred_list = torch.zeros((nruntests, nclass))\n",
    "\n",
    "    for i in np.arange(nruntests): \n",
    "        \n",
    "        pred = VImodel(image)\n",
    "\n",
    "        pred_list[i,:] = pred\n",
    "\n",
    "    pred_list = torch.exp(pred_list)\n",
    "\n",
    "    pred_mean = torch.mean(pred_list, dim = 0)\n",
    "\n",
    "    #print(pred_mean)\n",
    "\n",
    "    pred_label = pred_mean.argmax(dim = 0)\n",
    "\n",
    "    pred_label = pred_label.detach().numpy()\n",
    "\n",
    "    print(\"label: \", testset.targets[data_num].detach().numpy())\n",
    "    print(\"predicted label: \", pred_label if torch.max(pred_mean) > 0.95 else \"Prediction Rejected\")\n",
    "\n",
    "    uncor_lab_hists = plt.figure(figsize=(25,8))\n",
    "\n",
    "    for n in np.arange(nclass):\n",
    "\n",
    "        ax = plt.subplot(2, 5, n + 1)\n",
    "\n",
    "        prob = []\n",
    "    \n",
    "        for i in np.arange(nruntests): \n",
    "\n",
    "            prob.append(pred_list[i, n])\n",
    "        \n",
    "        if n == pred_label and torch.max(pred_mean) > 0.95:\n",
    "          \n",
    "            ax.hist(prob, range = [0,1], bins = 10, color = 'r')\n",
    "\n",
    "        else: \n",
    "          \n",
    "            ax.hist(prob, range = [0,1], bins = 10)\n",
    "\n",
    "        ax.tick_params(labelsize=15)\n",
    "\n",
    "        ax.set_title(\"Class {}\".format(n), fontsize = 15)\n",
    "\n",
    "    plt.show()"
   ]
  },
  {
   "cell_type": "code",
   "execution_count": null,
   "metadata": {
    "id": "l6M3ASLUJciu"
   },
   "outputs": [],
   "source": [
    "uncor_lab_img.savefig(\"uncor_lab_img.png\") \n",
    "uncor_lab_hists.savefig(\"uncor_lab_hists.png\")"
   ]
  },
  {
   "cell_type": "markdown",
   "metadata": {
    "id": "ArJbeyMDQy_t"
   },
   "source": [
    "**Out-of-domain Uncertainty on Fashion-MNIST**"
   ]
  },
  {
   "cell_type": "code",
   "execution_count": null,
   "metadata": {
    "colab": {
     "base_uri": "https://localhost:8080/",
     "height": 791
    },
    "executionInfo": {
     "elapsed": 6103,
     "status": "ok",
     "timestamp": 1660276268723,
     "user": {
      "displayName": "Chao Wang",
      "userId": "15397188646529269947"
     },
     "user_tz": -60
    },
    "id": "GBmSqAINNss2",
    "outputId": "feb7ccdd-4001-4c91-df06-b7eb9ede9551"
   },
   "outputs": [
    {
     "data": {
      "image/png": "[encoded data removed]",
      "text/plain": [
       "<Figure size 432x288 with 1 Axes>"
      ]
     },
     "metadata": {
      "needs_background": "light"
     },
     "output_type": "display_data"
    },
    {
     "name": "stdout",
     "output_type": "stream",
     "text": [
      "label:  6\n",
      "predicted label:  Prediction Rejected\n"
     ]
    },
    {
     "data": {
      "image/png": "[encoded data removed]",
      "text/plain": [
       "<Figure size 1800x576 with 10 Axes>"
      ]
     },
     "metadata": {
      "needs_background": "light"
     },
     "output_type": "display_data"
    }
   ],
   "source": [
    "with torch.no_grad(): \n",
    "\n",
    "    data_num = 4\n",
    "\n",
    "    fashion_img = plt.figure()\n",
    "    plt.imshow(fmnist_testset.data[data_num].reshape((28,28)))\n",
    "    plt.show()\n",
    "\n",
    "    nruntests = 1000\n",
    "    nclass = 10\n",
    "    VImodel.to(device)\n",
    "    VImodel.eval()\n",
    "\n",
    "    image, label = torch.utils.data.DataLoader(fmnist_testset[data_num], batch_size=1, shuffle=False)\n",
    "    image, label = image.to(device), label.to(device)\n",
    "\n",
    "    pred_list = torch.zeros((nruntests, nclass))\n",
    "\n",
    "    for i in np.arange(nruntests): \n",
    "        \n",
    "        pred = VImodel(image)\n",
    "\n",
    "        pred_list[i,:] = pred\n",
    "\n",
    "    pred_list = torch.exp(pred_list)\n",
    "\n",
    "    pred_mean = torch.mean(pred_list, dim = 0)\n",
    "\n",
    "    #print(pred_mean)\n",
    "\n",
    "    pred_label = pred_mean.argmax(dim = 0)\n",
    "\n",
    "    pred_label = pred_label.detach().numpy()\n",
    "\n",
    "    print(\"label: \", fmnist_testset.targets[data_num].detach().numpy())\n",
    "    print(\"predicted label: \", pred_label if torch.max(pred_mean) > 0.95 else \"Prediction Rejected\")\n",
    "\n",
    "    fashion_hists = plt.figure(figsize=(25,8))\n",
    "\n",
    "    for n in np.arange(nclass):\n",
    "\n",
    "        ax = plt.subplot(2, 5, n + 1)\n",
    "\n",
    "        prob = []\n",
    "    \n",
    "        for i in np.arange(nruntests): \n",
    "\n",
    "            prob.append(pred_list[i, n])\n",
    "        \n",
    "        if n == pred_label and torch.max(pred_mean) > 0.95:\n",
    "          \n",
    "            ax.hist(prob, range = [0,1], bins = 10, color = 'r')\n",
    "\n",
    "        else: \n",
    "          \n",
    "            ax.hist(prob, range = [0,1], bins = 10)\n",
    "\n",
    "        ax.tick_params(labelsize=15)\n",
    "\n",
    "        ax.set_title(\"Class {}\".format(n), fontsize = 15)\n",
    "\n",
    "    plt.show()"
   ]
  },
  {
   "cell_type": "code",
   "execution_count": null,
   "metadata": {
    "id": "uei29j6gLKbm"
   },
   "outputs": [],
   "source": [
    "fashion_img.savefig(\"fashion_img.png\") \n",
    "fashion_hists.savefig(\"fashion_hists.png\")"
   ]
  },
  {
   "cell_type": "markdown",
   "metadata": {
    "id": "vl8TKwMdRLAP"
   },
   "source": [
    "**Out-of-domain Uncertainty on White Noise**"
   ]
  },
  {
   "cell_type": "code",
   "execution_count": null,
   "metadata": {
    "colab": {
     "base_uri": "https://localhost:8080/",
     "height": 791
    },
    "executionInfo": {
     "elapsed": 4543,
     "status": "ok",
     "timestamp": 1660276392780,
     "user": {
      "displayName": "Chao Wang",
      "userId": "15397188646529269947"
     },
     "user_tz": -60
    },
    "id": "D4va4Wc5e-wX",
    "outputId": "79e99ff4-802e-4c62-c24d-8d0fb3dec6f4"
   },
   "outputs": [
    {
     "data": {
      "image/png": "[encoded data removed]",
      "text/plain": [
       "<Figure size 432x288 with 1 Axes>"
      ]
     },
     "metadata": {
      "needs_background": "light"
     },
     "output_type": "display_data"
    },
    {
     "name": "stdout",
     "output_type": "stream",
     "text": [
      "label:  None\n",
      "predicted label:  Prediction Rejected\n"
     ]
    },
    {
     "data": {
      "image/png": "[encoded data removed]",
      "text/plain": [
       "<Figure size 1800x576 with 10 Axes>"
      ]
     },
     "metadata": {
      "needs_background": "light"
     },
     "output_type": "display_data"
    }
   ],
   "source": [
    "with torch.no_grad(): \n",
    "\n",
    "    white_noise_image = torch.rand((28, 28)) * 255\n",
    "    white_noise_label = torch.randint(10, ())\n",
    "    WN = (white_noise_image, white_noise_label)\n",
    "\n",
    "    WN_img = plt.figure()\n",
    "    plt.imshow(white_noise_image)\n",
    "    plt.show()\n",
    "\n",
    "    nruntests = 1000\n",
    "    nclass = 10\n",
    "    VImodel.to(device)\n",
    "    VImodel.eval()\n",
    "\n",
    "    WN_image, WN_label = torch.utils.data.DataLoader(WN, batch_size=1, shuffle=False)\n",
    "    WN_image, WN_label = WN_image.to(device), WN_label.to(device)\n",
    "\n",
    "    pred_list = torch.zeros((nruntests, nclass))\n",
    "\n",
    "    for i in np.arange(nruntests): \n",
    "        \n",
    "        pred = VImodel(image)\n",
    "\n",
    "        pred_list[i,:] = pred\n",
    "\n",
    "    pred_list = torch.exp(pred_list)\n",
    "\n",
    "    pred_mean = torch.mean(pred_list, dim = 0)\n",
    "\n",
    "    #print(pred_mean)\n",
    "\n",
    "    pred_label = pred_mean.argmax(dim = 0)\n",
    "\n",
    "    pred_label = pred_label.detach().numpy()\n",
    "\n",
    "    print(\"label: \", \"None\")\n",
    "    print(\"predicted label: \", pred_label if torch.max(pred_mean) > 0.95 else \"Prediction Rejected\")\n",
    "\n",
    "\n",
    "    WN_hists = plt.figure(figsize=(25,8))\n",
    "\n",
    "    for n in np.arange(nclass):\n",
    "\n",
    "        ax = plt.subplot(2, 5, n + 1)\n",
    "\n",
    "        prob = []\n",
    "    \n",
    "        for i in np.arange(nruntests): \n",
    "\n",
    "            prob.append(pred_list[i, n])\n",
    "        \n",
    "        if n == pred_label and torch.max(pred_mean) > 0.95:\n",
    "          \n",
    "            ax.hist(prob, range = [0,1], bins = 10, color = 'r')\n",
    "\n",
    "        else: \n",
    "          \n",
    "            ax.hist(prob, range = [0,1], bins = 10)\n",
    "\n",
    "        ax.tick_params(labelsize=15)\n",
    "\n",
    "        ax.set_title(\"Class {}\".format(n), fontsize = 15)\n",
    "\n",
    "    plt.show()"
   ]
  },
  {
   "cell_type": "code",
   "execution_count": null,
   "metadata": {
    "id": "EEiNPE2pL-gm"
   },
   "outputs": [],
   "source": [
    "WN_img.savefig(\"WN_img.png\") \n",
    "WN_hists.savefig(\"WN_hists.png\")"
   ]
  },
  {
   "cell_type": "markdown",
   "metadata": {
    "id": "IWbk4XWzOIiN"
   },
   "source": [
    "**-------------------------------------------------------------------------------------------------------------------------------------------------------------**"
   ]
  },
  {
   "cell_type": "markdown",
   "metadata": {
    "id": "TEVm4FkidHBY"
   },
   "source": [
    "# **Point Estimate MLP**"
   ]
  },
  {
   "cell_type": "markdown",
   "metadata": {
    "id": "4mkS0GBilXZ7"
   },
   "source": [
    "**MLP**"
   ]
  },
  {
   "cell_type": "code",
   "execution_count": null,
   "metadata": {
    "id": "NoZj611689GR"
   },
   "outputs": [],
   "source": [
    "class MLP(nn.Module):\n",
    "    \n",
    "    def __init__(self):\n",
    "        super(MLP, self).__init__()\n",
    "        self.w1 = nn.Parameter(torch.randn(200, 784))\n",
    "        self.b1 = nn.Parameter(torch.randn(200))\n",
    "        self.w2 = nn.Parameter(torch.randn(10, 200))\n",
    "        self.b2 = nn.Parameter(torch.randn(10))\n",
    "\n",
    "    def forward(self, x):\n",
    "        x = x.view(-1, 28*28)\n",
    "        x = x @ self.w1.t() + self.b1\n",
    "        x = F.relu(x)\n",
    "        x = x @ self.w2.t() + self.b2\n",
    "        return x"
   ]
  },
  {
   "cell_type": "markdown",
   "metadata": {
    "id": "1C_T2pcud12J"
   },
   "source": [
    "**Define Point Estimate Training Process**"
   ]
  },
  {
   "cell_type": "code",
   "execution_count": null,
   "metadata": {
    "id": "IqcumcaEgOB3"
   },
   "outputs": [],
   "source": [
    "def point_estimate_training(train_loader, test_loader, nepochs, nbatch = 100, track = True, device = torch.device('cuda' if torch.cuda.is_available() else 'cpu')): \n",
    "    \n",
    "    model = MLP().to(device)\n",
    "    model.train()\n",
    "            \n",
    "    optimizer = torch.optim.SGD(model.parameters(), lr = 4e-3)\n",
    "    optimizer.zero_grad()\n",
    "            \n",
    "    if track: \n",
    "        Loss = []\n",
    "        Acc = []\n",
    "\n",
    "    criteon = nn.CrossEntropyLoss().to(device)\n",
    "\n",
    "    batchLen = len(train_loader)\n",
    "    ntest = len(test_loader) * nbatch\n",
    "    digitsBatchLen = len(str(batchLen))\n",
    "\n",
    "    for n in np.arange(nepochs):\n",
    "\n",
    "        if track: \n",
    "\n",
    "            correct = 0\n",
    "            for batch_id, sample in enumerate(test_loader) :\n",
    "\n",
    "                images, labels = sample\n",
    "                images, labels = images.to(device), labels.to(device)\n",
    "                \n",
    "                pred = model(images)\n",
    "                pred = pred.argmax(dim = 1)\n",
    "                correct += pred.eq(labels).float().sum().item()\n",
    "            print(\"\\nAccuracy on Test Set: {}/{} ({:.4f}%)\\n\".format(\n",
    "                correct, ntest, correct/ntest * 100.))\n",
    "            print(\"--------------------------------------------------------\")\n",
    "            \n",
    "            Acc.append(correct/ntest * 100.)\n",
    "        \n",
    "        for batch_id, sample in enumerate(train_loader):\n",
    "                    \n",
    "            images, labels = sample\n",
    "            images, labels = images.to(device), labels.to(device)\n",
    "                    \n",
    "            logits = model(images)\n",
    "            loss = criteon(logits, labels)\n",
    "\n",
    "            optimizer.zero_grad()\n",
    "            loss.backward()\n",
    "\n",
    "            optimizer.step()\n",
    "\n",
    "            if track: \n",
    "\n",
    "                Loss.append(loss.detach().cpu().item())\n",
    "                    \n",
    "            print(\"\\r\", (\"\\tEpoch {}/{}: Train step {\"+(\":0{}d\".format(digitsBatchLen))+\"}/{} loss = {:.4f}\").format(\n",
    "                                                      n+1, nepochs,\n",
    "                                                      batch_id+1,\n",
    "                                                      batchLen, \n",
    "                                                      loss.detach().cpu().item()), \n",
    "                        end=\"\")\n",
    "        print(\"\")\n",
    "\n",
    "    if track: \n",
    "\n",
    "        return model, Loss, Acc\n",
    "\n",
    "    else:\n",
    "\n",
    "        return model"
   ]
  },
  {
   "cell_type": "markdown",
   "metadata": {
    "id": "7VNd_dnp0Pha"
   },
   "source": [
    "**Training by Point Estimate**"
   ]
  },
  {
   "cell_type": "code",
   "execution_count": null,
   "metadata": {
    "colab": {
     "base_uri": "https://localhost:8080/"
    },
    "id": "91smxl3-kwkb",
    "outputId": "f178fac4-25ba-41a6-dc9a-b2d249f1bb58"
   },
   "outputs": [
    {
     "name": "stdout",
     "output_type": "stream",
     "text": [
      "\n",
      "Accuracy on Test Set: 621.0/10000 (6.2100%)\n",
      "\n",
      "--------------------------------------------------------\n",
      " \tEpoch 1/10: Train step 600/600 loss = 42.3969\n",
      "\n",
      "Accuracy on Test Set: 8061.0/10000 (80.6100%)\n",
      "\n",
      "--------------------------------------------------------\n",
      " \tEpoch 2/10: Train step 600/600 loss = 26.6668\n",
      "\n",
      "Accuracy on Test Set: 8518.0/10000 (85.1800%)\n",
      "\n",
      "--------------------------------------------------------\n",
      " \tEpoch 3/10: Train step 600/600 loss = 8.3641\n",
      "\n",
      "Accuracy on Test Set: 8675.0/10000 (86.7500%)\n",
      "\n",
      "--------------------------------------------------------\n",
      " \tEpoch 4/10: Train step 600/600 loss = 4.9223\n",
      "\n",
      "Accuracy on Test Set: 8803.0/10000 (88.0300%)\n",
      "\n",
      "--------------------------------------------------------\n",
      " \tEpoch 5/10: Train step 600/600 loss = 9.7799\n",
      "\n",
      "Accuracy on Test Set: 8886.0/10000 (88.8600%)\n",
      "\n",
      "--------------------------------------------------------\n",
      " \tEpoch 6/10: Train step 600/600 loss = 10.1803\n",
      "\n",
      "Accuracy on Test Set: 8936.0/10000 (89.3600%)\n",
      "\n",
      "--------------------------------------------------------\n",
      " \tEpoch 7/10: Train step 600/600 loss = 5.0045\n",
      "\n",
      "Accuracy on Test Set: 8981.0/10000 (89.8100%)\n",
      "\n",
      "--------------------------------------------------------\n",
      " \tEpoch 8/10: Train step 600/600 loss = 6.6964\n",
      "\n",
      "Accuracy on Test Set: 8999.0/10000 (89.9900%)\n",
      "\n",
      "--------------------------------------------------------\n",
      " \tEpoch 9/10: Train step 600/600 loss = 7.5397\n",
      "\n",
      "Accuracy on Test Set: 9050.0/10000 (90.5000%)\n",
      "\n",
      "--------------------------------------------------------\n",
      " \tEpoch 10/10: Train step 587/600 loss = 6.8945"
     ]
    }
   ],
   "source": [
    "PEmodel, PELoss, PEAcc = point_estimate_training(train_loader = train_loader, test_loader = test_loader, nepochs = 10, track = True)"
   ]
  },
  {
   "cell_type": "markdown",
   "metadata": {
    "id": "NpALXaNPlEVb"
   },
   "source": [
    "**Training Accuracy on Testset**"
   ]
  },
  {
   "cell_type": "code",
   "execution_count": null,
   "metadata": {
    "colab": {
     "base_uri": "https://localhost:8080/",
     "height": 348
    },
    "executionInfo": {
     "elapsed": 376,
     "status": "ok",
     "timestamp": 1660278202752,
     "user": {
      "displayName": "Chao Wang",
      "userId": "15397188646529269947"
     },
     "user_tz": -60
    },
    "id": "-hTxWO0ulGA_",
    "outputId": "57d236e4-1ba1-4070-badd-b2bc1cd8df6e"
   },
   "outputs": [
    {
     "data": {
      "image/png": "[encoded data removed]",
      "text/plain": [
       "<Figure size 720x360 with 1 Axes>"
      ]
     },
     "metadata": {
      "needs_background": "light"
     },
     "output_type": "display_data"
    }
   ],
   "source": [
    "fs = 20\n",
    "PE_acc_fig = plt.figure(figsize=(10,5))\n",
    "plt.plot(PEAcc)\n",
    "plt.grid()\n",
    "# plt.xlim(0,3000)\n",
    "plt.xlabel('Epoch',fontsize=fs)\n",
    "plt.ylabel('Accuracy (%)',fontsize=fs)\n",
    "plt.tick_params(labelsize=15)\n",
    "plt.show()"
   ]
  },
  {
   "cell_type": "code",
   "execution_count": null,
   "metadata": {
    "id": "PMheuM6MNFx9"
   },
   "outputs": [],
   "source": [
    "PE_acc_fig.savefig(\"PE_acc_fig.png\")"
   ]
  },
  {
   "cell_type": "markdown",
   "metadata": {
    "id": "g2UKWVmGlP7J"
   },
   "source": [
    "**Training Loss on Trainset**"
   ]
  },
  {
   "cell_type": "code",
   "execution_count": null,
   "metadata": {
    "colab": {
     "base_uri": "https://localhost:8080/",
     "height": 348
    },
    "executionInfo": {
     "elapsed": 324,
     "status": "ok",
     "timestamp": 1660278203070,
     "user": {
      "displayName": "Chao Wang",
      "userId": "15397188646529269947"
     },
     "user_tz": -60
    },
    "id": "WAQKqwvMtqky",
    "outputId": "d310049e-2879-412b-d4ff-d2c5e0361f18"
   },
   "outputs": [
    {
     "data": {
      "image/png": "[encoded data removed]",
      "text/plain": [
       "<Figure size 720x360 with 1 Axes>"
      ]
     },
     "metadata": {
      "needs_background": "light"
     },
     "output_type": "display_data"
    }
   ],
   "source": [
    "fs = 20\n",
    "PE_loss_fig = plt.figure(figsize=(10,5))\n",
    "x = np.arange(len(PELoss))[50:] / 600.\n",
    "plt.plot(x, PELoss[50:])\n",
    "plt.grid()\n",
    "# plt.xlim(0,3000)\n",
    "plt.xlabel('Epoch',fontsize=fs)\n",
    "plt.ylabel('Loss [Cross Entropy]',fontsize=fs)\n",
    "plt.tick_params(labelsize=15)\n",
    "plt.show()"
   ]
  },
  {
   "cell_type": "code",
   "execution_count": null,
   "metadata": {
    "id": "-ZxlgA6eNt8W"
   },
   "outputs": [],
   "source": [
    "PE_loss_fig.savefig(\"PE_loss_fig.png\")"
   ]
  },
  {
   "cell_type": "markdown",
   "metadata": {
    "id": "oYt7ujiPlKKY"
   },
   "source": [
    "**Calculate Training Time**"
   ]
  },
  {
   "cell_type": "code",
   "execution_count": null,
   "metadata": {
    "colab": {
     "base_uri": "https://localhost:8080/"
    },
    "executionInfo": {
     "elapsed": 162281,
     "status": "ok",
     "timestamp": 1661391885508,
     "user": {
      "displayName": "Chao Wang",
      "userId": "15397188646529269947"
     },
     "user_tz": -60
    },
    "id": "0pFQwTMXtwrG",
    "outputId": "8f06777a-7afe-464c-ca89-cfa27ffa86ee"
   },
   "outputs": [
    {
     "name": "stdout",
     "output_type": "stream",
     "text": [
      " \tEpoch 1/10: Train step 600/600 loss = 16.5617\n",
      " \tEpoch 2/10: Train step 600/600 loss = 21.5871\n",
      " \tEpoch 3/10: Train step 600/600 loss = 7.2224\n",
      " \tEpoch 4/10: Train step 600/600 loss = 14.3904\n",
      " \tEpoch 5/10: Train step 600/600 loss = 7.6237\n",
      " \tEpoch 6/10: Train step 600/600 loss = 8.1837\n",
      " \tEpoch 7/10: Train step 600/600 loss = 8.1936\n",
      " \tEpoch 8/10: Train step 600/600 loss = 2.5701\n",
      " \tEpoch 9/10: Train step 600/600 loss = 6.9290\n",
      " \tEpoch 10/10: Train step 600/600 loss = 5.5220\n",
      "CPU times: user 2min 40s, sys: 2.76 s, total: 2min 43s\n",
      "Wall time: 2min 42s\n",
      "162.05998420715332\n"
     ]
    }
   ],
   "source": [
    "Point_Estimate_training_start = time.time()\n",
    "\n",
    "%time PEmodel = point_estimate_training(train_loader = train_loader, test_loader = test_loader, nepochs = 10, track = False)\n",
    "\n",
    "Point_Estimate_training_end = time.time()\n",
    "\n",
    "Point_Estimate_training_time = Point_Estimate_training_end - Point_Estimate_training_start\n",
    "\n",
    "print(Point_Estimate_training_time)"
   ]
  },
  {
   "cell_type": "markdown",
   "metadata": {
    "id": "-IFQVlqXSVOP"
   },
   "source": [
    "**Accuracy on Testset**"
   ]
  },
  {
   "cell_type": "code",
   "execution_count": null,
   "metadata": {
    "colab": {
     "base_uri": "https://localhost:8080/"
    },
    "executionInfo": {
     "elapsed": 2171,
     "status": "ok",
     "timestamp": 1661392128041,
     "user": {
      "displayName": "Chao Wang",
      "userId": "15397188646529269947"
     },
     "user_tz": -60
    },
    "id": "GC3ow2ryT6LV",
    "outputId": "c6ebe41b-7909-48d5-b428-2af7a1008e24"
   },
   "outputs": [
    {
     "name": "stdout",
     "output_type": "stream",
     "text": [
      "\n",
      "Accuracy on Test Set: 9064.0/10000 (90.6400%)\n",
      "\n"
     ]
    }
   ],
   "source": [
    "with torch.no_grad(): \n",
    "\n",
    "    PEmodel.to(device)\n",
    "    PEmodel.eval()\n",
    "\n",
    "    correct = 0\n",
    "\n",
    "    for batch_id, sample in enumerate(test_loader): \n",
    "\n",
    "        images, labels = sample\n",
    "        images, labels = images.to(device), labels.to(device)\n",
    "\n",
    "        pred = PEmodel(images)\n",
    "\n",
    "        pred_labels = pred.argmax(dim = 1)\n",
    "\n",
    "        correct += pred_labels.eq(labels).float().sum().item()\n",
    "\n",
    "    print(\"\\nAccuracy on Test Set: {}/{} ({:.4f}%)\\n\".format(\n",
    "    correct, len(testset), correct/len(testset) * 100.))\n",
    "    \n",
    "    Point_Estimate_acc = correct/len(testset) * 100.\n"
   ]
  },
  {
   "cell_type": "markdown",
   "metadata": {
    "id": "g5-tD0LQy-Ze"
   },
   "source": [
    "**-------------------------------------------------------------------------------------------------------------------------------------------------------------------**"
   ]
  },
  {
   "cell_type": "markdown",
   "metadata": {
    "id": "yWpd-S3dzvqN"
   },
   "source": [
    "# **Point Estimate + Ensembles**"
   ]
  },
  {
   "cell_type": "markdown",
   "metadata": {
    "id": "9djELbhOcQHl"
   },
   "source": [
    "**MLP**"
   ]
  },
  {
   "cell_type": "code",
   "execution_count": null,
   "metadata": {
    "id": "YYE10NNvwdNk"
   },
   "outputs": [],
   "source": [
    "class MLP(nn.Module):\n",
    "    \n",
    "    def __init__(self):\n",
    "        super(MLP, self).__init__()\n",
    "        self.w1 = nn.Parameter(torch.randn(200, 784))\n",
    "        self.b1 = nn.Parameter(torch.randn(200))\n",
    "        self.w2 = nn.Parameter(torch.randn(10, 200))\n",
    "        self.b2 = nn.Parameter(torch.randn(10))\n",
    "\n",
    "    def forward(self, x):\n",
    "        x = x.view(-1, 28*28)\n",
    "        x = x @ self.w1.t() + self.b1\n",
    "        x = F.relu(x)\n",
    "        x = x @ self.w2.t() + self.b2\n",
    "        return x"
   ]
  },
  {
   "cell_type": "markdown",
   "metadata": {
    "id": "MyCJ_u859ZYV"
   },
   "source": [
    "**Define Training Process**"
   ]
  },
  {
   "cell_type": "code",
   "execution_count": null,
   "metadata": {
    "id": "TnNjAF4J3FYb"
   },
   "outputs": [],
   "source": [
    "def ensemble_training(train_loader, test_loader, nepochs, nmodels, nbatch = 100, track = True, device = torch.device('cuda' if torch.cuda.is_available() else 'cpu')): \n",
    "    \n",
    "    Models = {}\n",
    "\n",
    "    if track: \n",
    "\n",
    "        Loss = {}\n",
    "        Acc = {}\n",
    "\n",
    "    batchLen = len(train_loader)\n",
    "    ntest = len(test_loader) * nbatch\n",
    "    digitsBatchLen = len(str(batchLen))\n",
    "\n",
    "    for i in np.arange(nmodels): \n",
    "        print(\"Training model {}/{}:\".format(i+1, nmodels))\n",
    "\n",
    "        model = MLP().to(device)\n",
    "        model.train()\n",
    "                \n",
    "        optimizer = torch.optim.SGD(model.parameters(), lr = 1e-2)\n",
    "        optimizer.zero_grad()\n",
    "\n",
    "        criteon = nn.CrossEntropyLoss().to(device)\n",
    "\n",
    "        if track: \n",
    "            Loss[i] = []\n",
    "            Acc[i] = []\n",
    "\n",
    "        for n in np.arange(nepochs):\n",
    "\n",
    "            if track: \n",
    "\n",
    "                correct = 0\n",
    "                for batch_id, sample in enumerate(test_loader) :\n",
    "\n",
    "                    images, labels = sample\n",
    "                    images, labels = images.to(device), labels.to(device)\n",
    "                    \n",
    "                    pred = model(images)\n",
    "                    pred = pred.argmax(dim = 1)\n",
    "                    correct += pred.eq(labels).float().sum().item()\n",
    "                print(\"\\nAccuracy on Test Set: {}/{} ({:.4f}%)\\n\".format(\n",
    "                    correct, ntest, correct/ntest * 100.))\n",
    "                print(\"--------------------------------------------------------\")\n",
    "                \n",
    "                Acc[i].append(correct/ntest * 100.)\n",
    "            \n",
    "            for batch_id, sample in enumerate(train_loader):\n",
    "                        \n",
    "                images, labels = sample\n",
    "                images, labels = images.to(device), labels.to(device)\n",
    "                        \n",
    "                logits = model(images)\n",
    "                loss = criteon(logits, labels)\n",
    "\n",
    "                optimizer.zero_grad()\n",
    "                loss.backward()\n",
    "\n",
    "                optimizer.step()\n",
    "\n",
    "                if track: \n",
    "\n",
    "                    Loss[i].append(loss.detach().cpu().item())\n",
    "                        \n",
    "                print(\"\\r\", (\"\\tEpoch {}/{}: Train step {\"+(\":0{}d\".format(digitsBatchLen))+\"}/{} loss = {:.4f}\").format(\n",
    "                                                          n+1, nepochs,\n",
    "                                                          batch_id+1,\n",
    "                                                          batchLen, \n",
    "                                                          loss.detach().cpu().item()), \n",
    "                            end=\"\")\n",
    "            print(\"\")\n",
    "\n",
    "        Models[i] = model\n",
    "\n",
    "        print(\"========================================================\")\n",
    "\n",
    "    if track: \n",
    "\n",
    "        return Models, Loss, Acc\n",
    "\n",
    "    else:\n",
    "\n",
    "        return Models\n"
   ]
  },
  {
   "cell_type": "markdown",
   "metadata": {
    "id": "VHq2PoQxk0W4"
   },
   "source": [
    "**Training by Deep Ensemble**"
   ]
  },
  {
   "cell_type": "code",
   "execution_count": null,
   "metadata": {
    "colab": {
     "base_uri": "https://localhost:8080/"
    },
    "executionInfo": {
     "elapsed": 1613502,
     "status": "ok",
     "timestamp": 1660244290445,
     "user": {
      "displayName": "Chao Wang",
      "userId": "15397188646529269947"
     },
     "user_tz": -60
    },
    "id": "grLXQ_Wg9pBV",
    "outputId": "bb80dd88-cd32-42d7-acc5-7ebcaaf0efc1"
   },
   "outputs": [
    {
     "name": "stdout",
     "output_type": "stream",
     "text": [
      "Training model 1/10:\n",
      "\n",
      "Accuracy on Test Set: 1605.0/10000 (16.0500%)\n",
      "\n",
      "--------------------------------------------------------\n",
      " \tEpoch 1/10: Train step 600/600 loss = 16.2272\n",
      "\n",
      "Accuracy on Test Set: 8696.0/10000 (86.9600%)\n",
      "\n",
      "--------------------------------------------------------\n",
      " \tEpoch 2/10: Train step 600/600 loss = 7.0086\n",
      "\n",
      "Accuracy on Test Set: 8921.0/10000 (89.2100%)\n",
      "\n",
      "--------------------------------------------------------\n",
      " \tEpoch 3/10: Train step 600/600 loss = 6.6517\n",
      "\n",
      "Accuracy on Test Set: 9019.0/10000 (90.1900%)\n",
      "\n",
      "--------------------------------------------------------\n",
      " \tEpoch 4/10: Train step 600/600 loss = 8.1607\n",
      "\n",
      "Accuracy on Test Set: 9073.0/10000 (90.7300%)\n",
      "\n",
      "--------------------------------------------------------\n",
      " \tEpoch 5/10: Train step 600/600 loss = 2.4487\n",
      "\n",
      "Accuracy on Test Set: 9106.0/10000 (91.0600%)\n",
      "\n",
      "--------------------------------------------------------\n",
      " \tEpoch 6/10: Train step 600/600 loss = 9.0399\n",
      "\n",
      "Accuracy on Test Set: 9173.0/10000 (91.7300%)\n",
      "\n",
      "--------------------------------------------------------\n",
      " \tEpoch 7/10: Train step 600/600 loss = 2.9699\n",
      "\n",
      "Accuracy on Test Set: 9143.0/10000 (91.4300%)\n",
      "\n",
      "--------------------------------------------------------\n",
      " \tEpoch 8/10: Train step 600/600 loss = 0.6895\n",
      "\n",
      "Accuracy on Test Set: 9198.0/10000 (91.9800%)\n",
      "\n",
      "--------------------------------------------------------\n",
      " \tEpoch 9/10: Train step 600/600 loss = 6.7848\n",
      "\n",
      "Accuracy on Test Set: 9226.0/10000 (92.2600%)\n",
      "\n",
      "--------------------------------------------------------\n",
      " \tEpoch 10/10: Train step 600/600 loss = 1.4697\n",
      "========================================================\n",
      "Training model 2/10:\n",
      "\n",
      "Accuracy on Test Set: 761.0/10000 (7.6100%)\n",
      "\n",
      "--------------------------------------------------------\n",
      " \tEpoch 1/10: Train step 600/600 loss = 9.4386\n",
      "\n",
      "Accuracy on Test Set: 8646.0/10000 (86.4600%)\n",
      "\n",
      "--------------------------------------------------------\n",
      " \tEpoch 2/10: Train step 600/600 loss = 4.1275\n",
      "\n",
      "Accuracy on Test Set: 8860.0/10000 (88.6000%)\n",
      "\n",
      "--------------------------------------------------------\n",
      " \tEpoch 3/10: Train step 600/600 loss = 6.4936\n",
      "\n",
      "Accuracy on Test Set: 8950.0/10000 (89.5000%)\n",
      "\n",
      "--------------------------------------------------------\n",
      " \tEpoch 4/10: Train step 600/600 loss = 4.1597\n",
      "\n",
      "Accuracy on Test Set: 9040.0/10000 (90.4000%)\n",
      "\n",
      "--------------------------------------------------------\n",
      " \tEpoch 5/10: Train step 600/600 loss = 2.1798\n",
      "\n",
      "Accuracy on Test Set: 9074.0/10000 (90.7400%)\n",
      "\n",
      "--------------------------------------------------------\n",
      " \tEpoch 6/10: Train step 600/600 loss = 4.2032\n",
      "\n",
      "Accuracy on Test Set: 9109.0/10000 (91.0900%)\n",
      "\n",
      "--------------------------------------------------------\n",
      " \tEpoch 7/10: Train step 600/600 loss = 4.7506\n",
      "\n",
      "Accuracy on Test Set: 9147.0/10000 (91.4700%)\n",
      "\n",
      "--------------------------------------------------------\n",
      " \tEpoch 8/10: Train step 600/600 loss = 7.2765\n",
      "\n",
      "Accuracy on Test Set: 9162.0/10000 (91.6200%)\n",
      "\n",
      "--------------------------------------------------------\n",
      " \tEpoch 9/10: Train step 600/600 loss = 1.5326\n",
      "\n",
      "Accuracy on Test Set: 9202.0/10000 (92.0200%)\n",
      "\n",
      "--------------------------------------------------------\n",
      " \tEpoch 10/10: Train step 600/600 loss = 4.5385\n",
      "========================================================\n",
      "Training model 3/10:\n",
      "\n",
      "Accuracy on Test Set: 947.0/10000 (9.4700%)\n",
      "\n",
      "--------------------------------------------------------\n",
      " \tEpoch 1/10: Train step 600/600 loss = 16.3870\n",
      "\n",
      "Accuracy on Test Set: 8586.0/10000 (85.8600%)\n",
      "\n",
      "--------------------------------------------------------\n",
      " \tEpoch 2/10: Train step 600/600 loss = 10.0860\n",
      "\n",
      "Accuracy on Test Set: 8850.0/10000 (88.5000%)\n",
      "\n",
      "--------------------------------------------------------\n",
      " \tEpoch 3/10: Train step 600/600 loss = 11.5913\n",
      "\n",
      "Accuracy on Test Set: 8920.0/10000 (89.2000%)\n",
      "\n",
      "--------------------------------------------------------\n",
      " \tEpoch 4/10: Train step 600/600 loss = 7.9762\n",
      "\n",
      "Accuracy on Test Set: 9017.0/10000 (90.1700%)\n",
      "\n",
      "--------------------------------------------------------\n",
      " \tEpoch 5/10: Train step 600/600 loss = 0.6731\n",
      "\n",
      "Accuracy on Test Set: 9093.0/10000 (90.9300%)\n",
      "\n",
      "--------------------------------------------------------\n",
      " \tEpoch 6/10: Train step 600/600 loss = 7.0606\n",
      "\n",
      "Accuracy on Test Set: 9151.0/10000 (91.5100%)\n",
      "\n",
      "--------------------------------------------------------\n",
      " \tEpoch 7/10: Train step 600/600 loss = 3.1811\n",
      "\n",
      "Accuracy on Test Set: 9175.0/10000 (91.7500%)\n",
      "\n",
      "--------------------------------------------------------\n",
      " \tEpoch 8/10: Train step 600/600 loss = 1.8305\n",
      "\n",
      "Accuracy on Test Set: 9176.0/10000 (91.7600%)\n",
      "\n",
      "--------------------------------------------------------\n",
      " \tEpoch 9/10: Train step 600/600 loss = 7.1211\n",
      "\n",
      "Accuracy on Test Set: 9226.0/10000 (92.2600%)\n",
      "\n",
      "--------------------------------------------------------\n",
      " \tEpoch 10/10: Train step 600/600 loss = 4.2553\n",
      "========================================================\n",
      "Training model 4/10:\n",
      "\n",
      "Accuracy on Test Set: 1101.0/10000 (11.0100%)\n",
      "\n",
      "--------------------------------------------------------\n",
      " \tEpoch 1/10: Train step 600/600 loss = 12.0160\n",
      "\n",
      "Accuracy on Test Set: 8619.0/10000 (86.1900%)\n",
      "\n",
      "--------------------------------------------------------\n",
      " \tEpoch 2/10: Train step 600/600 loss = 5.9640\n",
      "\n",
      "Accuracy on Test Set: 8817.0/10000 (88.1700%)\n",
      "\n",
      "--------------------------------------------------------\n",
      " \tEpoch 3/10: Train step 600/600 loss = 2.9465\n",
      "\n",
      "Accuracy on Test Set: 8939.0/10000 (89.3900%)\n",
      "\n",
      "--------------------------------------------------------\n",
      " \tEpoch 4/10: Train step 600/600 loss = 6.8847\n",
      "\n",
      "Accuracy on Test Set: 9021.0/10000 (90.2100%)\n",
      "\n",
      "--------------------------------------------------------\n",
      " \tEpoch 5/10: Train step 600/600 loss = 3.7693\n",
      "\n",
      "Accuracy on Test Set: 9041.0/10000 (90.4100%)\n",
      "\n",
      "--------------------------------------------------------\n",
      " \tEpoch 6/10: Train step 600/600 loss = 4.9898\n",
      "\n",
      "Accuracy on Test Set: 9101.0/10000 (91.0100%)\n",
      "\n",
      "--------------------------------------------------------\n",
      " \tEpoch 7/10: Train step 600/600 loss = 3.8072\n",
      "\n",
      "Accuracy on Test Set: 9144.0/10000 (91.4400%)\n",
      "\n",
      "--------------------------------------------------------\n",
      " \tEpoch 8/10: Train step 600/600 loss = 6.1005\n",
      "\n",
      "Accuracy on Test Set: 9167.0/10000 (91.6700%)\n",
      "\n",
      "--------------------------------------------------------\n",
      " \tEpoch 9/10: Train step 600/600 loss = 2.0506\n",
      "\n",
      "Accuracy on Test Set: 9169.0/10000 (91.6900%)\n",
      "\n",
      "--------------------------------------------------------\n",
      " \tEpoch 10/10: Train step 600/600 loss = 3.2075\n",
      "========================================================\n",
      "Training model 5/10:\n",
      "\n",
      "Accuracy on Test Set: 1163.0/10000 (11.6300%)\n",
      "\n",
      "--------------------------------------------------------\n",
      " \tEpoch 1/10: Train step 600/600 loss = 10.9428\n",
      "\n",
      "Accuracy on Test Set: 8628.0/10000 (86.2800%)\n",
      "\n",
      "--------------------------------------------------------\n",
      " \tEpoch 2/10: Train step 600/600 loss = 8.3894\n",
      "\n",
      "Accuracy on Test Set: 8852.0/10000 (88.5200%)\n",
      "\n",
      "--------------------------------------------------------\n",
      " \tEpoch 3/10: Train step 600/600 loss = 9.1952\n",
      "\n",
      "Accuracy on Test Set: 8967.0/10000 (89.6700%)\n",
      "\n",
      "--------------------------------------------------------\n",
      " \tEpoch 4/10: Train step 600/600 loss = 8.4160\n",
      "\n",
      "Accuracy on Test Set: 9048.0/10000 (90.4800%)\n",
      "\n",
      "--------------------------------------------------------\n",
      " \tEpoch 5/10: Train step 600/600 loss = 4.3008\n",
      "\n",
      "Accuracy on Test Set: 9088.0/10000 (90.8800%)\n",
      "\n",
      "--------------------------------------------------------\n",
      " \tEpoch 6/10: Train step 600/600 loss = 2.6528\n",
      "\n",
      "Accuracy on Test Set: 9142.0/10000 (91.4200%)\n",
      "\n",
      "--------------------------------------------------------\n",
      " \tEpoch 7/10: Train step 600/600 loss = 4.2300\n",
      "\n",
      "Accuracy on Test Set: 9170.0/10000 (91.7000%)\n",
      "\n",
      "--------------------------------------------------------\n",
      " \tEpoch 8/10: Train step 600/600 loss = 9.7677\n",
      "\n",
      "Accuracy on Test Set: 9182.0/10000 (91.8200%)\n",
      "\n",
      "--------------------------------------------------------\n",
      " \tEpoch 9/10: Train step 600/600 loss = 6.3822\n",
      "\n",
      "Accuracy on Test Set: 9190.0/10000 (91.9000%)\n",
      "\n",
      "--------------------------------------------------------\n",
      " \tEpoch 10/10: Train step 600/600 loss = 1.5610\n",
      "========================================================\n",
      "Training model 6/10:\n",
      "\n",
      "Accuracy on Test Set: 940.0/10000 (9.4000%)\n",
      "\n",
      "--------------------------------------------------------\n",
      " \tEpoch 1/10: Train step 600/600 loss = 14.0107\n",
      "\n",
      "Accuracy on Test Set: 8563.0/10000 (85.6300%)\n",
      "\n",
      "--------------------------------------------------------\n",
      " \tEpoch 2/10: Train step 600/600 loss = 9.5100\n",
      "\n",
      "Accuracy on Test Set: 8838.0/10000 (88.3800%)\n",
      "\n",
      "--------------------------------------------------------\n",
      " \tEpoch 3/10: Train step 600/600 loss = 6.7459\n",
      "\n",
      "Accuracy on Test Set: 8946.0/10000 (89.4600%)\n",
      "\n",
      "--------------------------------------------------------\n",
      " \tEpoch 4/10: Train step 600/600 loss = 12.3006\n",
      "\n",
      "Accuracy on Test Set: 9035.0/10000 (90.3500%)\n",
      "\n",
      "--------------------------------------------------------\n",
      " \tEpoch 5/10: Train step 600/600 loss = 4.8646\n",
      "\n",
      "Accuracy on Test Set: 9060.0/10000 (90.6000%)\n",
      "\n",
      "--------------------------------------------------------\n",
      " \tEpoch 6/10: Train step 600/600 loss = 5.5154\n",
      "\n",
      "Accuracy on Test Set: 9111.0/10000 (91.1100%)\n",
      "\n",
      "--------------------------------------------------------\n",
      " \tEpoch 7/10: Train step 600/600 loss = 4.4907\n",
      "\n",
      "Accuracy on Test Set: 9140.0/10000 (91.4000%)\n",
      "\n",
      "--------------------------------------------------------\n",
      " \tEpoch 8/10: Train step 600/600 loss = 2.0902\n",
      "\n",
      "Accuracy on Test Set: 9180.0/10000 (91.8000%)\n",
      "\n",
      "--------------------------------------------------------\n",
      " \tEpoch 9/10: Train step 600/600 loss = 1.4034\n",
      "\n",
      "Accuracy on Test Set: 9225.0/10000 (92.2500%)\n",
      "\n",
      "--------------------------------------------------------\n",
      " \tEpoch 10/10: Train step 600/600 loss = 4.0739\n",
      "========================================================\n",
      "Training model 7/10:\n",
      "\n",
      "Accuracy on Test Set: 1128.0/10000 (11.2800%)\n",
      "\n",
      "--------------------------------------------------------\n",
      " \tEpoch 1/10: Train step 600/600 loss = 15.1032\n",
      "\n",
      "Accuracy on Test Set: 8548.0/10000 (85.4800%)\n",
      "\n",
      "--------------------------------------------------------\n",
      " \tEpoch 2/10: Train step 600/600 loss = 15.1707\n",
      "\n",
      "Accuracy on Test Set: 8787.0/10000 (87.8700%)\n",
      "\n",
      "--------------------------------------------------------\n",
      " \tEpoch 3/10: Train step 600/600 loss = 6.4703\n",
      "\n",
      "Accuracy on Test Set: 8921.0/10000 (89.2100%)\n",
      "\n",
      "--------------------------------------------------------\n",
      " \tEpoch 4/10: Train step 600/600 loss = 6.7072\n",
      "\n",
      "Accuracy on Test Set: 8996.0/10000 (89.9600%)\n",
      "\n",
      "--------------------------------------------------------\n",
      " \tEpoch 5/10: Train step 600/600 loss = 3.9028\n",
      "\n",
      "Accuracy on Test Set: 9056.0/10000 (90.5600%)\n",
      "\n",
      "--------------------------------------------------------\n",
      " \tEpoch 6/10: Train step 600/600 loss = 3.6481\n",
      "\n",
      "Accuracy on Test Set: 9075.0/10000 (90.7500%)\n",
      "\n",
      "--------------------------------------------------------\n",
      " \tEpoch 7/10: Train step 600/600 loss = 3.6675\n",
      "\n",
      "Accuracy on Test Set: 9082.0/10000 (90.8200%)\n",
      "\n",
      "--------------------------------------------------------\n",
      " \tEpoch 8/10: Train step 600/600 loss = 1.6358\n",
      "\n",
      "Accuracy on Test Set: 9115.0/10000 (91.1500%)\n",
      "\n",
      "--------------------------------------------------------\n",
      " \tEpoch 9/10: Train step 600/600 loss = 3.6251\n",
      "\n",
      "Accuracy on Test Set: 9164.0/10000 (91.6400%)\n",
      "\n",
      "--------------------------------------------------------\n",
      " \tEpoch 10/10: Train step 600/600 loss = 6.1406\n",
      "========================================================\n",
      "Training model 8/10:\n",
      "\n",
      "Accuracy on Test Set: 1563.0/10000 (15.6300%)\n",
      "\n",
      "--------------------------------------------------------\n",
      " \tEpoch 1/10: Train step 600/600 loss = 8.1114\n",
      "\n",
      "Accuracy on Test Set: 8641.0/10000 (86.4100%)\n",
      "\n",
      "--------------------------------------------------------\n",
      " \tEpoch 2/10: Train step 600/600 loss = 8.1316\n",
      "\n",
      "Accuracy on Test Set: 8818.0/10000 (88.1800%)\n",
      "\n",
      "--------------------------------------------------------\n",
      " \tEpoch 3/10: Train step 600/600 loss = 7.0690\n",
      "\n",
      "Accuracy on Test Set: 8953.0/10000 (89.5300%)\n",
      "\n",
      "--------------------------------------------------------\n",
      " \tEpoch 4/10: Train step 600/600 loss = 7.0780\n",
      "\n",
      "Accuracy on Test Set: 9019.0/10000 (90.1900%)\n",
      "\n",
      "--------------------------------------------------------\n",
      " \tEpoch 5/10: Train step 600/600 loss = 5.3225\n",
      "\n",
      "Accuracy on Test Set: 9057.0/10000 (90.5700%)\n",
      "\n",
      "--------------------------------------------------------\n",
      " \tEpoch 6/10: Train step 600/600 loss = 4.9943\n",
      "\n",
      "Accuracy on Test Set: 9132.0/10000 (91.3200%)\n",
      "\n",
      "--------------------------------------------------------\n",
      " \tEpoch 7/10: Train step 600/600 loss = 3.0907\n",
      "\n",
      "Accuracy on Test Set: 9150.0/10000 (91.5000%)\n",
      "\n",
      "--------------------------------------------------------\n",
      " \tEpoch 8/10: Train step 600/600 loss = 1.9501\n",
      "\n",
      "Accuracy on Test Set: 9154.0/10000 (91.5400%)\n",
      "\n",
      "--------------------------------------------------------\n",
      " \tEpoch 9/10: Train step 600/600 loss = 5.7299\n",
      "\n",
      "Accuracy on Test Set: 9125.0/10000 (91.2500%)\n",
      "\n",
      "--------------------------------------------------------\n",
      " \tEpoch 10/10: Train step 600/600 loss = 4.1174\n",
      "========================================================\n",
      "Training model 9/10:\n",
      "\n",
      "Accuracy on Test Set: 795.0/10000 (7.9500%)\n",
      "\n",
      "--------------------------------------------------------\n",
      " \tEpoch 1/10: Train step 600/600 loss = 14.6640\n",
      "\n",
      "Accuracy on Test Set: 8642.0/10000 (86.4200%)\n",
      "\n",
      "--------------------------------------------------------\n",
      " \tEpoch 2/10: Train step 600/600 loss = 4.8434\n",
      "\n",
      "Accuracy on Test Set: 8835.0/10000 (88.3500%)\n",
      "\n",
      "--------------------------------------------------------\n",
      " \tEpoch 3/10: Train step 600/600 loss = 8.0758\n",
      "\n",
      "Accuracy on Test Set: 8956.0/10000 (89.5600%)\n",
      "\n",
      "--------------------------------------------------------\n",
      " \tEpoch 4/10: Train step 600/600 loss = 5.6836\n",
      "\n",
      "Accuracy on Test Set: 9048.0/10000 (90.4800%)\n",
      "\n",
      "--------------------------------------------------------\n",
      " \tEpoch 5/10: Train step 600/600 loss = 5.7062\n",
      "\n",
      "Accuracy on Test Set: 9130.0/10000 (91.3000%)\n",
      "\n",
      "--------------------------------------------------------\n",
      " \tEpoch 6/10: Train step 600/600 loss = 3.9378\n",
      "\n",
      "Accuracy on Test Set: 9153.0/10000 (91.5300%)\n",
      "\n",
      "--------------------------------------------------------\n",
      " \tEpoch 7/10: Train step 600/600 loss = 6.5544\n",
      "\n",
      "Accuracy on Test Set: 9161.0/10000 (91.6100%)\n",
      "\n",
      "--------------------------------------------------------\n",
      " \tEpoch 8/10: Train step 600/600 loss = 1.4869\n",
      "\n",
      "Accuracy on Test Set: 9201.0/10000 (92.0100%)\n",
      "\n",
      "--------------------------------------------------------\n",
      " \tEpoch 9/10: Train step 600/600 loss = 2.8512\n",
      "\n",
      "Accuracy on Test Set: 9217.0/10000 (92.1700%)\n",
      "\n",
      "--------------------------------------------------------\n",
      " \tEpoch 10/10: Train step 600/600 loss = 5.5733\n",
      "========================================================\n",
      "Training model 10/10:\n",
      "\n",
      "Accuracy on Test Set: 663.0/10000 (6.6300%)\n",
      "\n",
      "--------------------------------------------------------\n",
      " \tEpoch 1/10: Train step 600/600 loss = 20.5425\n",
      "\n",
      "Accuracy on Test Set: 8633.0/10000 (86.3300%)\n",
      "\n",
      "--------------------------------------------------------\n",
      " \tEpoch 2/10: Train step 600/600 loss = 8.3844\n",
      "\n",
      "Accuracy on Test Set: 8863.0/10000 (88.6300%)\n",
      "\n",
      "--------------------------------------------------------\n",
      " \tEpoch 3/10: Train step 600/600 loss = 6.3663\n",
      "\n",
      "Accuracy on Test Set: 8988.0/10000 (89.8800%)\n",
      "\n",
      "--------------------------------------------------------\n",
      " \tEpoch 4/10: Train step 600/600 loss = 8.9861\n",
      "\n",
      "Accuracy on Test Set: 9020.0/10000 (90.2000%)\n",
      "\n",
      "--------------------------------------------------------\n",
      " \tEpoch 5/10: Train step 600/600 loss = 3.4807\n",
      "\n",
      "Accuracy on Test Set: 9086.0/10000 (90.8600%)\n",
      "\n",
      "--------------------------------------------------------\n",
      " \tEpoch 6/10: Train step 600/600 loss = 3.6752\n",
      "\n",
      "Accuracy on Test Set: 9127.0/10000 (91.2700%)\n",
      "\n",
      "--------------------------------------------------------\n",
      " \tEpoch 7/10: Train step 600/600 loss = 4.1653\n",
      "\n",
      "Accuracy on Test Set: 9128.0/10000 (91.2800%)\n",
      "\n",
      "--------------------------------------------------------\n",
      " \tEpoch 8/10: Train step 600/600 loss = 4.4676\n",
      "\n",
      "Accuracy on Test Set: 9162.0/10000 (91.6200%)\n",
      "\n",
      "--------------------------------------------------------\n",
      " \tEpoch 9/10: Train step 600/600 loss = 2.9439\n",
      "\n",
      "Accuracy on Test Set: 9199.0/10000 (91.9900%)\n",
      "\n",
      "--------------------------------------------------------\n",
      " \tEpoch 10/10: Train step 600/600 loss = 3.1871\n",
      "========================================================\n"
     ]
    }
   ],
   "source": [
    "Ens_Models, Ens_Loss, Ens_Acc = ensemble_training(train_loader = train_loader, test_loader = test_loader, nepochs = 10, nmodels = 10, nbatch = 100, track = True)"
   ]
  },
  {
   "cell_type": "markdown",
   "metadata": {
    "id": "jD_aIMSmX-wx"
   },
   "source": [
    "**Training Accuracy on Testset**"
   ]
  },
  {
   "cell_type": "code",
   "execution_count": null,
   "metadata": {
    "colab": {
     "base_uri": "https://localhost:8080/",
     "height": 348
    },
    "executionInfo": {
     "elapsed": 320,
     "status": "ok",
     "timestamp": 1660278297811,
     "user": {
      "displayName": "Chao Wang",
      "userId": "15397188646529269947"
     },
     "user_tz": -60
    },
    "id": "KoUaFIQi-b3E",
    "outputId": "d7a3fa67-b727-4343-c84d-0897b5aa83e7"
   },
   "outputs": [
    {
     "data": {
      "image/png": "[encoded data removed]",
      "text/plain": [
       "<Figure size 720x360 with 1 Axes>"
      ]
     },
     "metadata": {
      "needs_background": "light"
     },
     "output_type": "display_data"
    }
   ],
   "source": [
    "fs = 20\n",
    "Ens_acc_fig = plt.figure(figsize=(10,5))\n",
    "for i in range(len(Ens_Acc)): \n",
    "  plt.plot(Ens_Acc[i], label = \"model {}\".format(i+1))\n",
    "plt.grid()\n",
    "# plt.xlim(0,3000)\n",
    "plt.xlabel('Epoch',fontsize=fs)\n",
    "plt.ylabel('Accuracy (%)',fontsize=fs)\n",
    "plt.tick_params(labelsize=15)\n",
    "plt.legend()\n",
    "plt.show()"
   ]
  },
  {
   "cell_type": "code",
   "execution_count": null,
   "metadata": {
    "id": "5EoQvb3COf4N"
   },
   "outputs": [],
   "source": [
    "Ens_acc_fig.savefig(\"Ens_acc_fig.png\")"
   ]
  },
  {
   "cell_type": "markdown",
   "metadata": {
    "id": "YSI5k1Q9YKkW"
   },
   "source": [
    "**Training Loss on Trainset**"
   ]
  },
  {
   "cell_type": "code",
   "execution_count": null,
   "metadata": {
    "colab": {
     "base_uri": "https://localhost:8080/",
     "height": 348
    },
    "executionInfo": {
     "elapsed": 585,
     "status": "ok",
     "timestamp": 1660278302121,
     "user": {
      "displayName": "Chao Wang",
      "userId": "15397188646529269947"
     },
     "user_tz": -60
    },
    "id": "iIhKrpAXTjSP",
    "outputId": "0bcf2e94-a2d2-476a-e57d-d24f2fd27a88"
   },
   "outputs": [
    {
     "data": {
      "image/png": "[encoded data removed]",
      "text/plain": [
       "<Figure size 720x360 with 1 Axes>"
      ]
     },
     "metadata": {
      "needs_background": "light"
     },
     "output_type": "display_data"
    }
   ],
   "source": [
    "fs = 20\n",
    "Ens_loss_fig = plt.figure(figsize=(10,5))\n",
    "for i in range(len(Ens_Loss)): \n",
    "    x = np.arange(len(Ens_Loss[i]))[50:] / 600.\n",
    "    plt.plot(x, Ens_Loss[i][50:], label = \"model {}\".format(i+1))\n",
    "plt.grid()\n",
    "# plt.xlim(0,3000)\n",
    "plt.xlabel('Epoch',fontsize=fs)\n",
    "plt.ylabel('Loss [Cross Entropy]',fontsize=fs)\n",
    "plt.tick_params(labelsize=15)\n",
    "plt.legend()\n",
    "plt.show()"
   ]
  },
  {
   "cell_type": "code",
   "execution_count": null,
   "metadata": {
    "id": "GF575qvCOvSW"
   },
   "outputs": [],
   "source": [
    "Ens_loss_fig.savefig(\"Ens_loss_fig.png\")"
   ]
  },
  {
   "cell_type": "markdown",
   "metadata": {
    "id": "Maj5I0-9k4lT"
   },
   "source": [
    "**Calculate Training Time**"
   ]
  },
  {
   "cell_type": "code",
   "execution_count": null,
   "metadata": {
    "colab": {
     "base_uri": "https://localhost:8080/"
    },
    "executionInfo": {
     "elapsed": 1666455,
     "status": "ok",
     "timestamp": 1661393813808,
     "user": {
      "displayName": "Chao Wang",
      "userId": "15397188646529269947"
     },
     "user_tz": -60
    },
    "id": "liqciQTtbyYN",
    "outputId": "b37ff479-9b5b-4dfe-fb80-c75615dd41c9"
   },
   "outputs": [
    {
     "name": "stdout",
     "output_type": "stream",
     "text": [
      "Training model 1/10:\n",
      " \tEpoch 1/10: Train step 600/600 loss = 10.2228\n",
      " \tEpoch 2/10: Train step 600/600 loss = 5.0498\n",
      " \tEpoch 3/10: Train step 600/600 loss = 4.3331\n",
      " \tEpoch 4/10: Train step 600/600 loss = 8.0033\n",
      " \tEpoch 5/10: Train step 600/600 loss = 2.1560\n",
      " \tEpoch 6/10: Train step 600/600 loss = 4.4103\n",
      " \tEpoch 7/10: Train step 600/600 loss = 5.9416\n",
      " \tEpoch 8/10: Train step 600/600 loss = 2.6785\n",
      " \tEpoch 9/10: Train step 600/600 loss = 5.6515\n",
      " \tEpoch 10/10: Train step 600/600 loss = 6.2010\n",
      "========================================================\n",
      "Training model 2/10:\n",
      " \tEpoch 1/10: Train step 600/600 loss = 10.0663\n",
      " \tEpoch 2/10: Train step 600/600 loss = 9.1348\n",
      " \tEpoch 3/10: Train step 600/600 loss = 4.9742\n",
      " \tEpoch 4/10: Train step 600/600 loss = 4.4233\n",
      " \tEpoch 5/10: Train step 600/600 loss = 2.1723\n",
      " \tEpoch 6/10: Train step 600/600 loss = 1.0647\n",
      " \tEpoch 7/10: Train step 600/600 loss = 2.2251\n",
      " \tEpoch 8/10: Train step 600/600 loss = 2.7175\n",
      " \tEpoch 9/10: Train step 600/600 loss = 2.9447\n",
      " \tEpoch 10/10: Train step 600/600 loss = 3.4058\n",
      "========================================================\n",
      "Training model 3/10:\n",
      " \tEpoch 1/10: Train step 600/600 loss = 13.4420\n",
      " \tEpoch 2/10: Train step 600/600 loss = 13.2686\n",
      " \tEpoch 3/10: Train step 600/600 loss = 8.5923\n",
      " \tEpoch 4/10: Train step 600/600 loss = 3.0034\n",
      " \tEpoch 5/10: Train step 600/600 loss = 4.7767\n",
      " \tEpoch 6/10: Train step 600/600 loss = 2.2067\n",
      " \tEpoch 7/10: Train step 600/600 loss = 7.5178\n",
      " \tEpoch 8/10: Train step 600/600 loss = 0.8944\n",
      " \tEpoch 9/10: Train step 600/600 loss = 2.6117\n",
      " \tEpoch 10/10: Train step 600/600 loss = 2.7366\n",
      "========================================================\n",
      "Training model 4/10:\n",
      " \tEpoch 1/10: Train step 600/600 loss = 22.2014\n",
      " \tEpoch 2/10: Train step 600/600 loss = 9.8041\n",
      " \tEpoch 3/10: Train step 600/600 loss = 4.2018\n",
      " \tEpoch 4/10: Train step 600/600 loss = 2.5309\n",
      " \tEpoch 5/10: Train step 600/600 loss = 5.9023\n",
      " \tEpoch 6/10: Train step 600/600 loss = 2.1927\n",
      " \tEpoch 7/10: Train step 600/600 loss = 5.7520\n",
      " \tEpoch 8/10: Train step 600/600 loss = 2.4391\n",
      " \tEpoch 9/10: Train step 600/600 loss = 3.5548\n",
      " \tEpoch 10/10: Train step 600/600 loss = 4.4291\n",
      "========================================================\n",
      "Training model 5/10:\n",
      " \tEpoch 1/10: Train step 600/600 loss = 10.2897\n",
      " \tEpoch 2/10: Train step 600/600 loss = 10.6538\n",
      " \tEpoch 3/10: Train step 600/600 loss = 9.5885\n",
      " \tEpoch 4/10: Train step 600/600 loss = 4.5156\n",
      " \tEpoch 5/10: Train step 600/600 loss = 0.4919\n",
      " \tEpoch 6/10: Train step 600/600 loss = 4.0630\n",
      " \tEpoch 7/10: Train step 600/600 loss = 3.3044\n",
      " \tEpoch 8/10: Train step 600/600 loss = 4.6532\n",
      " \tEpoch 9/10: Train step 600/600 loss = 2.2333\n",
      " \tEpoch 10/10: Train step 600/600 loss = 2.9972\n",
      "========================================================\n",
      "Training model 6/10:\n",
      " \tEpoch 1/10: Train step 600/600 loss = 7.5915\n",
      " \tEpoch 2/10: Train step 600/600 loss = 5.6228\n",
      " \tEpoch 3/10: Train step 600/600 loss = 2.4769\n",
      " \tEpoch 4/10: Train step 600/600 loss = 9.1495\n",
      " \tEpoch 5/10: Train step 600/600 loss = 5.4034\n",
      " \tEpoch 6/10: Train step 600/600 loss = 4.9446\n",
      " \tEpoch 7/10: Train step 600/600 loss = 3.5494\n",
      " \tEpoch 8/10: Train step 600/600 loss = 4.8580\n",
      " \tEpoch 9/10: Train step 600/600 loss = 2.3755\n",
      " \tEpoch 10/10: Train step 600/600 loss = 3.1763\n",
      "========================================================\n",
      "Training model 7/10:\n",
      " \tEpoch 1/10: Train step 600/600 loss = 15.6855\n",
      " \tEpoch 2/10: Train step 600/600 loss = 10.2354\n",
      " \tEpoch 3/10: Train step 600/600 loss = 6.8988\n",
      " \tEpoch 4/10: Train step 600/600 loss = 12.0385\n",
      " \tEpoch 5/10: Train step 600/600 loss = 4.1646\n",
      " \tEpoch 6/10: Train step 600/600 loss = 4.4977\n",
      " \tEpoch 7/10: Train step 600/600 loss = 5.8144\n",
      " \tEpoch 8/10: Train step 600/600 loss = 1.0180\n",
      " \tEpoch 9/10: Train step 600/600 loss = 3.6256\n",
      " \tEpoch 10/10: Train step 600/600 loss = 5.7115\n",
      "========================================================\n",
      "Training model 8/10:\n",
      " \tEpoch 1/10: Train step 600/600 loss = 11.5965\n",
      " \tEpoch 2/10: Train step 600/600 loss = 5.2981\n",
      " \tEpoch 3/10: Train step 600/600 loss = 6.1345\n",
      " \tEpoch 4/10: Train step 600/600 loss = 5.9489\n",
      " \tEpoch 5/10: Train step 600/600 loss = 3.6147\n",
      " \tEpoch 6/10: Train step 600/600 loss = 6.0078\n",
      " \tEpoch 7/10: Train step 600/600 loss = 3.4342\n",
      " \tEpoch 8/10: Train step 600/600 loss = 5.3123\n",
      " \tEpoch 9/10: Train step 600/600 loss = 3.2131\n",
      " \tEpoch 10/10: Train step 600/600 loss = 1.5607\n",
      "========================================================\n",
      "Training model 9/10:\n",
      " \tEpoch 1/10: Train step 600/600 loss = 12.0742\n",
      " \tEpoch 2/10: Train step 600/600 loss = 8.1144\n",
      " \tEpoch 3/10: Train step 600/600 loss = 6.8201\n",
      " \tEpoch 4/10: Train step 600/600 loss = 13.9559\n",
      " \tEpoch 5/10: Train step 600/600 loss = 2.6501\n",
      " \tEpoch 6/10: Train step 600/600 loss = 6.4882\n",
      " \tEpoch 7/10: Train step 600/600 loss = 1.7481\n",
      " \tEpoch 8/10: Train step 600/600 loss = 4.1655\n",
      " \tEpoch 9/10: Train step 600/600 loss = 1.9200\n",
      " \tEpoch 10/10: Train step 600/600 loss = 5.1968\n",
      "========================================================\n",
      "Training model 10/10:\n",
      " \tEpoch 1/10: Train step 600/600 loss = 17.3542\n",
      " \tEpoch 2/10: Train step 600/600 loss = 18.2662\n",
      " \tEpoch 3/10: Train step 600/600 loss = 9.0776\n",
      " \tEpoch 4/10: Train step 600/600 loss = 3.5900\n",
      " \tEpoch 5/10: Train step 600/600 loss = 2.0389\n",
      " \tEpoch 6/10: Train step 600/600 loss = 1.5681\n",
      " \tEpoch 7/10: Train step 600/600 loss = 3.1225\n",
      " \tEpoch 8/10: Train step 600/600 loss = 0.9696\n",
      " \tEpoch 9/10: Train step 600/600 loss = 6.7136\n",
      " \tEpoch 10/10: Train step 600/600 loss = 1.8310\n",
      "========================================================\n",
      "CPU times: user 27min 32s, sys: 28.5 s, total: 28min\n",
      "Wall time: 27min 46s\n",
      "1666.2922122478485\n"
     ]
    }
   ],
   "source": [
    "Ens_training_start = time.time()\n",
    "\n",
    "%time Ens_Models = ensemble_training(train_loader = train_loader, test_loader = test_loader, nepochs = 10, nmodels = 10, nbatch = 100, track = False)\n",
    "\n",
    "Ens_training_end = time.time()\n",
    "\n",
    "Ens_training_time = Ens_training_end - Ens_training_start\n",
    "\n",
    "print(Ens_training_time)"
   ]
  },
  {
   "cell_type": "markdown",
   "metadata": {
    "id": "K--Qe5tDU8RU"
   },
   "source": [
    "**Accuracy on Testset**"
   ]
  },
  {
   "cell_type": "code",
   "execution_count": null,
   "metadata": {
    "colab": {
     "base_uri": "https://localhost:8080/"
    },
    "executionInfo": {
     "elapsed": 93663,
     "status": "ok",
     "timestamp": 1661418999646,
     "user": {
      "displayName": "Chao Wang",
      "userId": "15397188646529269947"
     },
     "user_tz": -60
    },
    "id": "aVyc5kwUVZ7J",
    "outputId": "a51b5fba-3852-4df1-e9d8-b9678eee5c8f"
   },
   "outputs": [
    {
     "name": "stdout",
     "output_type": "stream",
     "text": [
      "\n",
      "Accuracy on Test Set: 9670.0/10000 (96.7000%)\n",
      "\n"
     ]
    }
   ],
   "source": [
    "nruntests = 1000\n",
    "nbatch = 100\n",
    "nclass = 10\n",
    "nmodels = 10\n",
    "\n",
    "with torch.no_grad(): \n",
    "\n",
    "    correct = 0\n",
    "\n",
    "    for batch_id, sample in enumerate(test_loader): \n",
    "\n",
    "        images, labels = sample\n",
    "        images, labels = images.to(device), labels.to(device)\n",
    "        #print(labels.shape)\n",
    "\n",
    "        pred_list = torch.zeros((nruntests, nbatch, nclass)).to(device)\n",
    "\n",
    "        for i in np.arange(nruntests): \n",
    "\n",
    "            model_num = np.random.randint(nmodels)\n",
    "            model = Ens_Models[model_num]\n",
    "\n",
    "            model.to(device)\n",
    "            model.eval()\n",
    "\n",
    "            pred = model(images)\n",
    "\n",
    "            pred_list[i,:,:] = pred\n",
    "        \n",
    "        #print(pred_list.shape)\n",
    "\n",
    "        pred_mean = torch.mean(pred_list, dim = 0)\n",
    "\n",
    "        #print(pred_mean.shape)\n",
    "\n",
    "        pred_labels = pred_mean.argmax(dim = 1)\n",
    "\n",
    "        #print(pred_labels.shape)\n",
    "\n",
    "        correct += pred_labels.eq(labels).float().sum().item()\n",
    "\n",
    "    print(\"\\nAccuracy on Test Set: {}/{} ({:.4f}%)\\n\".format(\n",
    "    correct, len(testset), correct/len(testset) * 100.))\n",
    "    \n",
    "    Ens_acc = correct/len(testset) * 100.\n"
   ]
  },
  {
   "cell_type": "markdown",
   "metadata": {
    "id": "Jg5nZm1JnVNW"
   },
   "source": [
    "**-------------------------------------------------------------------------------------------------------------------------------------------------------------------**"
   ]
  },
  {
   "cell_type": "markdown",
   "metadata": {
    "id": "QCugkeEQd7SU"
   },
   "source": [
    "# **Variational Inference + Ensemble**"
   ]
  },
  {
   "cell_type": "markdown",
   "metadata": {
    "id": "56TpTt6Qi--h"
   },
   "source": [
    "**Define Variational Inference Training Process**"
   ]
  },
  {
   "cell_type": "code",
   "execution_count": null,
   "metadata": {
    "id": "319xK6qeijNp"
   },
   "outputs": [],
   "source": [
    "def ensemble_VItraining(train_loader, test_loader, nepochs, nmodels, nbatch = 100, track = True, device = torch.device('cuda' if torch.cuda.is_available() else 'cpu')): \n",
    "    \n",
    "    Models = {}\n",
    "\n",
    "    if track: \n",
    "\n",
    "        Loss = {}\n",
    "        Acc = {}\n",
    "\n",
    "    batchLen = len(train_loader)\n",
    "    ntest = len(test_loader) * nbatch\n",
    "    digitsBatchLen = len(str(batchLen))\n",
    "\n",
    "    for i in np.arange(nmodels): \n",
    "        print(\"Training model {}/{}:\".format(i+1, nmodels))\n",
    "\n",
    "        model = BayesianMLP().to(device)\n",
    "        model.train()\n",
    "                \n",
    "        optimizer = torch.optim.SGD(model.parameters(), lr = 6e-3)\n",
    "        optimizer.zero_grad()\n",
    "\n",
    "        if track: \n",
    "            Loss[i] = []\n",
    "            Acc[i] = []\n",
    "\n",
    "        for n in np.arange(nepochs):\n",
    "\n",
    "            if track: \n",
    "\n",
    "                correct = 0\n",
    "                for batch_id, sample in enumerate(test_loader) :\n",
    "\n",
    "                    images, labels = sample\n",
    "                    images, labels = images.to(device), labels.to(device)\n",
    "                    \n",
    "                    pred = model(images)\n",
    "                    pred = pred.argmax(dim = 1)\n",
    "                    correct += pred.eq(labels).float().sum().item()\n",
    "                print(\"\\nAccuracy on Test Set: {}/{} ({:.4f}%)\\n\".format(\n",
    "                    correct, ntest, correct/ntest * 100.))\n",
    "                print(\"--------------------------------------------------------\")\n",
    "                \n",
    "                Acc[i].append(correct/ntest * 100.)\n",
    "            \n",
    "            for batch_id, sample in enumerate(train_loader):\n",
    "                        \n",
    "                images, labels = sample\n",
    "                images, labels = images.to(device), labels.to(device)\n",
    "                        \n",
    "                loss, log_prior, log_variational_posterior, negative_log_likelihood = model.sample_elbo(images, labels, BATCH_SIZE = nbatch, NUM_BATCHES = batchLen)\n",
    "\n",
    "                optimizer.zero_grad()\n",
    "                loss.backward()\n",
    "\n",
    "                optimizer.step()\n",
    "\n",
    "                if track: \n",
    "\n",
    "                    Loss[i].append(loss.detach().cpu().item())\n",
    "                        \n",
    "                print(\"\\r\", (\"\\tEpoch {}/{}: Train step {\"+(\":0{}d\".format(digitsBatchLen))+\"}/{} loss = {:.4f}\").format(\n",
    "                                                          n+1, nepochs,\n",
    "                                                          batch_id+1,\n",
    "                                                          batchLen, \n",
    "                                                          loss.detach().cpu().item()), \n",
    "                            end=\"\")\n",
    "            print(\"\")\n",
    "\n",
    "        Models[i] = model\n",
    "\n",
    "        print(\"========================================================\")\n",
    "\n",
    "    if track: \n",
    "\n",
    "        return Models, Loss, Acc\n",
    "\n",
    "    else:\n",
    "\n",
    "        return Models"
   ]
  },
  {
   "cell_type": "markdown",
   "metadata": {
    "id": "7SDuBz2FqCMF"
   },
   "source": [
    "**Training by Variational Inference + Ensemble**"
   ]
  },
  {
   "cell_type": "code",
   "execution_count": null,
   "metadata": {
    "colab": {
     "base_uri": "https://localhost:8080/"
    },
    "executionInfo": {
     "elapsed": 4662957,
     "status": "ok",
     "timestamp": 1660256660509,
     "user": {
      "displayName": "Chao Wang",
      "userId": "15397188646529269947"
     },
     "user_tz": -60
    },
    "id": "fSXWre4PqINw",
    "outputId": "5bdd913f-2998-4781-8900-ab601b9ee121"
   },
   "outputs": [
    {
     "name": "stdout",
     "output_type": "stream",
     "text": [
      "Training model 1/10:\n",
      "\n",
      "Accuracy on Test Set: 571.0/10000 (5.7100%)\n",
      "\n",
      "--------------------------------------------------------\n",
      " \tEpoch 1/10: Train step 600/600 loss = 1143.8290\n",
      "\n",
      "Accuracy on Test Set: 9494.0/10000 (94.9400%)\n",
      "\n",
      "--------------------------------------------------------\n",
      " \tEpoch 2/10: Train step 600/600 loss = 1125.1239\n",
      "\n",
      "Accuracy on Test Set: 9489.0/10000 (94.8900%)\n",
      "\n",
      "--------------------------------------------------------\n",
      " \tEpoch 3/10: Train step 600/600 loss = 1120.1180\n",
      "\n",
      "Accuracy on Test Set: 9618.0/10000 (96.1800%)\n",
      "\n",
      "--------------------------------------------------------\n",
      " \tEpoch 4/10: Train step 600/600 loss = 1108.1871\n",
      "\n",
      "Accuracy on Test Set: 9691.0/10000 (96.9100%)\n",
      "\n",
      "--------------------------------------------------------\n",
      " \tEpoch 5/10: Train step 600/600 loss = 1112.0929\n",
      "\n",
      "Accuracy on Test Set: 9686.0/10000 (96.8600%)\n",
      "\n",
      "--------------------------------------------------------\n",
      " \tEpoch 6/10: Train step 600/600 loss = 1088.1503\n",
      "\n",
      "Accuracy on Test Set: 9656.0/10000 (96.5600%)\n",
      "\n",
      "--------------------------------------------------------\n",
      " \tEpoch 7/10: Train step 600/600 loss = 1094.7716\n",
      "\n",
      "Accuracy on Test Set: 9652.0/10000 (96.5200%)\n",
      "\n",
      "--------------------------------------------------------\n",
      " \tEpoch 8/10: Train step 600/600 loss = 1083.3511\n",
      "\n",
      "Accuracy on Test Set: 9717.0/10000 (97.1700%)\n",
      "\n",
      "--------------------------------------------------------\n",
      " \tEpoch 9/10: Train step 600/600 loss = 1078.3369\n",
      "\n",
      "Accuracy on Test Set: 9713.0/10000 (97.1300%)\n",
      "\n",
      "--------------------------------------------------------\n",
      " \tEpoch 10/10: Train step 600/600 loss = 1078.3065\n",
      "========================================================\n",
      "Training model 2/10:\n",
      "\n",
      "Accuracy on Test Set: 968.0/10000 (9.6800%)\n",
      "\n",
      "--------------------------------------------------------\n",
      " \tEpoch 1/10: Train step 600/600 loss = 1132.5469\n",
      "\n",
      "Accuracy on Test Set: 9580.0/10000 (95.8000%)\n",
      "\n",
      "--------------------------------------------------------\n",
      " \tEpoch 2/10: Train step 600/600 loss = 1112.4854\n",
      "\n",
      "Accuracy on Test Set: 9641.0/10000 (96.4100%)\n",
      "\n",
      "--------------------------------------------------------\n",
      " \tEpoch 3/10: Train step 600/600 loss = 1101.0742\n",
      "\n",
      "Accuracy on Test Set: 9674.0/10000 (96.7400%)\n",
      "\n",
      "--------------------------------------------------------\n",
      " \tEpoch 4/10: Train step 600/600 loss = 1101.1490\n",
      "\n",
      "Accuracy on Test Set: 9661.0/10000 (96.6100%)\n",
      "\n",
      "--------------------------------------------------------\n",
      " \tEpoch 5/10: Train step 600/600 loss = 1090.0707\n",
      "\n",
      "Accuracy on Test Set: 9648.0/10000 (96.4800%)\n",
      "\n",
      "--------------------------------------------------------\n",
      " \tEpoch 6/10: Train step 600/600 loss = 1082.7898\n",
      "\n",
      "Accuracy on Test Set: 9712.0/10000 (97.1200%)\n",
      "\n",
      "--------------------------------------------------------\n",
      " \tEpoch 7/10: Train step 600/600 loss = 1075.6733\n",
      "\n",
      "Accuracy on Test Set: 9705.0/10000 (97.0500%)\n",
      "\n",
      "--------------------------------------------------------\n",
      " \tEpoch 8/10: Train step 600/600 loss = 1072.2841\n",
      "\n",
      "Accuracy on Test Set: 9736.0/10000 (97.3600%)\n",
      "\n",
      "--------------------------------------------------------\n",
      " \tEpoch 9/10: Train step 600/600 loss = 1064.4854\n",
      "\n",
      "Accuracy on Test Set: 9731.0/10000 (97.3100%)\n",
      "\n",
      "--------------------------------------------------------\n",
      " \tEpoch 10/10: Train step 600/600 loss = 1060.6360\n",
      "========================================================\n",
      "Training model 3/10:\n",
      "\n",
      "Accuracy on Test Set: 1139.0/10000 (11.3900%)\n",
      "\n",
      "--------------------------------------------------------\n",
      " \tEpoch 1/10: Train step 600/600 loss = 1137.8884\n",
      "\n",
      "Accuracy on Test Set: 9490.0/10000 (94.9000%)\n",
      "\n",
      "--------------------------------------------------------\n",
      " \tEpoch 2/10: Train step 600/600 loss = 1126.7722\n",
      "\n",
      "Accuracy on Test Set: 9576.0/10000 (95.7600%)\n",
      "\n",
      "--------------------------------------------------------\n",
      " \tEpoch 3/10: Train step 600/600 loss = 1114.4510\n",
      "\n",
      "Accuracy on Test Set: 9622.0/10000 (96.2200%)\n",
      "\n",
      "--------------------------------------------------------\n",
      " \tEpoch 4/10: Train step 600/600 loss = 1116.9813\n",
      "\n",
      "Accuracy on Test Set: 9671.0/10000 (96.7100%)\n",
      "\n",
      "--------------------------------------------------------\n",
      " \tEpoch 5/10: Train step 600/600 loss = 1099.4475\n",
      "\n",
      "Accuracy on Test Set: 9718.0/10000 (97.1800%)\n",
      "\n",
      "--------------------------------------------------------\n",
      " \tEpoch 6/10: Train step 600/600 loss = 1098.0620\n",
      "\n",
      "Accuracy on Test Set: 9621.0/10000 (96.2100%)\n",
      "\n",
      "--------------------------------------------------------\n",
      " \tEpoch 7/10: Train step 600/600 loss = 1085.1508\n",
      "\n",
      "Accuracy on Test Set: 9640.0/10000 (96.4000%)\n",
      "\n",
      "--------------------------------------------------------\n",
      " \tEpoch 8/10: Train step 600/600 loss = 1077.4336\n",
      "\n",
      "Accuracy on Test Set: 9708.0/10000 (97.0800%)\n",
      "\n",
      "--------------------------------------------------------\n",
      " \tEpoch 9/10: Train step 600/600 loss = 1072.9540\n",
      "\n",
      "Accuracy on Test Set: 9715.0/10000 (97.1500%)\n",
      "\n",
      "--------------------------------------------------------\n",
      " \tEpoch 10/10: Train step 600/600 loss = 1068.6400\n",
      "========================================================\n",
      "Training model 4/10:\n",
      "\n",
      "Accuracy on Test Set: 978.0/10000 (9.7800%)\n",
      "\n",
      "--------------------------------------------------------\n",
      " \tEpoch 1/10: Train step 600/600 loss = 1149.2378\n",
      "\n",
      "Accuracy on Test Set: 9400.0/10000 (94.0000%)\n",
      "\n",
      "--------------------------------------------------------\n",
      " \tEpoch 2/10: Train step 600/600 loss = 1114.6826\n",
      "\n",
      "Accuracy on Test Set: 9585.0/10000 (95.8500%)\n",
      "\n",
      "--------------------------------------------------------\n",
      " \tEpoch 3/10: Train step 600/600 loss = 1142.8398\n",
      "\n",
      "Accuracy on Test Set: 9541.0/10000 (95.4100%)\n",
      "\n",
      "--------------------------------------------------------\n",
      " \tEpoch 4/10: Train step 600/600 loss = 1117.0112\n",
      "\n",
      "Accuracy on Test Set: 9637.0/10000 (96.3700%)\n",
      "\n",
      "--------------------------------------------------------\n",
      " \tEpoch 5/10: Train step 600/600 loss = 1093.2960\n",
      "\n",
      "Accuracy on Test Set: 9622.0/10000 (96.2200%)\n",
      "\n",
      "--------------------------------------------------------\n",
      " \tEpoch 6/10: Train step 600/600 loss = 1090.3345\n",
      "\n",
      "Accuracy on Test Set: 9668.0/10000 (96.6800%)\n",
      "\n",
      "--------------------------------------------------------\n",
      " \tEpoch 7/10: Train step 600/600 loss = 1094.0775\n",
      "\n",
      "Accuracy on Test Set: 9662.0/10000 (96.6200%)\n",
      "\n",
      "--------------------------------------------------------\n",
      " \tEpoch 8/10: Train step 600/600 loss = 1077.8342\n",
      "\n",
      "Accuracy on Test Set: 9661.0/10000 (96.6100%)\n",
      "\n",
      "--------------------------------------------------------\n",
      " \tEpoch 9/10: Train step 600/600 loss = 1078.7585\n",
      "\n",
      "Accuracy on Test Set: 9706.0/10000 (97.0600%)\n",
      "\n",
      "--------------------------------------------------------\n",
      " \tEpoch 10/10: Train step 600/600 loss = 1071.5492\n",
      "========================================================\n",
      "Training model 5/10:\n",
      "\n",
      "Accuracy on Test Set: 450.0/10000 (4.5000%)\n",
      "\n",
      "--------------------------------------------------------\n",
      " \tEpoch 1/10: Train step 600/600 loss = 1147.7256\n",
      "\n",
      "Accuracy on Test Set: 9426.0/10000 (94.2600%)\n",
      "\n",
      "--------------------------------------------------------\n",
      " \tEpoch 2/10: Train step 600/600 loss = 1116.1244\n",
      "\n",
      "Accuracy on Test Set: 9584.0/10000 (95.8400%)\n",
      "\n",
      "--------------------------------------------------------\n",
      " \tEpoch 3/10: Train step 600/600 loss = 1113.2671\n",
      "\n",
      "Accuracy on Test Set: 9667.0/10000 (96.6700%)\n",
      "\n",
      "--------------------------------------------------------\n",
      " \tEpoch 4/10: Train step 600/600 loss = 1099.2654\n",
      "\n",
      "Accuracy on Test Set: 9606.0/10000 (96.0600%)\n",
      "\n",
      "--------------------------------------------------------\n",
      " \tEpoch 5/10: Train step 600/600 loss = 1105.6552\n",
      "\n",
      "Accuracy on Test Set: 9662.0/10000 (96.6200%)\n",
      "\n",
      "--------------------------------------------------------\n",
      " \tEpoch 6/10: Train step 600/600 loss = 1092.8195\n",
      "\n",
      "Accuracy on Test Set: 9708.0/10000 (97.0800%)\n",
      "\n",
      "--------------------------------------------------------\n",
      " \tEpoch 7/10: Train step 600/600 loss = 1084.9844\n",
      "\n",
      "Accuracy on Test Set: 9698.0/10000 (96.9800%)\n",
      "\n",
      "--------------------------------------------------------\n",
      " \tEpoch 8/10: Train step 600/600 loss = 1079.9442\n",
      "\n",
      "Accuracy on Test Set: 9705.0/10000 (97.0500%)\n",
      "\n",
      "--------------------------------------------------------\n",
      " \tEpoch 9/10: Train step 600/600 loss = 1076.7946\n",
      "\n",
      "Accuracy on Test Set: 9695.0/10000 (96.9500%)\n",
      "\n",
      "--------------------------------------------------------\n",
      " \tEpoch 10/10: Train step 600/600 loss = 1070.8881\n",
      "========================================================\n",
      "Training model 6/10:\n",
      "\n",
      "Accuracy on Test Set: 550.0/10000 (5.5000%)\n",
      "\n",
      "--------------------------------------------------------\n",
      " \tEpoch 1/10: Train step 600/600 loss = 1147.1997\n",
      "\n",
      "Accuracy on Test Set: 9538.0/10000 (95.3800%)\n",
      "\n",
      "--------------------------------------------------------\n",
      " \tEpoch 2/10: Train step 600/600 loss = 1115.9253\n",
      "\n",
      "Accuracy on Test Set: 9579.0/10000 (95.7900%)\n",
      "\n",
      "--------------------------------------------------------\n",
      " \tEpoch 3/10: Train step 600/600 loss = 1105.6573\n",
      "\n",
      "Accuracy on Test Set: 9658.0/10000 (96.5800%)\n",
      "\n",
      "--------------------------------------------------------\n",
      " \tEpoch 4/10: Train step 600/600 loss = 1104.5670\n",
      "\n",
      "Accuracy on Test Set: 9666.0/10000 (96.6600%)\n",
      "\n",
      "--------------------------------------------------------\n",
      " \tEpoch 5/10: Train step 600/600 loss = 1091.7777\n",
      "\n",
      "Accuracy on Test Set: 9698.0/10000 (96.9800%)\n",
      "\n",
      "--------------------------------------------------------\n",
      " \tEpoch 6/10: Train step 600/600 loss = 1091.0311\n",
      "\n",
      "Accuracy on Test Set: 9695.0/10000 (96.9500%)\n",
      "\n",
      "--------------------------------------------------------\n",
      " \tEpoch 7/10: Train step 600/600 loss = 1082.9747\n",
      "\n",
      "Accuracy on Test Set: 9636.0/10000 (96.3600%)\n",
      "\n",
      "--------------------------------------------------------\n",
      " \tEpoch 8/10: Train step 600/600 loss = 1073.4712\n",
      "\n",
      "Accuracy on Test Set: 9700.0/10000 (97.0000%)\n",
      "\n",
      "--------------------------------------------------------\n",
      " \tEpoch 9/10: Train step 600/600 loss = 1069.7714\n",
      "\n",
      "Accuracy on Test Set: 9708.0/10000 (97.0800%)\n",
      "\n",
      "--------------------------------------------------------\n",
      " \tEpoch 10/10: Train step 600/600 loss = 1065.3212\n",
      "========================================================\n",
      "Training model 7/10:\n",
      "\n",
      "Accuracy on Test Set: 892.0/10000 (8.9200%)\n",
      "\n",
      "--------------------------------------------------------\n",
      " \tEpoch 1/10: Train step 600/600 loss = 1147.6713\n",
      "\n",
      "Accuracy on Test Set: 9475.0/10000 (94.7500%)\n",
      "\n",
      "--------------------------------------------------------\n",
      " \tEpoch 2/10: Train step 600/600 loss = 1133.6227\n",
      "\n",
      "Accuracy on Test Set: 9566.0/10000 (95.6600%)\n",
      "\n",
      "--------------------------------------------------------\n",
      " \tEpoch 3/10: Train step 600/600 loss = 1132.5322\n",
      "\n",
      "Accuracy on Test Set: 9583.0/10000 (95.8300%)\n",
      "\n",
      "--------------------------------------------------------\n",
      " \tEpoch 4/10: Train step 600/600 loss = 1107.0021\n",
      "\n",
      "Accuracy on Test Set: 9626.0/10000 (96.2600%)\n",
      "\n",
      "--------------------------------------------------------\n",
      " \tEpoch 5/10: Train step 600/600 loss = 1106.8954\n",
      "\n",
      "Accuracy on Test Set: 9648.0/10000 (96.4800%)\n",
      "\n",
      "--------------------------------------------------------\n",
      " \tEpoch 6/10: Train step 600/600 loss = 1091.0081\n",
      "\n",
      "Accuracy on Test Set: 9672.0/10000 (96.7200%)\n",
      "\n",
      "--------------------------------------------------------\n",
      " \tEpoch 7/10: Train step 600/600 loss = 1093.7667\n",
      "\n",
      "Accuracy on Test Set: 9647.0/10000 (96.4700%)\n",
      "\n",
      "--------------------------------------------------------\n",
      " \tEpoch 8/10: Train step 600/600 loss = 1086.2413\n",
      "\n",
      "Accuracy on Test Set: 9694.0/10000 (96.9400%)\n",
      "\n",
      "--------------------------------------------------------\n",
      " \tEpoch 9/10: Train step 600/600 loss = 1089.2650\n",
      "\n",
      "Accuracy on Test Set: 9556.0/10000 (95.5600%)\n",
      "\n",
      "--------------------------------------------------------\n",
      " \tEpoch 10/10: Train step 600/600 loss = 1082.0256\n",
      "========================================================\n",
      "Training model 8/10:\n",
      "\n",
      "Accuracy on Test Set: 1535.0/10000 (15.3500%)\n",
      "\n",
      "--------------------------------------------------------\n",
      " \tEpoch 1/10: Train step 600/600 loss = 1146.1550\n",
      "\n",
      "Accuracy on Test Set: 9531.0/10000 (95.3100%)\n",
      "\n",
      "--------------------------------------------------------\n",
      " \tEpoch 2/10: Train step 600/600 loss = 1118.2472\n",
      "\n",
      "Accuracy on Test Set: 9564.0/10000 (95.6400%)\n",
      "\n",
      "--------------------------------------------------------\n",
      " \tEpoch 3/10: Train step 600/600 loss = 1114.9841\n",
      "\n",
      "Accuracy on Test Set: 9684.0/10000 (96.8400%)\n",
      "\n",
      "--------------------------------------------------------\n",
      " \tEpoch 4/10: Train step 600/600 loss = 1102.0936\n",
      "\n",
      "Accuracy on Test Set: 9635.0/10000 (96.3500%)\n",
      "\n",
      "--------------------------------------------------------\n",
      " \tEpoch 5/10: Train step 600/600 loss = 1087.8199\n",
      "\n",
      "Accuracy on Test Set: 9691.0/10000 (96.9100%)\n",
      "\n",
      "--------------------------------------------------------\n",
      " \tEpoch 6/10: Train step 600/600 loss = 1096.1230\n",
      "\n",
      "Accuracy on Test Set: 9715.0/10000 (97.1500%)\n",
      "\n",
      "--------------------------------------------------------\n",
      " \tEpoch 7/10: Train step 600/600 loss = 1085.3284\n",
      "\n",
      "Accuracy on Test Set: 9645.0/10000 (96.4500%)\n",
      "\n",
      "--------------------------------------------------------\n",
      " \tEpoch 8/10: Train step 600/600 loss = 1072.6010\n",
      "\n",
      "Accuracy on Test Set: 9731.0/10000 (97.3100%)\n",
      "\n",
      "--------------------------------------------------------\n",
      " \tEpoch 9/10: Train step 600/600 loss = 1070.5131\n",
      "\n",
      "Accuracy on Test Set: 9605.0/10000 (96.0500%)\n",
      "\n",
      "--------------------------------------------------------\n",
      " \tEpoch 10/10: Train step 600/600 loss = 1065.2606\n",
      "========================================================\n",
      "Training model 9/10:\n",
      "\n",
      "Accuracy on Test Set: 818.0/10000 (8.1800%)\n",
      "\n",
      "--------------------------------------------------------\n",
      " \tEpoch 1/10: Train step 600/600 loss = 1137.0077\n",
      "\n",
      "Accuracy on Test Set: 9548.0/10000 (95.4800%)\n",
      "\n",
      "--------------------------------------------------------\n",
      " \tEpoch 2/10: Train step 600/600 loss = 1118.9884\n",
      "\n",
      "Accuracy on Test Set: 9592.0/10000 (95.9200%)\n",
      "\n",
      "--------------------------------------------------------\n",
      " \tEpoch 3/10: Train step 600/600 loss = 1109.6389\n",
      "\n",
      "Accuracy on Test Set: 9605.0/10000 (96.0500%)\n",
      "\n",
      "--------------------------------------------------------\n",
      " \tEpoch 4/10: Train step 600/600 loss = 1101.7903\n",
      "\n",
      "Accuracy on Test Set: 9673.0/10000 (96.7300%)\n",
      "\n",
      "--------------------------------------------------------\n",
      " \tEpoch 5/10: Train step 600/600 loss = 1094.7555\n",
      "\n",
      "Accuracy on Test Set: 9683.0/10000 (96.8300%)\n",
      "\n",
      "--------------------------------------------------------\n",
      " \tEpoch 6/10: Train step 600/600 loss = 1093.8123\n",
      "\n",
      "Accuracy on Test Set: 9636.0/10000 (96.3600%)\n",
      "\n",
      "--------------------------------------------------------\n",
      " \tEpoch 7/10: Train step 600/600 loss = 1090.7699\n",
      "\n",
      "Accuracy on Test Set: 9698.0/10000 (96.9800%)\n",
      "\n",
      "--------------------------------------------------------\n",
      " \tEpoch 8/10: Train step 600/600 loss = 1080.1414\n",
      "\n",
      "Accuracy on Test Set: 9716.0/10000 (97.1600%)\n",
      "\n",
      "--------------------------------------------------------\n",
      " \tEpoch 9/10: Train step 600/600 loss = 1081.4099\n",
      "\n",
      "Accuracy on Test Set: 9697.0/10000 (96.9700%)\n",
      "\n",
      "--------------------------------------------------------\n",
      " \tEpoch 10/10: Train step 600/600 loss = 1078.1091\n",
      "========================================================\n",
      "Training model 10/10:\n",
      "\n",
      "Accuracy on Test Set: 643.0/10000 (6.4300%)\n",
      "\n",
      "--------------------------------------------------------\n",
      " \tEpoch 1/10: Train step 600/600 loss = 1139.8175\n",
      "\n",
      "Accuracy on Test Set: 9521.0/10000 (95.2100%)\n",
      "\n",
      "--------------------------------------------------------\n",
      " \tEpoch 2/10: Train step 600/600 loss = 1134.8092\n",
      "\n",
      "Accuracy on Test Set: 9625.0/10000 (96.2500%)\n",
      "\n",
      "--------------------------------------------------------\n",
      " \tEpoch 3/10: Train step 600/600 loss = 1108.7294\n",
      "\n",
      "Accuracy on Test Set: 9638.0/10000 (96.3800%)\n",
      "\n",
      "--------------------------------------------------------\n",
      " \tEpoch 4/10: Train step 600/600 loss = 1116.1650\n",
      "\n",
      "Accuracy on Test Set: 9669.0/10000 (96.6900%)\n",
      "\n",
      "--------------------------------------------------------\n",
      " \tEpoch 5/10: Train step 600/600 loss = 1094.3898\n",
      "\n",
      "Accuracy on Test Set: 9682.0/10000 (96.8200%)\n",
      "\n",
      "--------------------------------------------------------\n",
      " \tEpoch 6/10: Train step 600/600 loss = 1093.4272\n",
      "\n",
      "Accuracy on Test Set: 9682.0/10000 (96.8200%)\n",
      "\n",
      "--------------------------------------------------------\n",
      " \tEpoch 7/10: Train step 600/600 loss = 1092.5635\n",
      "\n",
      "Accuracy on Test Set: 9635.0/10000 (96.3500%)\n",
      "\n",
      "--------------------------------------------------------\n",
      " \tEpoch 8/10: Train step 600/600 loss = 1076.8901\n",
      "\n",
      "Accuracy on Test Set: 9726.0/10000 (97.2600%)\n",
      "\n",
      "--------------------------------------------------------\n",
      " \tEpoch 9/10: Train step 600/600 loss = 1076.3022\n",
      "\n",
      "Accuracy on Test Set: 9642.0/10000 (96.4200%)\n",
      "\n",
      "--------------------------------------------------------\n",
      " \tEpoch 10/10: Train step 600/600 loss = 1073.8059\n",
      "========================================================\n"
     ]
    }
   ],
   "source": [
    "Ens_VIModels, Ens_VILoss, Ens_VIAcc = ensemble_VItraining(train_loader, test_loader, nepochs = 10, nmodels = 10, nbatch = 100, track = True)"
   ]
  },
  {
   "cell_type": "markdown",
   "metadata": {
    "id": "WAY1ILLtvRmG"
   },
   "source": [
    "**Training Accuracy on Testset**"
   ]
  },
  {
   "cell_type": "code",
   "execution_count": null,
   "metadata": {
    "colab": {
     "base_uri": "https://localhost:8080/",
     "height": 348
    },
    "executionInfo": {
     "elapsed": 690,
     "status": "ok",
     "timestamp": 1660278381817,
     "user": {
      "displayName": "Chao Wang",
      "userId": "15397188646529269947"
     },
     "user_tz": -60
    },
    "id": "mW7fUpw3tDYJ",
    "outputId": "4a698f46-dc76-4279-8f6d-9063700d9c1d"
   },
   "outputs": [
    {
     "data": {
      "image/png": "[encoded data removed]",
      "text/plain": [
       "<Figure size 720x360 with 1 Axes>"
      ]
     },
     "metadata": {
      "needs_background": "light"
     },
     "output_type": "display_data"
    }
   ],
   "source": [
    "fs = 20\n",
    "Ens_VIacc_fig = plt.figure(figsize=(10,5))\n",
    "for i in range(len(Ens_VIAcc)): \n",
    "  plt.plot(Ens_VIAcc[i], label = \"model {}\".format(i+1))\n",
    "plt.grid()\n",
    "# plt.xlim(0,3000)\n",
    "plt.xlabel('Epoch',fontsize=fs)\n",
    "plt.ylabel('Accuracy (%)',fontsize=fs)\n",
    "plt.tick_params(labelsize=15)\n",
    "plt.legend()\n",
    "plt.show()"
   ]
  },
  {
   "cell_type": "code",
   "execution_count": null,
   "metadata": {
    "id": "dJgv369uPTq9"
   },
   "outputs": [],
   "source": [
    "Ens_VIacc_fig.savefig(\"Ens_VIacc_fig.png\")"
   ]
  },
  {
   "cell_type": "markdown",
   "metadata": {
    "id": "NomK5eEsvYWy"
   },
   "source": [
    "**Training Loss on Trainset**"
   ]
  },
  {
   "cell_type": "code",
   "execution_count": null,
   "metadata": {
    "colab": {
     "base_uri": "https://localhost:8080/",
     "height": 348
    },
    "executionInfo": {
     "elapsed": 735,
     "status": "ok",
     "timestamp": 1660278386694,
     "user": {
      "displayName": "Chao Wang",
      "userId": "15397188646529269947"
     },
     "user_tz": -60
    },
    "id": "nDZJ9epju48o",
    "outputId": "78c1cf5b-a1b9-4087-de58-b42c3a5ec667"
   },
   "outputs": [
    {
     "data": {
      "image/png": "[encoded data removed]",
      "text/plain": [
       "<Figure size 720x360 with 1 Axes>"
      ]
     },
     "metadata": {
      "needs_background": "light"
     },
     "output_type": "display_data"
    }
   ],
   "source": [
    "fs = 20\n",
    "Ens_VIloss_fig = plt.figure(figsize=(10,5))\n",
    "for i in range(len(Ens_VILoss)): \n",
    "    x = np.arange(len(Ens_VILoss[i]))[50:] / 600.\n",
    "    plt.plot(x, Ens_VILoss[i][50:], label = \"model {}\".format(i+1))\n",
    "plt.grid()\n",
    "# plt.xlim(0,3000)\n",
    "plt.xlabel('Epoch',fontsize=fs)\n",
    "plt.ylabel('Loss [-ELBO]',fontsize=fs)\n",
    "plt.tick_params(labelsize=15)\n",
    "plt.legend()\n",
    "plt.show()"
   ]
  },
  {
   "cell_type": "code",
   "execution_count": null,
   "metadata": {
    "id": "lgb1wOsePg5m"
   },
   "outputs": [],
   "source": [
    "Ens_VIloss_fig.savefig(\"Ens_VIloss_fig.png\")"
   ]
  },
  {
   "cell_type": "markdown",
   "metadata": {
    "id": "wkKZnZVXvnB8"
   },
   "source": [
    "**Calculate Training Time**"
   ]
  },
  {
   "cell_type": "code",
   "execution_count": null,
   "metadata": {
    "colab": {
     "base_uri": "https://localhost:8080/"
    },
    "executionInfo": {
     "elapsed": 4850210,
     "status": "ok",
     "timestamp": 1661400113151,
     "user": {
      "displayName": "Chao Wang",
      "userId": "15397188646529269947"
     },
     "user_tz": -60
    },
    "id": "qTMMgkK-vmad",
    "outputId": "121b875e-8ec4-4dc2-b0d6-47ed86b78c8c"
   },
   "outputs": [
    {
     "name": "stdout",
     "output_type": "stream",
     "text": [
      "Training model 1/10:\n",
      " \tEpoch 1/10: Train step 600/600 loss = 1149.5453\n",
      " \tEpoch 2/10: Train step 600/600 loss = 1115.6996\n",
      " \tEpoch 3/10: Train step 600/600 loss = 1106.3076\n",
      " \tEpoch 4/10: Train step 600/600 loss = 1104.8948\n",
      " \tEpoch 5/10: Train step 600/600 loss = 1097.5658\n",
      " \tEpoch 6/10: Train step 600/600 loss = 1087.2404\n",
      " \tEpoch 7/10: Train step 600/600 loss = 1080.1653\n",
      " \tEpoch 8/10: Train step 600/600 loss = 1080.6036\n",
      " \tEpoch 9/10: Train step 600/600 loss = 1068.3672\n",
      " \tEpoch 10/10: Train step 600/600 loss = 1070.5305\n",
      "========================================================\n",
      "Training model 2/10:\n",
      " \tEpoch 1/10: Train step 600/600 loss = 1138.9711\n",
      " \tEpoch 2/10: Train step 600/600 loss = 1133.8229\n",
      " \tEpoch 3/10: Train step 600/600 loss = 1106.4509\n",
      " \tEpoch 4/10: Train step 600/600 loss = 1100.8108\n",
      " \tEpoch 5/10: Train step 600/600 loss = 1090.2715\n",
      " \tEpoch 6/10: Train step 600/600 loss = 1087.3562\n",
      " \tEpoch 7/10: Train step 600/600 loss = 1083.2522\n",
      " \tEpoch 8/10: Train step 600/600 loss = 1079.0367\n",
      " \tEpoch 9/10: Train step 600/600 loss = 1071.1637\n",
      " \tEpoch 10/10: Train step 600/600 loss = 1070.3148\n",
      "========================================================\n",
      "Training model 3/10:\n",
      " \tEpoch 1/10: Train step 600/600 loss = 1131.0776\n",
      " \tEpoch 2/10: Train step 600/600 loss = 1122.9434\n",
      " \tEpoch 3/10: Train step 600/600 loss = 1103.7576\n",
      " \tEpoch 4/10: Train step 600/600 loss = 1092.8584\n",
      " \tEpoch 5/10: Train step 600/600 loss = 1094.5348\n",
      " \tEpoch 6/10: Train step 600/600 loss = 1079.6003\n",
      " \tEpoch 7/10: Train step 600/600 loss = 1072.9016\n",
      " \tEpoch 8/10: Train step 600/600 loss = 1070.3557\n",
      " \tEpoch 9/10: Train step 600/600 loss = 1063.8940\n",
      " \tEpoch 10/10: Train step 600/600 loss = 1059.0673\n",
      "========================================================\n",
      "Training model 4/10:\n",
      " \tEpoch 1/10: Train step 600/600 loss = 1159.1733\n",
      " \tEpoch 2/10: Train step 600/600 loss = 1121.4963\n",
      " \tEpoch 3/10: Train step 600/600 loss = 1110.6886\n",
      " \tEpoch 4/10: Train step 600/600 loss = 1118.5039\n",
      " \tEpoch 5/10: Train step 600/600 loss = 1099.7480\n",
      " \tEpoch 6/10: Train step 600/600 loss = 1092.9614\n",
      " \tEpoch 7/10: Train step 600/600 loss = 1093.9062\n",
      " \tEpoch 8/10: Train step 600/600 loss = 1083.8599\n",
      " \tEpoch 9/10: Train step 600/600 loss = 1079.3350\n",
      " \tEpoch 10/10: Train step 600/600 loss = 1085.5745\n",
      "========================================================\n",
      "Training model 5/10:\n",
      " \tEpoch 1/10: Train step 600/600 loss = 1140.6775\n",
      " \tEpoch 2/10: Train step 600/600 loss = 1125.3821\n",
      " \tEpoch 3/10: Train step 600/600 loss = 1106.9297\n",
      " \tEpoch 4/10: Train step 600/600 loss = 1102.0288\n",
      " \tEpoch 5/10: Train step 600/600 loss = 1086.2469\n",
      " \tEpoch 6/10: Train step 600/600 loss = 1086.9927\n",
      " \tEpoch 7/10: Train step 600/600 loss = 1076.5070\n",
      " \tEpoch 8/10: Train step 600/600 loss = 1071.3771\n",
      " \tEpoch 9/10: Train step 600/600 loss = 1064.8246\n",
      " \tEpoch 10/10: Train step 600/600 loss = 1062.6722\n",
      "========================================================\n",
      "Training model 6/10:\n",
      " \tEpoch 1/10: Train step 600/600 loss = 1137.4093\n",
      " \tEpoch 2/10: Train step 600/600 loss = 1142.3109\n",
      " \tEpoch 3/10: Train step 600/600 loss = 1108.4012\n",
      " \tEpoch 4/10: Train step 600/600 loss = 1109.5085\n",
      " \tEpoch 5/10: Train step 600/600 loss = 1093.9891\n",
      " \tEpoch 6/10: Train step 600/600 loss = 1086.2007\n",
      " \tEpoch 7/10: Train step 600/600 loss = 1083.4846\n",
      " \tEpoch 8/10: Train step 600/600 loss = 1081.9800\n",
      " \tEpoch 9/10: Train step 600/600 loss = 1082.8750\n",
      " \tEpoch 10/10: Train step 600/600 loss = 1069.9799\n",
      "========================================================\n",
      "Training model 7/10:\n",
      " \tEpoch 1/10: Train step 600/600 loss = 1134.1080\n",
      " \tEpoch 2/10: Train step 600/600 loss = 1133.9210\n",
      " \tEpoch 3/10: Train step 600/600 loss = 1107.5151\n",
      " \tEpoch 4/10: Train step 600/600 loss = 1093.3044\n",
      " \tEpoch 5/10: Train step 600/600 loss = 1087.4923\n",
      " \tEpoch 6/10: Train step 600/600 loss = 1076.9280\n",
      " \tEpoch 7/10: Train step 600/600 loss = 1077.4312\n",
      " \tEpoch 8/10: Train step 600/600 loss = 1078.1892\n",
      " \tEpoch 9/10: Train step 600/600 loss = 1064.5947\n",
      " \tEpoch 10/10: Train step 600/600 loss = 1059.4521\n",
      "========================================================\n",
      "Training model 8/10:\n",
      " \tEpoch 1/10: Train step 600/600 loss = 1152.5062\n",
      " \tEpoch 2/10: Train step 600/600 loss = 1127.3112\n",
      " \tEpoch 3/10: Train step 600/600 loss = 1106.3893\n",
      " \tEpoch 4/10: Train step 600/600 loss = 1101.5630\n",
      " \tEpoch 5/10: Train step 600/600 loss = 1091.9360\n",
      " \tEpoch 6/10: Train step 600/600 loss = 1094.2208\n",
      " \tEpoch 7/10: Train step 600/600 loss = 1084.5403\n",
      " \tEpoch 8/10: Train step 600/600 loss = 1074.3995\n",
      " \tEpoch 9/10: Train step 600/600 loss = 1073.0266\n",
      " \tEpoch 10/10: Train step 600/600 loss = 1067.1995\n",
      "========================================================\n",
      "Training model 9/10:\n",
      " \tEpoch 1/10: Train step 600/600 loss = 1138.4644\n",
      " \tEpoch 2/10: Train step 600/600 loss = 1123.1899\n",
      " \tEpoch 3/10: Train step 600/600 loss = 1106.0262\n",
      " \tEpoch 4/10: Train step 600/600 loss = 1099.2960\n",
      " \tEpoch 5/10: Train step 600/600 loss = 1093.0271\n",
      " \tEpoch 6/10: Train step 600/600 loss = 1084.9642\n",
      " \tEpoch 7/10: Train step 600/600 loss = 1089.8469\n",
      " \tEpoch 8/10: Train step 600/600 loss = 1078.0005\n",
      " \tEpoch 9/10: Train step 600/600 loss = 1075.5991\n",
      " \tEpoch 10/10: Train step 600/600 loss = 1065.3558\n",
      "========================================================\n",
      "Training model 10/10:\n",
      " \tEpoch 1/10: Train step 600/600 loss = 1133.3445\n",
      " \tEpoch 2/10: Train step 600/600 loss = 1111.0798\n",
      " \tEpoch 3/10: Train step 600/600 loss = 1135.6260\n",
      " \tEpoch 4/10: Train step 600/600 loss = 1099.5226\n",
      " \tEpoch 5/10: Train step 600/600 loss = 1095.7402\n",
      " \tEpoch 6/10: Train step 600/600 loss = 1089.0170\n",
      " \tEpoch 7/10: Train step 600/600 loss = 1078.0715\n",
      " \tEpoch 8/10: Train step 600/600 loss = 1085.9052\n",
      " \tEpoch 9/10: Train step 600/600 loss = 1079.9100\n",
      " \tEpoch 10/10: Train step 600/600 loss = 1069.7115\n",
      "========================================================\n",
      "CPU times: user 1h 17min 50s, sys: 3min 24s, total: 1h 21min 15s\n",
      "Wall time: 1h 20min 50s\n",
      "4850.021805047989\n"
     ]
    }
   ],
   "source": [
    "Ens_VItraining_start = time.time()\n",
    "\n",
    "%time Ens_VIModels = ensemble_VItraining(train_loader, test_loader, nepochs = 10, nmodels = 10, nbatch = 100, track = False)\n",
    "\n",
    "Ens_VItraining_end = time.time()\n",
    "\n",
    "Ens_VItraining_time = Ens_VItraining_end - Ens_VItraining_start\n",
    "\n",
    "print(Ens_VItraining_time)"
   ]
  },
  {
   "cell_type": "markdown",
   "metadata": {
    "id": "ZlETWB88YgTC"
   },
   "source": [
    "**Accuracy on Testset**"
   ]
  },
  {
   "cell_type": "code",
   "execution_count": null,
   "metadata": {
    "colab": {
     "base_uri": "https://localhost:8080/"
    },
    "executionInfo": {
     "elapsed": 417915,
     "status": "ok",
     "timestamp": 1661419417552,
     "user": {
      "displayName": "Chao Wang",
      "userId": "15397188646529269947"
     },
     "user_tz": -60
    },
    "id": "pYdP6GK9SUh6",
    "outputId": "f34880f5-e4ad-4d3c-9563-7a5f56939fda"
   },
   "outputs": [
    {
     "name": "stdout",
     "output_type": "stream",
     "text": [
      "\n",
      "Accuracy on Test Set: 9851.0/10000 (98.5100%)\n",
      "\n"
     ]
    }
   ],
   "source": [
    "nruntests = 1000\n",
    "nbatch = 100\n",
    "nclass = 10\n",
    "nmodels = 10\n",
    "\n",
    "with torch.no_grad(): \n",
    "\n",
    "    correct = 0\n",
    "\n",
    "    for batch_id, sample in enumerate(test_loader): \n",
    "\n",
    "        images, labels = sample\n",
    "        images, labels = images.to(device), labels.to(device)\n",
    "        #print(labels.shape)\n",
    "\n",
    "        pred_list = torch.zeros((nruntests, nbatch, nclass)).to(device)\n",
    "\n",
    "        for i in np.arange(nruntests): \n",
    "\n",
    "            model_num = np.random.randint(nmodels)\n",
    "            model = Ens_VIModels[model_num]\n",
    "\n",
    "            model.to(device)\n",
    "            model.eval()\n",
    "\n",
    "            pred = model(images)\n",
    "\n",
    "            pred_list[i,:,:] = pred\n",
    "        \n",
    "        #print(pred_list.shape)\n",
    "\n",
    "        pred_mean = torch.mean(pred_list, dim = 0)\n",
    "\n",
    "        #print(pred_mean.shape)\n",
    "\n",
    "        pred_labels = pred_mean.argmax(dim = 1)\n",
    "\n",
    "        #print(pred_labels.shape)\n",
    "\n",
    "        correct += pred_labels.eq(labels).float().sum().item()\n",
    "\n",
    "    print(\"\\nAccuracy on Test Set: {}/{} ({:.4f}%)\\n\".format(\n",
    "    correct, len(testset), correct/len(testset) * 100.))\n",
    "    \n",
    "    Ens_VIacc = correct/len(testset) * 100."
   ]
  },
  {
   "cell_type": "code",
   "execution_count": null,
   "metadata": {
    "colab": {
     "base_uri": "https://localhost:8080/"
    },
    "executionInfo": {
     "elapsed": 351033,
     "status": "ok",
     "timestamp": 1660278868388,
     "user": {
      "displayName": "Chao Wang",
      "userId": "15397188646529269947"
     },
     "user_tz": -60
    },
    "id": "JyIx9TJZYj-G",
    "outputId": "d957f250-7ddd-4521-bce8-732f08525437"
   },
   "outputs": [
    {
     "name": "stdout",
     "output_type": "stream",
     "text": [
      "\n",
      "Accuracy on Test Set: 9838.0/10000 (98.3800%)\n",
      "\n"
     ]
    }
   ],
   "source": [
    "nruntests = 1000\n",
    "nbatch = 100\n",
    "nclass = 10\n",
    "nmodels = 10\n",
    "\n",
    "with torch.no_grad(): \n",
    "\n",
    "    correct = 0\n",
    "\n",
    "    for batch_id, sample in enumerate(test_loader): \n",
    "\n",
    "        images, labels = sample\n",
    "        images, labels = images.to(device), labels.to(device)\n",
    "        #print(labels.shape)\n",
    "\n",
    "        pred_list = torch.zeros((nruntests, nbatch, nclass)).to(device)\n",
    "\n",
    "        for i in np.arange(nruntests): \n",
    "\n",
    "            model_num = np.random.randint(nmodels)\n",
    "            model = Ens_VIModels[model_num]\n",
    "\n",
    "            model.to(device)\n",
    "            model.eval()\n",
    "\n",
    "            pred = model(images)\n",
    "\n",
    "            pred_list[i,:,:] = pred\n",
    "        \n",
    "        #print(pred_list.shape)\n",
    "\n",
    "        pred_mean = torch.mean(pred_list, dim = 0)\n",
    "\n",
    "        #print(pred_mean.shape)\n",
    "\n",
    "        pred_labels = pred_mean.argmax(dim = 1)\n",
    "\n",
    "        #print(pred_labels.shape)\n",
    "\n",
    "        correct += pred_labels.eq(labels).float().sum().item()\n",
    "\n",
    "    print(\"\\nAccuracy on Test Set: {}/{} ({:.4f}%)\\n\".format(\n",
    "    correct, len(testset), correct/len(testset) * 100.))\n",
    "    \n",
    "    Ens_VIacc = correct/len(testset) * 100.\n"
   ]
  },
  {
   "cell_type": "markdown",
   "metadata": {
    "id": "0tJTv3YT0nwz"
   },
   "source": [
    "**-------------------------------------------------------------------------------------------------------------------------------------------------------------------**"
   ]
  },
  {
   "cell_type": "markdown",
   "metadata": {
    "id": "brHIAfrQ0tT4"
   },
   "source": [
    "# **Hamiltonian Monte Carlo (HMC)**"
   ]
  },
  {
   "cell_type": "code",
   "execution_count": null,
   "metadata": {
    "id": "KECbg3Hl3WIb"
   },
   "outputs": [],
   "source": [
    "class MLP(nn.Module):\n",
    "    \n",
    "    def __init__(self):\n",
    "        super(MLP, self).__init__()\n",
    "        self.fc1 = nn.Linear(28*28, 200)\n",
    "        self.fc2 = nn.Linear(200, 10)\n",
    "\n",
    "    def forward(self, x):\n",
    "        x = F.relu(self.fc1(x))\n",
    "        x = self.fc2(x)\n",
    "        return x\n",
    "HMC_model = MLP()"
   ]
  },
  {
   "cell_type": "code",
   "execution_count": null,
   "metadata": {
    "colab": {
     "base_uri": "https://localhost:8080/"
    },
    "executionInfo": {
     "elapsed": 2,
     "status": "ok",
     "timestamp": 1661400113470,
     "user": {
      "displayName": "Chao Wang",
      "userId": "15397188646529269947"
     },
     "user_tz": -60
    },
    "id": "GdBul0rU06oc",
    "outputId": "e2111e23-c1dc-4c1d-8b55-75962847824d"
   },
   "outputs": [
    {
     "name": "stderr",
     "output_type": "stream",
     "text": [
      "/usr/local/lib/python3.7/dist-packages/torchvision/datasets/mnist.py:75: UserWarning: train_data has been renamed data\n",
      "  warnings.warn(\"train_data has been renamed data\")\n"
     ]
    },
    {
     "name": "stdout",
     "output_type": "stream",
     "text": [
      "torch.Size([60000, 28, 28])\n",
      "torch.Size([60000, 784])\n",
      "torch.Size([60000, 1])\n",
      "torch.Size([10000, 28, 28])\n",
      "torch.Size([10000, 784])\n",
      "torch.Size([10000, 1])\n"
     ]
    },
    {
     "name": "stderr",
     "output_type": "stream",
     "text": [
      "/usr/local/lib/python3.7/dist-packages/torchvision/datasets/mnist.py:65: UserWarning: train_labels has been renamed targets\n",
      "  warnings.warn(\"train_labels has been renamed targets\")\n"
     ]
    }
   ],
   "source": [
    "N_tr = 60000\n",
    "N_test = 10000\n",
    "\n",
    "\n",
    "x_train = trainset.train_data[:N_tr].float()/255.\n",
    "print(x_train.shape)\n",
    "x_train = x_train.view(-1, 784)\n",
    "print(x_train.shape)\n",
    "y_train = trainset.train_labels[:N_tr].reshape((-1,1)).float()\n",
    "print(y_train.shape)\n",
    "x_test = testset.train_data[:N_test].float()/255.\n",
    "print(x_test.shape)\n",
    "x_test = x_test.view(-1, 784)\n",
    "print(x_test.shape)\n",
    "y_test = testset.train_labels[:N_test].reshape((-1,1)).float()\n",
    "print(y_test.shape)\n",
    "\n",
    "x_train = x_train.to(device)\n",
    "y_train = y_train.to(device)\n",
    "x_test = x_test.to(device)\n",
    "y_test = y_test.to(device)"
   ]
  },
  {
   "cell_type": "code",
   "execution_count": null,
   "metadata": {
    "colab": {
     "base_uri": "https://localhost:8080/"
    },
    "executionInfo": {
     "elapsed": 8,
     "status": "ok",
     "timestamp": 1661400113709,
     "user": {
      "displayName": "Chao Wang",
      "userId": "15397188646529269947"
     },
     "user_tz": -60
    },
    "id": "FH8TKaig1Ty6",
    "outputId": "13628917-7f03-49eb-b100-6a65db98a39b"
   },
   "outputs": [
    {
     "name": "stdout",
     "output_type": "stream",
     "text": [
      "torch.Size([159010])\n"
     ]
    }
   ],
   "source": [
    "tau_list = []\n",
    "tau = 10.#./100. # 1/50\n",
    "for w in HMC_model.parameters():\n",
    "#     print(w.nelement())\n",
    "#     tau_list.append(tau/w.nelement())\n",
    "    tau_list.append(tau)\n",
    "tau_list = torch.tensor(tau_list).to(device)\n",
    "\n",
    "hamiltorch.set_random_seed(123)\n",
    "HMC_model = MLP()\n",
    "params_init = hamiltorch.util.flatten(HMC_model).to(device).clone()\n",
    "print(params_init.shape)\n",
    "\n",
    "step_size = 0.001\n",
    "num_samples = 1000\n",
    "L = 20\n",
    "tau_out = 1.\n",
    "normalizing_const = 1.\n",
    "burn =0 #GPU: 3000"
   ]
  },
  {
   "cell_type": "code",
   "execution_count": null,
   "metadata": {
    "colab": {
     "base_uri": "https://localhost:8080/"
    },
    "executionInfo": {
     "elapsed": 17306760,
     "status": "ok",
     "timestamp": 1661417420464,
     "user": {
      "displayName": "Chao Wang",
      "userId": "15397188646529269947"
     },
     "user_tz": -60
    },
    "id": "myuFhxpS1nFZ",
    "outputId": "3b21d211-18a5-4a24-e00f-ca1275c3e1ac"
   },
   "outputs": [
    {
     "name": "stdout",
     "output_type": "stream",
     "text": [
      "Sampling (Sampler.HMC; Integrator.IMPLICIT)\n",
      "Time spent  | Time remain.| Progress             | Samples   | Samples/sec\n",
      "\n",
      "Acceptance Rate 0.96\n",
      "CPU times: user 4h 48min 11s, sys: 1min 5s, total: 4h 49min 16s\n",
      "Wall time: 4h 48min 26s\n",
      "17306.12430167198\n"
     ]
    }
   ],
   "source": [
    "HMC_training_start = time.time()\n",
    "\n",
    "%time params_hmc = hamiltorch.sample_model(HMC_model, x_train, y_train, params_init=params_init, model_loss='multi_class_linear_output', num_samples=num_samples, burn = burn, step_size=step_size, num_steps_per_sample=L,tau_out=tau_out, tau_list=tau_list, normalizing_const=normalizing_const)\n",
    "\n",
    "HMC_training_end = time.time()\n",
    "\n",
    "HMC_training_time = HMC_training_end - HMC_training_start\n",
    "\n",
    "print(HMC_training_time)"
   ]
  },
  {
   "cell_type": "code",
   "execution_count": null,
   "metadata": {
    "colab": {
     "base_uri": "https://localhost:8080/"
    },
    "executionInfo": {
     "elapsed": 103238,
     "status": "ok",
     "timestamp": 1661418269841,
     "user": {
      "displayName": "Chao Wang",
      "userId": "15397188646529269947"
     },
     "user_tz": -60
    },
    "id": "ha1fmfh612gT",
    "outputId": "2925ac80-bdbd-4547-98de-79b3e6dc3c83"
   },
   "outputs": [
    {
     "name": "stdout",
     "output_type": "stream",
     "text": [
      "torch.Size([1000, 10000, 10])\n",
      "torch.Size([1000, 10000])\n"
     ]
    }
   ],
   "source": [
    "pred_list, log_prob_list = hamiltorch.predict_model(HMC_model, x = x_test, y = y_test, samples=params_hmc, model_loss='multi_class_log_softmax_output', tau_out=1., tau_list=tau_list)\n",
    "print(pred_list.shape)\n",
    "\n",
    "_, pred = torch.max(pred_list, 2)\n",
    "print(pred.shape)\n",
    "acc = []\n",
    "acc = torch.zeros( int(len(params_hmc))-1)\n",
    "nll = torch.zeros( int(len(params_hmc))-1)\n",
    "ensemble_proba = F.softmax(pred_list[0], dim=-1)\n",
    "for s in range(1,len(params_hmc)):\n",
    "    _, pred = torch.max(pred_list[:s].mean(0), -1)\n",
    "    acc[s-1] = (pred.float() == y_test.flatten()).sum().float()/y_test.shape[0]\n",
    "    ensemble_proba += F.softmax(pred_list[s], dim=-1)\n",
    "    nll[s-1] = F.nll_loss(torch.log(ensemble_proba.cpu()/(s+1)), y_test[:].long().cpu().flatten(), reduction='mean')"
   ]
  },
  {
   "cell_type": "code",
   "execution_count": null,
   "metadata": {
    "colab": {
     "base_uri": "https://localhost:8080/",
     "height": 366
    },
    "executionInfo": {
     "elapsed": 276,
     "status": "ok",
     "timestamp": 1660277594050,
     "user": {
      "displayName": "Chao Wang",
      "userId": "15397188646529269947"
     },
     "user_tz": -60
    },
    "id": "GLjg9m4l25jr",
    "outputId": "b0391bc6-3ada-4a90-f098-673d905c2276"
   },
   "outputs": [
    {
     "data": {
      "image/png": "[encoded data removed]",
      "text/plain": [
       "<Figure size 720x360 with 1 Axes>"
      ]
     },
     "metadata": {
      "needs_background": "light"
     },
     "output_type": "display_data"
    },
    {
     "name": "stdout",
     "output_type": "stream",
     "text": [
      "Accuracy: 97.8400%\n"
     ]
    }
   ],
   "source": [
    "fs = 20\n",
    "HMC_acc_fig = plt.figure(figsize=(10,5))\n",
    "plt.plot(acc * 100.)\n",
    "plt.grid()\n",
    "# plt.xlim(0,3000)\n",
    "plt.xlabel('Iteration number',fontsize=fs)\n",
    "plt.ylabel('Sample accuracy (%)',fontsize=fs)\n",
    "plt.tick_params(labelsize=15)\n",
    "plt.show()\n",
    "\n",
    "print(\"Accuracy: {:.4f}%\".format(acc[-1].detach().numpy() * 100.))\n",
    "\n",
    "HMC_acc = (acc[-1].detach().numpy() * 100.).round(4)"
   ]
  },
  {
   "cell_type": "code",
   "execution_count": null,
   "metadata": {
    "id": "dASfre9ZQSJ9"
   },
   "outputs": [],
   "source": [
    "HMC_acc_fig.savefig(\"HMC_acc_fig.png\")"
   ]
  },
  {
   "cell_type": "code",
   "execution_count": null,
   "metadata": {
    "colab": {
     "base_uri": "https://localhost:8080/",
     "height": 348
    },
    "executionInfo": {
     "elapsed": 273,
     "status": "ok",
     "timestamp": 1660277657142,
     "user": {
      "displayName": "Chao Wang",
      "userId": "15397188646529269947"
     },
     "user_tz": -60
    },
    "id": "0ucf_VaI266b",
    "outputId": "440bdb40-909c-4237-8169-6bbe44788ed3"
   },
   "outputs": [
    {
     "data": {
      "image/png": "[encoded data removed]",
      "text/plain": [
       "<Figure size 720x360 with 1 Axes>"
      ]
     },
     "metadata": {
      "needs_background": "light"
     },
     "output_type": "display_data"
    }
   ],
   "source": [
    "fs = 20\n",
    "HMC_loss_fig = plt.figure(figsize=(10,5))\n",
    "plt.plot(nll)\n",
    "plt.grid()\n",
    "# plt.xlim(0,3000)\n",
    "plt.xlabel('Iteration number',fontsize=fs)\n",
    "plt.ylabel('Negative Log Likelihood',fontsize=fs)\n",
    "plt.tick_params(labelsize=15)\n",
    "plt.show()"
   ]
  },
  {
   "cell_type": "code",
   "execution_count": null,
   "metadata": {
    "id": "J9BcmAhcQksm"
   },
   "outputs": [],
   "source": [
    "HMC_loss_fig.savefig(\"HMC_loss_fig.png\")"
   ]
  },
  {
   "cell_type": "markdown",
   "metadata": {
    "id": "_R_4qv-1H99Q"
   },
   "source": [
    "**-------------------------------------------------------------------------------------------------------------------------------------------------------------------**"
   ]
  },
  {
   "cell_type": "markdown",
   "metadata": {
    "id": "xfjV5SqOnmlr"
   },
   "source": [
    "# **Comparison**"
   ]
  },
  {
   "cell_type": "markdown",
   "metadata": {
    "id": "RyYzEDijbcDr"
   },
   "source": [
    "**Training Time Comparison**"
   ]
  },
  {
   "cell_type": "code",
   "execution_count": null,
   "metadata": {
    "colab": {
     "base_uri": "https://localhost:8080/",
     "height": 328
    },
    "executionInfo": {
     "elapsed": 434,
     "status": "ok",
     "timestamp": 1660277724258,
     "user": {
      "displayName": "Chao Wang",
      "userId": "15397188646529269947"
     },
     "user_tz": -60
    },
    "id": "MAY8KSSr4MWP",
    "outputId": "153f6db4-10b4-4166-ce11-bc927c58a4b2"
   },
   "outputs": [
    {
     "data": {
      "image/png": "[encoded data removed]",
      "text/plain": [
       "<Figure size 720x360 with 1 Axes>"
      ]
     },
     "metadata": {
      "needs_background": "light"
     },
     "output_type": "display_data"
    }
   ],
   "source": [
    "fs = 20\n",
    "time_comparison_fig = plt.figure(figsize=(10,5))\n",
    "training_approach = ['Point Estimate', 'HMC', 'VI', 'Ensembles', 'VI + Ensembles']\n",
    "training_time = [Point_Estimate_training_time, HMC_training_time, VI_training_time, Ens_training_time, Ens_VItraining_time]\n",
    "color_back = ['r', 'g', 'b', 'c', 'm']\n",
    "\n",
    "plt.bar(training_approach, training_time, width=0.6, color=color_back)\n",
    "plt.ylabel('Training Time (s)',fontsize=fs)\n",
    "plt.tick_params(labelsize=15)\n",
    "plt.show()"
   ]
  },
  {
   "cell_type": "code",
   "execution_count": null,
   "metadata": {
    "id": "7nvqHwImQ2R1"
   },
   "outputs": [],
   "source": [
    "time_comparison_fig.savefig(\"time_comparison_fig.png\")"
   ]
  },
  {
   "cell_type": "markdown",
   "metadata": {
    "id": "C4cyeRD6nslb"
   },
   "source": [
    "**Accuracy on Testset Comparison**"
   ]
  },
  {
   "cell_type": "code",
   "execution_count": null,
   "metadata": {
    "colab": {
     "base_uri": "https://localhost:8080/",
     "height": 396
    },
    "executionInfo": {
     "elapsed": 254,
     "status": "ok",
     "timestamp": 1660278998384,
     "user": {
      "displayName": "Chao Wang",
      "userId": "15397188646529269947"
     },
     "user_tz": -60
    },
    "id": "IRhwcsgBkSfV",
    "outputId": "de2aa9a1-f6d4-4939-e19c-7ac0d06d52ab"
   },
   "outputs": [
    {
     "data": {
      "image/png": "[encoded data removed]",
      "text/plain": [
       "<Figure size 720x360 with 1 Axes>"
      ]
     },
     "metadata": {
      "needs_background": "light"
     },
     "output_type": "display_data"
    },
    {
     "name": "stdout",
     "output_type": "stream",
     "text": [
      "[90.19, 97.84, 97.7, 96.41, 98.38]\n"
     ]
    }
   ],
   "source": [
    "fs = 20\n",
    "acc_comparison_fig = plt.figure(figsize=(10,5))\n",
    "training_approach = ['Point Estimate', 'HMC', 'VI', 'Ensembles', 'VI + Ensembles']\n",
    "acc_testset = [Point_Estimate_acc, HMC_acc, VI_acc, Ens_acc, Ens_VIacc]\n",
    "color_back = ['r', 'g', 'b', 'c', 'm']\n",
    "\n",
    "plt.bar(training_approach, acc_testset, width=0.6, color=color_back)\n",
    "plt.ylim(90,100)\n",
    "plt.ylabel('Prediction Accuracy on Testset (%)',fontsize=fs)\n",
    "plt.tick_params(labelsize=15)\n",
    "plt.show()\n",
    "\n",
    "print(acc_testset)"
   ]
  },
  {
   "cell_type": "code",
   "execution_count": null,
   "metadata": {
    "id": "hqyikfp0qMuq"
   },
   "outputs": [],
   "source": [
    "acc_comparison_fig.savefig(\"acc_comparison_fig.png\")"
   ]
  },
  {
   "cell_type": "code",
   "execution_count": null,
   "metadata": {
    "id": "u1ezRU_Vb11j"
   },
   "outputs": [],
   "source": [
    "np.save('./Point_Estimate_acc.npy', Point_Estimate_acc)\n",
    "np.save('./HMC_acc.npy', HMC_acc)\n",
    "np.save('./VI_acc.npy', VI_acc)\n",
    "np.save('./Ens_acc.npy', Ens_acc)\n",
    "np.save('./Ens_VIacc.npy', Ens_VIacc)\n",
    "\n",
    "np.save('./Point_Estimate_training_time.npy', Point_Estimate_training_time)\n",
    "np.save('./HMC_training_time.npy', HMC_training_time)\n",
    "np.save('./VI_training_time.npy', VI_training_time)\n",
    "np.save('./Ens_training_time.npy', Ens_training_time)\n",
    "np.save('./Ens_VItraining_time.npy', Ens_VItraining_time)"
   ]
  },
  {
   "cell_type": "code",
   "execution_count": null,
   "metadata": {
    "id": "Ri1eulsaLGCO"
   },
   "outputs": [],
   "source": [
    "Point_Estimate_acc = np.load('/content/drive/MyDrive/Training Time and Performance Comparison/Point_Estimate_acc.npy', allow_pickle=True).item()\n",
    "HMC_acc = np.load('/content/drive/MyDrive/Training Time and Performance Comparison/HMC_acc.npy', allow_pickle=True).item()\n",
    "VI_acc = np.load('/content/drive/MyDrive/Training Time and Performance Comparison/VI_acc.npy', allow_pickle=True).item()\n",
    "Ens_acc = np.load('/content/drive/MyDrive/Training Time and Performance Comparison/Ens_acc.npy', allow_pickle=True).item()\n",
    "Ens_VIacc = np.load('/content/drive/MyDrive/Training Time and Performance Comparison/Ens_VIacc.npy', allow_pickle=True).item()\n",
    "\n",
    "Point_Estimate_training_time = np.load('/content/drive/MyDrive/Training Time and Performance Comparison/Point_Estimate_training_time.npy', allow_pickle=True).item()\n",
    "HMC_training_time = np.load('/content/drive/MyDrive/Training Time and Performance Comparison/HMC_training_time.npy', allow_pickle=True).item()\n",
    "VI_training_time = np.load('/content/drive/MyDrive/Training Time and Performance Comparison/VI_training_time.npy', allow_pickle=True).item()\n",
    "Ens_training_time = np.load('/content/drive/MyDrive/Training Time and Performance Comparison/Ens_training_time.npy', allow_pickle=True).item()\n",
    "Ens_VItraining_time = np.load('/content/drive/MyDrive/Training Time and Performance Comparison/Ens_VItraining_time.npy', allow_pickle=True).item()"
   ]
  },
  {
   "cell_type": "code",
   "execution_count": null,
   "metadata": {
    "colab": {
     "base_uri": "https://localhost:8080/",
     "height": 449
    },
    "executionInfo": {
     "elapsed": 1110,
     "status": "ok",
     "timestamp": 1661753194223,
     "user": {
      "displayName": "Chao Wang",
      "userId": "15397188646529269947"
     },
     "user_tz": -60
    },
    "id": "sS3Xzm5oMJY8",
    "outputId": "8e1d4c42-6df8-43db-e9ff-50b868857b37"
   },
   "outputs": [
    {
     "data": {
      "image/png": "[encoded data removed]",
      "text/plain": [
       "<Figure size 720x432 with 2 Axes>"
      ]
     },
     "metadata": {
      "needs_background": "light"
     },
     "output_type": "display_data"
    }
   ],
   "source": [
    "fs = 20\n",
    "fig_train_compare, ax1 = plt.subplots(figsize=(10,6))\n",
    "ax1.set_ylabel('Prediction Accuracy on Testset (%)',fontsize=fs)\n",
    "ax1.set_ylim(90,100)\n",
    "Training_Methods = ['Classical Backpropagation', 'MCMC (HMC)', 'VI (Bayes by Backprop)', 'Classical Ensemble', 'VI Ensemble']\n",
    "acc_testset = [Point_Estimate_acc, HMC_acc, VI_acc, Ens_acc, Ens_VIacc]\n",
    "ax1.bar(Training_Methods, acc_testset, width=-0.3, align='edge', label = 'Accuracy')\n",
    "ax1.tick_params(labelsize=15)\n",
    "ax1.set_xticklabels(Training_Methods, rotation = 340)\n",
    "\n",
    "ax1.set_xticklabels(ax1.get_xticklabels())\n",
    "\n",
    "ax2 = ax1.twinx()\n",
    "ax2.set_ylabel('Training Time (s)',fontsize=fs)\n",
    "#ax2.set_ylim()\n",
    "training_time = [Point_Estimate_training_time, HMC_training_time, VI_training_time, Ens_training_time, Ens_VItraining_time]\n",
    "ax2.bar(Training_Methods, training_time, width=0.3, align='edge', color = 'orange', label = 'Training Time')\n",
    "ax2.tick_params(labelsize=15)\n",
    "\n",
    "ax1.legend(loc='upper left')\n",
    "ax2.legend()\n",
    "fig_train_compare.tight_layout()\n",
    "fig_train_compare.show()"
   ]
  },
  {
   "cell_type": "code",
   "execution_count": null,
   "metadata": {
    "id": "ITmMnMEkR4C2"
   },
   "outputs": [],
   "source": [
    "fig_train_compare.savefig(\"fig_train_compare.png\")"
   ]
  },
  {
   "cell_type": "code",
   "execution_count": null,
   "metadata": {
    "colab": {
     "base_uri": "https://localhost:8080/"
    },
    "executionInfo": {
     "elapsed": 21086,
     "status": "ok",
     "timestamp": 1661752699581,
     "user": {
      "displayName": "Chao Wang",
      "userId": "15397188646529269947"
     },
     "user_tz": -60
    },
    "id": "hSKybFgLVwyf",
    "outputId": "ad5bf070-62dd-44e9-d89e-2dac2e1ecdc6"
   },
   "outputs": [
    {
     "name": "stdout",
     "output_type": "stream",
     "text": [
      "Mounted at /content/drive\n"
     ]
    }
   ],
   "source": [
    "from google.colab import drive\n",
    "drive.mount('/content/drive')"
   ]
  },
  {
   "cell_type": "code",
   "execution_count": null,
   "metadata": {
    "id": "lv4X-BWucbXs"
   },
   "outputs": [],
   "source": []
  }
 ],
 "metadata": {
  "colab": {
   "authorship_tag": "ABX9TyOx587UZEHUxu2pQ/kGA7pV",
   "collapsed_sections": [
    "oFwoB19JYpoP",
    "thiPZrZaNco4",
    "s8ezWWBw5P7f",
    "QCugkeEQd7SU"
   ],
   "name": "Training Time and Performance Comparison.ipynb",
   "provenance": []
  },
  "kernelspec": {
   "display_name": "Python 3 (ipykernel)",
   "language": "python",
   "name": "python3"
  },
  "language_info": {
   "codemirror_mode": {
    "name": "ipython",
    "version": 3
   },
   "file_extension": ".py",
   "mimetype": "text/x-python",
   "name": "python",
   "nbconvert_exporter": "python",
   "pygments_lexer": "ipython3",
   "version": "3.9.12"
  },
  "widgets": {
   "application/vnd.jupyter.widget-state+json": {
    "04d4443b4608402291f4bb1af874b2e8": {
     "model_module": "@jupyter-widgets/controls",
     "model_module_version": "1.5.0",
     "model_name": "ProgressStyleModel",
     "state": {
      "_model_module": "@jupyter-widgets/controls",
      "_model_module_version": "1.5.0",
      "_model_name": "ProgressStyleModel",
      "_view_count": null,
      "_view_module": "@jupyter-widgets/base",
      "_view_module_version": "1.2.0",
      "_view_name": "StyleView",
      "bar_color": null,
      "description_width": ""
     }
    },
    "06963a75a1eb4713b37afdf1d7757ecc": {
     "model_module": "@jupyter-widgets/base",
     "model_module_version": "1.2.0",
     "model_name": "LayoutModel",
     "state": {
      "_model_module": "@jupyter-widgets/base",
      "_model_module_version": "1.2.0",
      "_model_name": "LayoutModel",
      "_view_count": null,
      "_view_module": "@jupyter-widgets/base",
      "_view_module_version": "1.2.0",
      "_view_name": "LayoutView",
      "align_content": null,
      "align_items": null,
      "align_self": null,
      "border": null,
      "bottom": null,
      "display": null,
      "flex": null,
      "flex_flow": null,
      "grid_area": null,
      "grid_auto_columns": null,
      "grid_auto_flow": null,
      "grid_auto_rows": null,
      "grid_column": null,
      "grid_gap": null,
      "grid_row": null,
      "grid_template_areas": null,
      "grid_template_columns": null,
      "grid_template_rows": null,
      "height": null,
      "justify_content": null,
      "justify_items": null,
      "left": null,
      "margin": null,
      "max_height": null,
      "max_width": null,
      "min_height": null,
      "min_width": null,
      "object_fit": null,
      "object_position": null,
      "order": null,
      "overflow": null,
      "overflow_x": null,
      "overflow_y": null,
      "padding": null,
      "right": null,
      "top": null,
      "visibility": null,
      "width": null
     }
    },
    "0a1144830acd413f87b769e1022c24fb": {
     "model_module": "@jupyter-widgets/controls",
     "model_module_version": "1.5.0",
     "model_name": "ProgressStyleModel",
     "state": {
      "_model_module": "@jupyter-widgets/controls",
      "_model_module_version": "1.5.0",
      "_model_name": "ProgressStyleModel",
      "_view_count": null,
      "_view_module": "@jupyter-widgets/base",
      "_view_module_version": "1.2.0",
      "_view_name": "StyleView",
      "bar_color": null,
      "description_width": ""
     }
    },
    "0ea8c1fbb2c64896b9e6e5e41ced920c": {
     "model_module": "@jupyter-widgets/base",
     "model_module_version": "1.2.0",
     "model_name": "LayoutModel",
     "state": {
      "_model_module": "@jupyter-widgets/base",
      "_model_module_version": "1.2.0",
      "_model_name": "LayoutModel",
      "_view_count": null,
      "_view_module": "@jupyter-widgets/base",
      "_view_module_version": "1.2.0",
      "_view_name": "LayoutView",
      "align_content": null,
      "align_items": null,
      "align_self": null,
      "border": null,
      "bottom": null,
      "display": null,
      "flex": null,
      "flex_flow": null,
      "grid_area": null,
      "grid_auto_columns": null,
      "grid_auto_flow": null,
      "grid_auto_rows": null,
      "grid_column": null,
      "grid_gap": null,
      "grid_row": null,
      "grid_template_areas": null,
      "grid_template_columns": null,
      "grid_template_rows": null,
      "height": null,
      "justify_content": null,
      "justify_items": null,
      "left": null,
      "margin": null,
      "max_height": null,
      "max_width": null,
      "min_height": null,
      "min_width": null,
      "object_fit": null,
      "object_position": null,
      "order": null,
      "overflow": null,
      "overflow_x": null,
      "overflow_y": null,
      "padding": null,
      "right": null,
      "top": null,
      "visibility": null,
      "width": null
     }
    },
    "0f5dd3130b35405dbb4058e771496e4f": {
     "model_module": "@jupyter-widgets/base",
     "model_module_version": "1.2.0",
     "model_name": "LayoutModel",
     "state": {
      "_model_module": "@jupyter-widgets/base",
      "_model_module_version": "1.2.0",
      "_model_name": "LayoutModel",
      "_view_count": null,
      "_view_module": "@jupyter-widgets/base",
      "_view_module_version": "1.2.0",
      "_view_name": "LayoutView",
      "align_content": null,
      "align_items": null,
      "align_self": null,
      "border": null,
      "bottom": null,
      "display": null,
      "flex": null,
      "flex_flow": null,
      "grid_area": null,
      "grid_auto_columns": null,
      "grid_auto_flow": null,
      "grid_auto_rows": null,
      "grid_column": null,
      "grid_gap": null,
      "grid_row": null,
      "grid_template_areas": null,
      "grid_template_columns": null,
      "grid_template_rows": null,
      "height": null,
      "justify_content": null,
      "justify_items": null,
      "left": null,
      "margin": null,
      "max_height": null,
      "max_width": null,
      "min_height": null,
      "min_width": null,
      "object_fit": null,
      "object_position": null,
      "order": null,
      "overflow": null,
      "overflow_x": null,
      "overflow_y": null,
      "padding": null,
      "right": null,
      "top": null,
      "visibility": null,
      "width": null
     }
    },
    "101870afe9f34a5cb59760ef46f41cb4": {
     "model_module": "@jupyter-widgets/controls",
     "model_module_version": "1.5.0",
     "model_name": "HTMLModel",
     "state": {
      "_dom_classes": [],
      "_model_module": "@jupyter-widgets/controls",
      "_model_module_version": "1.5.0",
      "_model_name": "HTMLModel",
      "_view_count": null,
      "_view_module": "@jupyter-widgets/controls",
      "_view_module_version": "1.5.0",
      "_view_name": "HTMLView",
      "description": "",
      "description_tooltip": null,
      "layout": "IPY_MODEL_ae138c83984b4de2b3d02367988122fe",
      "placeholder": "​",
      "style": "IPY_MODEL_7a5d82d537dd4bc988ccbdea3e4fc1d9",
      "value": " 4422102/4422102 [00:00&lt;00:00, 6758961.32it/s]"
     }
    },
    "118aa568889e42c7bbe8ca3ede50753c": {
     "model_module": "@jupyter-widgets/controls",
     "model_module_version": "1.5.0",
     "model_name": "HBoxModel",
     "state": {
      "_dom_classes": [],
      "_model_module": "@jupyter-widgets/controls",
      "_model_module_version": "1.5.0",
      "_model_name": "HBoxModel",
      "_view_count": null,
      "_view_module": "@jupyter-widgets/controls",
      "_view_module_version": "1.5.0",
      "_view_name": "HBoxView",
      "box_style": "",
      "children": [
       "IPY_MODEL_cbbf7d4ae1f647f8bc527b26e3ead7f2",
       "IPY_MODEL_3a5b1f19eba44a4289ca005a43eac7d8",
       "IPY_MODEL_ad82c65006644dd0a4babacc18d552a2"
      ],
      "layout": "IPY_MODEL_0ea8c1fbb2c64896b9e6e5e41ced920c"
     }
    },
    "11ff31e7b26a45a5ae061e0021ef111c": {
     "model_module": "@jupyter-widgets/controls",
     "model_module_version": "1.5.0",
     "model_name": "ProgressStyleModel",
     "state": {
      "_model_module": "@jupyter-widgets/controls",
      "_model_module_version": "1.5.0",
      "_model_name": "ProgressStyleModel",
      "_view_count": null,
      "_view_module": "@jupyter-widgets/base",
      "_view_module_version": "1.2.0",
      "_view_name": "StyleView",
      "bar_color": null,
      "description_width": ""
     }
    },
    "165dcb72c0224a568d28128ec2270887": {
     "model_module": "@jupyter-widgets/controls",
     "model_module_version": "1.5.0",
     "model_name": "DescriptionStyleModel",
     "state": {
      "_model_module": "@jupyter-widgets/controls",
      "_model_module_version": "1.5.0",
      "_model_name": "DescriptionStyleModel",
      "_view_count": null,
      "_view_module": "@jupyter-widgets/base",
      "_view_module_version": "1.2.0",
      "_view_name": "StyleView",
      "description_width": ""
     }
    },
    "19119f41a9854c1ba9640bff5e9b08b6": {
     "model_module": "@jupyter-widgets/controls",
     "model_module_version": "1.5.0",
     "model_name": "FloatProgressModel",
     "state": {
      "_dom_classes": [],
      "_model_module": "@jupyter-widgets/controls",
      "_model_module_version": "1.5.0",
      "_model_name": "FloatProgressModel",
      "_view_count": null,
      "_view_module": "@jupyter-widgets/controls",
      "_view_module_version": "1.5.0",
      "_view_name": "ProgressView",
      "bar_style": "success",
      "description": "",
      "description_tooltip": null,
      "layout": "IPY_MODEL_06963a75a1eb4713b37afdf1d7757ecc",
      "max": 26421880,
      "min": 0,
      "orientation": "horizontal",
      "style": "IPY_MODEL_458d84d7a19743f5825b688b5f4bb600",
      "value": 26421880
     }
    },
    "204293ba33824986998eda36481cbdf3": {
     "model_module": "@jupyter-widgets/base",
     "model_module_version": "1.2.0",
     "model_name": "LayoutModel",
     "state": {
      "_model_module": "@jupyter-widgets/base",
      "_model_module_version": "1.2.0",
      "_model_name": "LayoutModel",
      "_view_count": null,
      "_view_module": "@jupyter-widgets/base",
      "_view_module_version": "1.2.0",
      "_view_name": "LayoutView",
      "align_content": null,
      "align_items": null,
      "align_self": null,
      "border": null,
      "bottom": null,
      "display": null,
      "flex": null,
      "flex_flow": null,
      "grid_area": null,
      "grid_auto_columns": null,
      "grid_auto_flow": null,
      "grid_auto_rows": null,
      "grid_column": null,
      "grid_gap": null,
      "grid_row": null,
      "grid_template_areas": null,
      "grid_template_columns": null,
      "grid_template_rows": null,
      "height": null,
      "justify_content": null,
      "justify_items": null,
      "left": null,
      "margin": null,
      "max_height": null,
      "max_width": null,
      "min_height": null,
      "min_width": null,
      "object_fit": null,
      "object_position": null,
      "order": null,
      "overflow": null,
      "overflow_x": null,
      "overflow_y": null,
      "padding": null,
      "right": null,
      "top": null,
      "visibility": null,
      "width": null
     }
    },
    "2436ed26a6ad4db6830d12a4d551456f": {
     "model_module": "@jupyter-widgets/base",
     "model_module_version": "1.2.0",
     "model_name": "LayoutModel",
     "state": {
      "_model_module": "@jupyter-widgets/base",
      "_model_module_version": "1.2.0",
      "_model_name": "LayoutModel",
      "_view_count": null,
      "_view_module": "@jupyter-widgets/base",
      "_view_module_version": "1.2.0",
      "_view_name": "LayoutView",
      "align_content": null,
      "align_items": null,
      "align_self": null,
      "border": null,
      "bottom": null,
      "display": null,
      "flex": null,
      "flex_flow": null,
      "grid_area": null,
      "grid_auto_columns": null,
      "grid_auto_flow": null,
      "grid_auto_rows": null,
      "grid_column": null,
      "grid_gap": null,
      "grid_row": null,
      "grid_template_areas": null,
      "grid_template_columns": null,
      "grid_template_rows": null,
      "height": null,
      "justify_content": null,
      "justify_items": null,
      "left": null,
      "margin": null,
      "max_height": null,
      "max_width": null,
      "min_height": null,
      "min_width": null,
      "object_fit": null,
      "object_position": null,
      "order": null,
      "overflow": null,
      "overflow_x": null,
      "overflow_y": null,
      "padding": null,
      "right": null,
      "top": null,
      "visibility": null,
      "width": null
     }
    },
    "2844541163b54e44b1552b74d6103274": {
     "model_module": "@jupyter-widgets/controls",
     "model_module_version": "1.5.0",
     "model_name": "HTMLModel",
     "state": {
      "_dom_classes": [],
      "_model_module": "@jupyter-widgets/controls",
      "_model_module_version": "1.5.0",
      "_model_name": "HTMLModel",
      "_view_count": null,
      "_view_module": "@jupyter-widgets/controls",
      "_view_module_version": "1.5.0",
      "_view_name": "HTMLView",
      "description": "",
      "description_tooltip": null,
      "layout": "IPY_MODEL_f47d3a3bffda4e98ad7665b9a7e3d35d",
      "placeholder": "​",
      "style": "IPY_MODEL_5ab7db1007a14ddfb79664e2243ed1e5",
      "value": " 9912422/9912422 [00:00&lt;00:00, 14414256.56it/s]"
     }
    },
    "2bd2bff3ccaf4561ab6181d5ff3e9889": {
     "model_module": "@jupyter-widgets/base",
     "model_module_version": "1.2.0",
     "model_name": "LayoutModel",
     "state": {
      "_model_module": "@jupyter-widgets/base",
      "_model_module_version": "1.2.0",
      "_model_name": "LayoutModel",
      "_view_count": null,
      "_view_module": "@jupyter-widgets/base",
      "_view_module_version": "1.2.0",
      "_view_name": "LayoutView",
      "align_content": null,
      "align_items": null,
      "align_self": null,
      "border": null,
      "bottom": null,
      "display": null,
      "flex": null,
      "flex_flow": null,
      "grid_area": null,
      "grid_auto_columns": null,
      "grid_auto_flow": null,
      "grid_auto_rows": null,
      "grid_column": null,
      "grid_gap": null,
      "grid_row": null,
      "grid_template_areas": null,
      "grid_template_columns": null,
      "grid_template_rows": null,
      "height": null,
      "justify_content": null,
      "justify_items": null,
      "left": null,
      "margin": null,
      "max_height": null,
      "max_width": null,
      "min_height": null,
      "min_width": null,
      "object_fit": null,
      "object_position": null,
      "order": null,
      "overflow": null,
      "overflow_x": null,
      "overflow_y": null,
      "padding": null,
      "right": null,
      "top": null,
      "visibility": null,
      "width": null
     }
    },
    "2bd46aea624c4db6a9e9913ba7df8ce6": {
     "model_module": "@jupyter-widgets/controls",
     "model_module_version": "1.5.0",
     "model_name": "HBoxModel",
     "state": {
      "_dom_classes": [],
      "_model_module": "@jupyter-widgets/controls",
      "_model_module_version": "1.5.0",
      "_model_name": "HBoxModel",
      "_view_count": null,
      "_view_module": "@jupyter-widgets/controls",
      "_view_module_version": "1.5.0",
      "_view_name": "HBoxView",
      "box_style": "",
      "children": [
       "IPY_MODEL_95c98d7199c34a108dbbffee5ea111ef",
       "IPY_MODEL_ffebe42173224a4baa59988170af2dc2",
       "IPY_MODEL_7b4fb2d274394d4a81788b3bc574da00"
      ],
      "layout": "IPY_MODEL_3025b54e2b264ea4809ef44d5aa262e5"
     }
    },
    "2c6ff84af1ba433b8ef4b0ffcb9a9eaf": {
     "model_module": "@jupyter-widgets/base",
     "model_module_version": "1.2.0",
     "model_name": "LayoutModel",
     "state": {
      "_model_module": "@jupyter-widgets/base",
      "_model_module_version": "1.2.0",
      "_model_name": "LayoutModel",
      "_view_count": null,
      "_view_module": "@jupyter-widgets/base",
      "_view_module_version": "1.2.0",
      "_view_name": "LayoutView",
      "align_content": null,
      "align_items": null,
      "align_self": null,
      "border": null,
      "bottom": null,
      "display": null,
      "flex": null,
      "flex_flow": null,
      "grid_area": null,
      "grid_auto_columns": null,
      "grid_auto_flow": null,
      "grid_auto_rows": null,
      "grid_column": null,
      "grid_gap": null,
      "grid_row": null,
      "grid_template_areas": null,
      "grid_template_columns": null,
      "grid_template_rows": null,
      "height": null,
      "justify_content": null,
      "justify_items": null,
      "left": null,
      "margin": null,
      "max_height": null,
      "max_width": null,
      "min_height": null,
      "min_width": null,
      "object_fit": null,
      "object_position": null,
      "order": null,
      "overflow": null,
      "overflow_x": null,
      "overflow_y": null,
      "padding": null,
      "right": null,
      "top": null,
      "visibility": null,
      "width": null
     }
    },
    "3025b54e2b264ea4809ef44d5aa262e5": {
     "model_module": "@jupyter-widgets/base",
     "model_module_version": "1.2.0",
     "model_name": "LayoutModel",
     "state": {
      "_model_module": "@jupyter-widgets/base",
      "_model_module_version": "1.2.0",
      "_model_name": "LayoutModel",
      "_view_count": null,
      "_view_module": "@jupyter-widgets/base",
      "_view_module_version": "1.2.0",
      "_view_name": "LayoutView",
      "align_content": null,
      "align_items": null,
      "align_self": null,
      "border": null,
      "bottom": null,
      "display": null,
      "flex": null,
      "flex_flow": null,
      "grid_area": null,
      "grid_auto_columns": null,
      "grid_auto_flow": null,
      "grid_auto_rows": null,
      "grid_column": null,
      "grid_gap": null,
      "grid_row": null,
      "grid_template_areas": null,
      "grid_template_columns": null,
      "grid_template_rows": null,
      "height": null,
      "justify_content": null,
      "justify_items": null,
      "left": null,
      "margin": null,
      "max_height": null,
      "max_width": null,
      "min_height": null,
      "min_width": null,
      "object_fit": null,
      "object_position": null,
      "order": null,
      "overflow": null,
      "overflow_x": null,
      "overflow_y": null,
      "padding": null,
      "right": null,
      "top": null,
      "visibility": null,
      "width": null
     }
    },
    "3174191b363142dc8bf31d3cb4aa6eb8": {
     "model_module": "@jupyter-widgets/controls",
     "model_module_version": "1.5.0",
     "model_name": "HTMLModel",
     "state": {
      "_dom_classes": [],
      "_model_module": "@jupyter-widgets/controls",
      "_model_module_version": "1.5.0",
      "_model_name": "HTMLModel",
      "_view_count": null,
      "_view_module": "@jupyter-widgets/controls",
      "_view_module_version": "1.5.0",
      "_view_name": "HTMLView",
      "description": "",
      "description_tooltip": null,
      "layout": "IPY_MODEL_4875d81c43bc4539a522230f6d1ccc19",
      "placeholder": "​",
      "style": "IPY_MODEL_b120b64b6c8b407abbcd23aa0855cf1c",
      "value": "100%"
     }
    },
    "34d5a2f175d84b26a964514685295e77": {
     "model_module": "@jupyter-widgets/base",
     "model_module_version": "1.2.0",
     "model_name": "LayoutModel",
     "state": {
      "_model_module": "@jupyter-widgets/base",
      "_model_module_version": "1.2.0",
      "_model_name": "LayoutModel",
      "_view_count": null,
      "_view_module": "@jupyter-widgets/base",
      "_view_module_version": "1.2.0",
      "_view_name": "LayoutView",
      "align_content": null,
      "align_items": null,
      "align_self": null,
      "border": null,
      "bottom": null,
      "display": null,
      "flex": null,
      "flex_flow": null,
      "grid_area": null,
      "grid_auto_columns": null,
      "grid_auto_flow": null,
      "grid_auto_rows": null,
      "grid_column": null,
      "grid_gap": null,
      "grid_row": null,
      "grid_template_areas": null,
      "grid_template_columns": null,
      "grid_template_rows": null,
      "height": null,
      "justify_content": null,
      "justify_items": null,
      "left": null,
      "margin": null,
      "max_height": null,
      "max_width": null,
      "min_height": null,
      "min_width": null,
      "object_fit": null,
      "object_position": null,
      "order": null,
      "overflow": null,
      "overflow_x": null,
      "overflow_y": null,
      "padding": null,
      "right": null,
      "top": null,
      "visibility": null,
      "width": null
     }
    },
    "379f2a12fc594f0ead7dcc5b05b2dd80": {
     "model_module": "@jupyter-widgets/base",
     "model_module_version": "1.2.0",
     "model_name": "LayoutModel",
     "state": {
      "_model_module": "@jupyter-widgets/base",
      "_model_module_version": "1.2.0",
      "_model_name": "LayoutModel",
      "_view_count": null,
      "_view_module": "@jupyter-widgets/base",
      "_view_module_version": "1.2.0",
      "_view_name": "LayoutView",
      "align_content": null,
      "align_items": null,
      "align_self": null,
      "border": null,
      "bottom": null,
      "display": null,
      "flex": null,
      "flex_flow": null,
      "grid_area": null,
      "grid_auto_columns": null,
      "grid_auto_flow": null,
      "grid_auto_rows": null,
      "grid_column": null,
      "grid_gap": null,
      "grid_row": null,
      "grid_template_areas": null,
      "grid_template_columns": null,
      "grid_template_rows": null,
      "height": null,
      "justify_content": null,
      "justify_items": null,
      "left": null,
      "margin": null,
      "max_height": null,
      "max_width": null,
      "min_height": null,
      "min_width": null,
      "object_fit": null,
      "object_position": null,
      "order": null,
      "overflow": null,
      "overflow_x": null,
      "overflow_y": null,
      "padding": null,
      "right": null,
      "top": null,
      "visibility": null,
      "width": null
     }
    },
    "3a5b1f19eba44a4289ca005a43eac7d8": {
     "model_module": "@jupyter-widgets/controls",
     "model_module_version": "1.5.0",
     "model_name": "FloatProgressModel",
     "state": {
      "_dom_classes": [],
      "_model_module": "@jupyter-widgets/controls",
      "_model_module_version": "1.5.0",
      "_model_name": "FloatProgressModel",
      "_view_count": null,
      "_view_module": "@jupyter-widgets/controls",
      "_view_module_version": "1.5.0",
      "_view_name": "ProgressView",
      "bar_style": "success",
      "description": "",
      "description_tooltip": null,
      "layout": "IPY_MODEL_b463c19f001b4295a2f6131abc8e15cc",
      "max": 28881,
      "min": 0,
      "orientation": "horizontal",
      "style": "IPY_MODEL_7eb442ed4f4a4715a17388914e34b2c1",
      "value": 28881
     }
    },
    "406083cf99bf494c90d91a56085df37c": {
     "model_module": "@jupyter-widgets/base",
     "model_module_version": "1.2.0",
     "model_name": "LayoutModel",
     "state": {
      "_model_module": "@jupyter-widgets/base",
      "_model_module_version": "1.2.0",
      "_model_name": "LayoutModel",
      "_view_count": null,
      "_view_module": "@jupyter-widgets/base",
      "_view_module_version": "1.2.0",
      "_view_name": "LayoutView",
      "align_content": null,
      "align_items": null,
      "align_self": null,
      "border": null,
      "bottom": null,
      "display": null,
      "flex": null,
      "flex_flow": null,
      "grid_area": null,
      "grid_auto_columns": null,
      "grid_auto_flow": null,
      "grid_auto_rows": null,
      "grid_column": null,
      "grid_gap": null,
      "grid_row": null,
      "grid_template_areas": null,
      "grid_template_columns": null,
      "grid_template_rows": null,
      "height": null,
      "justify_content": null,
      "justify_items": null,
      "left": null,
      "margin": null,
      "max_height": null,
      "max_width": null,
      "min_height": null,
      "min_width": null,
      "object_fit": null,
      "object_position": null,
      "order": null,
      "overflow": null,
      "overflow_x": null,
      "overflow_y": null,
      "padding": null,
      "right": null,
      "top": null,
      "visibility": null,
      "width": null
     }
    },
    "424a66904fe24be5b7fc2c51e70c07fa": {
     "model_module": "@jupyter-widgets/base",
     "model_module_version": "1.2.0",
     "model_name": "LayoutModel",
     "state": {
      "_model_module": "@jupyter-widgets/base",
      "_model_module_version": "1.2.0",
      "_model_name": "LayoutModel",
      "_view_count": null,
      "_view_module": "@jupyter-widgets/base",
      "_view_module_version": "1.2.0",
      "_view_name": "LayoutView",
      "align_content": null,
      "align_items": null,
      "align_self": null,
      "border": null,
      "bottom": null,
      "display": null,
      "flex": null,
      "flex_flow": null,
      "grid_area": null,
      "grid_auto_columns": null,
      "grid_auto_flow": null,
      "grid_auto_rows": null,
      "grid_column": null,
      "grid_gap": null,
      "grid_row": null,
      "grid_template_areas": null,
      "grid_template_columns": null,
      "grid_template_rows": null,
      "height": null,
      "justify_content": null,
      "justify_items": null,
      "left": null,
      "margin": null,
      "max_height": null,
      "max_width": null,
      "min_height": null,
      "min_width": null,
      "object_fit": null,
      "object_position": null,
      "order": null,
      "overflow": null,
      "overflow_x": null,
      "overflow_y": null,
      "padding": null,
      "right": null,
      "top": null,
      "visibility": null,
      "width": null
     }
    },
    "42927975d04446d6bf275d285c789082": {
     "model_module": "@jupyter-widgets/controls",
     "model_module_version": "1.5.0",
     "model_name": "FloatProgressModel",
     "state": {
      "_dom_classes": [],
      "_model_module": "@jupyter-widgets/controls",
      "_model_module_version": "1.5.0",
      "_model_name": "FloatProgressModel",
      "_view_count": null,
      "_view_module": "@jupyter-widgets/controls",
      "_view_module_version": "1.5.0",
      "_view_name": "ProgressView",
      "bar_style": "success",
      "description": "",
      "description_tooltip": null,
      "layout": "IPY_MODEL_2bd2bff3ccaf4561ab6181d5ff3e9889",
      "max": 1648877,
      "min": 0,
      "orientation": "horizontal",
      "style": "IPY_MODEL_11ff31e7b26a45a5ae061e0021ef111c",
      "value": 1648877
     }
    },
    "44966b0eee784e4aa955cd336f4e338f": {
     "model_module": "@jupyter-widgets/controls",
     "model_module_version": "1.5.0",
     "model_name": "FloatProgressModel",
     "state": {
      "_dom_classes": [],
      "_model_module": "@jupyter-widgets/controls",
      "_model_module_version": "1.5.0",
      "_model_name": "FloatProgressModel",
      "_view_count": null,
      "_view_module": "@jupyter-widgets/controls",
      "_view_module_version": "1.5.0",
      "_view_name": "ProgressView",
      "bar_style": "success",
      "description": "",
      "description_tooltip": null,
      "layout": "IPY_MODEL_d1ed0707ff534bf9a2c4287733cd65e1",
      "max": 4422102,
      "min": 0,
      "orientation": "horizontal",
      "style": "IPY_MODEL_a14c1cc9f9514b90a927a6686557d948",
      "value": 4422102
     }
    },
    "45671194ca9d4aa3bd720db82c6b25f2": {
     "model_module": "@jupyter-widgets/controls",
     "model_module_version": "1.5.0",
     "model_name": "DescriptionStyleModel",
     "state": {
      "_model_module": "@jupyter-widgets/controls",
      "_model_module_version": "1.5.0",
      "_model_name": "DescriptionStyleModel",
      "_view_count": null,
      "_view_module": "@jupyter-widgets/base",
      "_view_module_version": "1.2.0",
      "_view_name": "StyleView",
      "description_width": ""
     }
    },
    "458d84d7a19743f5825b688b5f4bb600": {
     "model_module": "@jupyter-widgets/controls",
     "model_module_version": "1.5.0",
     "model_name": "ProgressStyleModel",
     "state": {
      "_model_module": "@jupyter-widgets/controls",
      "_model_module_version": "1.5.0",
      "_model_name": "ProgressStyleModel",
      "_view_count": null,
      "_view_module": "@jupyter-widgets/base",
      "_view_module_version": "1.2.0",
      "_view_name": "StyleView",
      "bar_color": null,
      "description_width": ""
     }
    },
    "46b2a451d78844729929a4be7e36aedd": {
     "model_module": "@jupyter-widgets/base",
     "model_module_version": "1.2.0",
     "model_name": "LayoutModel",
     "state": {
      "_model_module": "@jupyter-widgets/base",
      "_model_module_version": "1.2.0",
      "_model_name": "LayoutModel",
      "_view_count": null,
      "_view_module": "@jupyter-widgets/base",
      "_view_module_version": "1.2.0",
      "_view_name": "LayoutView",
      "align_content": null,
      "align_items": null,
      "align_self": null,
      "border": null,
      "bottom": null,
      "display": null,
      "flex": null,
      "flex_flow": null,
      "grid_area": null,
      "grid_auto_columns": null,
      "grid_auto_flow": null,
      "grid_auto_rows": null,
      "grid_column": null,
      "grid_gap": null,
      "grid_row": null,
      "grid_template_areas": null,
      "grid_template_columns": null,
      "grid_template_rows": null,
      "height": null,
      "justify_content": null,
      "justify_items": null,
      "left": null,
      "margin": null,
      "max_height": null,
      "max_width": null,
      "min_height": null,
      "min_width": null,
      "object_fit": null,
      "object_position": null,
      "order": null,
      "overflow": null,
      "overflow_x": null,
      "overflow_y": null,
      "padding": null,
      "right": null,
      "top": null,
      "visibility": null,
      "width": null
     }
    },
    "471fca0573e1494586b20a2b5c8cb7b6": {
     "model_module": "@jupyter-widgets/controls",
     "model_module_version": "1.5.0",
     "model_name": "HBoxModel",
     "state": {
      "_dom_classes": [],
      "_model_module": "@jupyter-widgets/controls",
      "_model_module_version": "1.5.0",
      "_model_name": "HBoxModel",
      "_view_count": null,
      "_view_module": "@jupyter-widgets/controls",
      "_view_module_version": "1.5.0",
      "_view_name": "HBoxView",
      "box_style": "",
      "children": [
       "IPY_MODEL_7125c6d672f2434e8688dca8bba22248",
       "IPY_MODEL_19119f41a9854c1ba9640bff5e9b08b6",
       "IPY_MODEL_505998d48f424a0da02fc29d586ad57e"
      ],
      "layout": "IPY_MODEL_79669ba37d03454d9e01031a4e5a2238"
     }
    },
    "4875d81c43bc4539a522230f6d1ccc19": {
     "model_module": "@jupyter-widgets/base",
     "model_module_version": "1.2.0",
     "model_name": "LayoutModel",
     "state": {
      "_model_module": "@jupyter-widgets/base",
      "_model_module_version": "1.2.0",
      "_model_name": "LayoutModel",
      "_view_count": null,
      "_view_module": "@jupyter-widgets/base",
      "_view_module_version": "1.2.0",
      "_view_name": "LayoutView",
      "align_content": null,
      "align_items": null,
      "align_self": null,
      "border": null,
      "bottom": null,
      "display": null,
      "flex": null,
      "flex_flow": null,
      "grid_area": null,
      "grid_auto_columns": null,
      "grid_auto_flow": null,
      "grid_auto_rows": null,
      "grid_column": null,
      "grid_gap": null,
      "grid_row": null,
      "grid_template_areas": null,
      "grid_template_columns": null,
      "grid_template_rows": null,
      "height": null,
      "justify_content": null,
      "justify_items": null,
      "left": null,
      "margin": null,
      "max_height": null,
      "max_width": null,
      "min_height": null,
      "min_width": null,
      "object_fit": null,
      "object_position": null,
      "order": null,
      "overflow": null,
      "overflow_x": null,
      "overflow_y": null,
      "padding": null,
      "right": null,
      "top": null,
      "visibility": null,
      "width": null
     }
    },
    "48e60fb2e5d146eb9ce31f656ad881a0": {
     "model_module": "@jupyter-widgets/controls",
     "model_module_version": "1.5.0",
     "model_name": "HTMLModel",
     "state": {
      "_dom_classes": [],
      "_model_module": "@jupyter-widgets/controls",
      "_model_module_version": "1.5.0",
      "_model_name": "HTMLModel",
      "_view_count": null,
      "_view_module": "@jupyter-widgets/controls",
      "_view_module_version": "1.5.0",
      "_view_name": "HTMLView",
      "description": "",
      "description_tooltip": null,
      "layout": "IPY_MODEL_5c5972e7b32c48629d7b8444c87d158f",
      "placeholder": "​",
      "style": "IPY_MODEL_c49ca15512b943b88e7db40bd1e3759f",
      "value": "100%"
     }
    },
    "4b4052e6be6a484d8aa1d6b51548736e": {
     "model_module": "@jupyter-widgets/controls",
     "model_module_version": "1.5.0",
     "model_name": "HBoxModel",
     "state": {
      "_dom_classes": [],
      "_model_module": "@jupyter-widgets/controls",
      "_model_module_version": "1.5.0",
      "_model_name": "HBoxModel",
      "_view_count": null,
      "_view_module": "@jupyter-widgets/controls",
      "_view_module_version": "1.5.0",
      "_view_name": "HBoxView",
      "box_style": "",
      "children": [
       "IPY_MODEL_3174191b363142dc8bf31d3cb4aa6eb8",
       "IPY_MODEL_44966b0eee784e4aa955cd336f4e338f",
       "IPY_MODEL_101870afe9f34a5cb59760ef46f41cb4"
      ],
      "layout": "IPY_MODEL_424a66904fe24be5b7fc2c51e70c07fa"
     }
    },
    "4b69b5d81bd94ff790f4b36feeb7dee8": {
     "model_module": "@jupyter-widgets/controls",
     "model_module_version": "1.5.0",
     "model_name": "DescriptionStyleModel",
     "state": {
      "_model_module": "@jupyter-widgets/controls",
      "_model_module_version": "1.5.0",
      "_model_name": "DescriptionStyleModel",
      "_view_count": null,
      "_view_module": "@jupyter-widgets/base",
      "_view_module_version": "1.2.0",
      "_view_name": "StyleView",
      "description_width": ""
     }
    },
    "505998d48f424a0da02fc29d586ad57e": {
     "model_module": "@jupyter-widgets/controls",
     "model_module_version": "1.5.0",
     "model_name": "HTMLModel",
     "state": {
      "_dom_classes": [],
      "_model_module": "@jupyter-widgets/controls",
      "_model_module_version": "1.5.0",
      "_model_name": "HTMLModel",
      "_view_count": null,
      "_view_module": "@jupyter-widgets/controls",
      "_view_module_version": "1.5.0",
      "_view_name": "HTMLView",
      "description": "",
      "description_tooltip": null,
      "layout": "IPY_MODEL_dd2e76372b6b447a9b6036b5e5e95b5f",
      "placeholder": "​",
      "style": "IPY_MODEL_165dcb72c0224a568d28128ec2270887",
      "value": " 26421880/26421880 [00:01&lt;00:00, 27860294.73it/s]"
     }
    },
    "553c7624e6194e21904c5b64b1b7a9a1": {
     "model_module": "@jupyter-widgets/base",
     "model_module_version": "1.2.0",
     "model_name": "LayoutModel",
     "state": {
      "_model_module": "@jupyter-widgets/base",
      "_model_module_version": "1.2.0",
      "_model_name": "LayoutModel",
      "_view_count": null,
      "_view_module": "@jupyter-widgets/base",
      "_view_module_version": "1.2.0",
      "_view_name": "LayoutView",
      "align_content": null,
      "align_items": null,
      "align_self": null,
      "border": null,
      "bottom": null,
      "display": null,
      "flex": null,
      "flex_flow": null,
      "grid_area": null,
      "grid_auto_columns": null,
      "grid_auto_flow": null,
      "grid_auto_rows": null,
      "grid_column": null,
      "grid_gap": null,
      "grid_row": null,
      "grid_template_areas": null,
      "grid_template_columns": null,
      "grid_template_rows": null,
      "height": null,
      "justify_content": null,
      "justify_items": null,
      "left": null,
      "margin": null,
      "max_height": null,
      "max_width": null,
      "min_height": null,
      "min_width": null,
      "object_fit": null,
      "object_position": null,
      "order": null,
      "overflow": null,
      "overflow_x": null,
      "overflow_y": null,
      "padding": null,
      "right": null,
      "top": null,
      "visibility": null,
      "width": null
     }
    },
    "56a21bcaa4614dfeb27f810e35aea6d6": {
     "model_module": "@jupyter-widgets/controls",
     "model_module_version": "1.5.0",
     "model_name": "HTMLModel",
     "state": {
      "_dom_classes": [],
      "_model_module": "@jupyter-widgets/controls",
      "_model_module_version": "1.5.0",
      "_model_name": "HTMLModel",
      "_view_count": null,
      "_view_module": "@jupyter-widgets/controls",
      "_view_module_version": "1.5.0",
      "_view_name": "HTMLView",
      "description": "",
      "description_tooltip": null,
      "layout": "IPY_MODEL_9581c725dec9483cbe9152ba5334a333",
      "placeholder": "​",
      "style": "IPY_MODEL_6546612eed8743ebb64bde7572f5d5b3",
      "value": " 1648877/1648877 [00:00&lt;00:00, 3048843.11it/s]"
     }
    },
    "5863552aa6464fcaa9386fb4066f91c3": {
     "model_module": "@jupyter-widgets/controls",
     "model_module_version": "1.5.0",
     "model_name": "HTMLModel",
     "state": {
      "_dom_classes": [],
      "_model_module": "@jupyter-widgets/controls",
      "_model_module_version": "1.5.0",
      "_model_name": "HTMLModel",
      "_view_count": null,
      "_view_module": "@jupyter-widgets/controls",
      "_view_module_version": "1.5.0",
      "_view_name": "HTMLView",
      "description": "",
      "description_tooltip": null,
      "layout": "IPY_MODEL_204293ba33824986998eda36481cbdf3",
      "placeholder": "​",
      "style": "IPY_MODEL_66373e291f2947328a98ff4cbdd8051d",
      "value": "100%"
     }
    },
    "5ab7db1007a14ddfb79664e2243ed1e5": {
     "model_module": "@jupyter-widgets/controls",
     "model_module_version": "1.5.0",
     "model_name": "DescriptionStyleModel",
     "state": {
      "_model_module": "@jupyter-widgets/controls",
      "_model_module_version": "1.5.0",
      "_model_name": "DescriptionStyleModel",
      "_view_count": null,
      "_view_module": "@jupyter-widgets/base",
      "_view_module_version": "1.2.0",
      "_view_name": "StyleView",
      "description_width": ""
     }
    },
    "5bc1cd15f81d426cabe6d337ba51a13d": {
     "model_module": "@jupyter-widgets/base",
     "model_module_version": "1.2.0",
     "model_name": "LayoutModel",
     "state": {
      "_model_module": "@jupyter-widgets/base",
      "_model_module_version": "1.2.0",
      "_model_name": "LayoutModel",
      "_view_count": null,
      "_view_module": "@jupyter-widgets/base",
      "_view_module_version": "1.2.0",
      "_view_name": "LayoutView",
      "align_content": null,
      "align_items": null,
      "align_self": null,
      "border": null,
      "bottom": null,
      "display": null,
      "flex": null,
      "flex_flow": null,
      "grid_area": null,
      "grid_auto_columns": null,
      "grid_auto_flow": null,
      "grid_auto_rows": null,
      "grid_column": null,
      "grid_gap": null,
      "grid_row": null,
      "grid_template_areas": null,
      "grid_template_columns": null,
      "grid_template_rows": null,
      "height": null,
      "justify_content": null,
      "justify_items": null,
      "left": null,
      "margin": null,
      "max_height": null,
      "max_width": null,
      "min_height": null,
      "min_width": null,
      "object_fit": null,
      "object_position": null,
      "order": null,
      "overflow": null,
      "overflow_x": null,
      "overflow_y": null,
      "padding": null,
      "right": null,
      "top": null,
      "visibility": null,
      "width": null
     }
    },
    "5c5972e7b32c48629d7b8444c87d158f": {
     "model_module": "@jupyter-widgets/base",
     "model_module_version": "1.2.0",
     "model_name": "LayoutModel",
     "state": {
      "_model_module": "@jupyter-widgets/base",
      "_model_module_version": "1.2.0",
      "_model_name": "LayoutModel",
      "_view_count": null,
      "_view_module": "@jupyter-widgets/base",
      "_view_module_version": "1.2.0",
      "_view_name": "LayoutView",
      "align_content": null,
      "align_items": null,
      "align_self": null,
      "border": null,
      "bottom": null,
      "display": null,
      "flex": null,
      "flex_flow": null,
      "grid_area": null,
      "grid_auto_columns": null,
      "grid_auto_flow": null,
      "grid_auto_rows": null,
      "grid_column": null,
      "grid_gap": null,
      "grid_row": null,
      "grid_template_areas": null,
      "grid_template_columns": null,
      "grid_template_rows": null,
      "height": null,
      "justify_content": null,
      "justify_items": null,
      "left": null,
      "margin": null,
      "max_height": null,
      "max_width": null,
      "min_height": null,
      "min_width": null,
      "object_fit": null,
      "object_position": null,
      "order": null,
      "overflow": null,
      "overflow_x": null,
      "overflow_y": null,
      "padding": null,
      "right": null,
      "top": null,
      "visibility": null,
      "width": null
     }
    },
    "6546612eed8743ebb64bde7572f5d5b3": {
     "model_module": "@jupyter-widgets/controls",
     "model_module_version": "1.5.0",
     "model_name": "DescriptionStyleModel",
     "state": {
      "_model_module": "@jupyter-widgets/controls",
      "_model_module_version": "1.5.0",
      "_model_name": "DescriptionStyleModel",
      "_view_count": null,
      "_view_module": "@jupyter-widgets/base",
      "_view_module_version": "1.2.0",
      "_view_name": "StyleView",
      "description_width": ""
     }
    },
    "66373e291f2947328a98ff4cbdd8051d": {
     "model_module": "@jupyter-widgets/controls",
     "model_module_version": "1.5.0",
     "model_name": "DescriptionStyleModel",
     "state": {
      "_model_module": "@jupyter-widgets/controls",
      "_model_module_version": "1.5.0",
      "_model_name": "DescriptionStyleModel",
      "_view_count": null,
      "_view_module": "@jupyter-widgets/base",
      "_view_module_version": "1.2.0",
      "_view_name": "StyleView",
      "description_width": ""
     }
    },
    "6854b5c1d7584e629decbe6899d36e32": {
     "model_module": "@jupyter-widgets/controls",
     "model_module_version": "1.5.0",
     "model_name": "HBoxModel",
     "state": {
      "_dom_classes": [],
      "_model_module": "@jupyter-widgets/controls",
      "_model_module_version": "1.5.0",
      "_model_name": "HBoxModel",
      "_view_count": null,
      "_view_module": "@jupyter-widgets/controls",
      "_view_module_version": "1.5.0",
      "_view_name": "HBoxView",
      "box_style": "",
      "children": [
       "IPY_MODEL_48e60fb2e5d146eb9ce31f656ad881a0",
       "IPY_MODEL_88e2a89944f24db4a13191226bd281b7",
       "IPY_MODEL_72decd7783b545268208b02bb8b71752"
      ],
      "layout": "IPY_MODEL_34d5a2f175d84b26a964514685295e77"
     }
    },
    "6b373d0312554f76af77ac314c187669": {
     "model_module": "@jupyter-widgets/controls",
     "model_module_version": "1.5.0",
     "model_name": "HTMLModel",
     "state": {
      "_dom_classes": [],
      "_model_module": "@jupyter-widgets/controls",
      "_model_module_version": "1.5.0",
      "_model_name": "HTMLModel",
      "_view_count": null,
      "_view_module": "@jupyter-widgets/controls",
      "_view_module_version": "1.5.0",
      "_view_name": "HTMLView",
      "description": "",
      "description_tooltip": null,
      "layout": "IPY_MODEL_553c7624e6194e21904c5b64b1b7a9a1",
      "placeholder": "​",
      "style": "IPY_MODEL_f2e9283158b54cb5a4a414f22f4b2f70",
      "value": "100%"
     }
    },
    "710246c6a7c34c0b96df64704ff2fed9": {
     "model_module": "@jupyter-widgets/controls",
     "model_module_version": "1.5.0",
     "model_name": "DescriptionStyleModel",
     "state": {
      "_model_module": "@jupyter-widgets/controls",
      "_model_module_version": "1.5.0",
      "_model_name": "DescriptionStyleModel",
      "_view_count": null,
      "_view_module": "@jupyter-widgets/base",
      "_view_module_version": "1.2.0",
      "_view_name": "StyleView",
      "description_width": ""
     }
    },
    "7125c6d672f2434e8688dca8bba22248": {
     "model_module": "@jupyter-widgets/controls",
     "model_module_version": "1.5.0",
     "model_name": "HTMLModel",
     "state": {
      "_dom_classes": [],
      "_model_module": "@jupyter-widgets/controls",
      "_model_module_version": "1.5.0",
      "_model_name": "HTMLModel",
      "_view_count": null,
      "_view_module": "@jupyter-widgets/controls",
      "_view_module_version": "1.5.0",
      "_view_name": "HTMLView",
      "description": "",
      "description_tooltip": null,
      "layout": "IPY_MODEL_a3d374d3763e47db8eec2d73cb60dd46",
      "placeholder": "​",
      "style": "IPY_MODEL_95a3b84a8fbc4a8684b866f9a8471e54",
      "value": "100%"
     }
    },
    "722eb32aec774bb4b94f2b06975b2ae7": {
     "model_module": "@jupyter-widgets/base",
     "model_module_version": "1.2.0",
     "model_name": "LayoutModel",
     "state": {
      "_model_module": "@jupyter-widgets/base",
      "_model_module_version": "1.2.0",
      "_model_name": "LayoutModel",
      "_view_count": null,
      "_view_module": "@jupyter-widgets/base",
      "_view_module_version": "1.2.0",
      "_view_name": "LayoutView",
      "align_content": null,
      "align_items": null,
      "align_self": null,
      "border": null,
      "bottom": null,
      "display": null,
      "flex": null,
      "flex_flow": null,
      "grid_area": null,
      "grid_auto_columns": null,
      "grid_auto_flow": null,
      "grid_auto_rows": null,
      "grid_column": null,
      "grid_gap": null,
      "grid_row": null,
      "grid_template_areas": null,
      "grid_template_columns": null,
      "grid_template_rows": null,
      "height": null,
      "justify_content": null,
      "justify_items": null,
      "left": null,
      "margin": null,
      "max_height": null,
      "max_width": null,
      "min_height": null,
      "min_width": null,
      "object_fit": null,
      "object_position": null,
      "order": null,
      "overflow": null,
      "overflow_x": null,
      "overflow_y": null,
      "padding": null,
      "right": null,
      "top": null,
      "visibility": null,
      "width": null
     }
    },
    "72decd7783b545268208b02bb8b71752": {
     "model_module": "@jupyter-widgets/controls",
     "model_module_version": "1.5.0",
     "model_name": "HTMLModel",
     "state": {
      "_dom_classes": [],
      "_model_module": "@jupyter-widgets/controls",
      "_model_module_version": "1.5.0",
      "_model_name": "HTMLModel",
      "_view_count": null,
      "_view_module": "@jupyter-widgets/controls",
      "_view_module_version": "1.5.0",
      "_view_name": "HTMLView",
      "description": "",
      "description_tooltip": null,
      "layout": "IPY_MODEL_379f2a12fc594f0ead7dcc5b05b2dd80",
      "placeholder": "​",
      "style": "IPY_MODEL_f1b5dbcfc2c948c99eb182041eb84357",
      "value": " 4542/4542 [00:00&lt;00:00, 39442.17it/s]"
     }
    },
    "79669ba37d03454d9e01031a4e5a2238": {
     "model_module": "@jupyter-widgets/base",
     "model_module_version": "1.2.0",
     "model_name": "LayoutModel",
     "state": {
      "_model_module": "@jupyter-widgets/base",
      "_model_module_version": "1.2.0",
      "_model_name": "LayoutModel",
      "_view_count": null,
      "_view_module": "@jupyter-widgets/base",
      "_view_module_version": "1.2.0",
      "_view_name": "LayoutView",
      "align_content": null,
      "align_items": null,
      "align_self": null,
      "border": null,
      "bottom": null,
      "display": null,
      "flex": null,
      "flex_flow": null,
      "grid_area": null,
      "grid_auto_columns": null,
      "grid_auto_flow": null,
      "grid_auto_rows": null,
      "grid_column": null,
      "grid_gap": null,
      "grid_row": null,
      "grid_template_areas": null,
      "grid_template_columns": null,
      "grid_template_rows": null,
      "height": null,
      "justify_content": null,
      "justify_items": null,
      "left": null,
      "margin": null,
      "max_height": null,
      "max_width": null,
      "min_height": null,
      "min_width": null,
      "object_fit": null,
      "object_position": null,
      "order": null,
      "overflow": null,
      "overflow_x": null,
      "overflow_y": null,
      "padding": null,
      "right": null,
      "top": null,
      "visibility": null,
      "width": null
     }
    },
    "7a5d82d537dd4bc988ccbdea3e4fc1d9": {
     "model_module": "@jupyter-widgets/controls",
     "model_module_version": "1.5.0",
     "model_name": "DescriptionStyleModel",
     "state": {
      "_model_module": "@jupyter-widgets/controls",
      "_model_module_version": "1.5.0",
      "_model_name": "DescriptionStyleModel",
      "_view_count": null,
      "_view_module": "@jupyter-widgets/base",
      "_view_module_version": "1.2.0",
      "_view_name": "StyleView",
      "description_width": ""
     }
    },
    "7b4fb2d274394d4a81788b3bc574da00": {
     "model_module": "@jupyter-widgets/controls",
     "model_module_version": "1.5.0",
     "model_name": "HTMLModel",
     "state": {
      "_dom_classes": [],
      "_model_module": "@jupyter-widgets/controls",
      "_model_module_version": "1.5.0",
      "_model_name": "HTMLModel",
      "_view_count": null,
      "_view_module": "@jupyter-widgets/controls",
      "_view_module_version": "1.5.0",
      "_view_name": "HTMLView",
      "description": "",
      "description_tooltip": null,
      "layout": "IPY_MODEL_cfeef6305637413c91d579bd988ebb1c",
      "placeholder": "​",
      "style": "IPY_MODEL_fd56f39913c6400cba918c89fdefdc3c",
      "value": " 29515/29515 [00:00&lt;00:00, 298728.50it/s]"
     }
    },
    "7eb442ed4f4a4715a17388914e34b2c1": {
     "model_module": "@jupyter-widgets/controls",
     "model_module_version": "1.5.0",
     "model_name": "ProgressStyleModel",
     "state": {
      "_model_module": "@jupyter-widgets/controls",
      "_model_module_version": "1.5.0",
      "_model_name": "ProgressStyleModel",
      "_view_count": null,
      "_view_module": "@jupyter-widgets/base",
      "_view_module_version": "1.2.0",
      "_view_name": "StyleView",
      "bar_color": null,
      "description_width": ""
     }
    },
    "88e2a89944f24db4a13191226bd281b7": {
     "model_module": "@jupyter-widgets/controls",
     "model_module_version": "1.5.0",
     "model_name": "FloatProgressModel",
     "state": {
      "_dom_classes": [],
      "_model_module": "@jupyter-widgets/controls",
      "_model_module_version": "1.5.0",
      "_model_name": "FloatProgressModel",
      "_view_count": null,
      "_view_module": "@jupyter-widgets/controls",
      "_view_module_version": "1.5.0",
      "_view_name": "ProgressView",
      "bar_style": "success",
      "description": "",
      "description_tooltip": null,
      "layout": "IPY_MODEL_8a94c1d97abf4e8f9dcb1fe0abba8001",
      "max": 4542,
      "min": 0,
      "orientation": "horizontal",
      "style": "IPY_MODEL_0a1144830acd413f87b769e1022c24fb",
      "value": 4542
     }
    },
    "8a94c1d97abf4e8f9dcb1fe0abba8001": {
     "model_module": "@jupyter-widgets/base",
     "model_module_version": "1.2.0",
     "model_name": "LayoutModel",
     "state": {
      "_model_module": "@jupyter-widgets/base",
      "_model_module_version": "1.2.0",
      "_model_name": "LayoutModel",
      "_view_count": null,
      "_view_module": "@jupyter-widgets/base",
      "_view_module_version": "1.2.0",
      "_view_name": "LayoutView",
      "align_content": null,
      "align_items": null,
      "align_self": null,
      "border": null,
      "bottom": null,
      "display": null,
      "flex": null,
      "flex_flow": null,
      "grid_area": null,
      "grid_auto_columns": null,
      "grid_auto_flow": null,
      "grid_auto_rows": null,
      "grid_column": null,
      "grid_gap": null,
      "grid_row": null,
      "grid_template_areas": null,
      "grid_template_columns": null,
      "grid_template_rows": null,
      "height": null,
      "justify_content": null,
      "justify_items": null,
      "left": null,
      "margin": null,
      "max_height": null,
      "max_width": null,
      "min_height": null,
      "min_width": null,
      "object_fit": null,
      "object_position": null,
      "order": null,
      "overflow": null,
      "overflow_x": null,
      "overflow_y": null,
      "padding": null,
      "right": null,
      "top": null,
      "visibility": null,
      "width": null
     }
    },
    "8ee61d78cedc42679e183ceb2b636b97": {
     "model_module": "@jupyter-widgets/controls",
     "model_module_version": "1.5.0",
     "model_name": "FloatProgressModel",
     "state": {
      "_dom_classes": [],
      "_model_module": "@jupyter-widgets/controls",
      "_model_module_version": "1.5.0",
      "_model_name": "FloatProgressModel",
      "_view_count": null,
      "_view_module": "@jupyter-widgets/controls",
      "_view_module_version": "1.5.0",
      "_view_name": "ProgressView",
      "bar_style": "success",
      "description": "",
      "description_tooltip": null,
      "layout": "IPY_MODEL_722eb32aec774bb4b94f2b06975b2ae7",
      "max": 5148,
      "min": 0,
      "orientation": "horizontal",
      "style": "IPY_MODEL_a40d743389174dbeb4ff224bfbcab0a8",
      "value": 5148
     }
    },
    "9581c725dec9483cbe9152ba5334a333": {
     "model_module": "@jupyter-widgets/base",
     "model_module_version": "1.2.0",
     "model_name": "LayoutModel",
     "state": {
      "_model_module": "@jupyter-widgets/base",
      "_model_module_version": "1.2.0",
      "_model_name": "LayoutModel",
      "_view_count": null,
      "_view_module": "@jupyter-widgets/base",
      "_view_module_version": "1.2.0",
      "_view_name": "LayoutView",
      "align_content": null,
      "align_items": null,
      "align_self": null,
      "border": null,
      "bottom": null,
      "display": null,
      "flex": null,
      "flex_flow": null,
      "grid_area": null,
      "grid_auto_columns": null,
      "grid_auto_flow": null,
      "grid_auto_rows": null,
      "grid_column": null,
      "grid_gap": null,
      "grid_row": null,
      "grid_template_areas": null,
      "grid_template_columns": null,
      "grid_template_rows": null,
      "height": null,
      "justify_content": null,
      "justify_items": null,
      "left": null,
      "margin": null,
      "max_height": null,
      "max_width": null,
      "min_height": null,
      "min_width": null,
      "object_fit": null,
      "object_position": null,
      "order": null,
      "overflow": null,
      "overflow_x": null,
      "overflow_y": null,
      "padding": null,
      "right": null,
      "top": null,
      "visibility": null,
      "width": null
     }
    },
    "95a3b84a8fbc4a8684b866f9a8471e54": {
     "model_module": "@jupyter-widgets/controls",
     "model_module_version": "1.5.0",
     "model_name": "DescriptionStyleModel",
     "state": {
      "_model_module": "@jupyter-widgets/controls",
      "_model_module_version": "1.5.0",
      "_model_name": "DescriptionStyleModel",
      "_view_count": null,
      "_view_module": "@jupyter-widgets/base",
      "_view_module_version": "1.2.0",
      "_view_name": "StyleView",
      "description_width": ""
     }
    },
    "95c98d7199c34a108dbbffee5ea111ef": {
     "model_module": "@jupyter-widgets/controls",
     "model_module_version": "1.5.0",
     "model_name": "HTMLModel",
     "state": {
      "_dom_classes": [],
      "_model_module": "@jupyter-widgets/controls",
      "_model_module_version": "1.5.0",
      "_model_name": "HTMLModel",
      "_view_count": null,
      "_view_module": "@jupyter-widgets/controls",
      "_view_module_version": "1.5.0",
      "_view_name": "HTMLView",
      "description": "",
      "description_tooltip": null,
      "layout": "IPY_MODEL_5bc1cd15f81d426cabe6d337ba51a13d",
      "placeholder": "​",
      "style": "IPY_MODEL_e5d6bd974c414941bf712f6b54994ad4",
      "value": "100%"
     }
    },
    "95f246fdef9d4dee9c05dbc201cc9c3b": {
     "model_module": "@jupyter-widgets/base",
     "model_module_version": "1.2.0",
     "model_name": "LayoutModel",
     "state": {
      "_model_module": "@jupyter-widgets/base",
      "_model_module_version": "1.2.0",
      "_model_name": "LayoutModel",
      "_view_count": null,
      "_view_module": "@jupyter-widgets/base",
      "_view_module_version": "1.2.0",
      "_view_name": "LayoutView",
      "align_content": null,
      "align_items": null,
      "align_self": null,
      "border": null,
      "bottom": null,
      "display": null,
      "flex": null,
      "flex_flow": null,
      "grid_area": null,
      "grid_auto_columns": null,
      "grid_auto_flow": null,
      "grid_auto_rows": null,
      "grid_column": null,
      "grid_gap": null,
      "grid_row": null,
      "grid_template_areas": null,
      "grid_template_columns": null,
      "grid_template_rows": null,
      "height": null,
      "justify_content": null,
      "justify_items": null,
      "left": null,
      "margin": null,
      "max_height": null,
      "max_width": null,
      "min_height": null,
      "min_width": null,
      "object_fit": null,
      "object_position": null,
      "order": null,
      "overflow": null,
      "overflow_x": null,
      "overflow_y": null,
      "padding": null,
      "right": null,
      "top": null,
      "visibility": null,
      "width": null
     }
    },
    "9a58c0154cb941309cc93762012a8a3a": {
     "model_module": "@jupyter-widgets/base",
     "model_module_version": "1.2.0",
     "model_name": "LayoutModel",
     "state": {
      "_model_module": "@jupyter-widgets/base",
      "_model_module_version": "1.2.0",
      "_model_name": "LayoutModel",
      "_view_count": null,
      "_view_module": "@jupyter-widgets/base",
      "_view_module_version": "1.2.0",
      "_view_name": "LayoutView",
      "align_content": null,
      "align_items": null,
      "align_self": null,
      "border": null,
      "bottom": null,
      "display": null,
      "flex": null,
      "flex_flow": null,
      "grid_area": null,
      "grid_auto_columns": null,
      "grid_auto_flow": null,
      "grid_auto_rows": null,
      "grid_column": null,
      "grid_gap": null,
      "grid_row": null,
      "grid_template_areas": null,
      "grid_template_columns": null,
      "grid_template_rows": null,
      "height": null,
      "justify_content": null,
      "justify_items": null,
      "left": null,
      "margin": null,
      "max_height": null,
      "max_width": null,
      "min_height": null,
      "min_width": null,
      "object_fit": null,
      "object_position": null,
      "order": null,
      "overflow": null,
      "overflow_x": null,
      "overflow_y": null,
      "padding": null,
      "right": null,
      "top": null,
      "visibility": null,
      "width": null
     }
    },
    "9fea3be7ad0c4f51aafc484ccde48700": {
     "model_module": "@jupyter-widgets/controls",
     "model_module_version": "1.5.0",
     "model_name": "HBoxModel",
     "state": {
      "_dom_classes": [],
      "_model_module": "@jupyter-widgets/controls",
      "_model_module_version": "1.5.0",
      "_model_name": "HBoxModel",
      "_view_count": null,
      "_view_module": "@jupyter-widgets/controls",
      "_view_module_version": "1.5.0",
      "_view_name": "HBoxView",
      "box_style": "",
      "children": [
       "IPY_MODEL_5863552aa6464fcaa9386fb4066f91c3",
       "IPY_MODEL_f715ee6a7ea14c738c348e179f070038",
       "IPY_MODEL_2844541163b54e44b1552b74d6103274"
      ],
      "layout": "IPY_MODEL_2c6ff84af1ba433b8ef4b0ffcb9a9eaf"
     }
    },
    "a14c1cc9f9514b90a927a6686557d948": {
     "model_module": "@jupyter-widgets/controls",
     "model_module_version": "1.5.0",
     "model_name": "ProgressStyleModel",
     "state": {
      "_model_module": "@jupyter-widgets/controls",
      "_model_module_version": "1.5.0",
      "_model_name": "ProgressStyleModel",
      "_view_count": null,
      "_view_module": "@jupyter-widgets/base",
      "_view_module_version": "1.2.0",
      "_view_name": "StyleView",
      "bar_color": null,
      "description_width": ""
     }
    },
    "a3d374d3763e47db8eec2d73cb60dd46": {
     "model_module": "@jupyter-widgets/base",
     "model_module_version": "1.2.0",
     "model_name": "LayoutModel",
     "state": {
      "_model_module": "@jupyter-widgets/base",
      "_model_module_version": "1.2.0",
      "_model_name": "LayoutModel",
      "_view_count": null,
      "_view_module": "@jupyter-widgets/base",
      "_view_module_version": "1.2.0",
      "_view_name": "LayoutView",
      "align_content": null,
      "align_items": null,
      "align_self": null,
      "border": null,
      "bottom": null,
      "display": null,
      "flex": null,
      "flex_flow": null,
      "grid_area": null,
      "grid_auto_columns": null,
      "grid_auto_flow": null,
      "grid_auto_rows": null,
      "grid_column": null,
      "grid_gap": null,
      "grid_row": null,
      "grid_template_areas": null,
      "grid_template_columns": null,
      "grid_template_rows": null,
      "height": null,
      "justify_content": null,
      "justify_items": null,
      "left": null,
      "margin": null,
      "max_height": null,
      "max_width": null,
      "min_height": null,
      "min_width": null,
      "object_fit": null,
      "object_position": null,
      "order": null,
      "overflow": null,
      "overflow_x": null,
      "overflow_y": null,
      "padding": null,
      "right": null,
      "top": null,
      "visibility": null,
      "width": null
     }
    },
    "a40d743389174dbeb4ff224bfbcab0a8": {
     "model_module": "@jupyter-widgets/controls",
     "model_module_version": "1.5.0",
     "model_name": "ProgressStyleModel",
     "state": {
      "_model_module": "@jupyter-widgets/controls",
      "_model_module_version": "1.5.0",
      "_model_name": "ProgressStyleModel",
      "_view_count": null,
      "_view_module": "@jupyter-widgets/base",
      "_view_module_version": "1.2.0",
      "_view_name": "StyleView",
      "bar_color": null,
      "description_width": ""
     }
    },
    "a625a84f0eb14370beab5ab82dccbc03": {
     "model_module": "@jupyter-widgets/controls",
     "model_module_version": "1.5.0",
     "model_name": "ProgressStyleModel",
     "state": {
      "_model_module": "@jupyter-widgets/controls",
      "_model_module_version": "1.5.0",
      "_model_name": "ProgressStyleModel",
      "_view_count": null,
      "_view_module": "@jupyter-widgets/base",
      "_view_module_version": "1.2.0",
      "_view_name": "StyleView",
      "bar_color": null,
      "description_width": ""
     }
    },
    "ad82c65006644dd0a4babacc18d552a2": {
     "model_module": "@jupyter-widgets/controls",
     "model_module_version": "1.5.0",
     "model_name": "HTMLModel",
     "state": {
      "_dom_classes": [],
      "_model_module": "@jupyter-widgets/controls",
      "_model_module_version": "1.5.0",
      "_model_name": "HTMLModel",
      "_view_count": null,
      "_view_module": "@jupyter-widgets/controls",
      "_view_module_version": "1.5.0",
      "_view_name": "HTMLView",
      "description": "",
      "description_tooltip": null,
      "layout": "IPY_MODEL_95f246fdef9d4dee9c05dbc201cc9c3b",
      "placeholder": "​",
      "style": "IPY_MODEL_710246c6a7c34c0b96df64704ff2fed9",
      "value": " 28881/28881 [00:00&lt;00:00, 164858.92it/s]"
     }
    },
    "ae138c83984b4de2b3d02367988122fe": {
     "model_module": "@jupyter-widgets/base",
     "model_module_version": "1.2.0",
     "model_name": "LayoutModel",
     "state": {
      "_model_module": "@jupyter-widgets/base",
      "_model_module_version": "1.2.0",
      "_model_name": "LayoutModel",
      "_view_count": null,
      "_view_module": "@jupyter-widgets/base",
      "_view_module_version": "1.2.0",
      "_view_name": "LayoutView",
      "align_content": null,
      "align_items": null,
      "align_self": null,
      "border": null,
      "bottom": null,
      "display": null,
      "flex": null,
      "flex_flow": null,
      "grid_area": null,
      "grid_auto_columns": null,
      "grid_auto_flow": null,
      "grid_auto_rows": null,
      "grid_column": null,
      "grid_gap": null,
      "grid_row": null,
      "grid_template_areas": null,
      "grid_template_columns": null,
      "grid_template_rows": null,
      "height": null,
      "justify_content": null,
      "justify_items": null,
      "left": null,
      "margin": null,
      "max_height": null,
      "max_width": null,
      "min_height": null,
      "min_width": null,
      "object_fit": null,
      "object_position": null,
      "order": null,
      "overflow": null,
      "overflow_x": null,
      "overflow_y": null,
      "padding": null,
      "right": null,
      "top": null,
      "visibility": null,
      "width": null
     }
    },
    "b120b64b6c8b407abbcd23aa0855cf1c": {
     "model_module": "@jupyter-widgets/controls",
     "model_module_version": "1.5.0",
     "model_name": "DescriptionStyleModel",
     "state": {
      "_model_module": "@jupyter-widgets/controls",
      "_model_module_version": "1.5.0",
      "_model_name": "DescriptionStyleModel",
      "_view_count": null,
      "_view_module": "@jupyter-widgets/base",
      "_view_module_version": "1.2.0",
      "_view_name": "StyleView",
      "description_width": ""
     }
    },
    "b463c19f001b4295a2f6131abc8e15cc": {
     "model_module": "@jupyter-widgets/base",
     "model_module_version": "1.2.0",
     "model_name": "LayoutModel",
     "state": {
      "_model_module": "@jupyter-widgets/base",
      "_model_module_version": "1.2.0",
      "_model_name": "LayoutModel",
      "_view_count": null,
      "_view_module": "@jupyter-widgets/base",
      "_view_module_version": "1.2.0",
      "_view_name": "LayoutView",
      "align_content": null,
      "align_items": null,
      "align_self": null,
      "border": null,
      "bottom": null,
      "display": null,
      "flex": null,
      "flex_flow": null,
      "grid_area": null,
      "grid_auto_columns": null,
      "grid_auto_flow": null,
      "grid_auto_rows": null,
      "grid_column": null,
      "grid_gap": null,
      "grid_row": null,
      "grid_template_areas": null,
      "grid_template_columns": null,
      "grid_template_rows": null,
      "height": null,
      "justify_content": null,
      "justify_items": null,
      "left": null,
      "margin": null,
      "max_height": null,
      "max_width": null,
      "min_height": null,
      "min_width": null,
      "object_fit": null,
      "object_position": null,
      "order": null,
      "overflow": null,
      "overflow_x": null,
      "overflow_y": null,
      "padding": null,
      "right": null,
      "top": null,
      "visibility": null,
      "width": null
     }
    },
    "b6308247b50c4e57a1ec14c1dcdab529": {
     "model_module": "@jupyter-widgets/controls",
     "model_module_version": "1.5.0",
     "model_name": "HTMLModel",
     "state": {
      "_dom_classes": [],
      "_model_module": "@jupyter-widgets/controls",
      "_model_module_version": "1.5.0",
      "_model_name": "HTMLModel",
      "_view_count": null,
      "_view_module": "@jupyter-widgets/controls",
      "_view_module_version": "1.5.0",
      "_view_name": "HTMLView",
      "description": "",
      "description_tooltip": null,
      "layout": "IPY_MODEL_406083cf99bf494c90d91a56085df37c",
      "placeholder": "​",
      "style": "IPY_MODEL_45671194ca9d4aa3bd720db82c6b25f2",
      "value": " 5148/5148 [00:00&lt;00:00, 34114.79it/s]"
     }
    },
    "c299e8a23e664c68a409370c65cae468": {
     "model_module": "@jupyter-widgets/controls",
     "model_module_version": "1.5.0",
     "model_name": "HBoxModel",
     "state": {
      "_dom_classes": [],
      "_model_module": "@jupyter-widgets/controls",
      "_model_module_version": "1.5.0",
      "_model_name": "HBoxModel",
      "_view_count": null,
      "_view_module": "@jupyter-widgets/controls",
      "_view_module_version": "1.5.0",
      "_view_name": "HBoxView",
      "box_style": "",
      "children": [
       "IPY_MODEL_e24bf35a76224827b14b55d6c0b13ad0",
       "IPY_MODEL_42927975d04446d6bf275d285c789082",
       "IPY_MODEL_56a21bcaa4614dfeb27f810e35aea6d6"
      ],
      "layout": "IPY_MODEL_0f5dd3130b35405dbb4058e771496e4f"
     }
    },
    "c3315f71d89846278f1ca37044a9e7bf": {
     "model_module": "@jupyter-widgets/controls",
     "model_module_version": "1.5.0",
     "model_name": "HBoxModel",
     "state": {
      "_dom_classes": [],
      "_model_module": "@jupyter-widgets/controls",
      "_model_module_version": "1.5.0",
      "_model_name": "HBoxModel",
      "_view_count": null,
      "_view_module": "@jupyter-widgets/controls",
      "_view_module_version": "1.5.0",
      "_view_name": "HBoxView",
      "box_style": "",
      "children": [
       "IPY_MODEL_6b373d0312554f76af77ac314c187669",
       "IPY_MODEL_8ee61d78cedc42679e183ceb2b636b97",
       "IPY_MODEL_b6308247b50c4e57a1ec14c1dcdab529"
      ],
      "layout": "IPY_MODEL_c35a5d1795984b16a7ed07b4f325742e"
     }
    },
    "c35a5d1795984b16a7ed07b4f325742e": {
     "model_module": "@jupyter-widgets/base",
     "model_module_version": "1.2.0",
     "model_name": "LayoutModel",
     "state": {
      "_model_module": "@jupyter-widgets/base",
      "_model_module_version": "1.2.0",
      "_model_name": "LayoutModel",
      "_view_count": null,
      "_view_module": "@jupyter-widgets/base",
      "_view_module_version": "1.2.0",
      "_view_name": "LayoutView",
      "align_content": null,
      "align_items": null,
      "align_self": null,
      "border": null,
      "bottom": null,
      "display": null,
      "flex": null,
      "flex_flow": null,
      "grid_area": null,
      "grid_auto_columns": null,
      "grid_auto_flow": null,
      "grid_auto_rows": null,
      "grid_column": null,
      "grid_gap": null,
      "grid_row": null,
      "grid_template_areas": null,
      "grid_template_columns": null,
      "grid_template_rows": null,
      "height": null,
      "justify_content": null,
      "justify_items": null,
      "left": null,
      "margin": null,
      "max_height": null,
      "max_width": null,
      "min_height": null,
      "min_width": null,
      "object_fit": null,
      "object_position": null,
      "order": null,
      "overflow": null,
      "overflow_x": null,
      "overflow_y": null,
      "padding": null,
      "right": null,
      "top": null,
      "visibility": null,
      "width": null
     }
    },
    "c49ca15512b943b88e7db40bd1e3759f": {
     "model_module": "@jupyter-widgets/controls",
     "model_module_version": "1.5.0",
     "model_name": "DescriptionStyleModel",
     "state": {
      "_model_module": "@jupyter-widgets/controls",
      "_model_module_version": "1.5.0",
      "_model_name": "DescriptionStyleModel",
      "_view_count": null,
      "_view_module": "@jupyter-widgets/base",
      "_view_module_version": "1.2.0",
      "_view_name": "StyleView",
      "description_width": ""
     }
    },
    "cbbf7d4ae1f647f8bc527b26e3ead7f2": {
     "model_module": "@jupyter-widgets/controls",
     "model_module_version": "1.5.0",
     "model_name": "HTMLModel",
     "state": {
      "_dom_classes": [],
      "_model_module": "@jupyter-widgets/controls",
      "_model_module_version": "1.5.0",
      "_model_name": "HTMLModel",
      "_view_count": null,
      "_view_module": "@jupyter-widgets/controls",
      "_view_module_version": "1.5.0",
      "_view_name": "HTMLView",
      "description": "",
      "description_tooltip": null,
      "layout": "IPY_MODEL_46b2a451d78844729929a4be7e36aedd",
      "placeholder": "​",
      "style": "IPY_MODEL_4b69b5d81bd94ff790f4b36feeb7dee8",
      "value": "100%"
     }
    },
    "cfeef6305637413c91d579bd988ebb1c": {
     "model_module": "@jupyter-widgets/base",
     "model_module_version": "1.2.0",
     "model_name": "LayoutModel",
     "state": {
      "_model_module": "@jupyter-widgets/base",
      "_model_module_version": "1.2.0",
      "_model_name": "LayoutModel",
      "_view_count": null,
      "_view_module": "@jupyter-widgets/base",
      "_view_module_version": "1.2.0",
      "_view_name": "LayoutView",
      "align_content": null,
      "align_items": null,
      "align_self": null,
      "border": null,
      "bottom": null,
      "display": null,
      "flex": null,
      "flex_flow": null,
      "grid_area": null,
      "grid_auto_columns": null,
      "grid_auto_flow": null,
      "grid_auto_rows": null,
      "grid_column": null,
      "grid_gap": null,
      "grid_row": null,
      "grid_template_areas": null,
      "grid_template_columns": null,
      "grid_template_rows": null,
      "height": null,
      "justify_content": null,
      "justify_items": null,
      "left": null,
      "margin": null,
      "max_height": null,
      "max_width": null,
      "min_height": null,
      "min_width": null,
      "object_fit": null,
      "object_position": null,
      "order": null,
      "overflow": null,
      "overflow_x": null,
      "overflow_y": null,
      "padding": null,
      "right": null,
      "top": null,
      "visibility": null,
      "width": null
     }
    },
    "d1ed0707ff534bf9a2c4287733cd65e1": {
     "model_module": "@jupyter-widgets/base",
     "model_module_version": "1.2.0",
     "model_name": "LayoutModel",
     "state": {
      "_model_module": "@jupyter-widgets/base",
      "_model_module_version": "1.2.0",
      "_model_name": "LayoutModel",
      "_view_count": null,
      "_view_module": "@jupyter-widgets/base",
      "_view_module_version": "1.2.0",
      "_view_name": "LayoutView",
      "align_content": null,
      "align_items": null,
      "align_self": null,
      "border": null,
      "bottom": null,
      "display": null,
      "flex": null,
      "flex_flow": null,
      "grid_area": null,
      "grid_auto_columns": null,
      "grid_auto_flow": null,
      "grid_auto_rows": null,
      "grid_column": null,
      "grid_gap": null,
      "grid_row": null,
      "grid_template_areas": null,
      "grid_template_columns": null,
      "grid_template_rows": null,
      "height": null,
      "justify_content": null,
      "justify_items": null,
      "left": null,
      "margin": null,
      "max_height": null,
      "max_width": null,
      "min_height": null,
      "min_width": null,
      "object_fit": null,
      "object_position": null,
      "order": null,
      "overflow": null,
      "overflow_x": null,
      "overflow_y": null,
      "padding": null,
      "right": null,
      "top": null,
      "visibility": null,
      "width": null
     }
    },
    "dd2e76372b6b447a9b6036b5e5e95b5f": {
     "model_module": "@jupyter-widgets/base",
     "model_module_version": "1.2.0",
     "model_name": "LayoutModel",
     "state": {
      "_model_module": "@jupyter-widgets/base",
      "_model_module_version": "1.2.0",
      "_model_name": "LayoutModel",
      "_view_count": null,
      "_view_module": "@jupyter-widgets/base",
      "_view_module_version": "1.2.0",
      "_view_name": "LayoutView",
      "align_content": null,
      "align_items": null,
      "align_self": null,
      "border": null,
      "bottom": null,
      "display": null,
      "flex": null,
      "flex_flow": null,
      "grid_area": null,
      "grid_auto_columns": null,
      "grid_auto_flow": null,
      "grid_auto_rows": null,
      "grid_column": null,
      "grid_gap": null,
      "grid_row": null,
      "grid_template_areas": null,
      "grid_template_columns": null,
      "grid_template_rows": null,
      "height": null,
      "justify_content": null,
      "justify_items": null,
      "left": null,
      "margin": null,
      "max_height": null,
      "max_width": null,
      "min_height": null,
      "min_width": null,
      "object_fit": null,
      "object_position": null,
      "order": null,
      "overflow": null,
      "overflow_x": null,
      "overflow_y": null,
      "padding": null,
      "right": null,
      "top": null,
      "visibility": null,
      "width": null
     }
    },
    "de35ad792b9d4d66b69b914b78632f3b": {
     "model_module": "@jupyter-widgets/controls",
     "model_module_version": "1.5.0",
     "model_name": "DescriptionStyleModel",
     "state": {
      "_model_module": "@jupyter-widgets/controls",
      "_model_module_version": "1.5.0",
      "_model_name": "DescriptionStyleModel",
      "_view_count": null,
      "_view_module": "@jupyter-widgets/base",
      "_view_module_version": "1.2.0",
      "_view_name": "StyleView",
      "description_width": ""
     }
    },
    "e24bf35a76224827b14b55d6c0b13ad0": {
     "model_module": "@jupyter-widgets/controls",
     "model_module_version": "1.5.0",
     "model_name": "HTMLModel",
     "state": {
      "_dom_classes": [],
      "_model_module": "@jupyter-widgets/controls",
      "_model_module_version": "1.5.0",
      "_model_name": "HTMLModel",
      "_view_count": null,
      "_view_module": "@jupyter-widgets/controls",
      "_view_module_version": "1.5.0",
      "_view_name": "HTMLView",
      "description": "",
      "description_tooltip": null,
      "layout": "IPY_MODEL_e7642fa6a34b4a558055e5af0cabcf80",
      "placeholder": "​",
      "style": "IPY_MODEL_de35ad792b9d4d66b69b914b78632f3b",
      "value": "100%"
     }
    },
    "e5d6bd974c414941bf712f6b54994ad4": {
     "model_module": "@jupyter-widgets/controls",
     "model_module_version": "1.5.0",
     "model_name": "DescriptionStyleModel",
     "state": {
      "_model_module": "@jupyter-widgets/controls",
      "_model_module_version": "1.5.0",
      "_model_name": "DescriptionStyleModel",
      "_view_count": null,
      "_view_module": "@jupyter-widgets/base",
      "_view_module_version": "1.2.0",
      "_view_name": "StyleView",
      "description_width": ""
     }
    },
    "e7642fa6a34b4a558055e5af0cabcf80": {
     "model_module": "@jupyter-widgets/base",
     "model_module_version": "1.2.0",
     "model_name": "LayoutModel",
     "state": {
      "_model_module": "@jupyter-widgets/base",
      "_model_module_version": "1.2.0",
      "_model_name": "LayoutModel",
      "_view_count": null,
      "_view_module": "@jupyter-widgets/base",
      "_view_module_version": "1.2.0",
      "_view_name": "LayoutView",
      "align_content": null,
      "align_items": null,
      "align_self": null,
      "border": null,
      "bottom": null,
      "display": null,
      "flex": null,
      "flex_flow": null,
      "grid_area": null,
      "grid_auto_columns": null,
      "grid_auto_flow": null,
      "grid_auto_rows": null,
      "grid_column": null,
      "grid_gap": null,
      "grid_row": null,
      "grid_template_areas": null,
      "grid_template_columns": null,
      "grid_template_rows": null,
      "height": null,
      "justify_content": null,
      "justify_items": null,
      "left": null,
      "margin": null,
      "max_height": null,
      "max_width": null,
      "min_height": null,
      "min_width": null,
      "object_fit": null,
      "object_position": null,
      "order": null,
      "overflow": null,
      "overflow_x": null,
      "overflow_y": null,
      "padding": null,
      "right": null,
      "top": null,
      "visibility": null,
      "width": null
     }
    },
    "f1b5dbcfc2c948c99eb182041eb84357": {
     "model_module": "@jupyter-widgets/controls",
     "model_module_version": "1.5.0",
     "model_name": "DescriptionStyleModel",
     "state": {
      "_model_module": "@jupyter-widgets/controls",
      "_model_module_version": "1.5.0",
      "_model_name": "DescriptionStyleModel",
      "_view_count": null,
      "_view_module": "@jupyter-widgets/base",
      "_view_module_version": "1.2.0",
      "_view_name": "StyleView",
      "description_width": ""
     }
    },
    "f2e9283158b54cb5a4a414f22f4b2f70": {
     "model_module": "@jupyter-widgets/controls",
     "model_module_version": "1.5.0",
     "model_name": "DescriptionStyleModel",
     "state": {
      "_model_module": "@jupyter-widgets/controls",
      "_model_module_version": "1.5.0",
      "_model_name": "DescriptionStyleModel",
      "_view_count": null,
      "_view_module": "@jupyter-widgets/base",
      "_view_module_version": "1.2.0",
      "_view_name": "StyleView",
      "description_width": ""
     }
    },
    "f47d3a3bffda4e98ad7665b9a7e3d35d": {
     "model_module": "@jupyter-widgets/base",
     "model_module_version": "1.2.0",
     "model_name": "LayoutModel",
     "state": {
      "_model_module": "@jupyter-widgets/base",
      "_model_module_version": "1.2.0",
      "_model_name": "LayoutModel",
      "_view_count": null,
      "_view_module": "@jupyter-widgets/base",
      "_view_module_version": "1.2.0",
      "_view_name": "LayoutView",
      "align_content": null,
      "align_items": null,
      "align_self": null,
      "border": null,
      "bottom": null,
      "display": null,
      "flex": null,
      "flex_flow": null,
      "grid_area": null,
      "grid_auto_columns": null,
      "grid_auto_flow": null,
      "grid_auto_rows": null,
      "grid_column": null,
      "grid_gap": null,
      "grid_row": null,
      "grid_template_areas": null,
      "grid_template_columns": null,
      "grid_template_rows": null,
      "height": null,
      "justify_content": null,
      "justify_items": null,
      "left": null,
      "margin": null,
      "max_height": null,
      "max_width": null,
      "min_height": null,
      "min_width": null,
      "object_fit": null,
      "object_position": null,
      "order": null,
      "overflow": null,
      "overflow_x": null,
      "overflow_y": null,
      "padding": null,
      "right": null,
      "top": null,
      "visibility": null,
      "width": null
     }
    },
    "f715ee6a7ea14c738c348e179f070038": {
     "model_module": "@jupyter-widgets/controls",
     "model_module_version": "1.5.0",
     "model_name": "FloatProgressModel",
     "state": {
      "_dom_classes": [],
      "_model_module": "@jupyter-widgets/controls",
      "_model_module_version": "1.5.0",
      "_model_name": "FloatProgressModel",
      "_view_count": null,
      "_view_module": "@jupyter-widgets/controls",
      "_view_module_version": "1.5.0",
      "_view_name": "ProgressView",
      "bar_style": "success",
      "description": "",
      "description_tooltip": null,
      "layout": "IPY_MODEL_9a58c0154cb941309cc93762012a8a3a",
      "max": 9912422,
      "min": 0,
      "orientation": "horizontal",
      "style": "IPY_MODEL_04d4443b4608402291f4bb1af874b2e8",
      "value": 9912422
     }
    },
    "fd56f39913c6400cba918c89fdefdc3c": {
     "model_module": "@jupyter-widgets/controls",
     "model_module_version": "1.5.0",
     "model_name": "DescriptionStyleModel",
     "state": {
      "_model_module": "@jupyter-widgets/controls",
      "_model_module_version": "1.5.0",
      "_model_name": "DescriptionStyleModel",
      "_view_count": null,
      "_view_module": "@jupyter-widgets/base",
      "_view_module_version": "1.2.0",
      "_view_name": "StyleView",
      "description_width": ""
     }
    },
    "ffebe42173224a4baa59988170af2dc2": {
     "model_module": "@jupyter-widgets/controls",
     "model_module_version": "1.5.0",
     "model_name": "FloatProgressModel",
     "state": {
      "_dom_classes": [],
      "_model_module": "@jupyter-widgets/controls",
      "_model_module_version": "1.5.0",
      "_model_name": "FloatProgressModel",
      "_view_count": null,
      "_view_module": "@jupyter-widgets/controls",
      "_view_module_version": "1.5.0",
      "_view_name": "ProgressView",
      "bar_style": "success",
      "description": "",
      "description_tooltip": null,
      "layout": "IPY_MODEL_2436ed26a6ad4db6830d12a4d551456f",
      "max": 29515,
      "min": 0,
      "orientation": "horizontal",
      "style": "IPY_MODEL_a625a84f0eb14370beab5ab82dccbc03",
      "value": 29515
     }
    }
   }
  }
 },
 "nbformat": 4,
 "nbformat_minor": 1
}
